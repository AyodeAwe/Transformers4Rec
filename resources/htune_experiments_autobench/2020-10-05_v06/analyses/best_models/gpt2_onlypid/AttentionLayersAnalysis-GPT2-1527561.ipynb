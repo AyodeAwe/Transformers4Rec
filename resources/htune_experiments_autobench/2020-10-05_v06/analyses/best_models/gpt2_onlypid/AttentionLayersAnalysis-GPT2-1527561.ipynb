{
 "cells": [
  {
   "cell_type": "code",
   "execution_count": 1,
   "metadata": {},
   "outputs": [],
   "source": [
    "import os\n",
    "import pickle\n",
    "import pandas"
   ]
  },
  {
   "cell_type": "code",
   "execution_count": 2,
   "metadata": {},
   "outputs": [],
   "source": [
    "from collections import defaultdict"
   ]
  },
  {
   "cell_type": "code",
   "execution_count": 5,
   "metadata": {},
   "outputs": [],
   "source": [
    "BASE_PATH = '1527561/attention_weights'"
   ]
  },
  {
   "cell_type": "code",
   "execution_count": 6,
   "metadata": {},
   "outputs": [],
   "source": [
    "PICKLE_FILE_NAME = 'attention_Test_step_291770.pickle'"
   ]
  },
  {
   "cell_type": "code",
   "execution_count": 7,
   "metadata": {},
   "outputs": [],
   "source": [
    "path = os.path.join(BASE_PATH, PICKLE_FILE_NAME)"
   ]
  },
  {
   "cell_type": "code",
   "execution_count": 8,
   "metadata": {},
   "outputs": [],
   "source": [
    "with open(path, 'rb') as f:\n",
    "    inputs, attention_layers = pickle.load(f)"
   ]
  },
  {
   "cell_type": "code",
   "execution_count": 9,
   "metadata": {},
   "outputs": [
    {
     "data": {
      "text/plain": [
       "{'sess_pid_seq': array([[14711,  9801, 29568, ...,     0,     0,     0],\n",
       "        [ 9961, 14000, 29096, ...,     0,     0,     0],\n",
       "        [30588, 28336,     0, ...,     0,     0,     0],\n",
       "        ...,\n",
       "        [    8,    55,     0, ...,     0,     0,     0],\n",
       "        [   72,   162,  6419, ...,     0,     0,     0],\n",
       "        [   39,    97,   139, ...,     0,     0,     0]])}"
      ]
     },
     "execution_count": 9,
     "metadata": {},
     "output_type": "execute_result"
    }
   ],
   "source": [
    "inputs"
   ]
  },
  {
   "cell_type": "code",
   "execution_count": 10,
   "metadata": {},
   "outputs": [
    {
     "data": {
      "text/plain": [
       "{'sess_pid_seq': [array([14711,  9801, 29568,  9702,  5756,  1520,  1081, 20122, 18410,\n",
       "          6216, 11078, 14598,  5574,  1325,  9640, 11020,     0,     0,\n",
       "             0,     0]),\n",
       "  array([ 9961, 14000, 29096, 19254, 33646, 28336,     0,     0,     0,\n",
       "             0,     0,     0,     0,     0,     0,     0,     0,     0,\n",
       "             0,     0]),\n",
       "  array([30588, 28336,     0,     0,     0,     0,     0,     0,     0,\n",
       "             0,     0,     0,     0,     0,     0,     0,     0,     0,\n",
       "             0,     0]),\n",
       "  array([21236, 58654,     0,     0,     0,     0,     0,     0,     0,\n",
       "             0,     0,     0,     0,     0,     0,     0,     0,     0,\n",
       "             0,     0]),\n",
       "  array([ 5813, 13285,  3374,     0,     0,     0,     0,     0,     0,\n",
       "             0,     0,     0,     0,     0,     0,     0,     0,     0,\n",
       "             0,     0]),\n",
       "  array([  599,  1054,   553,  2989,  1421,  5813,  2947,  3274, 22804,\n",
       "          6580, 18430,  4086,  2689,  2636,  3374, 13285,  7802, 24871,\n",
       "         72190,     0]),\n",
       "  array([ 58824,  87801,  66657, 147399,  54258,  78737,  49999,  65933,\n",
       "          55746,  32574,   2821,  24465,  21630,      0,      0,      0,\n",
       "              0,      0,      0,      0]),\n",
       "  array([109700,  87356,   7104,  44285,      0,      0,      0,      0,\n",
       "              0,      0,      0,      0,      0,      0,      0,      0,\n",
       "              0,      0,      0,      0]),\n",
       "  array([  32,  442, 3892,    0,    0,    0,    0,    0,    0,    0,    0,\n",
       "            0,    0,    0,    0,    0,    0,    0,    0,    0]),\n",
       "  array([ 3909, 17044, 24566,     0,     0,     0,     0,     0,     0,\n",
       "             0,     0,     0,     0,     0,     0,     0,     0,     0,\n",
       "             0,     0]),\n",
       "  array([ 10176,  15175,  24005, 150220,   9579,    539,      0,      0,\n",
       "              0,      0,      0,      0,      0,      0,      0,      0,\n",
       "              0,      0,      0,      0]),\n",
       "  array([13699, 24566,     0,     0,     0,     0,     0,     0,     0,\n",
       "             0,     0,     0,     0,     0,     0,     0,     0,     0,\n",
       "             0,     0]),\n",
       "  array([  8,  78,   2,  79,  83, 328,   0,   0,   0,   0,   0,   0,   0,\n",
       "           0,   0,   0,   0,   0,   0,   0]),\n",
       "  array([ 3291,   919,  1867,  3373, 59370, 58414, 25796, 49193, 23065,\n",
       "         23014, 16478, 33851, 21172, 16292,     0,     0,     0,     0,\n",
       "             0,     0]),\n",
       "  array([194993, 183181, 151501, 190650, 136182,      0,      0,      0,\n",
       "              0,      0,      0,      0,      0,      0,      0,      0,\n",
       "              0,      0,      0,      0]),\n",
       "  array([  233,  2942, 31069,     0,     0,     0,     0,     0,     0,\n",
       "             0,     0,     0,     0,     0,     0,     0,     0,     0,\n",
       "             0,     0]),\n",
       "  array([ 71,  90, 199,   0,   0,   0,   0,   0,   0,   0,   0,   0,   0,\n",
       "           0,   0,   0,   0,   0,   0,   0]),\n",
       "  array([2050,  409,    0,    0,    0,    0,    0,    0,    0,    0,    0,\n",
       "            0,    0,    0,    0,    0,    0,    0,    0,    0]),\n",
       "  array([  90, 4679,  160,   14, 1396,   27,   75,    0,    0,    0,    0,\n",
       "            0,    0,    0,    0,    0,    0,    0,    0,    0]),\n",
       "  array([ 97, 180,   0,   0,   0,   0,   0,   0,   0,   0,   0,   0,   0,\n",
       "           0,   0,   0,   0,   0,   0,   0]),\n",
       "  array([105, 489,   4,  14,   0,   0,   0,   0,   0,   0,   0,   0,   0,\n",
       "           0,   0,   0,   0,   0,   0,   0]),\n",
       "  array([  207,    67,   489,  5087,   250,   535, 82245,  7355,  1119,\n",
       "          9925,   237,     0,     0,     0,     0,     0,     0,     0,\n",
       "             0,     0]),\n",
       "  array([  611,   228, 36510,   928, 13005,  7889,     0,     0,     0,\n",
       "             0,     0,     0,     0,     0,     0,     0,     0,     0,\n",
       "             0,     0]),\n",
       "  array([  549,  1553, 21510,  3095,   104,     0,     0,     0,     0,\n",
       "             0,     0,     0,     0,     0,     0,     0,     0,     0,\n",
       "             0,     0]),\n",
       "  array([ 2154, 51836, 18224,  5211,  1008,     0,     0,     0,     0,\n",
       "             0,     0,     0,     0,     0,     0,     0,     0,     0,\n",
       "             0,     0]),\n",
       "  array([ 3063, 10428,     0,     0,     0,     0,     0,     0,     0,\n",
       "             0,     0,     0,     0,     0,     0,     0,     0,     0,\n",
       "             0,     0]),\n",
       "  array([  25, 9950,    0,    0,    0,    0,    0,    0,    0,    0,    0,\n",
       "            0,    0,    0,    0,    0,    0,    0,    0,    0]),\n",
       "  array([1883,  169,    5,    0,    0,    0,    0,    0,    0,    0,    0,\n",
       "            0,    0,    0,    0,    0,    0,    0,    0,    0]),\n",
       "  array([  14, 1399,    0,    0,    0,    0,    0,    0,    0,    0,    0,\n",
       "            0,    0,    0,    0,    0,    0,    0,    0,    0]),\n",
       "  array([ 18,  22, 278, 965,   0,   0,   0,   0,   0,   0,   0,   0,   0,\n",
       "           0,   0,   0,   0,   0,   0,   0]),\n",
       "  array([35042, 23276, 33796, 56703, 10096, 11105, 10305, 14491,  6473,\n",
       "         26042,     0,     0,     0,     0,     0,     0,     0,     0,\n",
       "             0,     0]),\n",
       "  array([ 2432,  7801,  6991,  4317,  2973, 34883,  1322,  7701,     0,\n",
       "             0,     0,     0,     0,     0,     0,     0,     0,     0,\n",
       "             0,     0]),\n",
       "  array([ 28409,  17401,  77437, 101321,  76342,   8399,  32021,  28870,\n",
       "          21719,  37925,   1952,   3875,   9115,      0,      0,      0,\n",
       "              0,      0,      0,      0]),\n",
       "  array([ 763, 2604,    0,    0,    0,    0,    0,    0,    0,    0,    0,\n",
       "            0,    0,    0,    0,    0,    0,    0,    0,    0]),\n",
       "  array([ 1336,  1954, 17207,  2856,  9539, 10988,  5950,  9384,     0,\n",
       "             0,     0,     0,     0,     0,     0,     0,     0,     0,\n",
       "             0,     0]),\n",
       "  array([ 2227, 10988,     0,     0,     0,     0,     0,     0,     0,\n",
       "             0,     0,     0,     0,     0,     0,     0,     0,     0,\n",
       "             0,     0]),\n",
       "  array([ 9, 78,  0,  0,  0,  0,  0,  0,  0,  0,  0,  0,  0,  0,  0,  0,  0,\n",
       "          0,  0,  0]),\n",
       "  array([ 92, 153,   0,   0,   0,   0,   0,   0,   0,   0,   0,   0,   0,\n",
       "           0,   0,   0,   0,   0,   0,   0]),\n",
       "  array([4638,  333, 1203, 6486, 2040,    0,    0,    0,    0,    0,    0,\n",
       "            0,    0,    0,    0,    0,    0,    0,    0,    0]),\n",
       "  array([ 3119, 19080,     0,     0,     0,     0,     0,     0,     0,\n",
       "             0,     0,     0,     0,     0,     0,     0,     0,     0,\n",
       "             0,     0]),\n",
       "  array([  28, 2383,    0,    0,    0,    0,    0,    0,    0,    0,    0,\n",
       "            0,    0,    0,    0,    0,    0,    0,    0,    0]),\n",
       "  array([ 106,  513,  298, 1008,    0,    0,    0,    0,    0,    0,    0,\n",
       "            0,    0,    0,    0,    0,    0,    0,    0,    0]),\n",
       "  array([17583,  1000,   471,   128,   663,  6279,  2186,  8780, 12652,\n",
       "            39,  7418,  4517,  8071,  8416,  3111,     0,     0,     0,\n",
       "             0,     0]),\n",
       "  array([ 53,  83, 105, 110,   0,   0,   0,   0,   0,   0,   0,   0,   0,\n",
       "           0,   0,   0,   0,   0,   0,   0]),\n",
       "  array([  871,  5441, 11285,     0,     0,     0,     0,     0,     0,\n",
       "             0,     0,     0,     0,     0,     0,     0,     0,     0,\n",
       "             0,     0]),\n",
       "  array([ 189,   27, 2345,    0,    0,    0,    0,    0,    0,    0,    0,\n",
       "            0,    0,    0,    0,    0,    0,    0,    0,    0]),\n",
       "  array([  530,  1706, 74853,     0,     0,     0,     0,     0,     0,\n",
       "             0,     0,     0,     0,     0,     0,     0,     0,     0,\n",
       "             0,     0]),\n",
       "  array([1302,  207,    0,    0,    0,    0,    0,    0,    0,    0,    0,\n",
       "            0,    0,    0,    0,    0,    0,    0,    0,    0]),\n",
       "  array([ 207,  383, 1302,   75,    0,    0,    0,    0,    0,    0,    0,\n",
       "            0,    0,    0,    0,    0,    0,    0,    0,    0]),\n",
       "  array([   20,  1305,    80,  6044,   409,  2463,   270, 24342,  2535,\n",
       "             0,     0,     0,     0,     0,     0,     0,     0,     0,\n",
       "             0,     0]),\n",
       "  array([ 496, 4615, 3647, 3050, 1760, 2800, 4954,  878, 1306, 2178,    0,\n",
       "            0,    0,    0,    0,    0,    0,    0,    0,    0]),\n",
       "  array([2885, 2802, 3871,  299,    0,    0,    0,    0,    0,    0,    0,\n",
       "            0,    0,    0,    0,    0,    0,    0,    0,    0]),\n",
       "  array([17626, 41965, 16671, 13099,     0,     0,     0,     0,     0,\n",
       "             0,     0,     0,     0,     0,     0,     0,     0,     0,\n",
       "             0,     0]),\n",
       "  array([31771, 91945,     0,     0,     0,     0,     0,     0,     0,\n",
       "             0,     0,     0,     0,     0,     0,     0,     0,     0,\n",
       "             0,     0]),\n",
       "  array([  8,  22, 604,   0,   0,   0,   0,   0,   0,   0,   0,   0,   0,\n",
       "           0,   0,   0,   0,   0,   0,   0]),\n",
       "  array([3488,  393,    3,  456,    0,    0,    0,    0,    0,    0,    0,\n",
       "            0,    0,    0,    0,    0,    0,    0,    0,    0]),\n",
       "  array([ 4, 15,  0,  0,  0,  0,  0,  0,  0,  0,  0,  0,  0,  0,  0,  0,  0,\n",
       "          0,  0,  0]),\n",
       "  array([2362, 2516, 6904, 6750,    0,    0,    0,    0,    0,    0,    0,\n",
       "            0,    0,    0,    0,    0,    0,    0,    0,    0]),\n",
       "  array([3744, 5030, 2362, 6750, 6761, 5345,    0,    0,    0,    0,    0,\n",
       "            0,    0,    0,    0,    0,    0,    0,    0,    0]),\n",
       "  array([1875,  610,    3,  127,   10,   37,   45,    0,    0,    0,    0,\n",
       "            0,    0,    0,    0,    0,    0,    0,    0,    0]),\n",
       "  array([   805,  11313,  19218,  17293,  19087,   6789,  10698,  27586,\n",
       "          65312,  23889,  90794, 116489,  35626,  66980,  26599,  65144,\n",
       "          77573,   4794,  96035, 105659]),\n",
       "  array([6039,  855,    0,    0,    0,    0,    0,    0,    0,    0,    0,\n",
       "            0,    0,    0,    0,    0,    0,    0,    0,    0]),\n",
       "  array([ 350, 3348,    0,    0,    0,    0,    0,    0,    0,    0,    0,\n",
       "            0,    0,    0,    0,    0,    0,    0,    0,    0]),\n",
       "  array([7212, 4021,    0,    0,    0,    0,    0,    0,    0,    0,    0,\n",
       "            0,    0,    0,    0,    0,    0,    0,    0,    0]),\n",
       "  array([ 9, 87,  0,  0,  0,  0,  0,  0,  0,  0,  0,  0,  0,  0,  0,  0,  0,\n",
       "          0,  0,  0]),\n",
       "  array([ 3215, 42583, 29904, 10307,     0,     0,     0,     0,     0,\n",
       "             0,     0,     0,     0,     0,     0,     0,     0,     0,\n",
       "             0,     0]),\n",
       "  array([ 36,  64,  68,  41, 146,  37, 161,   0,   0,   0,   0,   0,   0,\n",
       "           0,   0,   0,   0,   0,   0,   0]),\n",
       "  array([1197,  114,    0,    0,    0,    0,    0,    0,    0,    0,    0,\n",
       "            0,    0,    0,    0,    0,    0,    0,    0,    0]),\n",
       "  array([ 650, 2258,    0,    0,    0,    0,    0,    0,    0,    0,    0,\n",
       "            0,    0,    0,    0,    0,    0,    0,    0,    0]),\n",
       "  array([ 7, 54,  0,  0,  0,  0,  0,  0,  0,  0,  0,  0,  0,  0,  0,  0,  0,\n",
       "          0,  0,  0]),\n",
       "  array([5734, 1929,    0,    0,    0,    0,    0,    0,    0,    0,    0,\n",
       "            0,    0,    0,    0,    0,    0,    0,    0,    0]),\n",
       "  array([  5688,   6488,  25712,   6063,  14094,  37917, 128393,      0,\n",
       "              0,      0,      0,      0,      0,      0,      0,      0,\n",
       "              0,      0,      0,      0]),\n",
       "  array([  9,  87, 505, 394,   0,   0,   0,   0,   0,   0,   0,   0,   0,\n",
       "           0,   0,   0,   0,   0,   0,   0]),\n",
       "  array([8, 3, 0, 0, 0, 0, 0, 0, 0, 0, 0, 0, 0, 0, 0, 0, 0, 0, 0, 0]),\n",
       "  array([1079,  559,    0,    0,    0,    0,    0,    0,    0,    0,    0,\n",
       "            0,    0,    0,    0,    0,    0,    0,    0,    0]),\n",
       "  array([16481, 17644, 22895, 15259,     0,     0,     0,     0,     0,\n",
       "             0,     0,     0,     0,     0,     0,     0,     0,     0,\n",
       "             0,     0]),\n",
       "  array([1960,   45,   28,    0,    0,    0,    0,    0,    0,    0,    0,\n",
       "            0,    0,    0,    0,    0,    0,    0,    0,    0]),\n",
       "  array([2867, 1086, 1986, 2725,    0,    0,    0,    0,    0,    0,    0,\n",
       "            0,    0,    0,    0,    0,    0,    0,    0,    0]),\n",
       "  array([ 106, 3747,  772, 4942,    0,    0,    0,    0,    0,    0,    0,\n",
       "            0,    0,    0,    0,    0,    0,    0,    0,    0]),\n",
       "  array([20413, 60612,     0,     0,     0,     0,     0,     0,     0,\n",
       "             0,     0,     0,     0,     0,     0,     0,     0,     0,\n",
       "             0,     0]),\n",
       "  array([10996, 45743,     0,     0,     0,     0,     0,     0,     0,\n",
       "             0,     0,     0,     0,     0,     0,     0,     0,     0,\n",
       "             0,     0]),\n",
       "  array([ 208, 2411, 2444, 1376, 2757, 1017,  560,  808,    0,    0,    0,\n",
       "            0,    0,    0,    0,    0,    0,    0,    0,    0]),\n",
       "  array([ 159,  208, 4183,    0,    0,    0,    0,    0,    0,    0,    0,\n",
       "            0,    0,    0,    0,    0,    0,    0,    0,    0]),\n",
       "  array([ 35560,  21982,  97526, 106661, 118756,  53998,  42808,  95231,\n",
       "          78490,  65011,  61606,  47939,  52691,  66326,  58568, 137725,\n",
       "          92221,  19597,  38638,  18994]),\n",
       "  array([ 1411,  1371,  4149,  6631, 13165, 25937, 16660,  6836,  8166,\n",
       "         22730, 24392, 11266, 16874, 41818,  6924, 28604, 80351, 70115,\n",
       "         40326, 68240]),\n",
       "  array([ 587, 1796,    0,    0,    0,    0,    0,    0,    0,    0,    0,\n",
       "            0,    0,    0,    0,    0,    0,    0,    0,    0]),\n",
       "  array([  298, 63203, 81947, 60192,     0,     0,     0,     0,     0,\n",
       "             0,     0,     0,     0,     0,     0,     0,     0,     0,\n",
       "             0,     0]),\n",
       "  array([ 5511,  1385,  1170, 29762,     0,     0,     0,     0,     0,\n",
       "             0,     0,     0,     0,     0,     0,     0,     0,     0,\n",
       "             0,     0]),\n",
       "  array([ 4643,  3584, 25233, 14491, 10217,  6349, 22345,     0,     0,\n",
       "             0,     0,     0,     0,     0,     0,     0,     0,     0,\n",
       "             0,     0]),\n",
       "  array([ 101,   37, 7016,  203,    0,    0,    0,    0,    0,    0,    0,\n",
       "            0,    0,    0,    0,    0,    0,    0,    0,    0]),\n",
       "  array([   32, 17634,  2929,     0,     0,     0,     0,     0,     0,\n",
       "             0,     0,     0,     0,     0,     0,     0,     0,     0,\n",
       "             0,     0]),\n",
       "  array([120, 328,   0,   0,   0,   0,   0,   0,   0,   0,   0,   0,   0,\n",
       "           0,   0,   0,   0,   0,   0,   0]),\n",
       "  array([  52,  726,  951, 1302,  641, 2605,   22,    0,    0,    0,    0,\n",
       "            0,    0,    0,    0,    0,    0,    0,    0,    0]),\n",
       "  array([  897,  3803,  4857,  4916,  5075,  9311,   773,   369,   562,\n",
       "          2629,  2890,  3625, 15480,  4066, 19061,  8347,  7029, 19318,\n",
       "         23612,  7307]),\n",
       "  array([4679, 3216,    0,    0,    0,    0,    0,    0,    0,    0,    0,\n",
       "            0,    0,    0,    0,    0,    0,    0,    0,    0]),\n",
       "  array([ 5, 29,  0,  0,  0,  0,  0,  0,  0,  0,  0,  0,  0,  0,  0,  0,  0,\n",
       "          0,  0,  0]),\n",
       "  array([  656,   470,  4469,  1410, 23375,  4260, 16007,  2627,  3425,\n",
       "          6238,  2170,  9017,     0,     0,     0,     0,     0,     0,\n",
       "             0,     0]),\n",
       "  array([ 336,  587, 3321, 2727,    0,    0,    0,    0,    0,    0,    0,\n",
       "            0,    0,    0,    0,    0,    0,    0,    0,    0]),\n",
       "  array([42,  2,  0,  0,  0,  0,  0,  0,  0,  0,  0,  0,  0,  0,  0,  0,  0,\n",
       "          0,  0,  0]),\n",
       "  array([ 4598, 31575, 58536, 37312, 44132,     0,     0,     0,     0,\n",
       "             0,     0,     0,     0,     0,     0,     0,     0,     0,\n",
       "             0,     0]),\n",
       "  array([377,  83,   9,   0,   0,   0,   0,   0,   0,   0,   0,   0,   0,\n",
       "           0,   0,   0,   0,   0,   0,   0]),\n",
       "  array([ 83, 645,   3, 377,  30,  53,   0,   0,   0,   0,   0,   0,   0,\n",
       "           0,   0,   0,   0,   0,   0,   0]),\n",
       "  array([ 2589, 37595, 20296,     0,     0,     0,     0,     0,     0,\n",
       "             0,     0,     0,     0,     0,     0,     0,     0,     0,\n",
       "             0,     0]),\n",
       "  array([2713,  402,  303,    0,    0,    0,    0,    0,    0,    0,    0,\n",
       "            0,    0,    0,    0,    0,    0,    0,    0,    0]),\n",
       "  array([ 684,  590, 4320,    0,    0,    0,    0,    0,    0,    0,    0,\n",
       "            0,    0,    0,    0,    0,    0,    0,    0,    0]),\n",
       "  array([ 415, 1298,    0,    0,    0,    0,    0,    0,    0,    0,    0,\n",
       "            0,    0,    0,    0,    0,    0,    0,    0,    0]),\n",
       "  array([ 3, 26,  0,  0,  0,  0,  0,  0,  0,  0,  0,  0,  0,  0,  0,  0,  0,\n",
       "          0,  0,  0]),\n",
       "  array([11569, 10517,     0,     0,     0,     0,     0,     0,     0,\n",
       "             0,     0,     0,     0,     0,     0,     0,     0,     0,\n",
       "             0,     0]),\n",
       "  array([19484,   407,     0,     0,     0,     0,     0,     0,     0,\n",
       "             0,     0,     0,     0,     0,     0,     0,     0,     0,\n",
       "             0,     0]),\n",
       "  array([ 4941,  2733, 15080, 22555, 88871, 31168, 19597,     0,     0,\n",
       "             0,     0,     0,     0,     0,     0,     0,     0,     0,\n",
       "             0,     0]),\n",
       "  array([ 68, 161,   0,   0,   0,   0,   0,   0,   0,   0,   0,   0,   0,\n",
       "           0,   0,   0,   0,   0,   0,   0]),\n",
       "  array([ 9973, 15289,  4751,  3534, 14437, 14538,  5568,  2409,  3150,\n",
       "          9760,     0,     0,     0,     0,     0,     0,     0,     0,\n",
       "             0,     0]),\n",
       "  array([  94, 4010,    0,    0,    0,    0,    0,    0,    0,    0,    0,\n",
       "            0,    0,    0,    0,    0,    0,    0,    0,    0]),\n",
       "  array([ 3516, 28892,   565,     0,     0,     0,     0,     0,     0,\n",
       "             0,     0,     0,     0,     0,     0,     0,     0,     0,\n",
       "             0,     0]),\n",
       "  array([ 274, 1622, 1518,    0,    0,    0,    0,    0,    0,    0,    0,\n",
       "            0,    0,    0,    0,    0,    0,    0,    0,    0]),\n",
       "  array([  972,   472,  1350,  2080,  3977,  1060,  3002,  1798, 13347,\n",
       "             0,     0,     0,     0,     0,     0,     0,     0,     0,\n",
       "             0,     0]),\n",
       "  array([ 685, 8392,    0,    0,    0,    0,    0,    0,    0,    0,    0,\n",
       "            0,    0,    0,    0,    0,    0,    0,    0,    0]),\n",
       "  array([1259, 1124, 3843, 2503, 1596,    0,    0,    0,    0,    0,    0,\n",
       "            0,    0,    0,    0,    0,    0,    0,    0,    0]),\n",
       "  array([  3, 328,   0,   0,   0,   0,   0,   0,   0,   0,   0,   0,   0,\n",
       "           0,   0,   0,   0,   0,   0,   0]),\n",
       "  array([  3, 211, 177,   0,   0,   0,   0,   0,   0,   0,   0,   0,   0,\n",
       "           0,   0,   0,   0,   0,   0,   0]),\n",
       "  array([ 11,  67, 177,   0,   0,   0,   0,   0,   0,   0,   0,   0,   0,\n",
       "           0,   0,   0,   0,   0,   0,   0]),\n",
       "  array([10045,   610,     0,     0,     0,     0,     0,     0,     0,\n",
       "             0,     0,     0,     0,     0,     0,     0,     0,     0,\n",
       "             0,     0]),\n",
       "  array([  280, 21312,  5326,    77,     0,     0,     0,     0,     0,\n",
       "             0,     0,     0,     0,     0,     0,     0,     0,     0,\n",
       "             0,     0]),\n",
       "  array([29867, 21312,  5326,     0,     0,     0,     0,     0,     0,\n",
       "             0,     0,     0,     0,     0,     0,     0,     0,     0,\n",
       "             0,     0]),\n",
       "  array([151, 120,   0,   0,   0,   0,   0,   0,   0,   0,   0,   0,   0,\n",
       "           0,   0,   0,   0,   0,   0,   0]),\n",
       "  array([ 8, 55,  0,  0,  0,  0,  0,  0,  0,  0,  0,  0,  0,  0,  0,  0,  0,\n",
       "          0,  0,  0]),\n",
       "  array([   72,   162,  6419, 14032,     0,     0,     0,     0,     0,\n",
       "             0,     0,     0,     0,     0,     0,     0,     0,     0,\n",
       "             0,     0]),\n",
       "  array([  39,   97,  139, 1595,  796, 2128, 3524, 5569,    0,    0,    0,\n",
       "            0,    0,    0,    0,    0,    0,    0,    0,    0])]}"
      ]
     },
     "execution_count": 10,
     "metadata": {},
     "output_type": "execute_result"
    }
   ],
   "source": [
    "inputs_session = {k: list(inputs[k]) for k in inputs}\n",
    "inputs_session"
   ]
  },
  {
   "cell_type": "code",
   "execution_count": 11,
   "metadata": {},
   "outputs": [
    {
     "data": {
      "text/plain": [
       "3"
      ]
     },
     "execution_count": 11,
     "metadata": {},
     "output_type": "execute_result"
    }
   ],
   "source": [
    "len(attention_layers)"
   ]
  },
  {
   "cell_type": "code",
   "execution_count": 12,
   "metadata": {},
   "outputs": [
    {
     "data": {
      "text/plain": [
       "(128, 1, 19, 19)"
      ]
     },
     "execution_count": 12,
     "metadata": {},
     "output_type": "execute_result"
    }
   ],
   "source": [
    "attention_layers[0].shape"
   ]
  },
  {
   "cell_type": "code",
   "execution_count": 13,
   "metadata": {},
   "outputs": [],
   "source": [
    "from collections import Counter"
   ]
  },
  {
   "cell_type": "code",
   "execution_count": 14,
   "metadata": {},
   "outputs": [],
   "source": [
    "import pandas as pd"
   ]
  },
  {
   "cell_type": "code",
   "execution_count": 15,
   "metadata": {},
   "outputs": [
    {
     "data": {
      "text/plain": [
       "array([[<matplotlib.axes._subplots.AxesSubplot object at 0x7ff5457d25d0>]],\n",
       "      dtype=object)"
      ]
     },
     "execution_count": 15,
     "metadata": {},
     "output_type": "execute_result"
    },
    {
     "data": {
      "image/png": "[encoded data removed]",
      "text/plain": [
       "<Figure size 432x288 with 1 Axes>"
      ]
     },
     "metadata": {
      "needs_background": "light"
     },
     "output_type": "display_data"
    }
   ],
   "source": [
    "df = pd.DataFrame(attention_layers[0].reshape(-1), columns=['V'])\n",
    "df.hist(bins=100)"
   ]
  },
  {
   "cell_type": "code",
   "execution_count": 16,
   "metadata": {},
   "outputs": [
    {
     "data": {
      "text/plain": [
       "Counter({1.0: 2385, 0.0: 43070, 0.0625: 752, 1.3850676e-29: 1})"
      ]
     },
     "execution_count": 16,
     "metadata": {},
     "output_type": "execute_result"
    }
   ],
   "source": [
    "c = Counter(attention_layers[0].reshape(-1))\n",
    "c"
   ]
  },
  {
   "cell_type": "code",
   "execution_count": 17,
   "metadata": {},
   "outputs": [
    {
     "data": {
      "text/plain": [
       "array([14711,  9801, 29568,  9702,  5756,  1520,  1081, 20122, 18410,\n",
       "        6216, 11078, 14598,  5574,  1325,  9640, 11020,     0,     0,\n",
       "           0,     0])"
      ]
     },
     "execution_count": 17,
     "metadata": {},
     "output_type": "execute_result"
    }
   ],
   "source": [
    "inputs['sess_pid_seq'][0]"
   ]
  },
  {
   "cell_type": "code",
   "execution_count": 18,
   "metadata": {},
   "outputs": [
    {
     "data": {
      "text/plain": [
       "array([[1., 0., 0., 0., 0., 0., 0., 0., 0., 0., 0., 0., 0., 0., 0., 0.,\n",
       "        0., 0., 0.],\n",
       "       [0., 1., 0., 0., 0., 0., 0., 0., 0., 0., 0., 0., 0., 0., 0., 0.,\n",
       "        0., 0., 0.],\n",
       "       [0., 0., 1., 0., 0., 0., 0., 0., 0., 0., 0., 0., 0., 0., 0., 0.,\n",
       "        0., 0., 0.],\n",
       "       [0., 0., 0., 1., 0., 0., 0., 0., 0., 0., 0., 0., 0., 0., 0., 0.,\n",
       "        0., 0., 0.],\n",
       "       [0., 0., 0., 0., 1., 0., 0., 0., 0., 0., 0., 0., 0., 0., 0., 0.,\n",
       "        0., 0., 0.],\n",
       "       [0., 0., 0., 0., 0., 1., 0., 0., 0., 0., 0., 0., 0., 0., 0., 0.,\n",
       "        0., 0., 0.],\n",
       "       [0., 0., 0., 0., 0., 0., 1., 0., 0., 0., 0., 0., 0., 0., 0., 0.,\n",
       "        0., 0., 0.],\n",
       "       [0., 0., 0., 0., 0., 0., 0., 1., 0., 0., 0., 0., 0., 0., 0., 0.,\n",
       "        0., 0., 0.],\n",
       "       [0., 0., 0., 0., 0., 0., 0., 0., 1., 0., 0., 0., 0., 0., 0., 0.,\n",
       "        0., 0., 0.],\n",
       "       [0., 0., 0., 0., 0., 0., 0., 0., 0., 1., 0., 0., 0., 0., 0., 0.,\n",
       "        0., 0., 0.],\n",
       "       [0., 0., 0., 0., 0., 0., 0., 0., 0., 0., 1., 0., 0., 0., 0., 0.,\n",
       "        0., 0., 0.],\n",
       "       [0., 0., 0., 0., 0., 0., 0., 0., 0., 0., 0., 1., 0., 0., 0., 0.,\n",
       "        0., 0., 0.],\n",
       "       [0., 0., 0., 0., 0., 0., 0., 0., 0., 0., 0., 0., 1., 0., 0., 0.,\n",
       "        0., 0., 0.],\n",
       "       [0., 0., 0., 0., 0., 0., 0., 0., 0., 0., 0., 0., 0., 1., 0., 0.,\n",
       "        0., 0., 0.],\n",
       "       [0., 0., 0., 0., 0., 0., 0., 0., 0., 0., 0., 0., 0., 0., 1., 0.,\n",
       "        0., 0., 0.],\n",
       "       [0., 0., 0., 0., 0., 0., 0., 0., 0., 0., 0., 0., 0., 0., 0., 1.,\n",
       "        0., 0., 0.],\n",
       "       [0., 0., 0., 0., 0., 0., 0., 0., 0., 0., 0., 0., 0., 0., 0., 0.,\n",
       "        1., 0., 0.],\n",
       "       [0., 0., 0., 0., 0., 0., 0., 0., 0., 0., 0., 0., 0., 0., 0., 0.,\n",
       "        0., 1., 0.],\n",
       "       [0., 0., 0., 0., 0., 0., 0., 0., 0., 0., 0., 0., 0., 0., 0., 0.,\n",
       "        0., 0., 1.]], dtype=float32)"
      ]
     },
     "execution_count": 18,
     "metadata": {},
     "output_type": "execute_result"
    }
   ],
   "source": [
    "attention_layers[0][0][0]"
   ]
  },
  {
   "cell_type": "markdown",
   "metadata": {},
   "source": [
    "## Visualizing Attention weights\n",
    "Reference: https://towardsdatascience.com/beyond-classification-with-transformers-and-hugging-face-d38c75f574fb"
   ]
  },
  {
   "cell_type": "code",
   "execution_count": 19,
   "metadata": {},
   "outputs": [],
   "source": [
    "import matplotlib.pyplot as plt\n",
    "import seaborn as sns; sns.set()\n",
    "CMAP = sns.light_palette(\"blue\", n_colors=100)\n",
    "\n",
    "%matplotlib inline"
   ]
  },
  {
   "cell_type": "code",
   "execution_count": 20,
   "metadata": {},
   "outputs": [],
   "source": [
    "position_labels = list(range(19))"
   ]
  },
  {
   "cell_type": "code",
   "execution_count": 21,
   "metadata": {},
   "outputs": [],
   "source": [
    "def get_attentions(outputs, layer=0, attention_head=0, sample_id=0, average_over=None):\n",
    "\n",
    "  if average_over is None:\n",
    "      #return values for a particular attention head inside a specific layer, for a sample in the batch\n",
    "      return outputs[layer][sample_id][attention_head]\n",
    "\n",
    "  if average_over == 'heads':\n",
    "    #avg over all heads for the first sample\n",
    "    return outputs[layer][sample_id].mean(axis=1)\n",
    "\n",
    "  if average_over == 'samples':\n",
    "    #avg over all samples\n",
    "    return outputs[layer].mean(axis=0)[attention_head]\n",
    "\n",
    "  if average_over == 'samples_and_heads':\n",
    "    #avg over all samples attention heads in a layer\n",
    "    return outputs[layer].mean(axis=(0,1))\n",
    "\n",
    "  #return values for a particular attention head inside a specific layer\n",
    "  return outputs[layer][0][attention_head]\n",
    "\n",
    "def plt_attentions(mat, labs, fig_size=(5,5), annot=False, cmap = CMAP, title=None):\n",
    "  '''\n",
    "  plot the NxN matrix passed as a heat map\n",
    "  \n",
    "  mat: square matrix to visualize\n",
    "  labs: labels for xticks and yticks (the tokens in our case)\n",
    "  '''\n",
    "  fig, ax = plt.subplots(figsize=fig_size) \n",
    "  ax = sns.heatmap(mat, annot=annot, yticklabels=labs,xticklabels=labs, cmap=cmap)\n",
    "  ax.xaxis.set_ticks_position('top')\n",
    "  ax.set_xticklabels(ax.get_xticklabels(), rotation=45)\n",
    "  if title:\n",
    "    ax.set_title(title)   "
   ]
  },
  {
   "cell_type": "code",
   "execution_count": 22,
   "metadata": {},
   "outputs": [
    {
     "data": {
      "image/png": "[encoded data removed]",
      "text/plain": [
       "<Figure size 360x360 with 2 Axes>"
      ]
     },
     "metadata": {
      "needs_background": "light"
     },
     "output_type": "display_data"
    }
   ],
   "source": [
    "plt_attentions(get_attentions(attention_layers, layer=0, attention_head=0, average_over='samples'), \n",
    "               position_labels) "
   ]
  },
  {
   "cell_type": "code",
   "execution_count": 23,
   "metadata": {},
   "outputs": [
    {
     "data": {
      "image/png": "[encoded data removed]",
      "text/plain": [
       "<Figure size 360x360 with 2 Axes>"
      ]
     },
     "metadata": {
      "needs_background": "light"
     },
     "output_type": "display_data"
    }
   ],
   "source": [
    "plt_attentions(get_attentions(attention_layers, layer=0, average_over='samples_and_heads'), \n",
    "               position_labels) "
   ]
  },
  {
   "cell_type": "code",
   "execution_count": 24,
   "metadata": {},
   "outputs": [
    {
     "data": {
      "image/png": "[encoded data removed]",
      "text/plain": [
       "<Figure size 360x360 with 2 Axes>"
      ]
     },
     "metadata": {
      "needs_background": "light"
     },
     "output_type": "display_data"
    }
   ],
   "source": [
    "plt_attentions(get_attentions(attention_layers, layer=0, sample_id=1, average_over='heads'), \n",
    "               position_labels) "
   ]
  },
  {
   "cell_type": "code",
   "execution_count": 25,
   "metadata": {},
   "outputs": [
    {
     "data": {
      "image/png": "[encoded data removed]",
      "text/plain": [
       "<Figure size 360x360 with 2 Axes>"
      ]
     },
     "metadata": {
      "needs_background": "light"
     },
     "output_type": "display_data"
    },
    {
     "data": {
      "image/png": "[encoded data removed]",
      "text/plain": [
       "<Figure size 360x360 with 2 Axes>"
      ]
     },
     "metadata": {
      "needs_background": "light"
     },
     "output_type": "display_data"
    },
    {
     "data": {
      "image/png": "[encoded data removed]",
      "text/plain": [
       "<Figure size 360x360 with 2 Axes>"
      ]
     },
     "metadata": {
      "needs_background": "light"
     },
     "output_type": "display_data"
    }
   ],
   "source": [
    "for layer_id in range(len(attention_layers)):\n",
    "    for attention_head in range(attention_layers[layer_id].shape[1]):\n",
    "        plt_attentions(get_attentions(attention_layers, \n",
    "                                      layer=layer_id, average_over='samples'), \n",
    "                       position_labels, title='layer={}  head={}'.format(layer_id, attention_head))"
   ]
  },
  {
   "cell_type": "code",
   "execution_count": 26,
   "metadata": {},
   "outputs": [
    {
     "data": {
      "text/plain": [
       "array([21236, 58654,     0,     0,     0,     0,     0,     0,     0,\n",
       "           0,     0,     0,     0,     0,     0,     0,     0,     0,\n",
       "           0,     0])"
      ]
     },
     "execution_count": 26,
     "metadata": {},
     "output_type": "execute_result"
    }
   ],
   "source": [
    "inputs['sess_pid_seq'][3]"
   ]
  },
  {
   "cell_type": "code",
   "execution_count": 27,
   "metadata": {},
   "outputs": [
    {
     "data": {
      "image/png": "[encoded data removed]",
      "text/plain": [
       "<Figure size 360x360 with 2 Axes>"
      ]
     },
     "metadata": {
      "needs_background": "light"
     },
     "output_type": "display_data"
    }
   ],
   "source": [
    "plt_attentions(get_attentions(attention_layers, layer=0, attention_head=0, sample_id=3, average_over=None), \n",
    "               position_labels) "
   ]
  },
  {
   "cell_type": "code",
   "execution_count": 29,
   "metadata": {},
   "outputs": [
    {
     "data": {
      "image/png": "[encoded data removed]",
      "text/plain": [
       "<Figure size 360x360 with 2 Axes>"
      ]
     },
     "metadata": {
      "needs_background": "light"
     },
     "output_type": "display_data"
    }
   ],
   "source": [
    "plt_attentions(get_attentions(attention_layers, layer=0, attention_head=0, sample_id=0, average_over=None), \n",
    "               position_labels) "
   ]
  },
  {
   "cell_type": "code",
   "execution_count": 30,
   "metadata": {},
   "outputs": [
    {
     "data": {
      "text/plain": [
       "(128, 1, 19, 19)"
      ]
     },
     "execution_count": 30,
     "metadata": {},
     "output_type": "execute_result"
    }
   ],
   "source": [
    "attention_layers[0].shape"
   ]
  },
  {
   "cell_type": "code",
   "execution_count": 31,
   "metadata": {},
   "outputs": [
    {
     "data": {
      "text/plain": [
       "(1, 19, 19)"
      ]
     },
     "execution_count": 31,
     "metadata": {},
     "output_type": "execute_result"
    }
   ],
   "source": [
    "attention_layers[0][0].shape"
   ]
  },
  {
   "cell_type": "code",
   "execution_count": 32,
   "metadata": {},
   "outputs": [
    {
     "data": {
      "text/plain": [
       "(128, 20)"
      ]
     },
     "execution_count": 32,
     "metadata": {},
     "output_type": "execute_result"
    }
   ],
   "source": [
    "inputs['sess_pid_seq'].shape"
   ]
  },
  {
   "cell_type": "code",
   "execution_count": 33,
   "metadata": {},
   "outputs": [
    {
     "data": {
      "text/plain": [
       "array([14711,  9801, 29568,  9702,  5756,  1520,  1081, 20122, 18410,\n",
       "        6216, 11078, 14598,  5574,  1325,  9640, 11020,     0,     0,\n",
       "           0,     0])"
      ]
     },
     "execution_count": 33,
     "metadata": {},
     "output_type": "execute_result"
    }
   ],
   "source": [
    "inputs['sess_pid_seq'][0]"
   ]
  },
  {
   "cell_type": "code",
   "execution_count": 34,
   "metadata": {},
   "outputs": [
    {
     "data": {
      "text/plain": [
       "{'sess_pid_seq': array([[14711,  9801, 29568, ...,     0,     0,     0],\n",
       "        [ 9961, 14000, 29096, ...,     0,     0,     0],\n",
       "        [30588, 28336,     0, ...,     0,     0,     0],\n",
       "        ...,\n",
       "        [    8,    55,     0, ...,     0,     0,     0],\n",
       "        [   72,   162,  6419, ...,     0,     0,     0],\n",
       "        [   39,    97,   139, ...,     0,     0,     0]])}"
      ]
     },
     "execution_count": 34,
     "metadata": {},
     "output_type": "execute_result"
    }
   ],
   "source": [
    "inputs"
   ]
  },
  {
   "cell_type": "code",
   "execution_count": null,
   "metadata": {},
   "outputs": [],
   "source": []
  },
  {
   "cell_type": "code",
   "execution_count": null,
   "metadata": {},
   "outputs": [],
   "source": []
  },
  {
   "cell_type": "code",
   "execution_count": null,
   "metadata": {},
   "outputs": [],
   "source": []
  }
 ],
 "metadata": {
  "kernelspec": {
   "display_name": "Python 3",
   "language": "python",
   "name": "python3"
  },
  "language_info": {
   "codemirror_mode": {
    "name": "ipython",
    "version": 3
   },
   "file_extension": ".py",
   "mimetype": "text/x-python",
   "name": "python",
   "nbconvert_exporter": "python",
   "pygments_lexer": "ipython3",
   "version": "3.7.6"
  }
 },
 "nbformat": 4,
 "nbformat_minor": 4
}
