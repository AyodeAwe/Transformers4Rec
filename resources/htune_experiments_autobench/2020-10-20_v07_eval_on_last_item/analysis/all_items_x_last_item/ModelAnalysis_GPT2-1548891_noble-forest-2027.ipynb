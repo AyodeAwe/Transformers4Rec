{
 "cells": [
  {
   "cell_type": "markdown",
   "metadata": {},
   "source": [
    "## Evaluate ranking metrics before"
   ]
  },
  {
   "cell_type": "markdown",
   "metadata": {},
   "source": [
    "ngc batch run --name \"tranf4rec-htune-v06-gpt2\" --preempt RUNONCE --ace nv-us-west-2 --instance dgx1v.32g.2.norm --commandline \"nvidia-smi && wandb login 76eea90114bb1cdcbafe151b262e4a5d4ff60f12 && date && git pull origin experimentation && date && bash script/run_transformer_v2.bash htune-v06-gpt2 full_noneg session_cooccurrence --start_date 2019-10-01 --end_date 2019-10-15 --model_type gpt2 --loss_type cross_entropy --per_device_eval_batch_size 128 --similarity_type concat_mlp --tf_out_activation tanh --all_rescale_factor 1.0 --neg_rescale_factor 0.0 --inp_merge mlp --hidden_act gelu_new --learning_rate_warmup_steps 0 --learning_rate_num_cosine_cycles 4.0 --dataloader_drop_last --compute_metrics_each_n_steps 50 --max_seq_len 20 --num_train_epochs 8 --per_device_train_batch_size 64 --learning_rate 0.002765352013424135 --learning_rate_schedule constant_with_warmup --dropout 0.1 --weight_decay 3.1625564350525762e-06 --d_model 256 --n_layer 2 --n_head 2 --log_predictions --log_attention_weights && date\" --result /results --image \"nvidian/prj-recsys/transf4rec_exp:0.1.0\" --org nvidian --team prj-recsys --datasetid 66609:/data\n",
    "\n",
    "- Running it again logging predictions and attention weights\n",
    "Id: 1516063\n",
    "\n",
    "laced-fire-1297\n",
    "https://wandb.ai/gspmoreira/huggingface/runs/2iqaecgb/overview?workspace=user-gspmoreira\n",
    "AOD_all_Test_ndcg@1000_all: 0.5304"
   ]
  },
  {
   "cell_type": "code",
   "execution_count": 1,
   "metadata": {},
   "outputs": [],
   "source": [
    "import os\n",
    "import pandas as pd\n",
    "import seaborn as sns"
   ]
  },
  {
   "cell_type": "code",
   "execution_count": 2,
   "metadata": {},
   "outputs": [],
   "source": [
    "BASE_PATH = '1548891_noble-forest-2027/pred_logs/'"
   ]
  },
  {
   "cell_type": "code",
   "execution_count": 3,
   "metadata": {},
   "outputs": [
    {
     "data": {
      "text/plain": [
       "3456"
      ]
     },
     "execution_count": 3,
     "metadata": {},
     "output_type": "execute_result"
    }
   ],
   "source": [
    "preds_df = pd.read_parquet(os.path.join(BASE_PATH, 'preds_date_2019-10-15.parquet'))\n",
    "len(preds_df)"
   ]
  },
  {
   "cell_type": "code",
   "execution_count": 4,
   "metadata": {},
   "outputs": [
    {
     "data": {
      "text/plain": [
       "Index(['metadata_seq_len', 'metadata_seq_pos', 'metadata_sess_bid_seq',\n",
       "       'metadata_sess_ccid_seq', 'metadata_sess_csid_seq',\n",
       "       'metadata_sess_pid_seq', 'metadata_sess_product_recency_seq',\n",
       "       'metric_all_avg_precision@10', 'metric_all_avg_precision@100',\n",
       "       'metric_all_avg_precision@1000', 'metric_all_avg_precision@5',\n",
       "       'metric_all_ndcg@10', 'metric_all_ndcg@100', 'metric_all_ndcg@1000',\n",
       "       'metric_all_ndcg@5', 'metric_all_precision@10',\n",
       "       'metric_all_precision@100', 'metric_all_precision@1000',\n",
       "       'metric_all_precision@5', 'metric_all_recall@10',\n",
       "       'metric_all_recall@100', 'metric_all_recall@1000',\n",
       "       'metric_all_recall@5'],\n",
       "      dtype='object')"
      ]
     },
     "execution_count": 4,
     "metadata": {},
     "output_type": "execute_result"
    }
   ],
   "source": [
    "preds_df.columns"
   ]
  },
  {
   "cell_type": "code",
   "execution_count": 5,
   "metadata": {},
   "outputs": [
    {
     "data": {
      "text/html": [
       "<div>\n",
       "<style scoped>\n",
       "    .dataframe tbody tr th:only-of-type {\n",
       "        vertical-align: middle;\n",
       "    }\n",
       "\n",
       "    .dataframe tbody tr th {\n",
       "        vertical-align: top;\n",
       "    }\n",
       "\n",
       "    .dataframe thead th {\n",
       "        text-align: right;\n",
       "    }\n",
       "</style>\n",
       "<table border=\"1\" class=\"dataframe\">\n",
       "  <thead>\n",
       "    <tr style=\"text-align: right;\">\n",
       "      <th></th>\n",
       "      <th>metadata_seq_len</th>\n",
       "      <th>metadata_seq_pos</th>\n",
       "      <th>metadata_sess_bid_seq</th>\n",
       "      <th>metadata_sess_ccid_seq</th>\n",
       "      <th>metadata_sess_csid_seq</th>\n",
       "      <th>metadata_sess_pid_seq</th>\n",
       "      <th>metadata_sess_product_recency_seq</th>\n",
       "      <th>metric_all_avg_precision@10</th>\n",
       "      <th>metric_all_avg_precision@100</th>\n",
       "      <th>metric_all_avg_precision@1000</th>\n",
       "      <th>...</th>\n",
       "      <th>metric_all_ndcg@1000</th>\n",
       "      <th>metric_all_ndcg@5</th>\n",
       "      <th>metric_all_precision@10</th>\n",
       "      <th>metric_all_precision@100</th>\n",
       "      <th>metric_all_precision@1000</th>\n",
       "      <th>metric_all_precision@5</th>\n",
       "      <th>metric_all_recall@10</th>\n",
       "      <th>metric_all_recall@100</th>\n",
       "      <th>metric_all_recall@1000</th>\n",
       "      <th>metric_all_recall@5</th>\n",
       "    </tr>\n",
       "  </thead>\n",
       "  <tbody>\n",
       "    <tr>\n",
       "      <th>0</th>\n",
       "      <td>[4]</td>\n",
       "      <td>[4]</td>\n",
       "      <td>[65]</td>\n",
       "      <td>[131]</td>\n",
       "      <td>[15]</td>\n",
       "      <td>[21205]</td>\n",
       "      <td>[-0.61365515]</td>\n",
       "      <td>0.000000</td>\n",
       "      <td>0.000000</td>\n",
       "      <td>0.000000</td>\n",
       "      <td>...</td>\n",
       "      <td>0.000000</td>\n",
       "      <td>0.000000</td>\n",
       "      <td>0.0</td>\n",
       "      <td>0.00</td>\n",
       "      <td>0.000</td>\n",
       "      <td>0.0</td>\n",
       "      <td>0.0</td>\n",
       "      <td>0.0</td>\n",
       "      <td>0.0</td>\n",
       "      <td>0.0</td>\n",
       "    </tr>\n",
       "    <tr>\n",
       "      <th>1</th>\n",
       "      <td>[3]</td>\n",
       "      <td>[3]</td>\n",
       "      <td>[541]</td>\n",
       "      <td>[131]</td>\n",
       "      <td>[152]</td>\n",
       "      <td>[43672]</td>\n",
       "      <td>[-0.6356059]</td>\n",
       "      <td>0.000000</td>\n",
       "      <td>0.000000</td>\n",
       "      <td>0.000000</td>\n",
       "      <td>...</td>\n",
       "      <td>0.000000</td>\n",
       "      <td>0.000000</td>\n",
       "      <td>0.0</td>\n",
       "      <td>0.00</td>\n",
       "      <td>0.000</td>\n",
       "      <td>0.0</td>\n",
       "      <td>0.0</td>\n",
       "      <td>0.0</td>\n",
       "      <td>0.0</td>\n",
       "      <td>0.0</td>\n",
       "    </tr>\n",
       "    <tr>\n",
       "      <th>2</th>\n",
       "      <td>[2]</td>\n",
       "      <td>[2]</td>\n",
       "      <td>[25]</td>\n",
       "      <td>[29]</td>\n",
       "      <td>[45]</td>\n",
       "      <td>[5592]</td>\n",
       "      <td>[-0.6283142]</td>\n",
       "      <td>0.000000</td>\n",
       "      <td>0.013158</td>\n",
       "      <td>0.013158</td>\n",
       "      <td>...</td>\n",
       "      <td>0.159571</td>\n",
       "      <td>0.000000</td>\n",
       "      <td>0.0</td>\n",
       "      <td>0.01</td>\n",
       "      <td>0.001</td>\n",
       "      <td>0.0</td>\n",
       "      <td>0.0</td>\n",
       "      <td>1.0</td>\n",
       "      <td>1.0</td>\n",
       "      <td>0.0</td>\n",
       "    </tr>\n",
       "    <tr>\n",
       "      <th>3</th>\n",
       "      <td>[4]</td>\n",
       "      <td>[4]</td>\n",
       "      <td>[18]</td>\n",
       "      <td>[29]</td>\n",
       "      <td>[45]</td>\n",
       "      <td>[3700]</td>\n",
       "      <td>[-0.5793567]</td>\n",
       "      <td>0.000000</td>\n",
       "      <td>0.000000</td>\n",
       "      <td>0.008000</td>\n",
       "      <td>...</td>\n",
       "      <td>0.143322</td>\n",
       "      <td>0.000000</td>\n",
       "      <td>0.0</td>\n",
       "      <td>0.00</td>\n",
       "      <td>0.001</td>\n",
       "      <td>0.0</td>\n",
       "      <td>0.0</td>\n",
       "      <td>0.0</td>\n",
       "      <td>1.0</td>\n",
       "      <td>0.0</td>\n",
       "    </tr>\n",
       "    <tr>\n",
       "      <th>4</th>\n",
       "      <td>[5]</td>\n",
       "      <td>[5]</td>\n",
       "      <td>[24]</td>\n",
       "      <td>[8]</td>\n",
       "      <td>[8]</td>\n",
       "      <td>[320]</td>\n",
       "      <td>[-0.6326033]</td>\n",
       "      <td>0.250000</td>\n",
       "      <td>0.250000</td>\n",
       "      <td>0.250000</td>\n",
       "      <td>...</td>\n",
       "      <td>0.430677</td>\n",
       "      <td>0.430677</td>\n",
       "      <td>0.1</td>\n",
       "      <td>0.01</td>\n",
       "      <td>0.001</td>\n",
       "      <td>0.2</td>\n",
       "      <td>1.0</td>\n",
       "      <td>1.0</td>\n",
       "      <td>1.0</td>\n",
       "      <td>1.0</td>\n",
       "    </tr>\n",
       "    <tr>\n",
       "      <th>...</th>\n",
       "      <td>...</td>\n",
       "      <td>...</td>\n",
       "      <td>...</td>\n",
       "      <td>...</td>\n",
       "      <td>...</td>\n",
       "      <td>...</td>\n",
       "      <td>...</td>\n",
       "      <td>...</td>\n",
       "      <td>...</td>\n",
       "      <td>...</td>\n",
       "      <td>...</td>\n",
       "      <td>...</td>\n",
       "      <td>...</td>\n",
       "      <td>...</td>\n",
       "      <td>...</td>\n",
       "      <td>...</td>\n",
       "      <td>...</td>\n",
       "      <td>...</td>\n",
       "      <td>...</td>\n",
       "      <td>...</td>\n",
       "      <td>...</td>\n",
       "    </tr>\n",
       "    <tr>\n",
       "      <th>3451</th>\n",
       "      <td>[3]</td>\n",
       "      <td>[3]</td>\n",
       "      <td>[30]</td>\n",
       "      <td>[131]</td>\n",
       "      <td>[3]</td>\n",
       "      <td>[5326]</td>\n",
       "      <td>[-0.60415775]</td>\n",
       "      <td>0.000000</td>\n",
       "      <td>0.000000</td>\n",
       "      <td>0.003185</td>\n",
       "      <td>...</td>\n",
       "      <td>0.120493</td>\n",
       "      <td>0.000000</td>\n",
       "      <td>0.0</td>\n",
       "      <td>0.00</td>\n",
       "      <td>0.001</td>\n",
       "      <td>0.0</td>\n",
       "      <td>0.0</td>\n",
       "      <td>0.0</td>\n",
       "      <td>1.0</td>\n",
       "      <td>0.0</td>\n",
       "    </tr>\n",
       "    <tr>\n",
       "      <th>3452</th>\n",
       "      <td>[2]</td>\n",
       "      <td>[2]</td>\n",
       "      <td>[3]</td>\n",
       "      <td>[3]</td>\n",
       "      <td>[10]</td>\n",
       "      <td>[120]</td>\n",
       "      <td>[-0.6148853]</td>\n",
       "      <td>1.000000</td>\n",
       "      <td>1.000000</td>\n",
       "      <td>1.000000</td>\n",
       "      <td>...</td>\n",
       "      <td>1.000000</td>\n",
       "      <td>1.000000</td>\n",
       "      <td>0.1</td>\n",
       "      <td>0.01</td>\n",
       "      <td>0.001</td>\n",
       "      <td>0.2</td>\n",
       "      <td>1.0</td>\n",
       "      <td>1.0</td>\n",
       "      <td>1.0</td>\n",
       "      <td>1.0</td>\n",
       "    </tr>\n",
       "    <tr>\n",
       "      <th>3453</th>\n",
       "      <td>[2]</td>\n",
       "      <td>[2]</td>\n",
       "      <td>[3]</td>\n",
       "      <td>[2]</td>\n",
       "      <td>[2]</td>\n",
       "      <td>[55]</td>\n",
       "      <td>[-0.58081603]</td>\n",
       "      <td>0.000000</td>\n",
       "      <td>0.083333</td>\n",
       "      <td>0.083333</td>\n",
       "      <td>...</td>\n",
       "      <td>0.270238</td>\n",
       "      <td>0.000000</td>\n",
       "      <td>0.0</td>\n",
       "      <td>0.01</td>\n",
       "      <td>0.001</td>\n",
       "      <td>0.0</td>\n",
       "      <td>0.0</td>\n",
       "      <td>1.0</td>\n",
       "      <td>1.0</td>\n",
       "      <td>0.0</td>\n",
       "    </tr>\n",
       "    <tr>\n",
       "      <th>3454</th>\n",
       "      <td>[4]</td>\n",
       "      <td>[4]</td>\n",
       "      <td>[16]</td>\n",
       "      <td>[11]</td>\n",
       "      <td>[23]</td>\n",
       "      <td>[14032]</td>\n",
       "      <td>[-0.6120664]</td>\n",
       "      <td>0.500000</td>\n",
       "      <td>0.500000</td>\n",
       "      <td>0.500000</td>\n",
       "      <td>...</td>\n",
       "      <td>0.630930</td>\n",
       "      <td>0.630930</td>\n",
       "      <td>0.1</td>\n",
       "      <td>0.01</td>\n",
       "      <td>0.001</td>\n",
       "      <td>0.2</td>\n",
       "      <td>1.0</td>\n",
       "      <td>1.0</td>\n",
       "      <td>1.0</td>\n",
       "      <td>1.0</td>\n",
       "    </tr>\n",
       "    <tr>\n",
       "      <th>3455</th>\n",
       "      <td>[8]</td>\n",
       "      <td>[8]</td>\n",
       "      <td>[31]</td>\n",
       "      <td>[10]</td>\n",
       "      <td>[7]</td>\n",
       "      <td>[5569]</td>\n",
       "      <td>[-0.6081262]</td>\n",
       "      <td>0.142857</td>\n",
       "      <td>0.142857</td>\n",
       "      <td>0.142857</td>\n",
       "      <td>...</td>\n",
       "      <td>0.333333</td>\n",
       "      <td>0.000000</td>\n",
       "      <td>0.1</td>\n",
       "      <td>0.01</td>\n",
       "      <td>0.001</td>\n",
       "      <td>0.0</td>\n",
       "      <td>1.0</td>\n",
       "      <td>1.0</td>\n",
       "      <td>1.0</td>\n",
       "      <td>0.0</td>\n",
       "    </tr>\n",
       "  </tbody>\n",
       "</table>\n",
       "<p>3456 rows × 23 columns</p>\n",
       "</div>"
      ],
      "text/plain": [
       "     metadata_seq_len metadata_seq_pos metadata_sess_bid_seq  \\\n",
       "0                 [4]              [4]                  [65]   \n",
       "1                 [3]              [3]                 [541]   \n",
       "2                 [2]              [2]                  [25]   \n",
       "3                 [4]              [4]                  [18]   \n",
       "4                 [5]              [5]                  [24]   \n",
       "...               ...              ...                   ...   \n",
       "3451              [3]              [3]                  [30]   \n",
       "3452              [2]              [2]                   [3]   \n",
       "3453              [2]              [2]                   [3]   \n",
       "3454              [4]              [4]                  [16]   \n",
       "3455              [8]              [8]                  [31]   \n",
       "\n",
       "     metadata_sess_ccid_seq metadata_sess_csid_seq metadata_sess_pid_seq  \\\n",
       "0                     [131]                   [15]               [21205]   \n",
       "1                     [131]                  [152]               [43672]   \n",
       "2                      [29]                   [45]                [5592]   \n",
       "3                      [29]                   [45]                [3700]   \n",
       "4                       [8]                    [8]                 [320]   \n",
       "...                     ...                    ...                   ...   \n",
       "3451                  [131]                    [3]                [5326]   \n",
       "3452                    [3]                   [10]                 [120]   \n",
       "3453                    [2]                    [2]                  [55]   \n",
       "3454                   [11]                   [23]               [14032]   \n",
       "3455                   [10]                    [7]                [5569]   \n",
       "\n",
       "     metadata_sess_product_recency_seq  metric_all_avg_precision@10  \\\n",
       "0                        [-0.61365515]                     0.000000   \n",
       "1                         [-0.6356059]                     0.000000   \n",
       "2                         [-0.6283142]                     0.000000   \n",
       "3                         [-0.5793567]                     0.000000   \n",
       "4                         [-0.6326033]                     0.250000   \n",
       "...                                ...                          ...   \n",
       "3451                     [-0.60415775]                     0.000000   \n",
       "3452                      [-0.6148853]                     1.000000   \n",
       "3453                     [-0.58081603]                     0.000000   \n",
       "3454                      [-0.6120664]                     0.500000   \n",
       "3455                      [-0.6081262]                     0.142857   \n",
       "\n",
       "      metric_all_avg_precision@100  metric_all_avg_precision@1000  ...  \\\n",
       "0                         0.000000                       0.000000  ...   \n",
       "1                         0.000000                       0.000000  ...   \n",
       "2                         0.013158                       0.013158  ...   \n",
       "3                         0.000000                       0.008000  ...   \n",
       "4                         0.250000                       0.250000  ...   \n",
       "...                            ...                            ...  ...   \n",
       "3451                      0.000000                       0.003185  ...   \n",
       "3452                      1.000000                       1.000000  ...   \n",
       "3453                      0.083333                       0.083333  ...   \n",
       "3454                      0.500000                       0.500000  ...   \n",
       "3455                      0.142857                       0.142857  ...   \n",
       "\n",
       "      metric_all_ndcg@1000  metric_all_ndcg@5  metric_all_precision@10  \\\n",
       "0                 0.000000           0.000000                      0.0   \n",
       "1                 0.000000           0.000000                      0.0   \n",
       "2                 0.159571           0.000000                      0.0   \n",
       "3                 0.143322           0.000000                      0.0   \n",
       "4                 0.430677           0.430677                      0.1   \n",
       "...                    ...                ...                      ...   \n",
       "3451              0.120493           0.000000                      0.0   \n",
       "3452              1.000000           1.000000                      0.1   \n",
       "3453              0.270238           0.000000                      0.0   \n",
       "3454              0.630930           0.630930                      0.1   \n",
       "3455              0.333333           0.000000                      0.1   \n",
       "\n",
       "      metric_all_precision@100  metric_all_precision@1000  \\\n",
       "0                         0.00                      0.000   \n",
       "1                         0.00                      0.000   \n",
       "2                         0.01                      0.001   \n",
       "3                         0.00                      0.001   \n",
       "4                         0.01                      0.001   \n",
       "...                        ...                        ...   \n",
       "3451                      0.00                      0.001   \n",
       "3452                      0.01                      0.001   \n",
       "3453                      0.01                      0.001   \n",
       "3454                      0.01                      0.001   \n",
       "3455                      0.01                      0.001   \n",
       "\n",
       "      metric_all_precision@5  metric_all_recall@10  metric_all_recall@100  \\\n",
       "0                        0.0                   0.0                    0.0   \n",
       "1                        0.0                   0.0                    0.0   \n",
       "2                        0.0                   0.0                    1.0   \n",
       "3                        0.0                   0.0                    0.0   \n",
       "4                        0.2                   1.0                    1.0   \n",
       "...                      ...                   ...                    ...   \n",
       "3451                     0.0                   0.0                    0.0   \n",
       "3452                     0.2                   1.0                    1.0   \n",
       "3453                     0.0                   0.0                    1.0   \n",
       "3454                     0.2                   1.0                    1.0   \n",
       "3455                     0.0                   1.0                    1.0   \n",
       "\n",
       "      metric_all_recall@1000  metric_all_recall@5  \n",
       "0                        0.0                  0.0  \n",
       "1                        0.0                  0.0  \n",
       "2                        1.0                  0.0  \n",
       "3                        1.0                  0.0  \n",
       "4                        1.0                  1.0  \n",
       "...                      ...                  ...  \n",
       "3451                     1.0                  0.0  \n",
       "3452                     1.0                  1.0  \n",
       "3453                     1.0                  0.0  \n",
       "3454                     1.0                  1.0  \n",
       "3455                     1.0                  0.0  \n",
       "\n",
       "[3456 rows x 23 columns]"
      ]
     },
     "execution_count": 5,
     "metadata": {},
     "output_type": "execute_result"
    }
   ],
   "source": [
    "preds_df"
   ]
  },
  {
   "cell_type": "code",
   "execution_count": 6,
   "metadata": {},
   "outputs": [
    {
     "name": "stdout",
     "output_type": "stream",
     "text": [
      "metadata_sess_pid_seq\n",
      "metadata_seq_pos\n",
      "metadata_seq_len\n"
     ]
    }
   ],
   "source": [
    "COLS_TO_SQUEEZE = ['metadata_sess_pid_seq', 'metadata_seq_pos', 'metadata_seq_len']\n",
    "\n",
    "for col in COLS_TO_SQUEEZE:\n",
    "    print (col)\n",
    "    preds_df[col] = preds_df[col].apply(lambda x: x[0])"
   ]
  },
  {
   "cell_type": "markdown",
   "metadata": {},
   "source": [
    "## Analyzing metrics"
   ]
  },
  {
   "cell_type": "code",
   "execution_count": 7,
   "metadata": {},
   "outputs": [],
   "source": [
    "metrics_Cols = ['metric_all_ndcg@1000', 'metric_all_avg_precision@1000', 'metric_all_recall@1000']"
   ]
  },
  {
   "cell_type": "code",
   "execution_count": 8,
   "metadata": {},
   "outputs": [
    {
     "data": {
      "text/plain": [
       "metric_all_ndcg@1000             0.267377\n",
       "metric_all_avg_precision@1000    0.146867\n",
       "metric_all_recall@1000           0.833333\n",
       "dtype: float64"
      ]
     },
     "execution_count": 8,
     "metadata": {},
     "output_type": "execute_result"
    }
   ],
   "source": [
    "preds_df[metrics_Cols].mean()"
   ]
  },
  {
   "cell_type": "code",
   "execution_count": 9,
   "metadata": {},
   "outputs": [
    {
     "data": {
      "text/plain": [
       "<matplotlib.axes._subplots.AxesSubplot at 0x7f7bb07ca550>"
      ]
     },
     "execution_count": 9,
     "metadata": {},
     "output_type": "execute_result"
    },
    {
     "data": {
      "image/png": "[encoded data removed]",
      "text/plain": [
       "<Figure size 432x288 with 1 Axes>"
      ]
     },
     "metadata": {
      "needs_background": "light"
     },
     "output_type": "display_data"
    }
   ],
   "source": [
    "preds_df['metric_all_recall@1000'].hist()"
   ]
  },
  {
   "cell_type": "code",
   "execution_count": 10,
   "metadata": {},
   "outputs": [
    {
     "data": {
      "text/plain": [
       "<matplotlib.axes._subplots.AxesSubplot at 0x7f7ba968ff10>"
      ]
     },
     "execution_count": 10,
     "metadata": {},
     "output_type": "execute_result"
    },
    {
     "data": {
      "image/png": "[encoded data removed]",
      "text/plain": [
       "<Figure size 432x288 with 1 Axes>"
      ]
     },
     "metadata": {
      "needs_background": "light"
     },
     "output_type": "display_data"
    }
   ],
   "source": [
    "preds_df['metric_all_ndcg@1000'].hist()"
   ]
  },
  {
   "cell_type": "code",
   "execution_count": 11,
   "metadata": {},
   "outputs": [
    {
     "data": {
      "text/plain": [
       "metric_all_ndcg@1000\n",
       "0.000000    576\n",
       "1.000000    243\n",
       "0.630930    177\n",
       "0.500000    124\n",
       "0.386853     98\n",
       "           ... \n",
       "0.115883      1\n",
       "0.115835      1\n",
       "0.115786      1\n",
       "0.115737      1\n",
       "0.112774      1\n",
       "Length: 453, dtype: int64"
      ]
     },
     "execution_count": 11,
     "metadata": {},
     "output_type": "execute_result"
    }
   ],
   "source": [
    "preds_df.groupby('metric_all_ndcg@1000').size().sort_values(ascending=False)"
   ]
  },
  {
   "cell_type": "code",
   "execution_count": 12,
   "metadata": {},
   "outputs": [
    {
     "data": {
      "text/plain": [
       "<matplotlib.axes._subplots.AxesSubplot at 0x7f7ba807d210>"
      ]
     },
     "execution_count": 12,
     "metadata": {},
     "output_type": "execute_result"
    },
    {
     "data": {
      "image/png": "[encoded data removed]",
      "text/plain": [
       "<Figure size 432x288 with 1 Axes>"
      ]
     },
     "metadata": {
      "needs_background": "light"
     },
     "output_type": "display_data"
    }
   ],
   "source": [
    "preds_df['metric_all_avg_precision@1000'].hist()"
   ]
  },
  {
   "cell_type": "markdown",
   "metadata": {},
   "source": [
    "## Computing categ features popularity"
   ]
  },
  {
   "cell_type": "code",
   "execution_count": 13,
   "metadata": {},
   "outputs": [
    {
     "name": "stdout",
     "output_type": "stream",
     "text": [
      "metadata_sess_pid_seq\n",
      "metadata_seq_pos\n",
      "metadata_seq_len\n"
     ]
    }
   ],
   "source": [
    "days = []\n",
    "for day in range(2,15):\n",
    "    days.append(pd.read_parquet(os.path.join(BASE_PATH, 'preds_date_2019-10-{:02}.parquet'.format(day))))\n",
    "    \n",
    "preds_full_df = pd.concat(days)\n",
    "\n",
    "for col in COLS_TO_SQUEEZE:\n",
    "    print (col)\n",
    "    preds_full_df[col] = preds_full_df[col].apply(lambda x: x[0])"
   ]
  },
  {
   "cell_type": "code",
   "execution_count": 14,
   "metadata": {},
   "outputs": [
    {
     "data": {
      "text/html": [
       "<div>\n",
       "<style scoped>\n",
       "    .dataframe tbody tr th:only-of-type {\n",
       "        vertical-align: middle;\n",
       "    }\n",
       "\n",
       "    .dataframe tbody tr th {\n",
       "        vertical-align: top;\n",
       "    }\n",
       "\n",
       "    .dataframe thead th {\n",
       "        text-align: right;\n",
       "    }\n",
       "</style>\n",
       "<table border=\"1\" class=\"dataframe\">\n",
       "  <thead>\n",
       "    <tr style=\"text-align: right;\">\n",
       "      <th></th>\n",
       "      <th>metadata_sess_pid_seq</th>\n",
       "      <th>pid_count</th>\n",
       "    </tr>\n",
       "  </thead>\n",
       "  <tbody>\n",
       "    <tr>\n",
       "      <th>0</th>\n",
       "      <td>2</td>\n",
       "      <td>237</td>\n",
       "    </tr>\n",
       "    <tr>\n",
       "      <th>1</th>\n",
       "      <td>3</td>\n",
       "      <td>238</td>\n",
       "    </tr>\n",
       "    <tr>\n",
       "      <th>2</th>\n",
       "      <td>4</td>\n",
       "      <td>214</td>\n",
       "    </tr>\n",
       "    <tr>\n",
       "      <th>3</th>\n",
       "      <td>5</td>\n",
       "      <td>150</td>\n",
       "    </tr>\n",
       "    <tr>\n",
       "      <th>4</th>\n",
       "      <td>6</td>\n",
       "      <td>139</td>\n",
       "    </tr>\n",
       "    <tr>\n",
       "      <th>...</th>\n",
       "      <td>...</td>\n",
       "      <td>...</td>\n",
       "    </tr>\n",
       "    <tr>\n",
       "      <th>15734</th>\n",
       "      <td>197147</td>\n",
       "      <td>1</td>\n",
       "    </tr>\n",
       "    <tr>\n",
       "      <th>15735</th>\n",
       "      <td>199681</td>\n",
       "      <td>1</td>\n",
       "    </tr>\n",
       "    <tr>\n",
       "      <th>15736</th>\n",
       "      <td>200854</td>\n",
       "      <td>1</td>\n",
       "    </tr>\n",
       "    <tr>\n",
       "      <th>15737</th>\n",
       "      <td>202974</td>\n",
       "      <td>1</td>\n",
       "    </tr>\n",
       "    <tr>\n",
       "      <th>15738</th>\n",
       "      <td>203333</td>\n",
       "      <td>1</td>\n",
       "    </tr>\n",
       "  </tbody>\n",
       "</table>\n",
       "<p>15739 rows × 2 columns</p>\n",
       "</div>"
      ],
      "text/plain": [
       "       metadata_sess_pid_seq  pid_count\n",
       "0                          2        237\n",
       "1                          3        238\n",
       "2                          4        214\n",
       "3                          5        150\n",
       "4                          6        139\n",
       "...                      ...        ...\n",
       "15734                 197147          1\n",
       "15735                 199681          1\n",
       "15736                 200854          1\n",
       "15737                 202974          1\n",
       "15738                 203333          1\n",
       "\n",
       "[15739 rows x 2 columns]"
      ]
     },
     "execution_count": 14,
     "metadata": {},
     "output_type": "execute_result"
    }
   ],
   "source": [
    "pid_pop_df = preds_full_df.groupby('metadata_sess_pid_seq').size().to_frame('pid_count').reset_index()\n",
    "pid_pop_df"
   ]
  },
  {
   "cell_type": "markdown",
   "metadata": {},
   "source": [
    "## Computing stats on models accuracy"
   ]
  },
  {
   "cell_type": "code",
   "execution_count": 15,
   "metadata": {},
   "outputs": [],
   "source": [
    "preds_df = preds_df.merge(pid_pop_df, how='left')"
   ]
  },
  {
   "cell_type": "code",
   "execution_count": 16,
   "metadata": {},
   "outputs": [
    {
     "data": {
      "text/html": [
       "<div>\n",
       "<style scoped>\n",
       "    .dataframe tbody tr th:only-of-type {\n",
       "        vertical-align: middle;\n",
       "    }\n",
       "\n",
       "    .dataframe tbody tr th {\n",
       "        vertical-align: top;\n",
       "    }\n",
       "\n",
       "    .dataframe thead th {\n",
       "        text-align: right;\n",
       "    }\n",
       "</style>\n",
       "<table border=\"1\" class=\"dataframe\">\n",
       "  <thead>\n",
       "    <tr style=\"text-align: right;\">\n",
       "      <th></th>\n",
       "      <th>metadata_seq_len</th>\n",
       "      <th>metadata_seq_pos</th>\n",
       "      <th>metadata_sess_bid_seq</th>\n",
       "      <th>metadata_sess_ccid_seq</th>\n",
       "      <th>metadata_sess_csid_seq</th>\n",
       "      <th>metadata_sess_pid_seq</th>\n",
       "      <th>metadata_sess_product_recency_seq</th>\n",
       "      <th>metric_all_avg_precision@10</th>\n",
       "      <th>metric_all_avg_precision@100</th>\n",
       "      <th>metric_all_avg_precision@1000</th>\n",
       "      <th>...</th>\n",
       "      <th>metric_all_ndcg@5</th>\n",
       "      <th>metric_all_precision@10</th>\n",
       "      <th>metric_all_precision@100</th>\n",
       "      <th>metric_all_precision@1000</th>\n",
       "      <th>metric_all_precision@5</th>\n",
       "      <th>metric_all_recall@10</th>\n",
       "      <th>metric_all_recall@100</th>\n",
       "      <th>metric_all_recall@1000</th>\n",
       "      <th>metric_all_recall@5</th>\n",
       "      <th>pid_count</th>\n",
       "    </tr>\n",
       "  </thead>\n",
       "  <tbody>\n",
       "    <tr>\n",
       "      <th>0</th>\n",
       "      <td>4</td>\n",
       "      <td>4</td>\n",
       "      <td>[65]</td>\n",
       "      <td>[131]</td>\n",
       "      <td>[15]</td>\n",
       "      <td>21205</td>\n",
       "      <td>[-0.61365515]</td>\n",
       "      <td>0.00</td>\n",
       "      <td>0.000000</td>\n",
       "      <td>0.000000</td>\n",
       "      <td>...</td>\n",
       "      <td>0.000000</td>\n",
       "      <td>0.0</td>\n",
       "      <td>0.00</td>\n",
       "      <td>0.000</td>\n",
       "      <td>0.0</td>\n",
       "      <td>0.0</td>\n",
       "      <td>0.0</td>\n",
       "      <td>0.0</td>\n",
       "      <td>0.0</td>\n",
       "      <td>NaN</td>\n",
       "    </tr>\n",
       "    <tr>\n",
       "      <th>1</th>\n",
       "      <td>3</td>\n",
       "      <td>3</td>\n",
       "      <td>[541]</td>\n",
       "      <td>[131]</td>\n",
       "      <td>[152]</td>\n",
       "      <td>43672</td>\n",
       "      <td>[-0.6356059]</td>\n",
       "      <td>0.00</td>\n",
       "      <td>0.000000</td>\n",
       "      <td>0.000000</td>\n",
       "      <td>...</td>\n",
       "      <td>0.000000</td>\n",
       "      <td>0.0</td>\n",
       "      <td>0.00</td>\n",
       "      <td>0.000</td>\n",
       "      <td>0.0</td>\n",
       "      <td>0.0</td>\n",
       "      <td>0.0</td>\n",
       "      <td>0.0</td>\n",
       "      <td>0.0</td>\n",
       "      <td>NaN</td>\n",
       "    </tr>\n",
       "    <tr>\n",
       "      <th>2</th>\n",
       "      <td>2</td>\n",
       "      <td>2</td>\n",
       "      <td>[25]</td>\n",
       "      <td>[29]</td>\n",
       "      <td>[45]</td>\n",
       "      <td>5592</td>\n",
       "      <td>[-0.6283142]</td>\n",
       "      <td>0.00</td>\n",
       "      <td>0.013158</td>\n",
       "      <td>0.013158</td>\n",
       "      <td>...</td>\n",
       "      <td>0.000000</td>\n",
       "      <td>0.0</td>\n",
       "      <td>0.01</td>\n",
       "      <td>0.001</td>\n",
       "      <td>0.0</td>\n",
       "      <td>0.0</td>\n",
       "      <td>1.0</td>\n",
       "      <td>1.0</td>\n",
       "      <td>0.0</td>\n",
       "      <td>1.0</td>\n",
       "    </tr>\n",
       "    <tr>\n",
       "      <th>3</th>\n",
       "      <td>4</td>\n",
       "      <td>4</td>\n",
       "      <td>[18]</td>\n",
       "      <td>[29]</td>\n",
       "      <td>[45]</td>\n",
       "      <td>3700</td>\n",
       "      <td>[-0.5793567]</td>\n",
       "      <td>0.00</td>\n",
       "      <td>0.000000</td>\n",
       "      <td>0.008000</td>\n",
       "      <td>...</td>\n",
       "      <td>0.000000</td>\n",
       "      <td>0.0</td>\n",
       "      <td>0.00</td>\n",
       "      <td>0.001</td>\n",
       "      <td>0.0</td>\n",
       "      <td>0.0</td>\n",
       "      <td>0.0</td>\n",
       "      <td>1.0</td>\n",
       "      <td>0.0</td>\n",
       "      <td>2.0</td>\n",
       "    </tr>\n",
       "    <tr>\n",
       "      <th>4</th>\n",
       "      <td>5</td>\n",
       "      <td>5</td>\n",
       "      <td>[24]</td>\n",
       "      <td>[8]</td>\n",
       "      <td>[8]</td>\n",
       "      <td>320</td>\n",
       "      <td>[-0.6326033]</td>\n",
       "      <td>0.25</td>\n",
       "      <td>0.250000</td>\n",
       "      <td>0.250000</td>\n",
       "      <td>...</td>\n",
       "      <td>0.430677</td>\n",
       "      <td>0.1</td>\n",
       "      <td>0.01</td>\n",
       "      <td>0.001</td>\n",
       "      <td>0.2</td>\n",
       "      <td>1.0</td>\n",
       "      <td>1.0</td>\n",
       "      <td>1.0</td>\n",
       "      <td>1.0</td>\n",
       "      <td>3.0</td>\n",
       "    </tr>\n",
       "  </tbody>\n",
       "</table>\n",
       "<p>5 rows × 24 columns</p>\n",
       "</div>"
      ],
      "text/plain": [
       "   metadata_seq_len  metadata_seq_pos metadata_sess_bid_seq  \\\n",
       "0                 4                 4                  [65]   \n",
       "1                 3                 3                 [541]   \n",
       "2                 2                 2                  [25]   \n",
       "3                 4                 4                  [18]   \n",
       "4                 5                 5                  [24]   \n",
       "\n",
       "  metadata_sess_ccid_seq metadata_sess_csid_seq  metadata_sess_pid_seq  \\\n",
       "0                  [131]                   [15]                  21205   \n",
       "1                  [131]                  [152]                  43672   \n",
       "2                   [29]                   [45]                   5592   \n",
       "3                   [29]                   [45]                   3700   \n",
       "4                    [8]                    [8]                    320   \n",
       "\n",
       "  metadata_sess_product_recency_seq  metric_all_avg_precision@10  \\\n",
       "0                     [-0.61365515]                         0.00   \n",
       "1                      [-0.6356059]                         0.00   \n",
       "2                      [-0.6283142]                         0.00   \n",
       "3                      [-0.5793567]                         0.00   \n",
       "4                      [-0.6326033]                         0.25   \n",
       "\n",
       "   metric_all_avg_precision@100  metric_all_avg_precision@1000  ...  \\\n",
       "0                      0.000000                       0.000000  ...   \n",
       "1                      0.000000                       0.000000  ...   \n",
       "2                      0.013158                       0.013158  ...   \n",
       "3                      0.000000                       0.008000  ...   \n",
       "4                      0.250000                       0.250000  ...   \n",
       "\n",
       "   metric_all_ndcg@5  metric_all_precision@10  metric_all_precision@100  \\\n",
       "0           0.000000                      0.0                      0.00   \n",
       "1           0.000000                      0.0                      0.00   \n",
       "2           0.000000                      0.0                      0.01   \n",
       "3           0.000000                      0.0                      0.00   \n",
       "4           0.430677                      0.1                      0.01   \n",
       "\n",
       "   metric_all_precision@1000  metric_all_precision@5  metric_all_recall@10  \\\n",
       "0                      0.000                     0.0                   0.0   \n",
       "1                      0.000                     0.0                   0.0   \n",
       "2                      0.001                     0.0                   0.0   \n",
       "3                      0.001                     0.0                   0.0   \n",
       "4                      0.001                     0.2                   1.0   \n",
       "\n",
       "   metric_all_recall@100  metric_all_recall@1000  metric_all_recall@5  \\\n",
       "0                    0.0                     0.0                  0.0   \n",
       "1                    0.0                     0.0                  0.0   \n",
       "2                    1.0                     1.0                  0.0   \n",
       "3                    0.0                     1.0                  0.0   \n",
       "4                    1.0                     1.0                  1.0   \n",
       "\n",
       "   pid_count  \n",
       "0        NaN  \n",
       "1        NaN  \n",
       "2        1.0  \n",
       "3        2.0  \n",
       "4        3.0  \n",
       "\n",
       "[5 rows x 24 columns]"
      ]
     },
     "execution_count": 16,
     "metadata": {},
     "output_type": "execute_result"
    }
   ],
   "source": [
    "preds_df.head(5)"
   ]
  },
  {
   "cell_type": "markdown",
   "metadata": {},
   "source": [
    "### Analyzing correlation between accuracy and label metadata stats"
   ]
  },
  {
   "cell_type": "code",
   "execution_count": 17,
   "metadata": {},
   "outputs": [
    {
     "data": {
      "text/plain": [
       "<matplotlib.axes._subplots.AxesSubplot at 0x7f7ba80d9b10>"
      ]
     },
     "execution_count": 17,
     "metadata": {},
     "output_type": "execute_result"
    },
    {
     "data": {
      "image/png": "[encoded data removed]",
      "text/plain": [
       "<Figure size 432x288 with 1 Axes>"
      ]
     },
     "metadata": {
      "needs_background": "light"
     },
     "output_type": "display_data"
    }
   ],
   "source": [
    "preds_df.groupby('metadata_seq_pos')['metric_all_ndcg@1000'].agg(['mean', 'median']).plot.bar()"
   ]
  },
  {
   "cell_type": "code",
   "execution_count": 18,
   "metadata": {},
   "outputs": [
    {
     "data": {
      "text/html": [
       "<div>\n",
       "<style scoped>\n",
       "    .dataframe tbody tr th:only-of-type {\n",
       "        vertical-align: middle;\n",
       "    }\n",
       "\n",
       "    .dataframe tbody tr th {\n",
       "        vertical-align: top;\n",
       "    }\n",
       "\n",
       "    .dataframe thead th {\n",
       "        text-align: right;\n",
       "    }\n",
       "</style>\n",
       "<table border=\"1\" class=\"dataframe\">\n",
       "  <thead>\n",
       "    <tr style=\"text-align: right;\">\n",
       "      <th></th>\n",
       "      <th></th>\n",
       "      <th>mean</th>\n",
       "    </tr>\n",
       "    <tr>\n",
       "      <th>metadata_seq_len</th>\n",
       "      <th>metadata_seq_pos</th>\n",
       "      <th></th>\n",
       "    </tr>\n",
       "  </thead>\n",
       "  <tbody>\n",
       "    <tr>\n",
       "      <th>2</th>\n",
       "      <th>2</th>\n",
       "      <td>0.297665</td>\n",
       "    </tr>\n",
       "    <tr>\n",
       "      <th>3</th>\n",
       "      <th>3</th>\n",
       "      <td>0.265723</td>\n",
       "    </tr>\n",
       "    <tr>\n",
       "      <th>4</th>\n",
       "      <th>4</th>\n",
       "      <td>0.261718</td>\n",
       "    </tr>\n",
       "    <tr>\n",
       "      <th>5</th>\n",
       "      <th>5</th>\n",
       "      <td>0.253844</td>\n",
       "    </tr>\n",
       "    <tr>\n",
       "      <th>6</th>\n",
       "      <th>6</th>\n",
       "      <td>0.281355</td>\n",
       "    </tr>\n",
       "    <tr>\n",
       "      <th>7</th>\n",
       "      <th>7</th>\n",
       "      <td>0.226033</td>\n",
       "    </tr>\n",
       "    <tr>\n",
       "      <th>8</th>\n",
       "      <th>8</th>\n",
       "      <td>0.227483</td>\n",
       "    </tr>\n",
       "    <tr>\n",
       "      <th>9</th>\n",
       "      <th>9</th>\n",
       "      <td>0.197818</td>\n",
       "    </tr>\n",
       "    <tr>\n",
       "      <th>10</th>\n",
       "      <th>10</th>\n",
       "      <td>0.218063</td>\n",
       "    </tr>\n",
       "    <tr>\n",
       "      <th>11</th>\n",
       "      <th>11</th>\n",
       "      <td>0.266388</td>\n",
       "    </tr>\n",
       "    <tr>\n",
       "      <th>12</th>\n",
       "      <th>12</th>\n",
       "      <td>0.220378</td>\n",
       "    </tr>\n",
       "    <tr>\n",
       "      <th>13</th>\n",
       "      <th>13</th>\n",
       "      <td>0.184890</td>\n",
       "    </tr>\n",
       "    <tr>\n",
       "      <th>14</th>\n",
       "      <th>14</th>\n",
       "      <td>0.167874</td>\n",
       "    </tr>\n",
       "    <tr>\n",
       "      <th>15</th>\n",
       "      <th>15</th>\n",
       "      <td>0.240061</td>\n",
       "    </tr>\n",
       "    <tr>\n",
       "      <th>16</th>\n",
       "      <th>16</th>\n",
       "      <td>0.313735</td>\n",
       "    </tr>\n",
       "    <tr>\n",
       "      <th>17</th>\n",
       "      <th>17</th>\n",
       "      <td>0.136021</td>\n",
       "    </tr>\n",
       "    <tr>\n",
       "      <th>18</th>\n",
       "      <th>18</th>\n",
       "      <td>0.180559</td>\n",
       "    </tr>\n",
       "    <tr>\n",
       "      <th>19</th>\n",
       "      <th>19</th>\n",
       "      <td>0.270868</td>\n",
       "    </tr>\n",
       "    <tr>\n",
       "      <th>20</th>\n",
       "      <th>20</th>\n",
       "      <td>0.180082</td>\n",
       "    </tr>\n",
       "  </tbody>\n",
       "</table>\n",
       "</div>"
      ],
      "text/plain": [
       "                                       mean\n",
       "metadata_seq_len metadata_seq_pos          \n",
       "2                2                 0.297665\n",
       "3                3                 0.265723\n",
       "4                4                 0.261718\n",
       "5                5                 0.253844\n",
       "6                6                 0.281355\n",
       "7                7                 0.226033\n",
       "8                8                 0.227483\n",
       "9                9                 0.197818\n",
       "10               10                0.218063\n",
       "11               11                0.266388\n",
       "12               12                0.220378\n",
       "13               13                0.184890\n",
       "14               14                0.167874\n",
       "15               15                0.240061\n",
       "16               16                0.313735\n",
       "17               17                0.136021\n",
       "18               18                0.180559\n",
       "19               19                0.270868\n",
       "20               20                0.180082"
      ]
     },
     "execution_count": 18,
     "metadata": {},
     "output_type": "execute_result"
    }
   ],
   "source": [
    "pd.set_option(\"display.max_rows\", None)\n",
    "preds_df.groupby(['metadata_seq_len', 'metadata_seq_pos'])['metric_all_ndcg@1000'].agg(['mean'])"
   ]
  },
  {
   "cell_type": "code",
   "execution_count": null,
   "metadata": {},
   "outputs": [],
   "source": []
  },
  {
   "cell_type": "code",
   "execution_count": 19,
   "metadata": {},
   "outputs": [
    {
     "data": {
      "text/plain": [
       "<matplotlib.axes._subplots.AxesSubplot at 0x7f7ba006e110>"
      ]
     },
     "execution_count": 19,
     "metadata": {},
     "output_type": "execute_result"
    },
    {
     "data": {
      "image/png": "[encoded data removed]",
      "text/plain": [
       "<Figure size 432x288 with 1 Axes>"
      ]
     },
     "metadata": {
      "needs_background": "light"
     },
     "output_type": "display_data"
    }
   ],
   "source": [
    "preds_df.groupby('metadata_seq_pos')['metric_all_ndcg@1000'].agg(['mean', 'median']).plot.bar()"
   ]
  },
  {
   "cell_type": "code",
   "execution_count": 20,
   "metadata": {},
   "outputs": [],
   "source": [
    "preds_df['ndcg@1000_bin'] = pd.cut(preds_df['metric_all_ndcg@1000'], 4)"
   ]
  },
  {
   "cell_type": "code",
   "execution_count": 21,
   "metadata": {},
   "outputs": [
    {
     "data": {
      "text/plain": [
       "ndcg@1000_bin\n",
       "(-0.001, 0.25]    2231\n",
       "(0.25, 0.5]        805\n",
       "(0.5, 0.75]        177\n",
       "(0.75, 1.0]        243\n",
       "dtype: int64"
      ]
     },
     "execution_count": 21,
     "metadata": {},
     "output_type": "execute_result"
    }
   ],
   "source": [
    "preds_df.groupby('ndcg@1000_bin').size()"
   ]
  },
  {
   "cell_type": "code",
   "execution_count": 22,
   "metadata": {},
   "outputs": [
    {
     "data": {
      "text/html": [
       "<div>\n",
       "<style scoped>\n",
       "    .dataframe tbody tr th:only-of-type {\n",
       "        vertical-align: middle;\n",
       "    }\n",
       "\n",
       "    .dataframe tbody tr th {\n",
       "        vertical-align: top;\n",
       "    }\n",
       "\n",
       "    .dataframe thead tr th {\n",
       "        text-align: left;\n",
       "    }\n",
       "\n",
       "    .dataframe thead tr:last-of-type th {\n",
       "        text-align: right;\n",
       "    }\n",
       "</style>\n",
       "<table border=\"1\" class=\"dataframe\">\n",
       "  <thead>\n",
       "    <tr>\n",
       "      <th></th>\n",
       "      <th colspan=\"2\" halign=\"left\">metadata_seq_pos</th>\n",
       "      <th colspan=\"2\" halign=\"left\">pid_count</th>\n",
       "    </tr>\n",
       "    <tr>\n",
       "      <th></th>\n",
       "      <th>mean</th>\n",
       "      <th>median</th>\n",
       "      <th>mean</th>\n",
       "      <th>median</th>\n",
       "    </tr>\n",
       "    <tr>\n",
       "      <th>ndcg@1000_bin</th>\n",
       "      <th></th>\n",
       "      <th></th>\n",
       "      <th></th>\n",
       "      <th></th>\n",
       "    </tr>\n",
       "  </thead>\n",
       "  <tbody>\n",
       "    <tr>\n",
       "      <th>(-0.001, 0.25]</th>\n",
       "      <td>4.865083</td>\n",
       "      <td>3</td>\n",
       "      <td>27.479038</td>\n",
       "      <td>6.0</td>\n",
       "    </tr>\n",
       "    <tr>\n",
       "      <th>(0.25, 0.5]</th>\n",
       "      <td>4.118012</td>\n",
       "      <td>3</td>\n",
       "      <td>44.059593</td>\n",
       "      <td>16.0</td>\n",
       "    </tr>\n",
       "    <tr>\n",
       "      <th>(0.5, 0.75]</th>\n",
       "      <td>4.271186</td>\n",
       "      <td>3</td>\n",
       "      <td>36.791139</td>\n",
       "      <td>14.5</td>\n",
       "    </tr>\n",
       "    <tr>\n",
       "      <th>(0.75, 1.0]</th>\n",
       "      <td>3.802469</td>\n",
       "      <td>3</td>\n",
       "      <td>47.857143</td>\n",
       "      <td>14.0</td>\n",
       "    </tr>\n",
       "  </tbody>\n",
       "</table>\n",
       "</div>"
      ],
      "text/plain": [
       "               metadata_seq_pos         pid_count       \n",
       "                           mean median       mean median\n",
       "ndcg@1000_bin                                           \n",
       "(-0.001, 0.25]         4.865083      3  27.479038    6.0\n",
       "(0.25, 0.5]            4.118012      3  44.059593   16.0\n",
       "(0.5, 0.75]            4.271186      3  36.791139   14.5\n",
       "(0.75, 1.0]            3.802469      3  47.857143   14.0"
      ]
     },
     "execution_count": 22,
     "metadata": {},
     "output_type": "execute_result"
    }
   ],
   "source": [
    "preds_df.groupby('ndcg@1000_bin')[['metadata_seq_pos',\n",
    "                                   'pid_count']].agg(['mean', 'median'])"
   ]
  },
  {
   "cell_type": "code",
   "execution_count": 23,
   "metadata": {},
   "outputs": [
    {
     "data": {
      "text/plain": [
       "metric_all_ndcg@1000    1.000000\n",
       "metadata_seq_pos       -0.116703\n",
       "pid_count               0.238009\n",
       "Name: metric_all_ndcg@1000, dtype: float64"
      ]
     },
     "execution_count": 23,
     "metadata": {},
     "output_type": "execute_result"
    }
   ],
   "source": [
    "preds_df[['metric_all_ndcg@1000', 'metadata_seq_pos', 'pid_count']] \\\n",
    "     .corr(method='spearman')['metric_all_ndcg@1000']"
   ]
  },
  {
   "cell_type": "code",
   "execution_count": 24,
   "metadata": {},
   "outputs": [
    {
     "data": {
      "image/png": "[encoded data removed]",
      "text/plain": [
       "<Figure size 432x288 with 1 Axes>"
      ]
     },
     "metadata": {
      "needs_background": "light"
     },
     "output_type": "display_data"
    }
   ],
   "source": [
    "ax = sns.violinplot(x='metadata_seq_pos', y='ndcg@1000_bin', data=preds_df)"
   ]
  },
  {
   "cell_type": "code",
   "execution_count": 25,
   "metadata": {},
   "outputs": [
    {
     "data": {
      "image/png": "[encoded data removed]",
      "text/plain": [
       "<Figure size 432x288 with 1 Axes>"
      ]
     },
     "metadata": {
      "needs_background": "light"
     },
     "output_type": "display_data"
    }
   ],
   "source": [
    "ax = sns.violinplot(x='pid_count', y='ndcg@1000_bin', data=preds_df)"
   ]
  },
  {
   "cell_type": "code",
   "execution_count": 26,
   "metadata": {},
   "outputs": [
    {
     "data": {
      "text/plain": [
       "<matplotlib.axes._subplots.AxesSubplot at 0x7f7bb4caa8d0>"
      ]
     },
     "execution_count": 26,
     "metadata": {},
     "output_type": "execute_result"
    },
    {
     "data": {
      "image/png": "[encoded data removed]",
      "text/plain": [
       "<Figure size 432x288 with 1 Axes>"
      ]
     },
     "metadata": {
      "needs_background": "light"
     },
     "output_type": "display_data"
    }
   ],
   "source": [
    "preds_df.plot.scatter(y='pid_count', x='metric_all_ndcg@1000')"
   ]
  },
  {
   "cell_type": "code",
   "execution_count": 27,
   "metadata": {},
   "outputs": [
    {
     "data": {
      "text/plain": [
       "<matplotlib.axes._subplots.AxesSubplot at 0x7f7b9befe790>"
      ]
     },
     "execution_count": 27,
     "metadata": {},
     "output_type": "execute_result"
    },
    {
     "data": {
      "image/png": "[encoded data removed]",
      "text/plain": [
       "<Figure size 432x288 with 1 Axes>"
      ]
     },
     "metadata": {
      "needs_background": "light"
     },
     "output_type": "display_data"
    }
   ],
   "source": [
    "preds_df.plot.scatter(y='metadata_seq_pos', x='metric_all_ndcg@1000')"
   ]
  },
  {
   "cell_type": "code",
   "execution_count": null,
   "metadata": {},
   "outputs": [],
   "source": []
  },
  {
   "cell_type": "code",
   "execution_count": null,
   "metadata": {},
   "outputs": [],
   "source": []
  },
  {
   "cell_type": "code",
   "execution_count": null,
   "metadata": {},
   "outputs": [],
   "source": []
  },
  {
   "cell_type": "code",
   "execution_count": null,
   "metadata": {},
   "outputs": [],
   "source": []
  }
 ],
 "metadata": {
  "kernelspec": {
   "display_name": "Python 3",
   "language": "python",
   "name": "python3"
  },
  "language_info": {
   "codemirror_mode": {
    "name": "ipython",
    "version": 3
   },
   "file_extension": ".py",
   "mimetype": "text/x-python",
   "name": "python",
   "nbconvert_exporter": "python",
   "pygments_lexer": "ipython3",
   "version": "3.7.6"
  }
 },
 "nbformat": 4,
 "nbformat_minor": 4
}
