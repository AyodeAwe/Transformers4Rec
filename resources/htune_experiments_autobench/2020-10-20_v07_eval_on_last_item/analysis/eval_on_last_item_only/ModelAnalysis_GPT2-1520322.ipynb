{
 "cells": [
  {
   "cell_type": "markdown",
   "metadata": {},
   "source": [
    "## Evaluate ranking metrics before"
   ]
  },
  {
   "cell_type": "markdown",
   "metadata": {},
   "source": [
    "ngc batch run --name \"tranf4rec-htune-v06-gpt2\" --preempt RUNONCE --ace nv-us-west-2 --instance dgx1v.32g.2.norm --commandline \"nvidia-smi && wandb login 76eea90114bb1cdcbafe151b262e4a5d4ff60f12 && date && git pull origin experimentation && date && bash script/run_transformer_v2.bash htune-v06-gpt2 full_noneg session_cooccurrence --start_date 2019-10-01 --end_date 2019-10-15 --model_type gpt2 --loss_type cross_entropy --per_device_eval_batch_size 128 --similarity_type concat_mlp --tf_out_activation tanh --all_rescale_factor 1.0 --neg_rescale_factor 0.0 --inp_merge mlp --hidden_act gelu_new --learning_rate_warmup_steps 0 --learning_rate_num_cosine_cycles 4.0 --dataloader_drop_last --compute_metrics_each_n_steps 50 --max_seq_len 20 --num_train_epochs 8 --per_device_train_batch_size 64 --learning_rate 0.002765352013424135 --learning_rate_schedule constant_with_warmup --dropout 0.1 --weight_decay 3.1625564350525762e-06 --d_model 256 --n_layer 2 --n_head 2 --log_predictions --log_attention_weights && date\" --result /results --image \"nvidian/prj-recsys/transf4rec_exp:0.1.0\" --org nvidian --team prj-recsys --datasetid 66609:/data\n",
    "\n",
    "- Running it again logging predictions and attention weights\n",
    "Id: 1516063\n",
    "\n",
    "laced-fire-1297\n",
    "https://wandb.ai/gspmoreira/huggingface/runs/2iqaecgb/overview?workspace=user-gspmoreira\n",
    "AOD_all_Test_ndcg@1000_all: 0.5304"
   ]
  },
  {
   "cell_type": "code",
   "execution_count": 1,
   "metadata": {},
   "outputs": [],
   "source": [
    "import os\n",
    "import pandas as pd\n",
    "import seaborn as sns"
   ]
  },
  {
   "cell_type": "code",
   "execution_count": 2,
   "metadata": {},
   "outputs": [],
   "source": [
    "BASE_PATH = '1520322_fallen-field-1434/pred_logs/'"
   ]
  },
  {
   "cell_type": "code",
   "execution_count": 3,
   "metadata": {},
   "outputs": [
    {
     "data": {
      "text/plain": [
       "12393"
      ]
     },
     "execution_count": 3,
     "metadata": {},
     "output_type": "execute_result"
    }
   ],
   "source": [
    "preds_df = pd.read_parquet(os.path.join(BASE_PATH, 'preds_date_2019-10-15.parquet'))\n",
    "len(preds_df)"
   ]
  },
  {
   "cell_type": "code",
   "execution_count": 4,
   "metadata": {},
   "outputs": [
    {
     "data": {
      "text/plain": [
       "Index(['metadata_seq_pos', 'metadata_sess_bid_seq', 'metadata_sess_ccid_seq',\n",
       "       'metadata_sess_csid_seq', 'metadata_sess_pid_seq',\n",
       "       'metadata_sess_product_recency_seq', 'metric_all_avg_precision@10',\n",
       "       'metric_all_avg_precision@100', 'metric_all_avg_precision@1000',\n",
       "       'metric_all_avg_precision@5', 'metric_all_ndcg@10',\n",
       "       'metric_all_ndcg@100', 'metric_all_ndcg@1000', 'metric_all_ndcg@5',\n",
       "       'metric_all_precision@10', 'metric_all_precision@100',\n",
       "       'metric_all_precision@1000', 'metric_all_precision@5',\n",
       "       'metric_all_recall@10', 'metric_all_recall@100',\n",
       "       'metric_all_recall@1000', 'metric_all_recall@5'],\n",
       "      dtype='object')"
      ]
     },
     "execution_count": 4,
     "metadata": {},
     "output_type": "execute_result"
    }
   ],
   "source": [
    "preds_df.columns"
   ]
  },
  {
   "cell_type": "code",
   "execution_count": 5,
   "metadata": {},
   "outputs": [
    {
     "data": {
      "text/html": [
       "<div>\n",
       "<style scoped>\n",
       "    .dataframe tbody tr th:only-of-type {\n",
       "        vertical-align: middle;\n",
       "    }\n",
       "\n",
       "    .dataframe tbody tr th {\n",
       "        vertical-align: top;\n",
       "    }\n",
       "\n",
       "    .dataframe thead th {\n",
       "        text-align: right;\n",
       "    }\n",
       "</style>\n",
       "<table border=\"1\" class=\"dataframe\">\n",
       "  <thead>\n",
       "    <tr style=\"text-align: right;\">\n",
       "      <th></th>\n",
       "      <th>metadata_seq_pos</th>\n",
       "      <th>metadata_sess_bid_seq</th>\n",
       "      <th>metadata_sess_ccid_seq</th>\n",
       "      <th>metadata_sess_csid_seq</th>\n",
       "      <th>metadata_sess_pid_seq</th>\n",
       "      <th>metadata_sess_product_recency_seq</th>\n",
       "      <th>metric_all_avg_precision@10</th>\n",
       "      <th>metric_all_avg_precision@100</th>\n",
       "      <th>metric_all_avg_precision@1000</th>\n",
       "      <th>metric_all_avg_precision@5</th>\n",
       "      <th>...</th>\n",
       "      <th>metric_all_ndcg@1000</th>\n",
       "      <th>metric_all_ndcg@5</th>\n",
       "      <th>metric_all_precision@10</th>\n",
       "      <th>metric_all_precision@100</th>\n",
       "      <th>metric_all_precision@1000</th>\n",
       "      <th>metric_all_precision@5</th>\n",
       "      <th>metric_all_recall@10</th>\n",
       "      <th>metric_all_recall@100</th>\n",
       "      <th>metric_all_recall@1000</th>\n",
       "      <th>metric_all_recall@5</th>\n",
       "    </tr>\n",
       "  </thead>\n",
       "  <tbody>\n",
       "    <tr>\n",
       "      <th>0</th>\n",
       "      <td>[2]</td>\n",
       "      <td>[20]</td>\n",
       "      <td>[131]</td>\n",
       "      <td>[15]</td>\n",
       "      <td>[8499]</td>\n",
       "      <td>[-0.60625505]</td>\n",
       "      <td>1.0</td>\n",
       "      <td>1.0</td>\n",
       "      <td>1.000000</td>\n",
       "      <td>1.0</td>\n",
       "      <td>...</td>\n",
       "      <td>1.000000</td>\n",
       "      <td>1.0</td>\n",
       "      <td>0.1</td>\n",
       "      <td>0.01</td>\n",
       "      <td>0.001</td>\n",
       "      <td>0.2</td>\n",
       "      <td>1.0</td>\n",
       "      <td>1.0</td>\n",
       "      <td>1.0</td>\n",
       "      <td>1.0</td>\n",
       "    </tr>\n",
       "    <tr>\n",
       "      <th>1</th>\n",
       "      <td>[3]</td>\n",
       "      <td>[4305]</td>\n",
       "      <td>[131]</td>\n",
       "      <td>[15]</td>\n",
       "      <td>[44928]</td>\n",
       "      <td>[-0.8575405]</td>\n",
       "      <td>0.0</td>\n",
       "      <td>0.0</td>\n",
       "      <td>0.000000</td>\n",
       "      <td>0.0</td>\n",
       "      <td>...</td>\n",
       "      <td>0.000000</td>\n",
       "      <td>0.0</td>\n",
       "      <td>0.0</td>\n",
       "      <td>0.00</td>\n",
       "      <td>0.000</td>\n",
       "      <td>0.0</td>\n",
       "      <td>0.0</td>\n",
       "      <td>0.0</td>\n",
       "      <td>0.0</td>\n",
       "      <td>0.0</td>\n",
       "    </tr>\n",
       "    <tr>\n",
       "      <th>2</th>\n",
       "      <td>[4]</td>\n",
       "      <td>[65]</td>\n",
       "      <td>[131]</td>\n",
       "      <td>[15]</td>\n",
       "      <td>[21205]</td>\n",
       "      <td>[-0.61365515]</td>\n",
       "      <td>0.0</td>\n",
       "      <td>0.0</td>\n",
       "      <td>0.000000</td>\n",
       "      <td>0.0</td>\n",
       "      <td>...</td>\n",
       "      <td>0.000000</td>\n",
       "      <td>0.0</td>\n",
       "      <td>0.0</td>\n",
       "      <td>0.00</td>\n",
       "      <td>0.000</td>\n",
       "      <td>0.0</td>\n",
       "      <td>0.0</td>\n",
       "      <td>0.0</td>\n",
       "      <td>0.0</td>\n",
       "      <td>0.0</td>\n",
       "    </tr>\n",
       "    <tr>\n",
       "      <th>3</th>\n",
       "      <td>[2]</td>\n",
       "      <td>[36]</td>\n",
       "      <td>[7]</td>\n",
       "      <td>[18]</td>\n",
       "      <td>[1905]</td>\n",
       "      <td>[-0.596494]</td>\n",
       "      <td>1.0</td>\n",
       "      <td>1.0</td>\n",
       "      <td>1.000000</td>\n",
       "      <td>1.0</td>\n",
       "      <td>...</td>\n",
       "      <td>1.000000</td>\n",
       "      <td>1.0</td>\n",
       "      <td>0.1</td>\n",
       "      <td>0.01</td>\n",
       "      <td>0.001</td>\n",
       "      <td>0.2</td>\n",
       "      <td>1.0</td>\n",
       "      <td>1.0</td>\n",
       "      <td>1.0</td>\n",
       "      <td>1.0</td>\n",
       "    </tr>\n",
       "    <tr>\n",
       "      <th>4</th>\n",
       "      <td>[3]</td>\n",
       "      <td>[541]</td>\n",
       "      <td>[131]</td>\n",
       "      <td>[152]</td>\n",
       "      <td>[43672]</td>\n",
       "      <td>[-0.6356059]</td>\n",
       "      <td>0.0</td>\n",
       "      <td>0.0</td>\n",
       "      <td>0.000000</td>\n",
       "      <td>0.0</td>\n",
       "      <td>...</td>\n",
       "      <td>0.000000</td>\n",
       "      <td>0.0</td>\n",
       "      <td>0.0</td>\n",
       "      <td>0.00</td>\n",
       "      <td>0.000</td>\n",
       "      <td>0.0</td>\n",
       "      <td>0.0</td>\n",
       "      <td>0.0</td>\n",
       "      <td>0.0</td>\n",
       "      <td>0.0</td>\n",
       "    </tr>\n",
       "    <tr>\n",
       "      <th>...</th>\n",
       "      <td>...</td>\n",
       "      <td>...</td>\n",
       "      <td>...</td>\n",
       "      <td>...</td>\n",
       "      <td>...</td>\n",
       "      <td>...</td>\n",
       "      <td>...</td>\n",
       "      <td>...</td>\n",
       "      <td>...</td>\n",
       "      <td>...</td>\n",
       "      <td>...</td>\n",
       "      <td>...</td>\n",
       "      <td>...</td>\n",
       "      <td>...</td>\n",
       "      <td>...</td>\n",
       "      <td>...</td>\n",
       "      <td>...</td>\n",
       "      <td>...</td>\n",
       "      <td>...</td>\n",
       "      <td>...</td>\n",
       "      <td>...</td>\n",
       "    </tr>\n",
       "    <tr>\n",
       "      <th>12388</th>\n",
       "      <td>[4]</td>\n",
       "      <td>[7]</td>\n",
       "      <td>[10]</td>\n",
       "      <td>[7]</td>\n",
       "      <td>[1595]</td>\n",
       "      <td>[-0.6025502]</td>\n",
       "      <td>1.0</td>\n",
       "      <td>1.0</td>\n",
       "      <td>1.000000</td>\n",
       "      <td>1.0</td>\n",
       "      <td>...</td>\n",
       "      <td>1.000000</td>\n",
       "      <td>1.0</td>\n",
       "      <td>0.1</td>\n",
       "      <td>0.01</td>\n",
       "      <td>0.001</td>\n",
       "      <td>0.2</td>\n",
       "      <td>1.0</td>\n",
       "      <td>1.0</td>\n",
       "      <td>1.0</td>\n",
       "      <td>1.0</td>\n",
       "    </tr>\n",
       "    <tr>\n",
       "      <th>12389</th>\n",
       "      <td>[5]</td>\n",
       "      <td>[31]</td>\n",
       "      <td>[10]</td>\n",
       "      <td>[7]</td>\n",
       "      <td>[796]</td>\n",
       "      <td>[-0.603478]</td>\n",
       "      <td>1.0</td>\n",
       "      <td>1.0</td>\n",
       "      <td>1.000000</td>\n",
       "      <td>1.0</td>\n",
       "      <td>...</td>\n",
       "      <td>1.000000</td>\n",
       "      <td>1.0</td>\n",
       "      <td>0.1</td>\n",
       "      <td>0.01</td>\n",
       "      <td>0.001</td>\n",
       "      <td>0.2</td>\n",
       "      <td>1.0</td>\n",
       "      <td>1.0</td>\n",
       "      <td>1.0</td>\n",
       "      <td>1.0</td>\n",
       "    </tr>\n",
       "    <tr>\n",
       "      <th>12390</th>\n",
       "      <td>[6]</td>\n",
       "      <td>[2]</td>\n",
       "      <td>[10]</td>\n",
       "      <td>[7]</td>\n",
       "      <td>[2128]</td>\n",
       "      <td>[-0.60158366]</td>\n",
       "      <td>1.0</td>\n",
       "      <td>1.0</td>\n",
       "      <td>1.000000</td>\n",
       "      <td>1.0</td>\n",
       "      <td>...</td>\n",
       "      <td>1.000000</td>\n",
       "      <td>1.0</td>\n",
       "      <td>0.1</td>\n",
       "      <td>0.01</td>\n",
       "      <td>0.001</td>\n",
       "      <td>0.2</td>\n",
       "      <td>1.0</td>\n",
       "      <td>1.0</td>\n",
       "      <td>1.0</td>\n",
       "      <td>1.0</td>\n",
       "    </tr>\n",
       "    <tr>\n",
       "      <th>12391</th>\n",
       "      <td>[7]</td>\n",
       "      <td>[31]</td>\n",
       "      <td>[10]</td>\n",
       "      <td>[7]</td>\n",
       "      <td>[3524]</td>\n",
       "      <td>[-0.6067032]</td>\n",
       "      <td>1.0</td>\n",
       "      <td>1.0</td>\n",
       "      <td>1.000000</td>\n",
       "      <td>1.0</td>\n",
       "      <td>...</td>\n",
       "      <td>1.000000</td>\n",
       "      <td>1.0</td>\n",
       "      <td>0.1</td>\n",
       "      <td>0.01</td>\n",
       "      <td>0.001</td>\n",
       "      <td>0.2</td>\n",
       "      <td>1.0</td>\n",
       "      <td>1.0</td>\n",
       "      <td>1.0</td>\n",
       "      <td>1.0</td>\n",
       "    </tr>\n",
       "    <tr>\n",
       "      <th>12392</th>\n",
       "      <td>[8]</td>\n",
       "      <td>[31]</td>\n",
       "      <td>[10]</td>\n",
       "      <td>[7]</td>\n",
       "      <td>[5569]</td>\n",
       "      <td>[-0.6081262]</td>\n",
       "      <td>0.0</td>\n",
       "      <td>0.0</td>\n",
       "      <td>0.002513</td>\n",
       "      <td>0.0</td>\n",
       "      <td>...</td>\n",
       "      <td>0.115737</td>\n",
       "      <td>0.0</td>\n",
       "      <td>0.0</td>\n",
       "      <td>0.00</td>\n",
       "      <td>0.001</td>\n",
       "      <td>0.0</td>\n",
       "      <td>0.0</td>\n",
       "      <td>0.0</td>\n",
       "      <td>1.0</td>\n",
       "      <td>0.0</td>\n",
       "    </tr>\n",
       "  </tbody>\n",
       "</table>\n",
       "<p>12393 rows × 22 columns</p>\n",
       "</div>"
      ],
      "text/plain": [
       "      metadata_seq_pos metadata_sess_bid_seq metadata_sess_ccid_seq  \\\n",
       "0                  [2]                  [20]                  [131]   \n",
       "1                  [3]                [4305]                  [131]   \n",
       "2                  [4]                  [65]                  [131]   \n",
       "3                  [2]                  [36]                    [7]   \n",
       "4                  [3]                 [541]                  [131]   \n",
       "...                ...                   ...                    ...   \n",
       "12388              [4]                   [7]                   [10]   \n",
       "12389              [5]                  [31]                   [10]   \n",
       "12390              [6]                   [2]                   [10]   \n",
       "12391              [7]                  [31]                   [10]   \n",
       "12392              [8]                  [31]                   [10]   \n",
       "\n",
       "      metadata_sess_csid_seq metadata_sess_pid_seq  \\\n",
       "0                       [15]                [8499]   \n",
       "1                       [15]               [44928]   \n",
       "2                       [15]               [21205]   \n",
       "3                       [18]                [1905]   \n",
       "4                      [152]               [43672]   \n",
       "...                      ...                   ...   \n",
       "12388                    [7]                [1595]   \n",
       "12389                    [7]                 [796]   \n",
       "12390                    [7]                [2128]   \n",
       "12391                    [7]                [3524]   \n",
       "12392                    [7]                [5569]   \n",
       "\n",
       "      metadata_sess_product_recency_seq  metric_all_avg_precision@10  \\\n",
       "0                         [-0.60625505]                          1.0   \n",
       "1                          [-0.8575405]                          0.0   \n",
       "2                         [-0.61365515]                          0.0   \n",
       "3                           [-0.596494]                          1.0   \n",
       "4                          [-0.6356059]                          0.0   \n",
       "...                                 ...                          ...   \n",
       "12388                      [-0.6025502]                          1.0   \n",
       "12389                       [-0.603478]                          1.0   \n",
       "12390                     [-0.60158366]                          1.0   \n",
       "12391                      [-0.6067032]                          1.0   \n",
       "12392                      [-0.6081262]                          0.0   \n",
       "\n",
       "       metric_all_avg_precision@100  metric_all_avg_precision@1000  \\\n",
       "0                               1.0                       1.000000   \n",
       "1                               0.0                       0.000000   \n",
       "2                               0.0                       0.000000   \n",
       "3                               1.0                       1.000000   \n",
       "4                               0.0                       0.000000   \n",
       "...                             ...                            ...   \n",
       "12388                           1.0                       1.000000   \n",
       "12389                           1.0                       1.000000   \n",
       "12390                           1.0                       1.000000   \n",
       "12391                           1.0                       1.000000   \n",
       "12392                           0.0                       0.002513   \n",
       "\n",
       "       metric_all_avg_precision@5  ...  metric_all_ndcg@1000  \\\n",
       "0                             1.0  ...              1.000000   \n",
       "1                             0.0  ...              0.000000   \n",
       "2                             0.0  ...              0.000000   \n",
       "3                             1.0  ...              1.000000   \n",
       "4                             0.0  ...              0.000000   \n",
       "...                           ...  ...                   ...   \n",
       "12388                         1.0  ...              1.000000   \n",
       "12389                         1.0  ...              1.000000   \n",
       "12390                         1.0  ...              1.000000   \n",
       "12391                         1.0  ...              1.000000   \n",
       "12392                         0.0  ...              0.115737   \n",
       "\n",
       "       metric_all_ndcg@5  metric_all_precision@10  metric_all_precision@100  \\\n",
       "0                    1.0                      0.1                      0.01   \n",
       "1                    0.0                      0.0                      0.00   \n",
       "2                    0.0                      0.0                      0.00   \n",
       "3                    1.0                      0.1                      0.01   \n",
       "4                    0.0                      0.0                      0.00   \n",
       "...                  ...                      ...                       ...   \n",
       "12388                1.0                      0.1                      0.01   \n",
       "12389                1.0                      0.1                      0.01   \n",
       "12390                1.0                      0.1                      0.01   \n",
       "12391                1.0                      0.1                      0.01   \n",
       "12392                0.0                      0.0                      0.00   \n",
       "\n",
       "       metric_all_precision@1000  metric_all_precision@5  \\\n",
       "0                          0.001                     0.2   \n",
       "1                          0.000                     0.0   \n",
       "2                          0.000                     0.0   \n",
       "3                          0.001                     0.2   \n",
       "4                          0.000                     0.0   \n",
       "...                          ...                     ...   \n",
       "12388                      0.001                     0.2   \n",
       "12389                      0.001                     0.2   \n",
       "12390                      0.001                     0.2   \n",
       "12391                      0.001                     0.2   \n",
       "12392                      0.001                     0.0   \n",
       "\n",
       "       metric_all_recall@10  metric_all_recall@100  metric_all_recall@1000  \\\n",
       "0                       1.0                    1.0                     1.0   \n",
       "1                       0.0                    0.0                     0.0   \n",
       "2                       0.0                    0.0                     0.0   \n",
       "3                       1.0                    1.0                     1.0   \n",
       "4                       0.0                    0.0                     0.0   \n",
       "...                     ...                    ...                     ...   \n",
       "12388                   1.0                    1.0                     1.0   \n",
       "12389                   1.0                    1.0                     1.0   \n",
       "12390                   1.0                    1.0                     1.0   \n",
       "12391                   1.0                    1.0                     1.0   \n",
       "12392                   0.0                    0.0                     1.0   \n",
       "\n",
       "       metric_all_recall@5  \n",
       "0                      1.0  \n",
       "1                      0.0  \n",
       "2                      0.0  \n",
       "3                      1.0  \n",
       "4                      0.0  \n",
       "...                    ...  \n",
       "12388                  1.0  \n",
       "12389                  1.0  \n",
       "12390                  1.0  \n",
       "12391                  1.0  \n",
       "12392                  0.0  \n",
       "\n",
       "[12393 rows x 22 columns]"
      ]
     },
     "execution_count": 5,
     "metadata": {},
     "output_type": "execute_result"
    }
   ],
   "source": [
    "preds_df"
   ]
  },
  {
   "cell_type": "code",
   "execution_count": 6,
   "metadata": {},
   "outputs": [
    {
     "name": "stdout",
     "output_type": "stream",
     "text": [
      "metadata_sess_pid_seq\n",
      "metadata_seq_pos\n"
     ]
    }
   ],
   "source": [
    "COLS_TO_SQUEEZE = ['metadata_sess_pid_seq', 'metadata_seq_pos']\n",
    "\n",
    "for col in COLS_TO_SQUEEZE:\n",
    "    print (col)\n",
    "    preds_df[col] = preds_df[col].apply(lambda x: x[0])"
   ]
  },
  {
   "cell_type": "markdown",
   "metadata": {},
   "source": [
    "## Analyzing metrics"
   ]
  },
  {
   "cell_type": "code",
   "execution_count": 7,
   "metadata": {},
   "outputs": [],
   "source": [
    "metrics_Cols = ['metric_all_ndcg@1000', 'metric_all_avg_precision@1000', 'metric_all_recall@1000']"
   ]
  },
  {
   "cell_type": "code",
   "execution_count": 8,
   "metadata": {},
   "outputs": [
    {
     "data": {
      "text/plain": [
       "metric_all_ndcg@1000             0.657085\n",
       "metric_all_avg_precision@1000    0.607320\n",
       "metric_all_recall@1000           0.884612\n",
       "dtype: float64"
      ]
     },
     "execution_count": 8,
     "metadata": {},
     "output_type": "execute_result"
    }
   ],
   "source": [
    "preds_df[metrics_Cols].mean()"
   ]
  },
  {
   "cell_type": "code",
   "execution_count": 9,
   "metadata": {},
   "outputs": [
    {
     "data": {
      "text/plain": [
       "<matplotlib.axes._subplots.AxesSubplot at 0x7fe4e6d066d0>"
      ]
     },
     "execution_count": 9,
     "metadata": {},
     "output_type": "execute_result"
    },
    {
     "data": {
      "image/png": "[encoded data removed]",
      "text/plain": [
       "<Figure size 432x288 with 1 Axes>"
      ]
     },
     "metadata": {
      "needs_background": "light"
     },
     "output_type": "display_data"
    }
   ],
   "source": [
    "preds_df['metric_all_recall@1000'].hist()"
   ]
  },
  {
   "cell_type": "code",
   "execution_count": 10,
   "metadata": {},
   "outputs": [
    {
     "data": {
      "text/plain": [
       "<matplotlib.axes._subplots.AxesSubplot at 0x7fe4e6d752d0>"
      ]
     },
     "execution_count": 10,
     "metadata": {},
     "output_type": "execute_result"
    },
    {
     "data": {
      "image/png": "[encoded data removed]",
      "text/plain": [
       "<Figure size 432x288 with 1 Axes>"
      ]
     },
     "metadata": {
      "needs_background": "light"
     },
     "output_type": "display_data"
    }
   ],
   "source": [
    "preds_df['metric_all_ndcg@1000'].hist()"
   ]
  },
  {
   "cell_type": "code",
   "execution_count": 11,
   "metadata": {},
   "outputs": [
    {
     "data": {
      "text/plain": [
       "metric_all_ndcg@1000\n",
       "1.000000    6959\n",
       "0.000000    1430\n",
       "0.630930     581\n",
       "0.500000     241\n",
       "0.430677     190\n",
       "            ... \n",
       "0.110904       1\n",
       "0.126861       1\n",
       "0.110768       1\n",
       "0.110700       1\n",
       "0.119842       1\n",
       "Length: 592, dtype: int64"
      ]
     },
     "execution_count": 11,
     "metadata": {},
     "output_type": "execute_result"
    }
   ],
   "source": [
    "preds_df.groupby('metric_all_ndcg@1000').size().sort_values(ascending=False)"
   ]
  },
  {
   "cell_type": "code",
   "execution_count": 12,
   "metadata": {},
   "outputs": [
    {
     "data": {
      "text/plain": [
       "<matplotlib.axes._subplots.AxesSubplot at 0x7fe4e59a1e90>"
      ]
     },
     "execution_count": 12,
     "metadata": {},
     "output_type": "execute_result"
    },
    {
     "data": {
      "image/png": "[encoded data removed]",
      "text/plain": [
       "<Figure size 432x288 with 1 Axes>"
      ]
     },
     "metadata": {
      "needs_background": "light"
     },
     "output_type": "display_data"
    }
   ],
   "source": [
    "preds_df['metric_all_avg_precision@1000'].hist()"
   ]
  },
  {
   "cell_type": "markdown",
   "metadata": {},
   "source": [
    "## Computing categ features popularity"
   ]
  },
  {
   "cell_type": "code",
   "execution_count": 13,
   "metadata": {},
   "outputs": [
    {
     "name": "stdout",
     "output_type": "stream",
     "text": [
      "metadata_sess_pid_seq\n",
      "metadata_seq_pos\n"
     ]
    }
   ],
   "source": [
    "days = []\n",
    "for day in range(2,15):\n",
    "    days.append(pd.read_parquet(os.path.join(BASE_PATH, 'preds_date_2019-10-{:02}.parquet'.format(day))))\n",
    "    \n",
    "preds_full_df = pd.concat(days)\n",
    "\n",
    "for col in COLS_TO_SQUEEZE:\n",
    "    print (col)\n",
    "    preds_full_df[col] = preds_full_df[col].apply(lambda x: x[0])"
   ]
  },
  {
   "cell_type": "code",
   "execution_count": 14,
   "metadata": {},
   "outputs": [
    {
     "data": {
      "text/html": [
       "<div>\n",
       "<style scoped>\n",
       "    .dataframe tbody tr th:only-of-type {\n",
       "        vertical-align: middle;\n",
       "    }\n",
       "\n",
       "    .dataframe tbody tr th {\n",
       "        vertical-align: top;\n",
       "    }\n",
       "\n",
       "    .dataframe thead th {\n",
       "        text-align: right;\n",
       "    }\n",
       "</style>\n",
       "<table border=\"1\" class=\"dataframe\">\n",
       "  <thead>\n",
       "    <tr style=\"text-align: right;\">\n",
       "      <th></th>\n",
       "      <th>metadata_sess_pid_seq</th>\n",
       "      <th>pid_count</th>\n",
       "    </tr>\n",
       "  </thead>\n",
       "  <tbody>\n",
       "    <tr>\n",
       "      <th>0</th>\n",
       "      <td>2</td>\n",
       "      <td>631</td>\n",
       "    </tr>\n",
       "    <tr>\n",
       "      <th>1</th>\n",
       "      <td>3</td>\n",
       "      <td>737</td>\n",
       "    </tr>\n",
       "    <tr>\n",
       "      <th>2</th>\n",
       "      <td>4</td>\n",
       "      <td>658</td>\n",
       "    </tr>\n",
       "    <tr>\n",
       "      <th>3</th>\n",
       "      <td>5</td>\n",
       "      <td>286</td>\n",
       "    </tr>\n",
       "    <tr>\n",
       "      <th>4</th>\n",
       "      <td>6</td>\n",
       "      <td>404</td>\n",
       "    </tr>\n",
       "    <tr>\n",
       "      <th>...</th>\n",
       "      <td>...</td>\n",
       "      <td>...</td>\n",
       "    </tr>\n",
       "    <tr>\n",
       "      <th>36998</th>\n",
       "      <td>203157</td>\n",
       "      <td>1</td>\n",
       "    </tr>\n",
       "    <tr>\n",
       "      <th>36999</th>\n",
       "      <td>203331</td>\n",
       "      <td>1</td>\n",
       "    </tr>\n",
       "    <tr>\n",
       "      <th>37000</th>\n",
       "      <td>203333</td>\n",
       "      <td>1</td>\n",
       "    </tr>\n",
       "    <tr>\n",
       "      <th>37001</th>\n",
       "      <td>203899</td>\n",
       "      <td>1</td>\n",
       "    </tr>\n",
       "    <tr>\n",
       "      <th>37002</th>\n",
       "      <td>204998</td>\n",
       "      <td>1</td>\n",
       "    </tr>\n",
       "  </tbody>\n",
       "</table>\n",
       "<p>37003 rows × 2 columns</p>\n",
       "</div>"
      ],
      "text/plain": [
       "       metadata_sess_pid_seq  pid_count\n",
       "0                          2        631\n",
       "1                          3        737\n",
       "2                          4        658\n",
       "3                          5        286\n",
       "4                          6        404\n",
       "...                      ...        ...\n",
       "36998                 203157          1\n",
       "36999                 203331          1\n",
       "37000                 203333          1\n",
       "37001                 203899          1\n",
       "37002                 204998          1\n",
       "\n",
       "[37003 rows x 2 columns]"
      ]
     },
     "execution_count": 14,
     "metadata": {},
     "output_type": "execute_result"
    }
   ],
   "source": [
    "pid_pop_df = preds_full_df.groupby('metadata_sess_pid_seq').size().to_frame('pid_count').reset_index()\n",
    "pid_pop_df"
   ]
  },
  {
   "cell_type": "markdown",
   "metadata": {},
   "source": [
    "## Computing stats on models accuracy"
   ]
  },
  {
   "cell_type": "code",
   "execution_count": 15,
   "metadata": {},
   "outputs": [],
   "source": [
    "preds_df = preds_df.merge(pid_pop_df, how='left')"
   ]
  },
  {
   "cell_type": "code",
   "execution_count": 16,
   "metadata": {},
   "outputs": [
    {
     "data": {
      "text/html": [
       "<div>\n",
       "<style scoped>\n",
       "    .dataframe tbody tr th:only-of-type {\n",
       "        vertical-align: middle;\n",
       "    }\n",
       "\n",
       "    .dataframe tbody tr th {\n",
       "        vertical-align: top;\n",
       "    }\n",
       "\n",
       "    .dataframe thead th {\n",
       "        text-align: right;\n",
       "    }\n",
       "</style>\n",
       "<table border=\"1\" class=\"dataframe\">\n",
       "  <thead>\n",
       "    <tr style=\"text-align: right;\">\n",
       "      <th></th>\n",
       "      <th>metadata_seq_pos</th>\n",
       "      <th>metadata_sess_bid_seq</th>\n",
       "      <th>metadata_sess_ccid_seq</th>\n",
       "      <th>metadata_sess_csid_seq</th>\n",
       "      <th>metadata_sess_pid_seq</th>\n",
       "      <th>metadata_sess_product_recency_seq</th>\n",
       "      <th>metric_all_avg_precision@10</th>\n",
       "      <th>metric_all_avg_precision@100</th>\n",
       "      <th>metric_all_avg_precision@1000</th>\n",
       "      <th>metric_all_avg_precision@5</th>\n",
       "      <th>...</th>\n",
       "      <th>metric_all_ndcg@5</th>\n",
       "      <th>metric_all_precision@10</th>\n",
       "      <th>metric_all_precision@100</th>\n",
       "      <th>metric_all_precision@1000</th>\n",
       "      <th>metric_all_precision@5</th>\n",
       "      <th>metric_all_recall@10</th>\n",
       "      <th>metric_all_recall@100</th>\n",
       "      <th>metric_all_recall@1000</th>\n",
       "      <th>metric_all_recall@5</th>\n",
       "      <th>pid_count</th>\n",
       "    </tr>\n",
       "  </thead>\n",
       "  <tbody>\n",
       "    <tr>\n",
       "      <th>0</th>\n",
       "      <td>2</td>\n",
       "      <td>[20]</td>\n",
       "      <td>[131]</td>\n",
       "      <td>[15]</td>\n",
       "      <td>8499</td>\n",
       "      <td>[-0.60625505]</td>\n",
       "      <td>1.0</td>\n",
       "      <td>1.0</td>\n",
       "      <td>1.0</td>\n",
       "      <td>1.0</td>\n",
       "      <td>...</td>\n",
       "      <td>1.0</td>\n",
       "      <td>0.1</td>\n",
       "      <td>0.01</td>\n",
       "      <td>0.001</td>\n",
       "      <td>0.2</td>\n",
       "      <td>1.0</td>\n",
       "      <td>1.0</td>\n",
       "      <td>1.0</td>\n",
       "      <td>1.0</td>\n",
       "      <td>2.0</td>\n",
       "    </tr>\n",
       "    <tr>\n",
       "      <th>1</th>\n",
       "      <td>3</td>\n",
       "      <td>[4305]</td>\n",
       "      <td>[131]</td>\n",
       "      <td>[15]</td>\n",
       "      <td>44928</td>\n",
       "      <td>[-0.8575405]</td>\n",
       "      <td>0.0</td>\n",
       "      <td>0.0</td>\n",
       "      <td>0.0</td>\n",
       "      <td>0.0</td>\n",
       "      <td>...</td>\n",
       "      <td>0.0</td>\n",
       "      <td>0.0</td>\n",
       "      <td>0.00</td>\n",
       "      <td>0.000</td>\n",
       "      <td>0.0</td>\n",
       "      <td>0.0</td>\n",
       "      <td>0.0</td>\n",
       "      <td>0.0</td>\n",
       "      <td>0.0</td>\n",
       "      <td>NaN</td>\n",
       "    </tr>\n",
       "    <tr>\n",
       "      <th>2</th>\n",
       "      <td>4</td>\n",
       "      <td>[65]</td>\n",
       "      <td>[131]</td>\n",
       "      <td>[15]</td>\n",
       "      <td>21205</td>\n",
       "      <td>[-0.61365515]</td>\n",
       "      <td>0.0</td>\n",
       "      <td>0.0</td>\n",
       "      <td>0.0</td>\n",
       "      <td>0.0</td>\n",
       "      <td>...</td>\n",
       "      <td>0.0</td>\n",
       "      <td>0.0</td>\n",
       "      <td>0.00</td>\n",
       "      <td>0.000</td>\n",
       "      <td>0.0</td>\n",
       "      <td>0.0</td>\n",
       "      <td>0.0</td>\n",
       "      <td>0.0</td>\n",
       "      <td>0.0</td>\n",
       "      <td>NaN</td>\n",
       "    </tr>\n",
       "    <tr>\n",
       "      <th>3</th>\n",
       "      <td>2</td>\n",
       "      <td>[36]</td>\n",
       "      <td>[7]</td>\n",
       "      <td>[18]</td>\n",
       "      <td>1905</td>\n",
       "      <td>[-0.596494]</td>\n",
       "      <td>1.0</td>\n",
       "      <td>1.0</td>\n",
       "      <td>1.0</td>\n",
       "      <td>1.0</td>\n",
       "      <td>...</td>\n",
       "      <td>1.0</td>\n",
       "      <td>0.1</td>\n",
       "      <td>0.01</td>\n",
       "      <td>0.001</td>\n",
       "      <td>0.2</td>\n",
       "      <td>1.0</td>\n",
       "      <td>1.0</td>\n",
       "      <td>1.0</td>\n",
       "      <td>1.0</td>\n",
       "      <td>16.0</td>\n",
       "    </tr>\n",
       "    <tr>\n",
       "      <th>4</th>\n",
       "      <td>3</td>\n",
       "      <td>[541]</td>\n",
       "      <td>[131]</td>\n",
       "      <td>[152]</td>\n",
       "      <td>43672</td>\n",
       "      <td>[-0.6356059]</td>\n",
       "      <td>0.0</td>\n",
       "      <td>0.0</td>\n",
       "      <td>0.0</td>\n",
       "      <td>0.0</td>\n",
       "      <td>...</td>\n",
       "      <td>0.0</td>\n",
       "      <td>0.0</td>\n",
       "      <td>0.00</td>\n",
       "      <td>0.000</td>\n",
       "      <td>0.0</td>\n",
       "      <td>0.0</td>\n",
       "      <td>0.0</td>\n",
       "      <td>0.0</td>\n",
       "      <td>0.0</td>\n",
       "      <td>NaN</td>\n",
       "    </tr>\n",
       "  </tbody>\n",
       "</table>\n",
       "<p>5 rows × 23 columns</p>\n",
       "</div>"
      ],
      "text/plain": [
       "   metadata_seq_pos metadata_sess_bid_seq metadata_sess_ccid_seq  \\\n",
       "0                 2                  [20]                  [131]   \n",
       "1                 3                [4305]                  [131]   \n",
       "2                 4                  [65]                  [131]   \n",
       "3                 2                  [36]                    [7]   \n",
       "4                 3                 [541]                  [131]   \n",
       "\n",
       "  metadata_sess_csid_seq  metadata_sess_pid_seq  \\\n",
       "0                   [15]                   8499   \n",
       "1                   [15]                  44928   \n",
       "2                   [15]                  21205   \n",
       "3                   [18]                   1905   \n",
       "4                  [152]                  43672   \n",
       "\n",
       "  metadata_sess_product_recency_seq  metric_all_avg_precision@10  \\\n",
       "0                     [-0.60625505]                          1.0   \n",
       "1                      [-0.8575405]                          0.0   \n",
       "2                     [-0.61365515]                          0.0   \n",
       "3                       [-0.596494]                          1.0   \n",
       "4                      [-0.6356059]                          0.0   \n",
       "\n",
       "   metric_all_avg_precision@100  metric_all_avg_precision@1000  \\\n",
       "0                           1.0                            1.0   \n",
       "1                           0.0                            0.0   \n",
       "2                           0.0                            0.0   \n",
       "3                           1.0                            1.0   \n",
       "4                           0.0                            0.0   \n",
       "\n",
       "   metric_all_avg_precision@5  ...  metric_all_ndcg@5  \\\n",
       "0                         1.0  ...                1.0   \n",
       "1                         0.0  ...                0.0   \n",
       "2                         0.0  ...                0.0   \n",
       "3                         1.0  ...                1.0   \n",
       "4                         0.0  ...                0.0   \n",
       "\n",
       "   metric_all_precision@10  metric_all_precision@100  \\\n",
       "0                      0.1                      0.01   \n",
       "1                      0.0                      0.00   \n",
       "2                      0.0                      0.00   \n",
       "3                      0.1                      0.01   \n",
       "4                      0.0                      0.00   \n",
       "\n",
       "   metric_all_precision@1000  metric_all_precision@5  metric_all_recall@10  \\\n",
       "0                      0.001                     0.2                   1.0   \n",
       "1                      0.000                     0.0                   0.0   \n",
       "2                      0.000                     0.0                   0.0   \n",
       "3                      0.001                     0.2                   1.0   \n",
       "4                      0.000                     0.0                   0.0   \n",
       "\n",
       "   metric_all_recall@100  metric_all_recall@1000  metric_all_recall@5  \\\n",
       "0                    1.0                     1.0                  1.0   \n",
       "1                    0.0                     0.0                  0.0   \n",
       "2                    0.0                     0.0                  0.0   \n",
       "3                    1.0                     1.0                  1.0   \n",
       "4                    0.0                     0.0                  0.0   \n",
       "\n",
       "   pid_count  \n",
       "0        2.0  \n",
       "1        NaN  \n",
       "2        NaN  \n",
       "3       16.0  \n",
       "4        NaN  \n",
       "\n",
       "[5 rows x 23 columns]"
      ]
     },
     "execution_count": 16,
     "metadata": {},
     "output_type": "execute_result"
    }
   ],
   "source": [
    "preds_df.head(5)"
   ]
  },
  {
   "cell_type": "markdown",
   "metadata": {},
   "source": [
    "### Analyzing correlation between accuracy and label metadata stats"
   ]
  },
  {
   "cell_type": "code",
   "execution_count": null,
   "metadata": {},
   "outputs": [],
   "source": []
  },
  {
   "cell_type": "code",
   "execution_count": 30,
   "metadata": {},
   "outputs": [
    {
     "data": {
      "text/plain": [
       "<matplotlib.axes._subplots.AxesSubplot at 0x7fe4ce592d90>"
      ]
     },
     "execution_count": 30,
     "metadata": {},
     "output_type": "execute_result"
    },
    {
     "data": {
      "image/png": "[encoded data removed]",
      "text/plain": [
       "<Figure size 432x288 with 1 Axes>"
      ]
     },
     "metadata": {
      "needs_background": "light"
     },
     "output_type": "display_data"
    }
   ],
   "source": [
    "preds_df.groupby('metadata_seq_pos')['metric_all_ndcg@1000'].agg(['mean', 'median']).plot.bar()"
   ]
  },
  {
   "cell_type": "code",
   "execution_count": 17,
   "metadata": {},
   "outputs": [],
   "source": [
    "preds_df['ndcg@1000_bin'] = pd.cut(preds_df['metric_all_ndcg@1000'], 4)"
   ]
  },
  {
   "cell_type": "code",
   "execution_count": 18,
   "metadata": {},
   "outputs": [
    {
     "data": {
      "text/plain": [
       "ndcg@1000_bin\n",
       "(-0.001, 0.25]    3616\n",
       "(0.25, 0.5]       1237\n",
       "(0.5, 0.75]        581\n",
       "(0.75, 1.0]       6959\n",
       "dtype: int64"
      ]
     },
     "execution_count": 18,
     "metadata": {},
     "output_type": "execute_result"
    }
   ],
   "source": [
    "preds_df.groupby('ndcg@1000_bin').size()"
   ]
  },
  {
   "cell_type": "code",
   "execution_count": 19,
   "metadata": {},
   "outputs": [
    {
     "data": {
      "text/html": [
       "<div>\n",
       "<style scoped>\n",
       "    .dataframe tbody tr th:only-of-type {\n",
       "        vertical-align: middle;\n",
       "    }\n",
       "\n",
       "    .dataframe tbody tr th {\n",
       "        vertical-align: top;\n",
       "    }\n",
       "\n",
       "    .dataframe thead tr th {\n",
       "        text-align: left;\n",
       "    }\n",
       "\n",
       "    .dataframe thead tr:last-of-type th {\n",
       "        text-align: right;\n",
       "    }\n",
       "</style>\n",
       "<table border=\"1\" class=\"dataframe\">\n",
       "  <thead>\n",
       "    <tr>\n",
       "      <th></th>\n",
       "      <th colspan=\"2\" halign=\"left\">metadata_seq_pos</th>\n",
       "      <th colspan=\"2\" halign=\"left\">pid_count</th>\n",
       "    </tr>\n",
       "    <tr>\n",
       "      <th></th>\n",
       "      <th>mean</th>\n",
       "      <th>median</th>\n",
       "      <th>mean</th>\n",
       "      <th>median</th>\n",
       "    </tr>\n",
       "    <tr>\n",
       "      <th>ndcg@1000_bin</th>\n",
       "      <th></th>\n",
       "      <th></th>\n",
       "      <th></th>\n",
       "      <th></th>\n",
       "    </tr>\n",
       "  </thead>\n",
       "  <tbody>\n",
       "    <tr>\n",
       "      <th>(-0.001, 0.25]</th>\n",
       "      <td>5.760509</td>\n",
       "      <td>4</td>\n",
       "      <td>47.401112</td>\n",
       "      <td>8.0</td>\n",
       "    </tr>\n",
       "    <tr>\n",
       "      <th>(0.25, 0.5]</th>\n",
       "      <td>6.198868</td>\n",
       "      <td>5</td>\n",
       "      <td>89.721038</td>\n",
       "      <td>16.0</td>\n",
       "    </tr>\n",
       "    <tr>\n",
       "      <th>(0.5, 0.75]</th>\n",
       "      <td>6.903614</td>\n",
       "      <td>6</td>\n",
       "      <td>55.011650</td>\n",
       "      <td>8.0</td>\n",
       "    </tr>\n",
       "    <tr>\n",
       "      <th>(0.75, 1.0]</th>\n",
       "      <td>4.581405</td>\n",
       "      <td>3</td>\n",
       "      <td>79.191275</td>\n",
       "      <td>18.0</td>\n",
       "    </tr>\n",
       "  </tbody>\n",
       "</table>\n",
       "</div>"
      ],
      "text/plain": [
       "               metadata_seq_pos         pid_count       \n",
       "                           mean median       mean median\n",
       "ndcg@1000_bin                                           \n",
       "(-0.001, 0.25]         5.760509      4  47.401112    8.0\n",
       "(0.25, 0.5]            6.198868      5  89.721038   16.0\n",
       "(0.5, 0.75]            6.903614      6  55.011650    8.0\n",
       "(0.75, 1.0]            4.581405      3  79.191275   18.0"
      ]
     },
     "execution_count": 19,
     "metadata": {},
     "output_type": "execute_result"
    }
   ],
   "source": [
    "preds_df.groupby('ndcg@1000_bin')[['metadata_seq_pos',\n",
    "                                   'pid_count']].agg(['mean', 'median'])"
   ]
  },
  {
   "cell_type": "code",
   "execution_count": 20,
   "metadata": {},
   "outputs": [
    {
     "data": {
      "text/plain": [
       "metric_all_ndcg@1000    1.000000\n",
       "metadata_seq_pos       -0.133246\n",
       "pid_count               0.176953\n",
       "Name: metric_all_ndcg@1000, dtype: float64"
      ]
     },
     "execution_count": 20,
     "metadata": {},
     "output_type": "execute_result"
    }
   ],
   "source": [
    "preds_df[['metric_all_ndcg@1000', 'metadata_seq_pos', 'pid_count']] \\\n",
    "     .corr(method='spearman')['metric_all_ndcg@1000']"
   ]
  },
  {
   "cell_type": "code",
   "execution_count": 21,
   "metadata": {},
   "outputs": [
    {
     "data": {
      "image/png": "[encoded data removed]",
      "text/plain": [
       "<Figure size 432x288 with 1 Axes>"
      ]
     },
     "metadata": {
      "needs_background": "light"
     },
     "output_type": "display_data"
    }
   ],
   "source": [
    "ax = sns.violinplot(x='metadata_seq_pos', y='ndcg@1000_bin', data=preds_df)"
   ]
  },
  {
   "cell_type": "code",
   "execution_count": 22,
   "metadata": {},
   "outputs": [
    {
     "data": {
      "image/png": "[encoded data removed]",
      "text/plain": [
       "<Figure size 432x288 with 1 Axes>"
      ]
     },
     "metadata": {
      "needs_background": "light"
     },
     "output_type": "display_data"
    }
   ],
   "source": [
    "ax = sns.violinplot(x='pid_count', y='ndcg@1000_bin', data=preds_df)"
   ]
  },
  {
   "cell_type": "code",
   "execution_count": 23,
   "metadata": {},
   "outputs": [
    {
     "data": {
      "text/plain": [
       "<matplotlib.axes._subplots.AxesSubplot at 0x7fe4ce68dc10>"
      ]
     },
     "execution_count": 23,
     "metadata": {},
     "output_type": "execute_result"
    },
    {
     "data": {
      "image/png": "[encoded data removed]",
      "text/plain": [
       "<Figure size 432x288 with 1 Axes>"
      ]
     },
     "metadata": {
      "needs_background": "light"
     },
     "output_type": "display_data"
    }
   ],
   "source": [
    "preds_df.plot.scatter(y='pid_count', x='metric_all_ndcg@1000')"
   ]
  },
  {
   "cell_type": "code",
   "execution_count": 24,
   "metadata": {},
   "outputs": [
    {
     "data": {
      "text/plain": [
       "<matplotlib.axes._subplots.AxesSubplot at 0x7fe4e594ea50>"
      ]
     },
     "execution_count": 24,
     "metadata": {},
     "output_type": "execute_result"
    },
    {
     "data": {
      "image/png": "[encoded data removed]",
      "text/plain": [
       "<Figure size 432x288 with 1 Axes>"
      ]
     },
     "metadata": {
      "needs_background": "light"
     },
     "output_type": "display_data"
    }
   ],
   "source": [
    "preds_df.plot.scatter(y='metadata_seq_pos', x='metric_all_ndcg@1000')"
   ]
  },
  {
   "cell_type": "code",
   "execution_count": null,
   "metadata": {},
   "outputs": [],
   "source": []
  },
  {
   "cell_type": "code",
   "execution_count": null,
   "metadata": {},
   "outputs": [],
   "source": []
  },
  {
   "cell_type": "code",
   "execution_count": null,
   "metadata": {},
   "outputs": [],
   "source": []
  },
  {
   "cell_type": "code",
   "execution_count": null,
   "metadata": {},
   "outputs": [],
   "source": []
  }
 ],
 "metadata": {
  "kernelspec": {
   "display_name": "Python 3",
   "language": "python",
   "name": "python3"
  },
  "language_info": {
   "codemirror_mode": {
    "name": "ipython",
    "version": 3
   },
   "file_extension": ".py",
   "mimetype": "text/x-python",
   "name": "python",
   "nbconvert_exporter": "python",
   "pygments_lexer": "ipython3",
   "version": "3.7.6"
  }
 },
 "nbformat": 4,
 "nbformat_minor": 4
}
