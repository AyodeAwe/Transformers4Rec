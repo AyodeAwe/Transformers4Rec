{
 "cells": [
  {
   "cell_type": "markdown",
   "metadata": {},
   "source": [
    "# Read, Parse, Process E-Commerce data on PySpark\n",
    "eCommerce dataset: https://www.kaggle.com/mkechinov/ecommerce-behavior-data-from-multi-category"
   ]
  },
  {
   "cell_type": "code",
   "execution_count": 1,
   "metadata": {},
   "outputs": [],
   "source": [
    "import numpy as np # linear algebra\n",
    "import pandas as pd # data processing, CSV file I/O (e.g. pd.read_csv)\n",
    "import os"
   ]
  },
  {
   "cell_type": "markdown",
   "metadata": {},
   "source": [
    "## Data Download from Kaggle"
   ]
  },
  {
   "cell_type": "code",
   "execution_count": 3,
   "metadata": {},
   "outputs": [
    {
     "name": "stdout",
     "output_type": "stream",
     "text": [
      "Collecting kaggle\n",
      "  Downloading kaggle-1.5.6.tar.gz (58 kB)\n",
      "\u001b[K     |████████████████████████████████| 58 kB 2.0 MB/s eta 0:00:011\n",
      "\u001b[?25hCollecting urllib3<1.25,>=1.21.1\n",
      "  Downloading urllib3-1.24.3-py2.py3-none-any.whl (118 kB)\n",
      "\u001b[K     |████████████████████████████████| 118 kB 11.3 MB/s eta 0:00:01\n",
      "\u001b[?25hRequirement already satisfied, skipping upgrade: six>=1.10 in /opt/conda/lib/python3.7/site-packages (from kaggle) (1.14.0)\n",
      "Requirement already satisfied, skipping upgrade: certifi in /opt/conda/lib/python3.7/site-packages (from kaggle) (2020.4.5.1)\n",
      "Requirement already satisfied, skipping upgrade: python-dateutil in /opt/conda/lib/python3.7/site-packages (from kaggle) (2.8.1)\n",
      "Requirement already satisfied, skipping upgrade: requests in /opt/conda/lib/python3.7/site-packages (from kaggle) (2.23.0)\n",
      "Requirement already satisfied, skipping upgrade: tqdm in /opt/conda/lib/python3.7/site-packages (from kaggle) (4.45.0)\n",
      "Collecting python-slugify\n",
      "  Downloading python-slugify-4.0.0.tar.gz (8.8 kB)\n",
      "Requirement already satisfied, skipping upgrade: idna<3,>=2.5 in /opt/conda/lib/python3.7/site-packages (from requests->kaggle) (2.9)\n",
      "Requirement already satisfied, skipping upgrade: chardet<4,>=3.0.2 in /opt/conda/lib/python3.7/site-packages (from requests->kaggle) (3.0.4)\n",
      "Collecting text-unidecode>=1.3\n",
      "  Downloading text_unidecode-1.3-py2.py3-none-any.whl (78 kB)\n",
      "\u001b[K     |████████████████████████████████| 78 kB 12.1 MB/s eta 0:00:01\n",
      "\u001b[?25hBuilding wheels for collected packages: kaggle, python-slugify\n",
      "  Building wheel for kaggle (setup.py) ... \u001b[?25ldone\n",
      "\u001b[?25h  Created wheel for kaggle: filename=kaggle-1.5.6-py3-none-any.whl size=72859 sha256=f6df588ba0dce2fdaa560c7260b6f24d4c3d19dddd40a82c5f8e59d4fb7e44e1\n",
      "  Stored in directory: /home/jovyan/.cache/pip/wheels/aa/e7/e7/eb3c3d514c33294d77ddd5a856bdd58dc9c1fabbed59a02a2b\n",
      "  Building wheel for python-slugify (setup.py) ... \u001b[?25ldone\n",
      "\u001b[?25h  Created wheel for python-slugify: filename=python_slugify-4.0.0-py2.py3-none-any.whl size=5486 sha256=ccd5fc462f4c2e3aff0d34f878d667cdf53acd018d64939570e8ce3c1ede5e4e\n",
      "  Stored in directory: /home/jovyan/.cache/pip/wheels/7c/26/30/5f3d95da00fe94d0c4a5ec5b4ffd2e1ae18545f5fa61752e52\n",
      "Successfully built kaggle python-slugify\n",
      "Installing collected packages: urllib3, text-unidecode, python-slugify, kaggle\n",
      "  Attempting uninstall: urllib3\n",
      "    Found existing installation: urllib3 1.25.9\n",
      "    Uninstalling urllib3-1.25.9:\n",
      "      Successfully uninstalled urllib3-1.25.9\n",
      "Successfully installed kaggle-1.5.6 python-slugify-4.0.0 text-unidecode-1.3 urllib3-1.24.3\n"
     ]
    }
   ],
   "source": [
    "# ! pip install kaggle --upgrade"
   ]
  },
  {
   "cell_type": "code",
   "execution_count": 17,
   "metadata": {},
   "outputs": [],
   "source": [
    "# NOTE: first to get kaggle api tiken from account page in Kaggle. Place it at ~/.kaggle/kaggle.json\n",
    "# mkdir ~/.kaggle/\n",
    "# nano ~/.kaggle/kaggle.json\n",
    "# chmod 600 ~/.kaggle/kaggle.json\n",
    "# kaggle datasets download mkechinov/ecommerce-behavior-data-from-multi-category-store\n",
    "# unzip ecommerce-behavior-data-from-multi-category-store.zip"
   ]
  },
  {
   "cell_type": "markdown",
   "metadata": {},
   "source": [
    "## Setup Spark"
   ]
  },
  {
   "cell_type": "code",
   "execution_count": 2,
   "metadata": {},
   "outputs": [],
   "source": [
    "import pyspark\n",
    "import pyspark.sql.functions as F\n",
    "from pyspark.sql.functions import udf\n",
    "from pyspark.ml.evaluation import BinaryClassificationEvaluator\n",
    "from pyspark.sql.types import *\n",
    "from pyspark.ml.recommendation import ALS\n",
    "from pyspark.sql import Window\n",
    "from pyspark.ml.linalg import Vectors, Vector, DenseVector, SparseVector, VectorUDT\n",
    "from pyspark.ml.stat import Summarizer"
   ]
  },
  {
   "cell_type": "code",
   "execution_count": 3,
   "metadata": {},
   "outputs": [],
   "source": [
    "from pyspark.sql import SparkSession\n",
    "\n",
    "# Setup for 400GB Mem machine\n",
    "config = pyspark.SparkConf().setAll([('spark.executor.memory', '350g'),\n",
    "                                     ('spark.executor.instances', '1'),\n",
    "                                     ('spark.cores.max', '64'),\n",
    "                                     #('spark.cores.max', '3'),\n",
    "                                     ('spark.executor.cores', '64'),\n",
    "                                     ('spark.driver.memory','30g')\n",
    "                                    ])\n",
    "spark = SparkSession.builder.config(conf=config).appName(\"JobName\").getOrCreate()\n",
    "\n",
    "# Setup for 200GB Mem machine\n",
    "# config = pyspark.SparkConf().setAll([('spark.executor.cores', '4'),\n",
    "#                                      ('spark.executor.instances', '2'),\n",
    "#                                      ('spark.executor.memory', '12g'), \n",
    "#                                      ('spark.executor.memoryOverhead', '2g'), \n",
    "#                                      #('spark.driver.cores', '4'),\n",
    "#                                      #('spark.driver.memory', '12g'),\n",
    "#                                      ('spark.dynamicAllocation.enabled', 'false'),\n",
    "#                                      ('spark.io.compression.codec', 'snappy')\n",
    "#                                     ])\n",
    "\n",
    "# spark = SparkSession.builder.config(conf=config).appName(\"Recsys-Transformer-Research\").getOrCreate()"
   ]
  },
  {
   "cell_type": "markdown",
   "metadata": {},
   "source": [
    "## Read Data"
   ]
  },
  {
   "cell_type": "markdown",
   "metadata": {},
   "source": [
    "#### Load 4 months dataset"
   ]
  },
  {
   "cell_type": "code",
   "execution_count": 4,
   "metadata": {},
   "outputs": [],
   "source": [
    "DATA_PATH = '/home/jovyan/ecommerce_raw'"
   ]
  },
  {
   "cell_type": "code",
   "execution_count": 5,
   "metadata": {},
   "outputs": [],
   "source": [
    "data_csv_01 = os.path.join(DATA_PATH, \"2019-Oct.csv\")\n",
    "data_csv_02 = os.path.join(DATA_PATH, \"2019-Nov.csv\")\n",
    "# data_csv_03 = \"/workspace/ecommerce-behavior-data-from-multi-category-store/2019-Dec.csv\"\n",
    "# data_csv_04 = \"/workspace/ecommerce-behavior-data-from-multi-category-store/2020-Jan.csv\"\n",
    "\n",
    "data_list = [data_csv_01, data_csv_02]\n",
    "#data_list = [data_csv_01]"
   ]
  },
  {
   "cell_type": "markdown",
   "metadata": {},
   "source": [
    "#### Read through Spark from CSV"
   ]
  },
  {
   "cell_type": "code",
   "execution_count": 6,
   "metadata": {},
   "outputs": [
    {
     "name": "stdout",
     "output_type": "stream",
     "text": [
      "root\n",
      " |-- event_time: string (nullable = true)\n",
      " |-- event_type: string (nullable = true)\n",
      " |-- product_id: integer (nullable = true)\n",
      " |-- category_id: long (nullable = true)\n",
      " |-- category_code: string (nullable = true)\n",
      " |-- brand: string (nullable = true)\n",
      " |-- price: double (nullable = true)\n",
      " |-- user_id: integer (nullable = true)\n",
      " |-- user_session: string (nullable = true)\n",
      "\n"
     ]
    }
   ],
   "source": [
    "_df_sb = spark.read.csv(data_list, inferSchema = True, header = True) #.limit(1000)\n",
    "_df_sb.printSchema()"
   ]
  },
  {
   "cell_type": "markdown",
   "metadata": {},
   "source": [
    "#### Convert timestamp as the type of datetime"
   ]
  },
  {
   "cell_type": "code",
   "execution_count": 7,
   "metadata": {},
   "outputs": [],
   "source": [
    "_df_sb_a = _df_sb.withColumn('event_time_dt', F.to_timestamp('event_time','yyyy-MM-dd HH:mm:ss')) \\\n",
    "                 .withColumn('event_time_ts', F.unix_timestamp('event_time_dt')) \\\n",
    "                 .withColumn('et_hour', F.hour('event_time_dt'))\\\n",
    "                 .withColumn('et_dayofweek', F.dayofweek('event_time_dt'))\\\n",
    "                 .withColumn('et_dayofmonth', F.dayofmonth('event_time_dt'))\\\n",
    "                 .withColumn('et_month', F.month('event_time_dt'))                "
   ]
  },
  {
   "cell_type": "code",
   "execution_count": 8,
   "metadata": {},
   "outputs": [],
   "source": [
    "def cyclical_feature(value, func, max_value):\n",
    "    if func == 'sin':\n",
    "        f = np.sin\n",
    "    elif func == 'cos':\n",
    "        f = np.cos\n",
    "    else:\n",
    "        raise Exception('Invalid func (expected: sin|cos)')\n",
    "        \n",
    "    value_scaled = (value + 1e-8) / max_value\n",
    "    return float(f(2.*np.pi*value_scaled))\n",
    "\n",
    "@udf(returnType=FloatType())\n",
    "def cyclical_feature_udf(value, func, max_value):\n",
    "    return cyclical_feature(value, func, max_value)"
   ]
  },
  {
   "cell_type": "code",
   "execution_count": 9,
   "metadata": {},
   "outputs": [],
   "source": [
    "# Generating cyclical features to model continuity on temporal features\n",
    "_df_sb_a = _df_sb_a.withColumn('et_hour_sin', cyclical_feature_udf(F.col('et_hour'), F.lit('sin'), F.lit(24))) \\\n",
    "                   .withColumn('et_hour_cos', cyclical_feature_udf(F.col('et_hour'), F.lit('cos'), F.lit(24))) \\\n",
    "                   .withColumn('et_dayofweek_sin', cyclical_feature_udf(F.col('et_dayofweek'), F.lit('sin'), F.lit(7))) \\\n",
    "                   .withColumn('et_dayofweek_cos', cyclical_feature_udf(F.col('et_dayofweek'), F.lit('cos'), F.lit(7))) \\\n",
    "                   .withColumn('et_dayofmonth_sin', cyclical_feature_udf(F.col('et_dayofmonth'), F.lit('sin'), F.lit(31))) \\\n",
    "                   .withColumn('et_dayofmonth_cos', cyclical_feature_udf(F.col('et_dayofmonth'), F.lit('cos'), F.lit(31))) \\\n",
    "                   .withColumn('et_month_sin', cyclical_feature_udf(F.col('et_month'), F.lit('sin'), F.lit(12))) \\\n",
    "                   .withColumn('et_month_cos', cyclical_feature_udf(F.col('et_month'), F.lit('cos'), F.lit(12)))"
   ]
  },
  {
   "cell_type": "code",
   "execution_count": 150,
   "metadata": {},
   "outputs": [],
   "source": [
    "'''\n",
    "l = []\n",
    "for i in range(24):\n",
    "    s = cyclical_feature(i, 'sin', 24)\n",
    "    c = cyclical_feature(i, 'cos', 24)\n",
    "    l.append((s,c))\n",
    "    \n",
    "df = pd.DataFrame(l, columns=['sin', 'cos']).reset_index()\n",
    "df.plot.line(x='index', y='sin')\n",
    "df.plot.line(x='index', y='cos')\n",
    "'''"
   ]
  },
  {
   "cell_type": "code",
   "execution_count": null,
   "metadata": {},
   "outputs": [],
   "source": []
  },
  {
   "cell_type": "code",
   "execution_count": 10,
   "metadata": {},
   "outputs": [],
   "source": [
    "# Recency feature\n",
    "item_first_interaction_df = _df_sb_a.groupBy('product_id').agg(F.min('event_time_ts').alias('prod_first_event_time_ts'))\n",
    "_df_sb_a = _df_sb_a.join(item_first_interaction_df, on='product_id', how='inner') \\\n",
    "            .withColumn('product_recency_days', (F.col('event_time_ts') - F.col('prod_first_event_time_ts')) / (60*60*24)) \\\n",
    "            .withColumn('product_recency_days_log', F.log1p('product_recency_days'))"
   ]
  },
  {
   "cell_type": "code",
   "execution_count": 11,
   "metadata": {},
   "outputs": [],
   "source": [
    "#Smoothing price long-tailed distribution\n",
    "_df_sb_a = _df_sb_a.withColumn('price_log', F.log1p('price'))"
   ]
  },
  {
   "cell_type": "code",
   "execution_count": 12,
   "metadata": {},
   "outputs": [],
   "source": [
    "#Relative Price to the average price for the category_id\n",
    "avg_category_id_prices_df = _df_sb_a.groupBy('category_id').agg(F.mean('price').alias('avg_category_id_price'))\n",
    "_df_sb_a = _df_sb_a.join(avg_category_id_prices_df, on='category_id', how='inner') \\\n",
    "        .withColumn('relative_price_to_avg_category_id', (F.col('price') - F.col('avg_category_id_price')) / F.col('avg_category_id_price'))"
   ]
  },
  {
   "cell_type": "code",
   "execution_count": 13,
   "metadata": {},
   "outputs": [],
   "source": [
    "#_df_sb_a.groupBy('product_id').agg(F.stddev('price').alias('std')).where(~F.isnan('std')).agg(F.mean('std')).show()"
   ]
  },
  {
   "cell_type": "code",
   "execution_count": 14,
   "metadata": {},
   "outputs": [],
   "source": [
    "#_df_sb_a.groupBy('category_id').agg(F.stddev('price').alias('std')).where(~F.isnan('std')).agg(F.mean('std')).show()"
   ]
  },
  {
   "cell_type": "code",
   "execution_count": 15,
   "metadata": {},
   "outputs": [],
   "source": [
    "#_df_sb_a.groupBy('category_code').agg(F.stddev('price').alias('std')).agg(F.mean('std')).show()"
   ]
  },
  {
   "cell_type": "markdown",
   "metadata": {},
   "source": [
    "#### String -> Discrete Feature"
   ]
  },
  {
   "cell_type": "markdown",
   "metadata": {},
   "source": [
    "API: https://spark.apache.org/docs/latest/api/python/pyspark.ml.html?pyspark.ml.feature.StringIndexer#pyspark.ml.feature.StringIndexer\n",
    "\n",
    "How to apply:\n",
    "https://stackoverflow.com/questions/36942233/apply-stringindexer-to-several-columns-in-a-pyspark-dataframe"
   ]
  },
  {
   "cell_type": "code",
   "execution_count": 13,
   "metadata": {},
   "outputs": [],
   "source": [
    "from pyspark.ml.feature import StringIndexer\n",
    "from pyspark.ml import Pipeline\n",
    "\n",
    "#Null values are treated by handleInvalid=\"keep\" with a special bucket\n",
    "product_idxer = StringIndexer(inputCol=\"product_id\", outputCol=\"product_idx\", handleInvalid=\"keep\", stringOrderType=\"frequencyDesc\")\n",
    "category_id_idxer = StringIndexer(inputCol=\"category_id\", outputCol=\"category_sub_idx\", handleInvalid=\"keep\", stringOrderType=\"frequencyDesc\")\n",
    "category_code_idxer = StringIndexer(inputCol=\"category_code\", outputCol=\"category_code_idx\", handleInvalid=\"keep\", stringOrderType=\"frequencyDesc\")\n",
    "brand_idxer = StringIndexer(inputCol=\"brand\", outputCol=\"brand_idx\", handleInvalid=\"keep\", stringOrderType=\"frequencyDesc\")\n",
    "#userid_idxer = StringIndexer(inputCol=\"user_id\", outputCol=\"user_idx\", handleInvalid=\"keep\", stringOrderType=\"frequencyDesc\")\n",
    "event_type_idxer = StringIndexer(inputCol=\"event_type\", outputCol=\"event_type_idx\", handleInvalid=\"keep\", stringOrderType=\"frequencyDesc\")\n",
    "\n",
    "\n",
    "#NOTE: userid_idxer gets error!\n",
    "\n",
    "indexers = [product_idxer, category_id_idxer, category_code_idxer, brand_idxer, event_type_idxer]   #userid_idxer\n",
    "indexing_pipeline = Pipeline(stages = indexers)\n",
    "         \n",
    "indexing_model = indexing_pipeline.fit(_df_sb_a)\n",
    "_df_sb_a_r = indexing_model.transform(_df_sb_a)"
   ]
  },
  {
   "cell_type": "code",
   "execution_count": 14,
   "metadata": {},
   "outputs": [],
   "source": [
    "#Just to keep the pipeline unchanged after disabling String Indexing for the User\n",
    "_df_sb_a_r = _df_sb_a_r.withColumn('user_idx', F.col('user_id'))"
   ]
  },
  {
   "cell_type": "markdown",
   "metadata": {},
   "source": [
    "#### Add +2 to indexed columns"
   ]
  },
  {
   "cell_type": "code",
   "execution_count": 15,
   "metadata": {},
   "outputs": [],
   "source": [
    "start_idx = 2\n",
    "\n",
    "_df_sb_a_r = _df_sb_a_r.withColumn('product_idx', (F.col('product_idx')+start_idx)) \\\n",
    "                       .withColumn('category_sub_idx', (F.col('category_sub_idx')+start_idx)) \\\n",
    "                       .withColumn('category_code_idx', (F.col('category_code_idx')+start_idx)) \\\n",
    "                       .withColumn('brand_idx', (F.col('brand_idx')+start_idx)) \\\n",
    "                       .withColumn('event_type_idx', F.col('event_type_idx')+start_idx)          \n",
    "\n",
    "#.withColumn('user_idx', (F.col('user_idx')+start_idx)) \\"
   ]
  },
  {
   "cell_type": "markdown",
   "metadata": {},
   "source": [
    "### Get statistics"
   ]
  },
  {
   "cell_type": "code",
   "execution_count": 19,
   "metadata": {},
   "outputs": [
    {
     "name": "stdout",
     "output_type": "stream",
     "text": [
      "+----------------------------+\n",
      "|count(DISTINCT user_session)|\n",
      "+----------------------------+\n",
      "|                    23016650|\n",
      "+----------------------------+\n",
      "\n"
     ]
    }
   ],
   "source": [
    "from pyspark.sql.functions import countDistinct\n",
    "gr = _df_sb_a_r.agg(F.countDistinct(\"user_session\"))\n",
    "gr.show()"
   ]
  },
  {
   "cell_type": "code",
   "execution_count": 20,
   "metadata": {},
   "outputs": [
    {
     "name": "stdout",
     "output_type": "stream",
     "text": [
      "+-----------------------+\n",
      "|count(DISTINCT user_id)|\n",
      "+-----------------------+\n",
      "|                5316649|\n",
      "+-----------------------+\n",
      "\n"
     ]
    }
   ],
   "source": [
    "gr = _df_sb_a_r.agg(F.countDistinct(\"user_id\"))\n",
    "gr.show()"
   ]
  },
  {
   "cell_type": "code",
   "execution_count": 21,
   "metadata": {},
   "outputs": [
    {
     "name": "stdout",
     "output_type": "stream",
     "text": [
      "+--------------------------+\n",
      "|count(DISTINCT product_id)|\n",
      "+--------------------------+\n",
      "|                    206876|\n",
      "+--------------------------+\n",
      "\n"
     ]
    }
   ],
   "source": [
    "gr = _df_sb_a_r.agg(F.countDistinct(\"product_id\"))\n",
    "gr.show()"
   ]
  },
  {
   "cell_type": "code",
   "execution_count": 16,
   "metadata": {},
   "outputs": [
    {
     "name": "stdout",
     "output_type": "stream",
     "text": [
      "+---------------------------+\n",
      "|count(DISTINCT category_id)|\n",
      "+---------------------------+\n",
      "|                        691|\n",
      "+---------------------------+\n",
      "\n"
     ]
    }
   ],
   "source": [
    "gr = _df_sb_a_r.agg(F.countDistinct(\"category_id\"))\n",
    "gr.show()"
   ]
  },
  {
   "cell_type": "markdown",
   "metadata": {},
   "source": [
    "#### Normalize Continuous Features"
   ]
  },
  {
   "cell_type": "markdown",
   "metadata": {},
   "source": [
    "#### Price (log)"
   ]
  },
  {
   "cell_type": "code",
   "execution_count": 17,
   "metadata": {},
   "outputs": [
    {
     "name": "stdout",
     "output_type": "stream",
     "text": [
      "5.039902138802762 1.2186780414302592\n",
      "CPU times: user 10.2 ms, sys: 14.8 ms, total: 25 ms\n",
      "Wall time: 51.5 s\n"
     ]
    }
   ],
   "source": [
    "%%time\n",
    "price_log_mean, price_log_std = tuple(_df_sb_a_r.agg(F.mean('price_log'), F.stddev('price_log')).take(1)[0])\n",
    "print(price_log_mean, price_log_std)"
   ]
  },
  {
   "cell_type": "code",
   "execution_count": 18,
   "metadata": {},
   "outputs": [],
   "source": [
    "#Z-norm\n",
    "_df_sb_a_r = _df_sb_a_r.withColumn('price_norm', (F.col('price_log') - price_log_mean) / price_log_std)"
   ]
  },
  {
   "cell_type": "markdown",
   "metadata": {},
   "source": [
    "#### Elapsed days (log)"
   ]
  },
  {
   "cell_type": "code",
   "execution_count": 19,
   "metadata": {},
   "outputs": [
    {
     "name": "stdout",
     "output_type": "stream",
     "text": [
      "3.2383064627782043 0.8394709773058031\n",
      "CPU times: user 13.5 ms, sys: 9.7 ms, total: 23.2 ms\n",
      "Wall time: 1min 17s\n"
     ]
    }
   ],
   "source": [
    "%%time\n",
    "product_recency_days_log_mean, product_recency_days_log_std = tuple(_df_sb_a_r.agg(F.mean('product_recency_days_log'), F.stddev('product_recency_days_log')).take(1)[0])\n",
    "print(product_recency_days_log_mean, product_recency_days_log_std)"
   ]
  },
  {
   "cell_type": "code",
   "execution_count": 20,
   "metadata": {},
   "outputs": [],
   "source": [
    "#Z-norm\n",
    "_df_sb_a_r = _df_sb_a_r.withColumn('product_recency_days_norm', (F.col('product_recency_days_log') - product_recency_days_log_mean) / product_recency_days_log_std)"
   ]
  },
  {
   "cell_type": "markdown",
   "metadata": {},
   "source": [
    "## Processing sessions sequences"
   ]
  },
  {
   "cell_type": "markdown",
   "metadata": {},
   "source": [
    "#### Aggregate by session id (create sequence as type of array)"
   ]
  },
  {
   "cell_type": "code",
   "execution_count": 21,
   "metadata": {},
   "outputs": [],
   "source": [
    "session_window = Window.partitionBy('user_session').orderBy('event_time_ts')"
   ]
  },
  {
   "cell_type": "code",
   "execution_count": 22,
   "metadata": {},
   "outputs": [],
   "source": [
    "_df_sb_a_wprevt = _df_sb_a_r.withColumn('prev_event_time_ts', F.lag('event_time_ts').over(session_window)) \\\n",
    "                            .withColumn('delta_event_time',F.when(F.isnull(F.col('prev_event_time_ts')), 0) \\\n",
    "                                                            .otherwise(F.col('event_time_ts') - F.col('prev_event_time_ts')))"
   ]
  },
  {
   "cell_type": "markdown",
   "metadata": {},
   "source": [
    "#### Delta time between session clicks (secs)"
   ]
  },
  {
   "cell_type": "code",
   "execution_count": 23,
   "metadata": {},
   "outputs": [
    {
     "name": "stdout",
     "output_type": "stream",
     "text": [
      "230.3930558795769 10024.639844770056\n",
      "CPU times: user 5.76 ms, sys: 33.9 ms, total: 39.7 ms\n",
      "Wall time: 2min 46s\n"
     ]
    }
   ],
   "source": [
    "%%time\n",
    "session_delta_time_mean, session_delta_time_std = tuple(_df_sb_a_wprevt.agg(\n",
    "                            F.mean('delta_event_time').alias('delta_event_time_mean'),\n",
    "                            F.stddev('delta_event_time').alias('delta_event_time_std')).take(1)[0])\n",
    "print(session_delta_time_mean, session_delta_time_std)\n",
    "\n",
    "#Z-norm\n",
    "_df_sb_a_wprevt = _df_sb_a_wprevt.withColumn('delta_event_time_norm', (F.col('delta_event_time') - session_delta_time_mean) / session_delta_time_std)"
   ]
  },
  {
   "cell_type": "code",
   "execution_count": 24,
   "metadata": {},
   "outputs": [
    {
     "name": "stdout",
     "output_type": "stream",
     "text": [
      "root\n",
      " |-- category_id: long (nullable = true)\n",
      " |-- product_id: integer (nullable = true)\n",
      " |-- event_time: string (nullable = true)\n",
      " |-- event_type: string (nullable = true)\n",
      " |-- category_code: string (nullable = true)\n",
      " |-- brand: string (nullable = true)\n",
      " |-- price: double (nullable = true)\n",
      " |-- user_id: integer (nullable = true)\n",
      " |-- user_session: string (nullable = true)\n",
      " |-- event_time_dt: timestamp (nullable = true)\n",
      " |-- event_time_ts: long (nullable = true)\n",
      " |-- et_hour: integer (nullable = true)\n",
      " |-- et_dayofweek: integer (nullable = true)\n",
      " |-- et_dayofmonth: integer (nullable = true)\n",
      " |-- et_month: integer (nullable = true)\n",
      " |-- et_hour_sin: float (nullable = true)\n",
      " |-- et_hour_cos: float (nullable = true)\n",
      " |-- et_dayofweek_sin: float (nullable = true)\n",
      " |-- et_dayofweek_cos: float (nullable = true)\n",
      " |-- et_dayofmonth_sin: float (nullable = true)\n",
      " |-- et_dayofmonth_cos: float (nullable = true)\n",
      " |-- et_month_sin: float (nullable = true)\n",
      " |-- et_month_cos: float (nullable = true)\n",
      " |-- prod_first_event_time_ts: long (nullable = true)\n",
      " |-- product_recency_days: double (nullable = true)\n",
      " |-- product_recency_days_log: double (nullable = true)\n",
      " |-- price_log: double (nullable = true)\n",
      " |-- avg_category_id_price: double (nullable = true)\n",
      " |-- relative_price_to_avg_category_id: double (nullable = true)\n",
      " |-- product_idx: double (nullable = false)\n",
      " |-- category_sub_idx: double (nullable = false)\n",
      " |-- category_code_idx: double (nullable = false)\n",
      " |-- brand_idx: double (nullable = false)\n",
      " |-- event_type_idx: double (nullable = false)\n",
      " |-- user_idx: integer (nullable = true)\n",
      " |-- price_norm: double (nullable = true)\n",
      " |-- product_recency_days_norm: double (nullable = true)\n",
      " |-- prev_event_time_ts: long (nullable = true)\n",
      " |-- delta_event_time: long (nullable = true)\n",
      " |-- delta_event_time_norm: double (nullable = true)\n",
      "\n"
     ]
    }
   ],
   "source": [
    "_df_sb_a_wprevt.printSchema()"
   ]
  },
  {
   "cell_type": "code",
   "execution_count": 25,
   "metadata": {},
   "outputs": [],
   "source": [
    "def get_non_repeated_items(values):\n",
    "    #Returns unique items, keep the order of their first occurence\n",
    "    result = []\n",
    "    for v in values:\n",
    "        if v not in result:\n",
    "            result.append(v)\n",
    "    return result\n",
    "\n",
    "@udf(returnType=ArrayType(IntegerType()))\n",
    "def get_non_repeated_items_integer_udf(values):\n",
    "    result = get_non_repeated_items(values)\n",
    "    result = list([int(x) for x in result])\n",
    "    return result\n",
    "\n",
    "#########################################\n",
    "\n",
    "def get_non_repeated_additional_items(item_ids, additional_feature_values):\n",
    "    #Returns unique items, keep the order of their first occurence\n",
    "    ids = []\n",
    "    result = []\n",
    "    for i, v in zip(item_ids, additional_feature_values):\n",
    "        if i not in ids:\n",
    "            ids.append(i)\n",
    "            result.append(v)\n",
    "    return result\n",
    "\n",
    "@udf(returnType=ArrayType(IntegerType()))\n",
    "def get_non_repeated_additional_items_integer_udf(item_ids, additional_feature_values):\n",
    "    result = get_non_repeated_additional_items(item_ids, additional_feature_values)\n",
    "    result = list([int(x) for x in result])\n",
    "    return result\n",
    "\n",
    "@udf(returnType=ArrayType(FloatType()))\n",
    "def get_non_repeated_additional_items_float_udf(item_ids, additional_feature_values):\n",
    "    result =  get_non_repeated_additional_items(item_ids, additional_feature_values)\n",
    "    result = list([float(x) for x in result])\n",
    "    return result"
   ]
  },
  {
   "cell_type": "code",
   "execution_count": 26,
   "metadata": {},
   "outputs": [],
   "source": [
    "df_sb_grouped_df = _df_sb_a_wprevt \\\n",
    "                .select('user_idx', 'user_session', \n",
    "                        F.first('event_time_ts').over(session_window).alias('session_start_ts'),\n",
    "                        F.last('event_time_ts').over(session_window).alias('session_end_ts'),\n",
    "                        F.collect_list('product_idx').over(session_window).alias('pid_seq_als'), \\\n",
    "                        F.collect_list('event_time_ts').over(session_window).alias('etime_seq_als'),\\\n",
    "                        F.collect_list('event_type_idx').over(session_window).alias('event_type_seq_als'), \\\n",
    "                        F.collect_list('category_sub_idx').over(session_window).alias('csid_seq_als'),\\\n",
    "                        F.collect_list('category_code_idx').over(session_window).alias('ccid_seq_als'),\\\n",
    "                        F.collect_list('brand_idx').over(session_window).alias('bid_seq_als'),\\\n",
    "                        F.collect_list('price_norm').over(session_window).alias('price_seq_als'),\\\n",
    "                        F.collect_list('delta_event_time_norm').over(session_window).alias('dtime_seq_als'),\\\n",
    "                        F.collect_list('product_recency_days_norm').over(session_window).alias('prod_recency_days_als'),\\\n",
    "                        F.collect_list('relative_price_to_avg_category_id').over(session_window).alias('relative_price_to_avg_category_als'),\n",
    "                        F.collect_list('et_hour_sin').over(session_window).alias('et_hour_sin_seq_als'),\\\n",
    "                        F.collect_list('et_hour_cos').over(session_window).alias('et_hour_cos_seq_als'),\\\n",
    "                        F.collect_list('et_month_sin').over(session_window).alias('et_month_sin_seq_als'),\\\n",
    "                        F.collect_list('et_month_cos').over(session_window).alias('et_month_cos_seq_als'),\\\n",
    "                        F.collect_list('et_dayofweek_sin').over(session_window).alias('et_dayofweek_sin_seq_als'),\\\n",
    "                        F.collect_list('et_dayofweek_cos').over(session_window).alias('et_dayofweek_cos_seq_als'),\\\n",
    "                        F.collect_list('et_dayofmonth_sin').over(session_window).alias('et_dayofmonth_sin_seq_als'),\\\n",
    "                        F.collect_list('et_dayofmonth_cos').over(session_window).alias('et_dayofmonth_cos_seq_als'),\\\n",
    "                        \n",
    "                       )\\\n",
    "                .groupBy('user_idx', 'user_session').agg(\n",
    "                    F.min('session_start_ts').alias('session_start_ts'),\n",
    "                    F.max('session_end_ts').alias('session_end_ts'),\n",
    "                    F.max('pid_seq_als').alias('sess_pid_seq'),\n",
    "                    F.max('etime_seq_als').alias('sess_etime_seq'),\n",
    "                    F.max('event_type_seq_als').alias('sess_etype_seq'),    \n",
    "                    F.max('csid_seq_als').alias('sess_csid_seq'),\n",
    "                    F.max('ccid_seq_als').alias('sess_ccid_seq'),\n",
    "                    F.max('bid_seq_als').alias('sess_bid_seq'),\n",
    "                    F.max('price_seq_als').alias('sess_price_seq'),                    \n",
    "                    F.max('dtime_seq_als').alias('sess_dtime_seq'),\n",
    "                    F.max('prod_recency_days_als').alias('sess_product_recency_seq'),\n",
    "                    F.max('relative_price_to_avg_category_als').alias('sess_relative_price_to_avg_category_seq'),\n",
    "                    F.max('et_hour_sin_seq_als').alias('sess_et_hour_sin_seq'),\n",
    "                    F.max('et_hour_cos_seq_als').alias('sess_et_hour_cos_seq'),\n",
    "                    F.max('et_month_sin_seq_als').alias('sess_et_month_sin_seq'),\n",
    "                    F.max('et_month_cos_seq_als').alias('sess_et_month_cos_seq'),\n",
    "                    F.max('et_dayofweek_sin_seq_als').alias('sess_et_dayofweek_sin_seq'),\n",
    "                    F.max('et_dayofweek_cos_seq_als').alias('sess_et_dayofweek_cos_seq'),\n",
    "                    F.max('et_dayofmonth_sin_seq_als').alias('sess_et_dayofmonth_sin_seq'),\n",
    "                    F.max('et_dayofmonth_cos_seq_als').alias('sess_et_dayofmonth_cos_seq'),               \n",
    "                        )"
   ]
  },
  {
   "cell_type": "code",
   "execution_count": 27,
   "metadata": {},
   "outputs": [],
   "source": [
    "df_sb_grouped_nr_df = df_sb_grouped_df.select('user_idx', 'user_session', 'session_start_ts', 'session_end_ts',\n",
    "                        get_non_repeated_items_integer_udf('sess_pid_seq').alias('sess_pid_seq'),\n",
    "                        get_non_repeated_additional_items_integer_udf(F.col(\"sess_pid_seq\"), F.col('sess_etime_seq')).alias('sess_etime_seq'),\n",
    "                        get_non_repeated_additional_items_integer_udf(F.col(\"sess_pid_seq\"), F.col('sess_etype_seq')).alias('sess_etype_seq'),                        \n",
    "                        get_non_repeated_additional_items_integer_udf(F.col(\"sess_pid_seq\"), F.col('sess_csid_seq')).alias('sess_csid_seq'),\n",
    "                        get_non_repeated_additional_items_integer_udf(F.col(\"sess_pid_seq\"), F.col('sess_ccid_seq')).alias('sess_ccid_seq'),\n",
    "                        get_non_repeated_additional_items_integer_udf(F.col(\"sess_pid_seq\"), F.col('sess_bid_seq')).alias('sess_bid_seq'),\n",
    "                        get_non_repeated_additional_items_float_udf(F.col(\"sess_pid_seq\"), F.col('sess_price_seq')).alias('sess_price_seq'),                                              \n",
    "                        get_non_repeated_additional_items_float_udf(F.col(\"sess_pid_seq\"), F.col('sess_dtime_seq')).alias('sess_dtime_seq'),\n",
    "                        get_non_repeated_additional_items_float_udf(F.col(\"sess_pid_seq\"), F.col('sess_product_recency_seq')).alias('sess_product_recency_seq'),\n",
    "                        get_non_repeated_additional_items_float_udf(F.col(\"sess_pid_seq\"), F.col('sess_relative_price_to_avg_category_seq')).alias('sess_relative_price_to_avg_category_seq'),\n",
    "                        get_non_repeated_additional_items_float_udf(F.col(\"sess_pid_seq\"), F.col('sess_et_hour_sin_seq')).alias('sess_et_hour_sin_seq'),\n",
    "                        get_non_repeated_additional_items_float_udf(F.col(\"sess_pid_seq\"), F.col('sess_et_hour_cos_seq')).alias('sess_et_hour_cos_seq'),\n",
    "                        get_non_repeated_additional_items_float_udf(F.col(\"sess_pid_seq\"), F.col('sess_et_month_sin_seq')).alias('sess_et_month_sin_seq'),\n",
    "                        get_non_repeated_additional_items_float_udf(F.col(\"sess_pid_seq\"), F.col('sess_et_month_cos_seq')).alias('sess_et_month_cos_seq'),\n",
    "                        get_non_repeated_additional_items_float_udf(F.col(\"sess_pid_seq\"), F.col('sess_et_dayofweek_sin_seq')).alias('sess_et_dayofweek_sin_seq'),\n",
    "                        get_non_repeated_additional_items_float_udf(F.col(\"sess_pid_seq\"), F.col('sess_et_dayofweek_cos_seq')).alias('sess_et_dayofweek_cos_seq'),\n",
    "                        get_non_repeated_additional_items_float_udf(F.col(\"sess_pid_seq\"), F.col('sess_et_dayofmonth_sin_seq')).alias('sess_et_dayofmonth_sin_seq'),\n",
    "                        get_non_repeated_additional_items_float_udf(F.col(\"sess_pid_seq\"), F.col('sess_et_dayofmonth_cos_seq')).alias('sess_et_dayofmonth_cos_seq'),\n",
    "                       ) \\\n",
    "            .where(F.size('sess_pid_seq') >= 2) \\\n",
    "            .withColumn('sess_seq_len', F.size('sess_pid_seq'))        "
   ]
  },
  {
   "cell_type": "code",
   "execution_count": 28,
   "metadata": {},
   "outputs": [
    {
     "name": "stdout",
     "output_type": "stream",
     "text": [
      "root\n",
      " |-- user_idx: integer (nullable = true)\n",
      " |-- user_session: string (nullable = true)\n",
      " |-- session_start_ts: long (nullable = true)\n",
      " |-- session_end_ts: long (nullable = true)\n",
      " |-- sess_pid_seq: array (nullable = true)\n",
      " |    |-- element: integer (containsNull = true)\n",
      " |-- sess_etime_seq: array (nullable = true)\n",
      " |    |-- element: integer (containsNull = true)\n",
      " |-- sess_etype_seq: array (nullable = true)\n",
      " |    |-- element: integer (containsNull = true)\n",
      " |-- sess_csid_seq: array (nullable = true)\n",
      " |    |-- element: integer (containsNull = true)\n",
      " |-- sess_ccid_seq: array (nullable = true)\n",
      " |    |-- element: integer (containsNull = true)\n",
      " |-- sess_bid_seq: array (nullable = true)\n",
      " |    |-- element: integer (containsNull = true)\n",
      " |-- sess_price_seq: array (nullable = true)\n",
      " |    |-- element: float (containsNull = true)\n",
      " |-- sess_dtime_seq: array (nullable = true)\n",
      " |    |-- element: float (containsNull = true)\n",
      " |-- sess_product_recency_seq: array (nullable = true)\n",
      " |    |-- element: float (containsNull = true)\n",
      " |-- sess_relative_price_to_avg_category_seq: array (nullable = true)\n",
      " |    |-- element: float (containsNull = true)\n",
      " |-- sess_et_hour_sin_seq: array (nullable = true)\n",
      " |    |-- element: float (containsNull = true)\n",
      " |-- sess_et_hour_cos_seq: array (nullable = true)\n",
      " |    |-- element: float (containsNull = true)\n",
      " |-- sess_et_month_sin_seq: array (nullable = true)\n",
      " |    |-- element: float (containsNull = true)\n",
      " |-- sess_et_month_cos_seq: array (nullable = true)\n",
      " |    |-- element: float (containsNull = true)\n",
      " |-- sess_et_dayofweek_sin_seq: array (nullable = true)\n",
      " |    |-- element: float (containsNull = true)\n",
      " |-- sess_et_dayofweek_cos_seq: array (nullable = true)\n",
      " |    |-- element: float (containsNull = true)\n",
      " |-- sess_et_dayofmonth_sin_seq: array (nullable = true)\n",
      " |    |-- element: float (containsNull = true)\n",
      " |-- sess_et_dayofmonth_cos_seq: array (nullable = true)\n",
      " |    |-- element: float (containsNull = true)\n",
      " |-- sess_seq_len: integer (nullable = false)\n",
      "\n"
     ]
    }
   ],
   "source": [
    "df_sb_grouped_nr_df.printSchema()"
   ]
  },
  {
   "cell_type": "code",
   "execution_count": 40,
   "metadata": {},
   "outputs": [
    {
     "name": "stdout",
     "output_type": "stream",
     "text": [
      "+--------+--------------------+----------------+--------------+--------------------+--------------------+--------------+--------------------+--------------------+--------------------+--------------------+--------------+------------------------+---------------------------------------+--------------------+--------------------+---------------------+---------------------+-------------------------+-------------------------+--------------------------+--------------------------+------------+\n",
      "|user_idx|        user_session|session_start_ts|session_end_ts|        sess_pid_seq|      sess_etime_seq|sess_etype_seq|       sess_csid_seq|       sess_ccid_seq|        sess_bid_seq|      sess_price_seq|sess_dtime_seq|sess_product_recency_seq|sess_relative_price_to_avg_category_seq|sess_et_hour_sin_seq|sess_et_hour_cos_seq|sess_et_month_sin_seq|sess_et_month_cos_seq|sess_et_dayofweek_sin_seq|sess_et_dayofweek_cos_seq|sess_et_dayofmonth_sin_seq|sess_et_dayofmonth_cos_seq|sess_seq_len|\n",
      "+--------+--------------------+----------------+--------------+--------------------+--------------------+--------------+--------------------+--------------------+--------------------+--------------------+--------------+------------------------+---------------------------------------+--------------------+--------------------+---------------------+---------------------+-------------------------+-------------------------+--------------------------+--------------------------+------------+\n",
      "|      42|71249adf-78cc-44f...|      1569888264|    1569888371|           [40, 112]|[1569888264, 1569...|           [,]|              [9, 9]|            [51, 51]|            [15, 15]|[-0.97528213, -1....|           [,]|              [0.0, 0.0]|                   [0.099270165, -0....|[2.6179938E-9, 2....|          [1.0, 1.0]| [-0.8660254, -0.8...|           [0.5, 0.5]|     [0.43388373, 0.43...|     [-0.90096885, -0....|      [0.20129852, 0.20...|      [0.9795299, 0.979...|           2|\n",
      "|      80|28e9c9dd-ed51-477...|      1569888960|    1569888984|[254, 407, 418, 345]|[1569888960, 1569...|         [,,,]|        [2, 2, 2, 2]|        [2, 2, 2, 2]|        [4, 4, 4, 4]|[-0.5346697, -0.5...|         [,,,]|    [0.0, 0.0, 0.0, 0.0]|                   [-0.79823285, -0....|[2.6179938E-9, 2....|[1.0, 1.0, 1.0, 1.0]| [-0.8660254, -0.8...| [0.5, 0.5, 0.5, 0.5]|     [0.43388373, 0.43...|     [-0.90096885, -0....|      [0.20129852, 0.20...|      [0.9795299, 0.979...|           4|\n",
      "|      31|5fe9d0a0-0de6-47d...|      1569888027|    1569888362|[331, 288, 276, 6...|[1569888027, 1569...|       [,,,,,]|[24, 24, 24, 24, ...|[51, 51, 51, 51, ...|[51, 12, 12, 12, ...|[-1.4991609, -1.0...|       [,,,,,]|    [0.0, 0.0, 0.0, 0...|                   [-0.35693076, 0.0...|[2.6179938E-9, 2....|[1.0, 1.0, 1.0, 1...| [-0.8660254, -0.8...| [0.5, 0.5, 0.5, 0...|     [0.43388373, 0.43...|     [-0.90096885, -0....|      [0.20129852, 0.20...|      [0.9795299, 0.979...|           6|\n",
      "|      76|4263d574-0b40-416...|      1569888119|    1569888385|[137, 487, 354, 303]|[1569888119, 1569...|         [,,,]|        [2, 2, 2, 2]|        [2, 2, 2, 2]|        [4, 4, 4, 4]|[0.8767029, 0.869...|         [,,,]|    [1.9675925E-4, 0....|                   [-0.04592752, -0....|[2.6179938E-9, 2....|[1.0, 1.0, 1.0, 1.0]| [-0.8660254, -0.8...| [0.5, 0.5, 0.5, 0.5]|     [0.43388373, 0.43...|     [-0.90096885, -0....|      [0.20129852, 0.20...|      [0.9795299, 0.979...|           4|\n",
      "|       7|9c91461e-5924-4ed...|      1569888171|    1569888755|[403, 192, 17, 31...|[1569888171, 1569...|       [,,,,,]|[10, 10, 10, 10, ...|[51, 51, 51, 51, ...|[4, 4, 20, 20, 14...|[-0.3740899, 0.23...|       [,,,,,]|    [0.0, 0.0, 0.0027...|                   [0.57016474, 2.06...|[2.6179938E-9, 2....|[1.0, 1.0, 1.0, 1...| [-0.8660254, -0.8...| [0.5, 0.5, 0.5, 0...|     [0.43388373, 0.43...|     [-0.90096885, -0....|      [0.20129852, 0.20...|      [0.9795299, 0.979...|           6|\n",
      "|      15|a81bcd36-e90f-44c...|      1569888508|    1569888929|  [38, 195, 425, 82]|[1569888508, 1569...|         [,,,]|    [38, 38, 32, 32]|    [51, 51, 51, 51]|  [156, 89, 139, 38]|[-0.90032125, -0....|         [,,,]|    [0.0, 0.0, 0.0, 0.0]|                   [-0.34892583, 0.6...|[2.6179938E-9, 2....|[1.0, 1.0, 1.0, 1.0]| [-0.8660254, -0.8...| [0.5, 0.5, 0.5, 0.5]|     [0.43388373, 0.43...|     [-0.90096885, -0....|      [0.20129852, 0.20...|      [0.9795299, 0.979...|           4|\n",
      "|     179|4fc3e61d-5f94-45b...|      1569888057|    1569888092|          [177, 439]|[1569888057, 1569...|           [,]|              [2, 2]|              [2, 2]|              [2, 2]|[1.7640153, 1.547...|           [,]|              [0.0, 0.0]|                   [1.5243573, 0.990...|[2.6179938E-9, 2....|          [1.0, 1.0]| [-0.8660254, -0.8...|           [0.5, 0.5]|     [0.43388373, 0.43...|     [-0.90096885, -0....|      [0.20129852, 0.20...|      [0.9795299, 0.979...|           2|\n",
      "|      27|4737b7aa-83f7-489...|      1569888195|    1569888685|      [159, 134, 19]|[1569888195, 1569...|          [,,]|           [8, 8, 8]|        [51, 51, 51]|     [156, 156, 156]|[0.2450507, 0.299...|          [,,]|         [0.0, 0.0, 0.0]|                   [-0.041424774, 0....|[2.6179938E-9, 2....|     [1.0, 1.0, 1.0]| [-0.8660254, -0.8...|      [0.5, 0.5, 0.5]|     [0.43388373, 0.43...|     [-0.90096885, -0....|      [0.20129852, 0.20...|      [0.9795299, 0.979...|           3|\n",
      "|       3|b0a32a6c-a500-46d...|      1569888413|    1569888786|[24, 48, 194, 299...|[1569888413, 1569...|       [,,,,,]|[13, 13, 13, 13, ...|[51, 51, 51, 51, ...|  [5, 5, 5, 5, 5, 5]|[0.40470558, 0.76...|       [,,,,,]|    [0.0021643518, 0....|                   [-0.25368077, 0.1...|[2.6179938E-9, 2....|[1.0, 1.0, 1.0, 1...| [-0.8660254, -0.8...| [0.5, 0.5, 0.5, 0...|     [0.43388373, 0.43...|     [-0.90096885, -0....|      [0.20129852, 0.20...|      [0.9795299, 0.979...|           6|\n",
      "|      28|ab1c76e1-94e1-47a...|      1569888563|    1569888866|   [42, 5, 2, 3, 10]|[1569888563, 1569...|        [,,,,]|     [2, 2, 2, 2, 5]|     [2, 2, 2, 2, 4]|     [3, 3, 2, 3, 3]|[1.1087176, 0.987...|        [,,,,]|    [0.006284722, 0.0...|                   [0.23064794, 0.07...|[2.6179938E-9, 2....|[1.0, 1.0, 1.0, 1...| [-0.8660254, -0.8...| [0.5, 0.5, 0.5, 0...|     [0.43388373, 0.43...|     [-0.90096885, -0....|      [0.20129852, 0.20...|      [0.9795299, 0.979...|           5|\n",
      "|      78|fa30065b-fc97-475...|      1569888146|    1569888272|      [78, 470, 414]|[1569888146, 1569...|          [,,]|        [12, 12, 12]|           [9, 9, 9]|         [24, 24, 2]|[0.6342642, 0.810...|          [,,]|         [0.0, 0.0, 0.0]|                   [-0.22631755, -0....|[2.6179938E-9, 2....|     [1.0, 1.0, 1.0]| [-0.8660254, -0.8...|      [0.5, 0.5, 0.5]|     [0.43388373, 0.43...|     [-0.90096885, -0....|      [0.20129852, 0.20...|      [0.9795299, 0.979...|           3|\n",
      "|     127|2318d020-0e0d-441...|      1569888398|    1569888641|          [322, 216]|[1569888398, 1569...|           [,]|           [12, 102]|             [9, 50]|            [24, 14]|[0.39866048, -1.8...|           [,]|              [0.0, 0.0]|                      [-0.4027567, 0.0]|[2.6179938E-9, 2....|          [1.0, 1.0]| [-0.8660254, -0.8...|           [0.5, 0.5]|     [0.43388373, 0.43...|     [-0.90096885, -0....|      [0.20129852, 0.20...|      [0.9795299, 0.979...|           2|\n",
      "|      62|0b828fb6-99bd-4d2...|      1569888050|    1569888388|        [25, 382, 3]|[1569888050, 1569...|          [,,]|           [2, 9, 2]|          [2, 51, 2]|         [3, 100, 3]|[1.9088697, -0.77...|          [,,]|    [0.0, 0.0, 0.0024...|                   [1.9586384, 0.367...|[2.6179938E-9, 2....|     [1.0, 1.0, 1.0]| [-0.8660254, -0.8...|      [0.5, 0.5, 0.5]|     [0.43388373, 0.43...|     [-0.90096885, -0....|      [0.20129852, 0.20...|      [0.9795299, 0.979...|           3|\n",
      "|      66|32f9d470-c71e-46c...|      1569888697|    1569888992|              [2, 6]|[1569888697, 1569...|           [,]|              [2, 2]|              [2, 2]|              [2, 2]|[0.34595135, 0.45...|           [,]|    [0.007650463, 0.0...|                   [-0.46737486, -0....|[2.6179938E-9, 2....|          [1.0, 1.0]| [-0.8660254, -0.8...|           [0.5, 0.5]|     [0.43388373, 0.43...|     [-0.90096885, -0....|      [0.20129852, 0.20...|      [0.9795299, 0.979...|           2|\n",
      "|       2|9b80273c-2d55-47c...|      1569888609|    1569888692|          [526, 153]|[1569888609, 1569...|           [,]|            [64, 64]|            [51, 51]|            [46, 46]|[0.59392, 0.14080...|           [,]|              [0.0, 0.0]|                   [0.35417426, -0.1...|[2.6179938E-9, 2....|          [1.0, 1.0]| [-0.8660254, -0.8...|           [0.5, 0.5]|     [0.43388373, 0.43...|     [-0.90096885, -0....|      [0.20129852, 0.20...|      [0.9795299, 0.979...|           2|\n",
      "|      38|7c90fc70-0e80-459...|      1569888001|    1569888197|[184, 111, 468, 2...|[1569888001, 1569...|        [,,,,]|     [6, 6, 6, 6, 6]|     [5, 5, 5, 5, 5]|[13, 30, 30, 10, 10]|[0.33488983, 1.09...|        [,,,,]|    [0.0, 0.0, 0.0, 0...|                   [-0.5134399, 0.12...|[2.6179938E-9, 2....|[1.0, 1.0, 1.0, 1...| [-0.8660254, -0.8...| [0.5, 0.5, 0.5, 0...|     [0.43388373, 0.43...|     [-0.90096885, -0....|      [0.20129852, 0.20...|      [0.9795299, 0.979...|           5|\n",
      "|      89|b5729f38-2001-49b...|      1569888978|    1569888986|          [282, 523]|[1569888978, 1569...|           [,]|            [43, 43]|            [20, 20]|              [6, 6]|[-0.64079183, -0....|           [,]|              [0.0, 0.0]|                   [-0.18641979, -0....|[2.6179938E-9, 2....|          [1.0, 1.0]| [-0.8660254, -0.8...|           [0.5, 0.5]|     [0.43388373, 0.43...|     [-0.90096885, -0....|      [0.20129852, 0.20...|      [0.9795299, 0.979...|           2|\n",
      "|     152|1035cee3-7238-403...|      1569888537|    1569888600|          [386, 515]|[1569888537, 1569...|           [,]|              [2, 5]|              [2, 4]|              [3, 2]|[1.2814728, -0.28...|           [,]|              [0.0, 0.0]|                   [0.4873665, 0.038...|[2.6179938E-9, 2....|          [1.0, 1.0]| [-0.8660254, -0.8...|           [0.5, 0.5]|     [0.43388373, 0.43...|     [-0.90096885, -0....|      [0.20129852, 0.20...|      [0.9795299, 0.979...|           2|\n",
      "|      22|cccc58c1-4986-4d0...|      1569888084|    1569888362|           [398, 66]|[1569888084, 1569...|           [,]|              [2, 2]|              [2, 2]|            [23, 23]|[0.4269595, 0.303...|           [,]|              [0.0, 0.0]|                   [-0.41777438, -0....|[2.6179938E-9, 2....|          [1.0, 1.0]| [-0.8660254, -0.8...|           [0.5, 0.5]|     [0.43388373, 0.43...|     [-0.90096885, -0....|      [0.20129852, 0.20...|      [0.9795299, 0.979...|           2|\n",
      "|      26|77b61d9e-6caf-47b...|      1569888323|    1569888985|  [16, 449, 21, 422]|[1569888323, 1569...|         [,,,]|        [5, 5, 5, 5]|        [4, 4, 4, 4]|     [4, 134, 37, 4]|[-1.8101535, -0.8...|         [,,,]|    [0.0030902778, 0....|                   [-0.81099516, -0....|[2.6179938E-9, 2....|[1.0, 1.0, 1.0, 1.0]| [-0.8660254, -0.8...| [0.5, 0.5, 0.5, 0.5]|     [0.43388373, 0.43...|     [-0.90096885, -0....|      [0.20129852, 0.20...|      [0.9795299, 0.979...|           4|\n",
      "+--------+--------------------+----------------+--------------+--------------------+--------------------+--------------+--------------------+--------------------+--------------------+--------------------+--------------+------------------------+---------------------------------------+--------------------+--------------------+---------------------+---------------------+-------------------------+-------------------------+--------------------------+--------------------------+------------+\n",
      "only showing top 20 rows\n",
      "\n"
     ]
    }
   ],
   "source": [
    "#df_sb_grouped_nr_df.show()"
   ]
  },
  {
   "cell_type": "code",
   "execution_count": 29,
   "metadata": {},
   "outputs": [],
   "source": [
    "percentiles = np.arange(0., 1.1, 0.1).tolist()+[0.95,0.99,0.999]"
   ]
  },
  {
   "cell_type": "code",
   "execution_count": null,
   "metadata": {},
   "outputs": [],
   "source": [
    "session_sizes_pdf = pd.DataFrame(zip(percentiles, \n",
    "                                          df_sb_grouped_nr_df.approxQuantile('sess_seq_len', probabilities=percentiles, relativeError=0.00001)),\n",
    "                                         columns=['percentile', 'session_sizes']).sort_values('percentile')\n",
    "session_sizes_pdf"
   ]
  },
  {
   "cell_type": "markdown",
   "metadata": {},
   "source": [
    "## Processing users sequences"
   ]
  },
  {
   "cell_type": "code",
   "execution_count": 30,
   "metadata": {},
   "outputs": [],
   "source": [
    "# by manual\n",
    "SESSIONS_MAX_LENGTH = 20"
   ]
  },
  {
   "cell_type": "code",
   "execution_count": 31,
   "metadata": {},
   "outputs": [],
   "source": [
    "user_window = Window.partitionBy('user_idx').orderBy('event_time_ts')"
   ]
  },
  {
   "cell_type": "markdown",
   "metadata": {},
   "source": [
    "#### Delta time between user clicks (secs)"
   ]
  },
  {
   "cell_type": "code",
   "execution_count": 32,
   "metadata": {},
   "outputs": [],
   "source": [
    "_df_user_wprevt = _df_sb_a_r.withColumn('user_prev_event_time_ts', F.lag('event_time_ts').over(user_window)) \\\n",
    "                            .withColumn('user_delta_event_time',F.when(F.isnull(F.col('user_prev_event_time_ts')), 0) \\\n",
    "                                                            .otherwise(F.col('event_time_ts') - F.col('user_prev_event_time_ts'))) \\\n",
    "                            .withColumn('user_delta_event_time_log', F.log1p('user_delta_event_time'))"
   ]
  },
  {
   "cell_type": "code",
   "execution_count": 33,
   "metadata": {},
   "outputs": [
    {
     "name": "stdout",
     "output_type": "stream",
     "text": [
      "4.465940900094787 3.026454528930501\n",
      "CPU times: user 5.14 ms, sys: 29.3 ms, total: 34.5 ms\n",
      "Wall time: 1min 36s\n"
     ]
    }
   ],
   "source": [
    "%%time\n",
    "user_delta_time_mean, user_delta_time_std = tuple(_df_user_wprevt.agg(\n",
    "                            F.mean('user_delta_event_time_log').alias('user_delta_event_time_mean'),\n",
    "                            F.stddev('user_delta_event_time_log').alias('user_delta_event_time_std')).take(1)[0])\n",
    "print(user_delta_time_mean, user_delta_time_std)\n",
    "\n",
    "#Z-norm\n",
    "_df_user_wprevt = _df_user_wprevt.withColumn('user_delta_event_time_log_norm', (F.col('user_delta_event_time_log') - user_delta_time_mean) / user_delta_time_std)"
   ]
  },
  {
   "cell_type": "code",
   "execution_count": 34,
   "metadata": {},
   "outputs": [],
   "source": [
    "df_user_seq_grouped_df = _df_user_wprevt \\\n",
    "                .select('user_idx',  \n",
    "                        F.collect_list('product_idx').over(user_window).alias('pid_seq_als'), \n",
    "                        F.collect_list('event_time_ts').over(user_window).alias('etime_seq_als'),\n",
    "                        F.collect_list('event_type_idx').over(user_window).alias('event_type_seq_als'), \n",
    "                        F.collect_list('category_sub_idx').over(user_window).alias('csid_seq_als'),\n",
    "                        F.collect_list('category_code_idx').over(user_window).alias('ccid_seq_als'),\n",
    "                        F.collect_list('brand_idx').over(user_window).alias('bid_seq_als'),\n",
    "                        F.collect_list('price_norm').over(user_window).alias('price_seq_als'),\n",
    "                        F.collect_list('user_delta_event_time_log_norm').over(user_window).alias('dtime_seq_als'),\n",
    "                        F.collect_list('product_recency_days_norm').over(user_window).alias('prod_recency_days_als'),\n",
    "                        F.collect_list('relative_price_to_avg_category_id').over(user_window).alias('relative_price_to_avg_category_als'),\n",
    "                        F.collect_list('et_hour_sin').over(user_window).alias('et_hour_sin_seq_als'),\n",
    "                        F.collect_list('et_hour_cos').over(user_window).alias('et_hour_cos_seq_als'),\n",
    "                        F.collect_list('et_month_sin').over(user_window).alias('et_month_sin_seq_als'),\n",
    "                        F.collect_list('et_month_cos').over(user_window).alias('et_month_cos_seq_als'),\n",
    "                        F.collect_list('et_dayofweek_sin').over(user_window).alias('et_dayofweek_sin_seq_als'),\n",
    "                        F.collect_list('et_dayofweek_cos').over(user_window).alias('et_dayofweek_cos_seq_als'),\n",
    "                        F.collect_list('et_dayofmonth_sin').over(user_window).alias('et_dayofmonth_sin_seq_als'),\n",
    "                        F.collect_list('et_dayofmonth_cos').over(user_window).alias('et_dayofmonth_cos_seq_als'),                     \n",
    "                       )\\\n",
    "                .groupBy('user_idx').agg(\n",
    "                    F.max('pid_seq_als').alias('user_pid_seq'),\n",
    "                    F.max('etime_seq_als').alias('user_etime_seq'),\n",
    "                    F.max('event_type_seq_als').alias('user_etype_seq'),    \n",
    "                    F.max('csid_seq_als').alias('user_csid_seq'),\n",
    "                    F.max('ccid_seq_als').alias('user_ccid_seq'),\n",
    "                    F.max('bid_seq_als').alias('user_bid_seq'),\n",
    "                    F.max('price_seq_als').alias('user_price_seq'),                    \n",
    "                    F.max('dtime_seq_als').alias('user_dtime_seq'),\n",
    "                    F.max('prod_recency_days_als').alias('user_product_recency_seq'),\n",
    "                    F.max('relative_price_to_avg_category_als').alias('user_relative_price_to_avg_category_seq'),\n",
    "                    F.max('et_hour_sin_seq_als').alias('user_et_hour_sin_seq'),\n",
    "                    F.max('et_hour_cos_seq_als').alias('user_et_hour_cos_seq'),\n",
    "                    F.max('et_month_sin_seq_als').alias('user_et_month_sin_seq'),\n",
    "                    F.max('et_month_cos_seq_als').alias('user_et_month_cos_seq'),\n",
    "                    F.max('et_dayofweek_sin_seq_als').alias('user_et_dayofweek_sin_seq'),\n",
    "                    F.max('et_dayofweek_cos_seq_als').alias('user_et_dayofweek_cos_seq'),\n",
    "                    F.max('et_dayofmonth_sin_seq_als').alias('user_et_dayofmonth_sin_seq'),\n",
    "                    F.max('et_dayofmonth_cos_seq_als').alias('user_et_dayofmonth_cos_seq'),               \n",
    "                        )"
   ]
  },
  {
   "cell_type": "code",
   "execution_count": 35,
   "metadata": {},
   "outputs": [
    {
     "name": "stdout",
     "output_type": "stream",
     "text": [
      "root\n",
      " |-- user_idx: integer (nullable = true)\n",
      " |-- user_pid_seq: array (nullable = true)\n",
      " |    |-- element: double (containsNull = true)\n",
      " |-- user_etime_seq: array (nullable = true)\n",
      " |    |-- element: long (containsNull = true)\n",
      " |-- user_etype_seq: array (nullable = true)\n",
      " |    |-- element: double (containsNull = true)\n",
      " |-- user_csid_seq: array (nullable = true)\n",
      " |    |-- element: double (containsNull = true)\n",
      " |-- user_ccid_seq: array (nullable = true)\n",
      " |    |-- element: double (containsNull = true)\n",
      " |-- user_bid_seq: array (nullable = true)\n",
      " |    |-- element: double (containsNull = true)\n",
      " |-- user_price_seq: array (nullable = true)\n",
      " |    |-- element: double (containsNull = true)\n",
      " |-- user_dtime_seq: array (nullable = true)\n",
      " |    |-- element: double (containsNull = true)\n",
      " |-- user_product_recency_seq: array (nullable = true)\n",
      " |    |-- element: double (containsNull = true)\n",
      " |-- user_relative_price_to_avg_category_seq: array (nullable = true)\n",
      " |    |-- element: double (containsNull = true)\n",
      " |-- user_et_hour_sin_seq: array (nullable = true)\n",
      " |    |-- element: float (containsNull = true)\n",
      " |-- user_et_hour_cos_seq: array (nullable = true)\n",
      " |    |-- element: float (containsNull = true)\n",
      " |-- user_et_month_sin_seq: array (nullable = true)\n",
      " |    |-- element: float (containsNull = true)\n",
      " |-- user_et_month_cos_seq: array (nullable = true)\n",
      " |    |-- element: float (containsNull = true)\n",
      " |-- user_et_dayofweek_sin_seq: array (nullable = true)\n",
      " |    |-- element: float (containsNull = true)\n",
      " |-- user_et_dayofweek_cos_seq: array (nullable = true)\n",
      " |    |-- element: float (containsNull = true)\n",
      " |-- user_et_dayofmonth_sin_seq: array (nullable = true)\n",
      " |    |-- element: float (containsNull = true)\n",
      " |-- user_et_dayofmonth_cos_seq: array (nullable = true)\n",
      " |    |-- element: float (containsNull = true)\n",
      "\n"
     ]
    }
   ],
   "source": [
    "df_user_seq_grouped_df.printSchema()"
   ]
  },
  {
   "cell_type": "code",
   "execution_count": 48,
   "metadata": {},
   "outputs": [
    {
     "name": "stdout",
     "output_type": "stream",
     "text": [
      "+--------------------+--------------------+--------------------+\n",
      "|        user_pid_seq|      user_etime_seq|      user_price_seq|\n",
      "+--------------------+--------------------+--------------------+\n",
      "|[37849.0, 37849.0...|[1570266450, 1570...|[0.01344106914469...|\n",
      "|[2624.0, 2805.0, ...|[1569985940, 1569...|[-0.3742469606170...|\n",
      "|[74476.0, 6168.0,...|[1571118465, 1571...|[-0.3450385439044...|\n",
      "|[1066.0, 1066.0, ...|[1571759638, 1571...|[1.51080483364065...|\n",
      "|[3486.0, 3486.0, ...|[1571133889, 1571...|[-1.2191369561702...|\n",
      "+--------------------+--------------------+--------------------+\n",
      "only showing top 5 rows\n",
      "\n"
     ]
    }
   ],
   "source": [
    "#df_user_seq_grouped_df.select('user_pid_seq', 'user_etime_seq', 'user_price_seq').show(5)"
   ]
  },
  {
   "cell_type": "markdown",
   "metadata": {},
   "source": [
    "### Joining users and sessions sequences"
   ]
  },
  {
   "cell_type": "code",
   "execution_count": 36,
   "metadata": {},
   "outputs": [],
   "source": [
    "users_and_session_seq_joined_df = df_sb_grouped_nr_df.join(df_user_seq_grouped_df, on='user_idx', how='inner')"
   ]
  },
  {
   "cell_type": "code",
   "execution_count": 37,
   "metadata": {},
   "outputs": [
    {
     "name": "stdout",
     "output_type": "stream",
     "text": [
      "root\n",
      " |-- user_idx: integer (nullable = true)\n",
      " |-- user_session: string (nullable = true)\n",
      " |-- session_start_ts: long (nullable = true)\n",
      " |-- session_end_ts: long (nullable = true)\n",
      " |-- sess_pid_seq: array (nullable = true)\n",
      " |    |-- element: integer (containsNull = true)\n",
      " |-- sess_etime_seq: array (nullable = true)\n",
      " |    |-- element: integer (containsNull = true)\n",
      " |-- sess_etype_seq: array (nullable = true)\n",
      " |    |-- element: integer (containsNull = true)\n",
      " |-- sess_csid_seq: array (nullable = true)\n",
      " |    |-- element: integer (containsNull = true)\n",
      " |-- sess_ccid_seq: array (nullable = true)\n",
      " |    |-- element: integer (containsNull = true)\n",
      " |-- sess_bid_seq: array (nullable = true)\n",
      " |    |-- element: integer (containsNull = true)\n",
      " |-- sess_price_seq: array (nullable = true)\n",
      " |    |-- element: float (containsNull = true)\n",
      " |-- sess_dtime_seq: array (nullable = true)\n",
      " |    |-- element: float (containsNull = true)\n",
      " |-- sess_product_recency_seq: array (nullable = true)\n",
      " |    |-- element: float (containsNull = true)\n",
      " |-- sess_relative_price_to_avg_category_seq: array (nullable = true)\n",
      " |    |-- element: float (containsNull = true)\n",
      " |-- sess_et_hour_sin_seq: array (nullable = true)\n",
      " |    |-- element: float (containsNull = true)\n",
      " |-- sess_et_hour_cos_seq: array (nullable = true)\n",
      " |    |-- element: float (containsNull = true)\n",
      " |-- sess_et_month_sin_seq: array (nullable = true)\n",
      " |    |-- element: float (containsNull = true)\n",
      " |-- sess_et_month_cos_seq: array (nullable = true)\n",
      " |    |-- element: float (containsNull = true)\n",
      " |-- sess_et_dayofweek_sin_seq: array (nullable = true)\n",
      " |    |-- element: float (containsNull = true)\n",
      " |-- sess_et_dayofweek_cos_seq: array (nullable = true)\n",
      " |    |-- element: float (containsNull = true)\n",
      " |-- sess_et_dayofmonth_sin_seq: array (nullable = true)\n",
      " |    |-- element: float (containsNull = true)\n",
      " |-- sess_et_dayofmonth_cos_seq: array (nullable = true)\n",
      " |    |-- element: float (containsNull = true)\n",
      " |-- sess_seq_len: integer (nullable = false)\n",
      " |-- user_pid_seq: array (nullable = true)\n",
      " |    |-- element: double (containsNull = true)\n",
      " |-- user_etime_seq: array (nullable = true)\n",
      " |    |-- element: long (containsNull = true)\n",
      " |-- user_etype_seq: array (nullable = true)\n",
      " |    |-- element: double (containsNull = true)\n",
      " |-- user_csid_seq: array (nullable = true)\n",
      " |    |-- element: double (containsNull = true)\n",
      " |-- user_ccid_seq: array (nullable = true)\n",
      " |    |-- element: double (containsNull = true)\n",
      " |-- user_bid_seq: array (nullable = true)\n",
      " |    |-- element: double (containsNull = true)\n",
      " |-- user_price_seq: array (nullable = true)\n",
      " |    |-- element: double (containsNull = true)\n",
      " |-- user_dtime_seq: array (nullable = true)\n",
      " |    |-- element: double (containsNull = true)\n",
      " |-- user_product_recency_seq: array (nullable = true)\n",
      " |    |-- element: double (containsNull = true)\n",
      " |-- user_relative_price_to_avg_category_seq: array (nullable = true)\n",
      " |    |-- element: double (containsNull = true)\n",
      " |-- user_et_hour_sin_seq: array (nullable = true)\n",
      " |    |-- element: float (containsNull = true)\n",
      " |-- user_et_hour_cos_seq: array (nullable = true)\n",
      " |    |-- element: float (containsNull = true)\n",
      " |-- user_et_month_sin_seq: array (nullable = true)\n",
      " |    |-- element: float (containsNull = true)\n",
      " |-- user_et_month_cos_seq: array (nullable = true)\n",
      " |    |-- element: float (containsNull = true)\n",
      " |-- user_et_dayofweek_sin_seq: array (nullable = true)\n",
      " |    |-- element: float (containsNull = true)\n",
      " |-- user_et_dayofweek_cos_seq: array (nullable = true)\n",
      " |    |-- element: float (containsNull = true)\n",
      " |-- user_et_dayofmonth_sin_seq: array (nullable = true)\n",
      " |    |-- element: float (containsNull = true)\n",
      " |-- user_et_dayofmonth_cos_seq: array (nullable = true)\n",
      " |    |-- element: float (containsNull = true)\n",
      "\n"
     ]
    }
   ],
   "source": [
    "users_and_session_seq_joined_df.printSchema()"
   ]
  },
  {
   "cell_type": "code",
   "execution_count": 38,
   "metadata": {},
   "outputs": [],
   "source": [
    "def user_seq_feature_before_session(session_start, user_ts_seq, user_feature_seq, limit):\n",
    "    new_seq = list(map(lambda y: y[1], filter(lambda x: x[0] < session_start, zip(user_ts_seq, user_feature_seq))))[-limit:]\n",
    "    return new_seq\n",
    "\n",
    "@udf(returnType=ArrayType(IntegerType()))\n",
    "def user_seq_before_session_integer_udf(session_start, user_ts_seq, user_feature_seq, limit):\n",
    "    result = user_seq_feature_before_session(session_start, user_ts_seq, user_feature_seq, limit)\n",
    "    return list([int(x) for x in result])\n",
    "\n",
    "@udf(returnType=ArrayType(FloatType()))\n",
    "def user_seq_before_session_float_udf(session_start, user_ts_seq, user_feature_seq, limit):\n",
    "    result = user_seq_feature_before_session(session_start, user_ts_seq, user_feature_seq, limit)\n",
    "    return list([float(x) for x in result])"
   ]
  },
  {
   "cell_type": "code",
   "execution_count": 39,
   "metadata": {},
   "outputs": [],
   "source": [
    "MAX_LENGTH_USER_SEQUENCE_BEFORE_SESSION = 20"
   ]
  },
  {
   "cell_type": "code",
   "execution_count": 40,
   "metadata": {},
   "outputs": [],
   "source": [
    "#Assume that users with unseen previous interactions within the dataset (6 months) interacted 7 months before\n",
    "ELAPSED_DAYS_BEF_LAST_SESSION_DEFAULT = 7*30 \n",
    "\n",
    "@udf(returnType=FloatType())\n",
    "def elapsed_days_since_last_interaction_bef_session(session_start, previous_interactions_ts_list):\n",
    "    if len(previous_interactions_ts_list) == 0:\n",
    "        return ELAPSED_DAYS_BEF_LAST_SESSION_DEFAULT\n",
    "    \n",
    "    elapsed_days = max(session_start - previous_interactions_ts_list[-1], 0) / (60*60*24)\n",
    "    return elapsed_days"
   ]
  },
  {
   "cell_type": "code",
   "execution_count": null,
   "metadata": {},
   "outputs": [],
   "source": []
  },
  {
   "cell_type": "code",
   "execution_count": 58,
   "metadata": {},
   "outputs": [],
   "source": [
    "session_seq_and_prev_users_seq_df = users_and_session_seq_joined_df \\\n",
    "            .withColumn('user_pid_seq_bef_sess', user_seq_before_session_integer_udf(F.col('session_start_ts'), F.col('user_etime_seq'),  F.col('user_pid_seq'), F.lit(MAX_LENGTH_USER_SEQUENCE_BEFORE_SESSION))) \\\n",
    "            .withColumn('user_etime_seq_bef_sess', user_seq_before_session_integer_udf(F.col('session_start_ts'), F.col('user_etime_seq'),  F.col('user_etime_seq'), F.lit(MAX_LENGTH_USER_SEQUENCE_BEFORE_SESSION))) \\\n",
    "            .withColumn('user_etype_seq_bef_sess', user_seq_before_session_integer_udf(F.col('session_start_ts'), F.col('user_etime_seq'),  F.col('user_etype_seq'), F.lit(MAX_LENGTH_USER_SEQUENCE_BEFORE_SESSION))) \\\n",
    "            .withColumn('user_csid_seq_bef_sess', user_seq_before_session_integer_udf(F.col('session_start_ts'), F.col('user_etime_seq'),  F.col('user_csid_seq'), F.lit(MAX_LENGTH_USER_SEQUENCE_BEFORE_SESSION))) \\\n",
    "            .withColumn('user_ccid_seq_bef_sess', user_seq_before_session_integer_udf(F.col('session_start_ts'), F.col('user_etime_seq'),  F.col('user_ccid_seq'), F.lit(MAX_LENGTH_USER_SEQUENCE_BEFORE_SESSION))) \\\n",
    "            .withColumn('user_bid_seq_bef_sess', user_seq_before_session_integer_udf(F.col('session_start_ts'), F.col('user_etime_seq'),  F.col('user_bid_seq'), F.lit(MAX_LENGTH_USER_SEQUENCE_BEFORE_SESSION))) \\\n",
    "            .withColumn('user_price_seq_bef_sess', user_seq_before_session_float_udf(F.col('session_start_ts'), F.col('user_etime_seq'),  F.col('user_price_seq'), F.lit(MAX_LENGTH_USER_SEQUENCE_BEFORE_SESSION))) \\\n",
    "            .withColumn('user_dtime_seq_bef_sess', user_seq_before_session_float_udf(F.col('session_start_ts'), F.col('user_etime_seq'),  F.col('user_dtime_seq'), F.lit(MAX_LENGTH_USER_SEQUENCE_BEFORE_SESSION))) \\\n",
    "            .withColumn('user_product_recency_seq_bef_sess', user_seq_before_session_float_udf(F.col('session_start_ts'), F.col('user_etime_seq'),  F.col('user_product_recency_seq'), F.lit(MAX_LENGTH_USER_SEQUENCE_BEFORE_SESSION))) \\\n",
    "            .withColumn('user_relative_price_to_avg_category_seq_bef_sess', user_seq_before_session_float_udf(F.col('session_start_ts'), F.col('user_etime_seq'),  F.col('user_relative_price_to_avg_category_seq'), F.lit(MAX_LENGTH_USER_SEQUENCE_BEFORE_SESSION))) \\\n",
    "            .withColumn('user_et_hour_sin_seq_bef_sess', user_seq_before_session_float_udf(F.col('session_start_ts'), F.col('user_etime_seq'),  F.col('user_et_hour_sin_seq'), F.lit(MAX_LENGTH_USER_SEQUENCE_BEFORE_SESSION))) \\\n",
    "            .withColumn('user_et_hour_cos_seq_bef_sess', user_seq_before_session_float_udf(F.col('session_start_ts'), F.col('user_etime_seq'),  F.col('user_et_hour_cos_seq'), F.lit(MAX_LENGTH_USER_SEQUENCE_BEFORE_SESSION))) \\\n",
    "            .withColumn('user_et_month_sin_seq_bef_sess', user_seq_before_session_float_udf(F.col('session_start_ts'), F.col('user_etime_seq'),  F.col('user_et_month_sin_seq'), F.lit(MAX_LENGTH_USER_SEQUENCE_BEFORE_SESSION))) \\\n",
    "            .withColumn('user_et_month_cos_seq_bef_sess', user_seq_before_session_float_udf(F.col('session_start_ts'), F.col('user_etime_seq'),  F.col('user_et_month_cos_seq'), F.lit(MAX_LENGTH_USER_SEQUENCE_BEFORE_SESSION))) \\\n",
    "            .withColumn('user_et_dayofweek_sin_seq_bef_sess', user_seq_before_session_float_udf(F.col('session_start_ts'), F.col('user_etime_seq'),  F.col('user_et_dayofweek_sin_seq'), F.lit(MAX_LENGTH_USER_SEQUENCE_BEFORE_SESSION))) \\\n",
    "            .withColumn('user_et_dayofweek_cos_seq_bef_sess', user_seq_before_session_float_udf(F.col('session_start_ts'), F.col('user_etime_seq'),  F.col('user_et_dayofweek_cos_seq'), F.lit(MAX_LENGTH_USER_SEQUENCE_BEFORE_SESSION))) \\\n",
    "            .withColumn('user_et_dayofmonth_sin_seq_bef_sess', user_seq_before_session_float_udf(F.col('session_start_ts'), F.col('user_etime_seq'),  F.col('user_et_dayofmonth_sin_seq'), F.lit(MAX_LENGTH_USER_SEQUENCE_BEFORE_SESSION))) \\\n",
    "            .withColumn('user_et_dayofmonth_cos_seq_bef_sess', user_seq_before_session_float_udf(F.col('session_start_ts'), F.col('user_etime_seq'),  F.col('user_et_dayofmonth_cos_seq'), F.lit(MAX_LENGTH_USER_SEQUENCE_BEFORE_SESSION))) \\\n",
    "            .withColumn('user_seq_length_bef_sess', F.size('user_pid_seq_bef_sess')) \\\n",
    "            .withColumn('user_elapsed_days_bef_sess', elapsed_days_since_last_interaction_bef_session(F.col('session_start_ts'), F.col('user_etime_seq_bef_sess'))) \\\n",
    "            .withColumn('user_elapsed_days_log_bef_sess', F.log1p('user_elapsed_days_bef_sess'))"
   ]
  },
  {
   "cell_type": "code",
   "execution_count": 59,
   "metadata": {},
   "outputs": [
    {
     "name": "stdout",
     "output_type": "stream",
     "text": [
      "0.9629165848947965 1.0068344354125576\n",
      "CPU times: user 64.4 ms, sys: 61.1 ms, total: 125 ms\n",
      "Wall time: 5min 38s\n"
     ]
    }
   ],
   "source": [
    "%%time\n",
    "user_elapsed_days_log_bef_sess_mean, user_elapsed_days_log_bef_sess_std = tuple(session_seq_and_prev_users_seq_df.agg(\n",
    "                                                                                F.mean('user_elapsed_days_log_bef_sess'),\n",
    "                                                                                F.stddev('user_elapsed_days_log_bef_sess')).take(1)[0])\n",
    "print(user_elapsed_days_log_bef_sess_mean, user_elapsed_days_log_bef_sess_std)\n",
    "\n",
    "#Z-norm\n",
    "session_seq_and_prev_users_seq_df = session_seq_and_prev_users_seq_df.withColumn('user_elapsed_days_log_bef_sess_norm', \n",
    "                                                                                 (F.col('user_elapsed_days_log_bef_sess') - user_elapsed_days_log_bef_sess_mean) / user_elapsed_days_log_bef_sess_std)"
   ]
  },
  {
   "cell_type": "code",
   "execution_count": 60,
   "metadata": {},
   "outputs": [
    {
     "name": "stdout",
     "output_type": "stream",
     "text": [
      "root\n",
      " |-- user_idx: integer (nullable = true)\n",
      " |-- user_session: string (nullable = true)\n",
      " |-- session_start_ts: long (nullable = true)\n",
      " |-- session_end_ts: long (nullable = true)\n",
      " |-- sess_pid_seq: array (nullable = true)\n",
      " |    |-- element: integer (containsNull = true)\n",
      " |-- sess_etime_seq: array (nullable = true)\n",
      " |    |-- element: integer (containsNull = true)\n",
      " |-- sess_etype_seq: array (nullable = true)\n",
      " |    |-- element: integer (containsNull = true)\n",
      " |-- sess_csid_seq: array (nullable = true)\n",
      " |    |-- element: integer (containsNull = true)\n",
      " |-- sess_ccid_seq: array (nullable = true)\n",
      " |    |-- element: integer (containsNull = true)\n",
      " |-- sess_bid_seq: array (nullable = true)\n",
      " |    |-- element: integer (containsNull = true)\n",
      " |-- sess_price_seq: array (nullable = true)\n",
      " |    |-- element: float (containsNull = true)\n",
      " |-- sess_dtime_seq: array (nullable = true)\n",
      " |    |-- element: float (containsNull = true)\n",
      " |-- sess_product_recency_seq: array (nullable = true)\n",
      " |    |-- element: float (containsNull = true)\n",
      " |-- sess_relative_price_to_avg_category_seq: array (nullable = true)\n",
      " |    |-- element: float (containsNull = true)\n",
      " |-- sess_et_hour_sin_seq: array (nullable = true)\n",
      " |    |-- element: float (containsNull = true)\n",
      " |-- sess_et_hour_cos_seq: array (nullable = true)\n",
      " |    |-- element: float (containsNull = true)\n",
      " |-- sess_et_month_sin_seq: array (nullable = true)\n",
      " |    |-- element: float (containsNull = true)\n",
      " |-- sess_et_month_cos_seq: array (nullable = true)\n",
      " |    |-- element: float (containsNull = true)\n",
      " |-- sess_et_dayofweek_sin_seq: array (nullable = true)\n",
      " |    |-- element: float (containsNull = true)\n",
      " |-- sess_et_dayofweek_cos_seq: array (nullable = true)\n",
      " |    |-- element: float (containsNull = true)\n",
      " |-- sess_et_dayofmonth_sin_seq: array (nullable = true)\n",
      " |    |-- element: float (containsNull = true)\n",
      " |-- sess_et_dayofmonth_cos_seq: array (nullable = true)\n",
      " |    |-- element: float (containsNull = true)\n",
      " |-- sess_seq_len: integer (nullable = false)\n",
      " |-- user_pid_seq: array (nullable = true)\n",
      " |    |-- element: double (containsNull = true)\n",
      " |-- user_etime_seq: array (nullable = true)\n",
      " |    |-- element: long (containsNull = true)\n",
      " |-- user_etype_seq: array (nullable = true)\n",
      " |    |-- element: double (containsNull = true)\n",
      " |-- user_csid_seq: array (nullable = true)\n",
      " |    |-- element: double (containsNull = true)\n",
      " |-- user_ccid_seq: array (nullable = true)\n",
      " |    |-- element: double (containsNull = true)\n",
      " |-- user_bid_seq: array (nullable = true)\n",
      " |    |-- element: double (containsNull = true)\n",
      " |-- user_price_seq: array (nullable = true)\n",
      " |    |-- element: double (containsNull = true)\n",
      " |-- user_dtime_seq: array (nullable = true)\n",
      " |    |-- element: double (containsNull = true)\n",
      " |-- user_product_recency_seq: array (nullable = true)\n",
      " |    |-- element: double (containsNull = true)\n",
      " |-- user_relative_price_to_avg_category_seq: array (nullable = true)\n",
      " |    |-- element: double (containsNull = true)\n",
      " |-- user_et_hour_sin_seq: array (nullable = true)\n",
      " |    |-- element: float (containsNull = true)\n",
      " |-- user_et_hour_cos_seq: array (nullable = true)\n",
      " |    |-- element: float (containsNull = true)\n",
      " |-- user_et_month_sin_seq: array (nullable = true)\n",
      " |    |-- element: float (containsNull = true)\n",
      " |-- user_et_month_cos_seq: array (nullable = true)\n",
      " |    |-- element: float (containsNull = true)\n",
      " |-- user_et_dayofweek_sin_seq: array (nullable = true)\n",
      " |    |-- element: float (containsNull = true)\n",
      " |-- user_et_dayofweek_cos_seq: array (nullable = true)\n",
      " |    |-- element: float (containsNull = true)\n",
      " |-- user_et_dayofmonth_sin_seq: array (nullable = true)\n",
      " |    |-- element: float (containsNull = true)\n",
      " |-- user_et_dayofmonth_cos_seq: array (nullable = true)\n",
      " |    |-- element: float (containsNull = true)\n",
      " |-- user_pid_seq_bef_sess: array (nullable = true)\n",
      " |    |-- element: integer (containsNull = true)\n",
      " |-- user_etime_seq_bef_sess: array (nullable = true)\n",
      " |    |-- element: integer (containsNull = true)\n",
      " |-- user_etype_seq_bef_sess: array (nullable = true)\n",
      " |    |-- element: integer (containsNull = true)\n",
      " |-- user_csid_seq_bef_sess: array (nullable = true)\n",
      " |    |-- element: integer (containsNull = true)\n",
      " |-- user_ccid_seq_bef_sess: array (nullable = true)\n",
      " |    |-- element: integer (containsNull = true)\n",
      " |-- user_bid_seq_bef_sess: array (nullable = true)\n",
      " |    |-- element: integer (containsNull = true)\n",
      " |-- user_price_seq_bef_sess: array (nullable = true)\n",
      " |    |-- element: float (containsNull = true)\n",
      " |-- user_dtime_seq_bef_sess: array (nullable = true)\n",
      " |    |-- element: float (containsNull = true)\n",
      " |-- user_product_recency_seq_bef_sess: array (nullable = true)\n",
      " |    |-- element: float (containsNull = true)\n",
      " |-- user_relative_price_to_avg_category_seq_bef_sess: array (nullable = true)\n",
      " |    |-- element: float (containsNull = true)\n",
      " |-- user_et_hour_sin_seq_bef_sess: array (nullable = true)\n",
      " |    |-- element: float (containsNull = true)\n",
      " |-- user_et_hour_cos_seq_bef_sess: array (nullable = true)\n",
      " |    |-- element: float (containsNull = true)\n",
      " |-- user_et_month_sin_seq_bef_sess: array (nullable = true)\n",
      " |    |-- element: float (containsNull = true)\n",
      " |-- user_et_month_cos_seq_bef_sess: array (nullable = true)\n",
      " |    |-- element: float (containsNull = true)\n",
      " |-- user_et_dayofweek_sin_seq_bef_sess: array (nullable = true)\n",
      " |    |-- element: float (containsNull = true)\n",
      " |-- user_et_dayofweek_cos_seq_bef_sess: array (nullable = true)\n",
      " |    |-- element: float (containsNull = true)\n",
      " |-- user_et_dayofmonth_sin_seq_bef_sess: array (nullable = true)\n",
      " |    |-- element: float (containsNull = true)\n",
      " |-- user_et_dayofmonth_cos_seq_bef_sess: array (nullable = true)\n",
      " |    |-- element: float (containsNull = true)\n",
      " |-- user_seq_length_bef_sess: integer (nullable = false)\n",
      " |-- user_elapsed_days_bef_sess: float (nullable = true)\n",
      " |-- user_elapsed_days_log_bef_sess: double (nullable = true)\n",
      " |-- user_elapsed_days_log_bef_sess_norm: double (nullable = true)\n",
      "\n"
     ]
    }
   ],
   "source": [
    "session_seq_and_prev_users_seq_df.printSchema()"
   ]
  },
  {
   "cell_type": "markdown",
   "metadata": {},
   "source": [
    "# Exporting data"
   ]
  },
  {
   "cell_type": "markdown",
   "metadata": {},
   "source": [
    "#### Option A: Pad zeros to make all sequences same length\n",
    "NOTE: it would be not memory-efficient. But currently it seems no way to utilize Petastorm (parquet -> dataloader) without this option."
   ]
  },
  {
   "cell_type": "code",
   "execution_count": 61,
   "metadata": {},
   "outputs": [],
   "source": [
    "from pyspark.sql.types import ArrayType, IntegerType\n",
    "\n",
    "def pad_array(values, expected_length, trunc_start, dtype=int):\n",
    "    #if dtype is float:\n",
    "    #    value_to_pad = [0.]\n",
    "    #else:\n",
    "    #    value_to_pad = [0]\n",
    "    #value_to_pad = [dtype(0)]\n",
    "        \n",
    "    res = list([dtype(x) for x in values]) + ([dtype(0)] * (expected_length-len(values)))\n",
    "    \n",
    "    # Pick first N\n",
    "    if trunc_start:\n",
    "        res = res[:expected_length]\n",
    "    #Pick last N\n",
    "    else:\n",
    "        res = res[-expected_length:]\n",
    "        \n",
    "    return res\n",
    "\n",
    "\n",
    "@udf(returnType=ArrayType(IntegerType()))\n",
    "def pad_array_int(values, expected_length, trunc_start):\n",
    "    return pad_array(values, expected_length, trunc_start)\n",
    "\n",
    "@udf(returnType=ArrayType(LongType()))\n",
    "def pad_array_long(values, expected_length, trunc_start):\n",
    "    return pad_array(values, expected_length, trunc_start)\n",
    "\n",
    "@udf(returnType=ArrayType(FloatType()))\n",
    "def pad_array_float(values, expected_length, trunc_start):\n",
    "    return pad_array(values, expected_length, trunc_start, dtype=float)"
   ]
  },
  {
   "cell_type": "code",
   "execution_count": 62,
   "metadata": {},
   "outputs": [],
   "source": [
    "sessions_users_seqs_to_export_df = \\\n",
    "        session_seq_and_prev_users_seq_df.select('user_idx', 'user_session', 'sess_seq_len', \n",
    "                                                 'session_start_ts',  \n",
    "                                                 F.date_trunc('day', F.to_timestamp(F.col('session_start_ts'))).cast('string').substr(0,10).alias('session_start_date'), \n",
    "                                                 'user_seq_length_bef_sess', 'user_elapsed_days_bef_sess', 'user_elapsed_days_log_bef_sess_norm',\n",
    "                        # Session sequences (first N interactions)\n",
    "                        pad_array_long(F.col('sess_pid_seq'), F.lit(SESSIONS_MAX_LENGTH), F.lit(True)).alias('sess_pid_seq'),\n",
    "                        pad_array_long(F.col('sess_etime_seq'), F.lit(SESSIONS_MAX_LENGTH), F.lit(True)).alias('sess_etime_seq'),\n",
    "                        pad_array_int(F.col('sess_etype_seq'), F.lit(SESSIONS_MAX_LENGTH), F.lit(True)).alias('sess_etype_seq'),\n",
    "                        pad_array_int(F.col('sess_csid_seq'), F.lit(SESSIONS_MAX_LENGTH), F.lit(True)).alias('sess_csid_seq'),\n",
    "                        pad_array_int(F.col('sess_ccid_seq'), F.lit(SESSIONS_MAX_LENGTH), F.lit(True)).alias('sess_ccid_seq'),\n",
    "                        pad_array_int(F.col('sess_bid_seq'), F.lit(SESSIONS_MAX_LENGTH), F.lit(True)).alias('sess_bid_seq'),\n",
    "                        pad_array_float(F.col('sess_price_seq'), F.lit(SESSIONS_MAX_LENGTH), F.lit(True)).alias('sess_price_seq'),\n",
    "                        pad_array_float(F.col('sess_dtime_seq'), F.lit(SESSIONS_MAX_LENGTH), F.lit(True)).alias('sess_dtime_seq'),\n",
    "                        pad_array_float(F.col('sess_product_recency_seq'), F.lit(SESSIONS_MAX_LENGTH), F.lit(True)).alias('sess_product_recency_seq'),\n",
    "                        pad_array_float(F.col('sess_relative_price_to_avg_category_seq'), F.lit(SESSIONS_MAX_LENGTH), F.lit(True)).alias('sess_relative_price_to_avg_category_seq'),\n",
    "                        pad_array_float(F.col('sess_et_hour_sin_seq'), F.lit(SESSIONS_MAX_LENGTH), F.lit(True)).alias('sess_et_hour_sin_seq'), \n",
    "                        pad_array_float(F.col('sess_et_hour_cos_seq'), F.lit(SESSIONS_MAX_LENGTH), F.lit(True)).alias('sess_et_hour_cos_seq'),\n",
    "                        pad_array_float(F.col('sess_et_month_sin_seq'), F.lit(SESSIONS_MAX_LENGTH), F.lit(True)).alias('sess_et_month_sin_seq'),\n",
    "                        pad_array_float(F.col('sess_et_month_cos_seq'), F.lit(SESSIONS_MAX_LENGTH), F.lit(True)).alias('sess_et_month_cos_seq'),\n",
    "                        pad_array_float(F.col('sess_et_dayofweek_sin_seq'), F.lit(SESSIONS_MAX_LENGTH), F.lit(True)).alias('sess_et_dayofweek_sin_seq'),\n",
    "                        pad_array_float(F.col('sess_et_dayofweek_cos_seq'), F.lit(SESSIONS_MAX_LENGTH), F.lit(True)).alias('sess_et_dayofweek_cos_seq'),\n",
    "                        pad_array_float(F.col('sess_et_dayofmonth_sin_seq'), F.lit(SESSIONS_MAX_LENGTH), F.lit(True)).alias('sess_et_dayofmonth_sin_seq'),\n",
    "                        pad_array_float(F.col('sess_et_dayofmonth_cos_seq'), F.lit(SESSIONS_MAX_LENGTH), F.lit(True)).alias('sess_et_dayofmonth_cos_seq'),\n",
    "                         # Users sequences before session (last M interactions) \n",
    "                         pad_array_long(F.col('user_pid_seq_bef_sess'), F.lit(MAX_LENGTH_USER_SEQUENCE_BEFORE_SESSION), F.lit(False)).alias('user_pid_seq_bef_sess'),\n",
    "                         pad_array_long(F.col('user_etime_seq_bef_sess'), F.lit(MAX_LENGTH_USER_SEQUENCE_BEFORE_SESSION), F.lit(False)).alias('user_etime_seq_bef_sess'),\n",
    "                         pad_array_int(F.col('user_etype_seq_bef_sess'), F.lit(MAX_LENGTH_USER_SEQUENCE_BEFORE_SESSION), F.lit(False)).alias('user_etype_seq_bef_sess'),\n",
    "                         pad_array_int(F.col('user_csid_seq_bef_sess'), F.lit(MAX_LENGTH_USER_SEQUENCE_BEFORE_SESSION), F.lit(False)).alias('user_csid_seq_bef_sess'),\n",
    "                         pad_array_int(F.col('user_ccid_seq_bef_sess'), F.lit(MAX_LENGTH_USER_SEQUENCE_BEFORE_SESSION), F.lit(False)).alias('user_ccid_seq_bef_sess'),\n",
    "                         pad_array_int(F.col('user_bid_seq_bef_sess'), F.lit(MAX_LENGTH_USER_SEQUENCE_BEFORE_SESSION), F.lit(False)).alias('user_bid_seq_bef_sess'),\n",
    "                         pad_array_float(F.col('user_price_seq_bef_sess'), F.lit(MAX_LENGTH_USER_SEQUENCE_BEFORE_SESSION), F.lit(False)).alias('user_price_seq_bef_sess'),\n",
    "                         pad_array_float(F.col('user_dtime_seq_bef_sess'), F.lit(MAX_LENGTH_USER_SEQUENCE_BEFORE_SESSION), F.lit(False)).alias('user_dtime_seq_bef_sess'),\n",
    "                         pad_array_float(F.col('user_product_recency_seq_bef_sess'), F.lit(MAX_LENGTH_USER_SEQUENCE_BEFORE_SESSION), F.lit(False)).alias('user_product_recency_seq_bef_sess'),\n",
    "                         pad_array_float(F.col('user_relative_price_to_avg_category_seq_bef_sess'), F.lit(MAX_LENGTH_USER_SEQUENCE_BEFORE_SESSION), F.lit(False)).alias('user_relative_price_to_avg_category_seq_bef_sess'),\n",
    "                         pad_array_float(F.col('user_et_hour_sin_seq_bef_sess'), F.lit(MAX_LENGTH_USER_SEQUENCE_BEFORE_SESSION), F.lit(False)).alias('user_et_hour_sin_seq_bef_sess'),\n",
    "                         pad_array_float(F.col('user_et_hour_cos_seq_bef_sess'), F.lit(MAX_LENGTH_USER_SEQUENCE_BEFORE_SESSION), F.lit(False)).alias('user_et_hour_cos_seq_bef_sess'),\n",
    "                         pad_array_float(F.col('user_et_month_sin_seq_bef_sess'), F.lit(MAX_LENGTH_USER_SEQUENCE_BEFORE_SESSION), F.lit(False)).alias('user_et_month_sin_seq_bef_sess'),\n",
    "                         pad_array_float(F.col('user_et_month_cos_seq_bef_sess'), F.lit(MAX_LENGTH_USER_SEQUENCE_BEFORE_SESSION), F.lit(False)).alias('user_et_month_cos_seq_bef_sess'),\n",
    "                         pad_array_float(F.col('user_et_dayofweek_sin_seq_bef_sess'), F.lit(MAX_LENGTH_USER_SEQUENCE_BEFORE_SESSION), F.lit(False)).alias('user_et_dayofweek_sin_seq_bef_sess'),\n",
    "                         pad_array_float(F.col('user_et_dayofweek_cos_seq_bef_sess'), F.lit(MAX_LENGTH_USER_SEQUENCE_BEFORE_SESSION), F.lit(False)).alias('user_et_dayofweek_cos_seq_bef_sess'),\n",
    "                         pad_array_float(F.col('user_et_dayofmonth_sin_seq_bef_sess'), F.lit(MAX_LENGTH_USER_SEQUENCE_BEFORE_SESSION), F.lit(False)).alias('user_et_dayofmonth_sin_seq_bef_sess'),\n",
    "                         pad_array_float(F.col('user_et_dayofmonth_cos_seq_bef_sess'), F.lit(MAX_LENGTH_USER_SEQUENCE_BEFORE_SESSION), F.lit(False)).alias('user_et_dayofmonth_cos_seq_bef_sess'),\n",
    "                    )"
   ]
  },
  {
   "cell_type": "code",
   "execution_count": 63,
   "metadata": {},
   "outputs": [
    {
     "name": "stdout",
     "output_type": "stream",
     "text": [
      "root\n",
      " |-- user_idx: integer (nullable = true)\n",
      " |-- user_session: string (nullable = true)\n",
      " |-- sess_seq_len: integer (nullable = false)\n",
      " |-- session_start_ts: long (nullable = true)\n",
      " |-- session_start_date: string (nullable = true)\n",
      " |-- user_seq_length_bef_sess: integer (nullable = false)\n",
      " |-- user_elapsed_days_bef_sess: float (nullable = true)\n",
      " |-- user_elapsed_days_log_bef_sess_norm: double (nullable = true)\n",
      " |-- sess_pid_seq: array (nullable = true)\n",
      " |    |-- element: long (containsNull = true)\n",
      " |-- sess_etime_seq: array (nullable = true)\n",
      " |    |-- element: long (containsNull = true)\n",
      " |-- sess_etype_seq: array (nullable = true)\n",
      " |    |-- element: integer (containsNull = true)\n",
      " |-- sess_csid_seq: array (nullable = true)\n",
      " |    |-- element: integer (containsNull = true)\n",
      " |-- sess_ccid_seq: array (nullable = true)\n",
      " |    |-- element: integer (containsNull = true)\n",
      " |-- sess_bid_seq: array (nullable = true)\n",
      " |    |-- element: integer (containsNull = true)\n",
      " |-- sess_price_seq: array (nullable = true)\n",
      " |    |-- element: float (containsNull = true)\n",
      " |-- sess_dtime_seq: array (nullable = true)\n",
      " |    |-- element: float (containsNull = true)\n",
      " |-- sess_product_recency_seq: array (nullable = true)\n",
      " |    |-- element: float (containsNull = true)\n",
      " |-- sess_relative_price_to_avg_category_seq: array (nullable = true)\n",
      " |    |-- element: float (containsNull = true)\n",
      " |-- sess_et_hour_sin_seq: array (nullable = true)\n",
      " |    |-- element: float (containsNull = true)\n",
      " |-- sess_et_hour_cos_seq: array (nullable = true)\n",
      " |    |-- element: float (containsNull = true)\n",
      " |-- sess_et_month_sin_seq: array (nullable = true)\n",
      " |    |-- element: float (containsNull = true)\n",
      " |-- sess_et_month_cos_seq: array (nullable = true)\n",
      " |    |-- element: float (containsNull = true)\n",
      " |-- sess_et_dayofweek_sin_seq: array (nullable = true)\n",
      " |    |-- element: float (containsNull = true)\n",
      " |-- sess_et_dayofweek_cos_seq: array (nullable = true)\n",
      " |    |-- element: float (containsNull = true)\n",
      " |-- sess_et_dayofmonth_sin_seq: array (nullable = true)\n",
      " |    |-- element: float (containsNull = true)\n",
      " |-- sess_et_dayofmonth_cos_seq: array (nullable = true)\n",
      " |    |-- element: float (containsNull = true)\n",
      " |-- user_pid_seq_bef_sess: array (nullable = true)\n",
      " |    |-- element: long (containsNull = true)\n",
      " |-- user_etime_seq_bef_sess: array (nullable = true)\n",
      " |    |-- element: long (containsNull = true)\n",
      " |-- user_etype_seq_bef_sess: array (nullable = true)\n",
      " |    |-- element: integer (containsNull = true)\n",
      " |-- user_csid_seq_bef_sess: array (nullable = true)\n",
      " |    |-- element: integer (containsNull = true)\n",
      " |-- user_ccid_seq_bef_sess: array (nullable = true)\n",
      " |    |-- element: integer (containsNull = true)\n",
      " |-- user_bid_seq_bef_sess: array (nullable = true)\n",
      " |    |-- element: integer (containsNull = true)\n",
      " |-- user_price_seq_bef_sess: array (nullable = true)\n",
      " |    |-- element: float (containsNull = true)\n",
      " |-- user_dtime_seq_bef_sess: array (nullable = true)\n",
      " |    |-- element: float (containsNull = true)\n",
      " |-- user_product_recency_seq_bef_sess: array (nullable = true)\n",
      " |    |-- element: float (containsNull = true)\n",
      " |-- user_relative_price_to_avg_category_seq_bef_sess: array (nullable = true)\n",
      " |    |-- element: float (containsNull = true)\n",
      " |-- user_et_hour_sin_seq_bef_sess: array (nullable = true)\n",
      " |    |-- element: float (containsNull = true)\n",
      " |-- user_et_hour_cos_seq_bef_sess: array (nullable = true)\n",
      " |    |-- element: float (containsNull = true)\n",
      " |-- user_et_month_sin_seq_bef_sess: array (nullable = true)\n",
      " |    |-- element: float (containsNull = true)\n",
      " |-- user_et_month_cos_seq_bef_sess: array (nullable = true)\n",
      " |    |-- element: float (containsNull = true)\n",
      " |-- user_et_dayofweek_sin_seq_bef_sess: array (nullable = true)\n",
      " |    |-- element: float (containsNull = true)\n",
      " |-- user_et_dayofweek_cos_seq_bef_sess: array (nullable = true)\n",
      " |    |-- element: float (containsNull = true)\n",
      " |-- user_et_dayofmonth_sin_seq_bef_sess: array (nullable = true)\n",
      " |    |-- element: float (containsNull = true)\n",
      " |-- user_et_dayofmonth_cos_seq_bef_sess: array (nullable = true)\n",
      " |    |-- element: float (containsNull = true)\n",
      "\n"
     ]
    }
   ],
   "source": [
    "sessions_users_seqs_to_export_df.printSchema()"
   ]
  },
  {
   "cell_type": "code",
   "execution_count": 47,
   "metadata": {},
   "outputs": [],
   "source": [
    "#sessions_users_seqs_to_export_df.show()"
   ]
  },
  {
   "cell_type": "markdown",
   "metadata": {},
   "source": [
    "#### Export dataset to parquet, partioned by the session date"
   ]
  },
  {
   "cell_type": "code",
   "execution_count": 64,
   "metadata": {},
   "outputs": [
    {
     "name": "stdout",
     "output_type": "stream",
     "text": [
      "CPU times: user 306 ms, sys: 304 ms, total: 610 ms\n",
      "Wall time: 34min 11s\n"
     ]
    }
   ],
   "source": [
    "%%time\n",
    "OUTPUT_PATH = '/home/jovyan/'\n",
    "sessions_users_seqs_to_export_df.repartition(F.col('session_start_date')) \\\n",
    "                .write.partitionBy('session_start_date') \\\n",
    "                .parquet(os.path.join(OUTPUT_PATH, 'ecommerce_preproc.parquet'))"
   ]
  },
  {
   "cell_type": "code",
   "execution_count": 65,
   "metadata": {},
   "outputs": [
    {
     "data": {
      "text/plain": [
       "1"
      ]
     },
     "execution_count": 65,
     "metadata": {},
     "output_type": "execute_result"
    }
   ],
   "source": [
    "1"
   ]
  },
  {
   "cell_type": "code",
   "execution_count": 66,
   "metadata": {},
   "outputs": [],
   "source": [
    "temp_df = spark.read.parquet('/home/jovyan/ecommerce_preproc.parquet')"
   ]
  },
  {
   "cell_type": "code",
   "execution_count": 68,
   "metadata": {},
   "outputs": [
    {
     "data": {
      "text/plain": [
       "Row(user_idx=512364671, user_session='42b4125f-dcaa-4146-9b60-fa6af738f678', sess_seq_len=3, session_start_ts=1573887609, user_seq_length_bef_sess=20, user_elapsed_days_bef_sess=0.006180555559694767, user_elapsed_days_log_bef_sess_norm=-0.9502605562373473, sess_pid_seq=[1594, 1622, 3027, 0, 0, 0, 0, 0, 0, 0, 0, 0, 0, 0, 0, 0, 0, 0, 0, 0], sess_etime_seq=[1573887609, 1573887690, 1573887798, 0, 0, 0, 0, 0, 0, 0, 0, 0, 0, 0, 0, 0, 0, 0, 0, 0], sess_etype_seq=[2, 2, 2, 0, 0, 0, 0, 0, 0, 0, 0, 0, 0, 0, 0, 0, 0, 0, 0, 0], sess_csid_seq=[10, 10, 10, 0, 0, 0, 0, 0, 0, 0, 0, 0, 0, 0, 0, 0, 0, 0, 0, 0], sess_ccid_seq=[3, 3, 3, 0, 0, 0, 0, 0, 0, 0, 0, 0, 0, 0, 0, 0, 0, 0, 0, 0], sess_bid_seq=[178, 2, 2, 0, 0, 0, 0, 0, 0, 0, 0, 0, 0, 0, 0, 0, 0, 0, 0, 0], sess_price_seq=[-0.5585006475448608, 0.8059459328651428, 0.7533435225486755, 0.0, 0.0, 0.0, 0.0, 0.0, 0.0, 0.0, 0.0, 0.0, 0.0, 0.0, 0.0, 0.0, 0.0, 0.0, 0.0, 0.0], sess_dtime_seq=[-0.022982677444815636, -0.014902586117386818, -0.01220922265201807, 0.0, 0.0, 0.0, 0.0, 0.0, 0.0, 0.0, 0.0, 0.0, 0.0, 0.0, 0.0, 0.0, 0.0, 0.0, 0.0, 0.0], sess_product_recency_seq=[0.7325829267501831, 0.7223544716835022, 0.18874028325080872, 0.0, 0.0, 0.0, 0.0, 0.0, 0.0, 0.0, 0.0, 0.0, 0.0, 0.0, 0.0, 0.0, 0.0, 0.0, 0.0, 0.0], sess_relative_price_to_avg_category_seq=[-0.7634710073471069, 0.26058924198150635, 0.18212413787841797, 0.0, 0.0, 0.0, 0.0, 0.0, 0.0, 0.0, 0.0, 0.0, 0.0, 0.0, 0.0, 0.0, 0.0, 0.0, 0.0, 0.0], sess_et_hour_sin_seq=[0.9659258127212524, 0.9659258127212524, 0.9659258127212524, 0.0, 0.0, 0.0, 0.0, 0.0, 0.0, 0.0, 0.0, 0.0, 0.0, 0.0, 0.0, 0.0, 0.0, 0.0, 0.0, 0.0], sess_et_hour_cos_seq=[-0.258819043636322, -0.258819043636322, -0.258819043636322, 0.0, 0.0, 0.0, 0.0, 0.0, 0.0, 0.0, 0.0, 0.0, 0.0, 0.0, 0.0, 0.0, 0.0, 0.0, 0.0, 0.0], sess_et_month_sin_seq=[-0.5, -0.5, -0.5, 0.0, 0.0, 0.0, 0.0, 0.0, 0.0, 0.0, 0.0, 0.0, 0.0, 0.0, 0.0, 0.0, 0.0, 0.0, 0.0, 0.0], sess_et_month_cos_seq=[0.8660253882408142, 0.8660253882408142, 0.8660253882408142, 0.0, 0.0, 0.0, 0.0, 0.0, 0.0, 0.0, 0.0, 0.0, 0.0, 0.0, 0.0, 0.0, 0.0, 0.0, 0.0, 0.0], sess_et_dayofweek_sin_seq=[8.97597907112413e-09, 8.97597907112413e-09, 8.97597907112413e-09, 0.0, 0.0, 0.0, 0.0, 0.0, 0.0, 0.0, 0.0, 0.0, 0.0, 0.0, 0.0, 0.0, 0.0, 0.0, 0.0, 0.0], sess_et_dayofweek_cos_seq=[1.0, 1.0, 1.0, 0.0, 0.0, 0.0, 0.0, 0.0, 0.0, 0.0, 0.0, 0.0, 0.0, 0.0, 0.0, 0.0, 0.0, 0.0, 0.0, 0.0], sess_et_dayofmonth_sin_seq=[-0.10116832703351974, -0.10116832703351974, -0.10116832703351974, 0.0, 0.0, 0.0, 0.0, 0.0, 0.0, 0.0, 0.0, 0.0, 0.0, 0.0, 0.0, 0.0, 0.0, 0.0, 0.0, 0.0], sess_et_dayofmonth_cos_seq=[-0.9948693513870239, -0.9948693513870239, -0.9948693513870239, 0.0, 0.0, 0.0, 0.0, 0.0, 0.0, 0.0, 0.0, 0.0, 0.0, 0.0, 0.0, 0.0, 0.0, 0.0, 0.0, 0.0], user_pid_seq_bef_sess=[926, 22351, 22351, 57, 57, 926, 926, 411, 926, 392, 392, 926, 3838, 926, 253, 253, 253, 926, 926, 926], user_etime_seq_bef_sess=[1573885401, 1573885905, 1573885949, 1573885973, 1573886155, 1573886215, 1573886330, 1573886423, 1573886552, 1573886584, 1573886706, 1573886715, 1573886770, 1573886826, 1573886844, 1573886876, 1573887039, 1573887048, 1573887067, 1573887075], user_etype_seq_bef_sess=[2, 2, 2, 2, 2, 2, 2, 2, 2, 2, 2, 2, 2, 2, 2, 2, 2, 2, 2, 3], user_csid_seq_bef_sess=[8, 8, 8, 8, 8, 8, 8, 8, 8, 8, 8, 8, 8, 8, 8, 8, 8, 8, 8, 8], user_ccid_seq_bef_sess=[8, 8, 8, 8, 8, 8, 8, 8, 8, 8, 8, 8, 8, 8, 8, 8, 8, 8, 8, 8], user_bid_seq_bef_sess=[22, 22, 22, 2, 2, 22, 22, 2, 22, 8, 8, 22, 8, 22, 2, 2, 2, 22, 22, 22], user_price_seq_bef_sess=[-0.6297080516815186, -0.7734299302101135, -0.7734299302101135, -0.6495150923728943, -0.6495150923728943, -0.6297080516815186, -0.6297080516815186, -0.674391508102417, -0.6297080516815186, -0.330639123916626, -0.330639123916626, -0.6297080516815186, -0.4762011766433716, -0.6297080516815186, -0.26791781187057495, -0.26791781187057495, -0.26791781187057495, -0.6297080516815186, -0.6297080516815186, -0.6297080516815186], user_dtime_seq_bef_sess=[-0.21783852577209473, 0.581081748008728, -0.21783852577209473, -0.41205477714538574, 0.24568195641040802, -0.11732111871242523, 0.09504497051239014, 0.025559240952134132, 0.13269439339637756, -0.320319801568985, 0.11440563946962357, -0.7148152589797974, -0.14557932317256927, -0.1397310346364975, -0.5027341246604919, -0.320319801568985, 0.20946143567562103, -0.7148152589797974, -0.4857858121395111, -0.7496284246444702], user_product_recency_seq_bef_sess=[0.7319803833961487, -3.340263605117798, -3.3398706912994385, 0.7331972122192383, 0.7332503795623779, 0.7322185039520264, 0.7322521805763245, 0.7328405380249023, 0.7323170900344849, 0.730521023273468, 0.7305567264556885, 0.7323647737503052, 0.7302576303482056, 0.7323972582817078, 0.7333561778068542, 0.733365535736084, 0.7334131598472595, 0.7324621677398682, 0.7324677109718323, 0.7324700951576233], user_relative_price_to_avg_category_seq_bef_sess=[-0.608980655670166, -0.6726941466331482, -0.6726941466331482, -0.6184381246566772, -0.6184381246566772, -0.608980655670166, -0.608980655670166, -0.6299972534179688, -0.608980655670166, -0.4345981776714325, -0.4345981776714325, -0.608980655670166, -0.5274030566215515, -0.608980655670166, -0.3892465829849243, -0.3892465829849243, -0.3892465829849243, -0.608980655670166, -0.608980655670166, -0.608980655670166], user_et_hour_sin_seq_bef_sess=[1.0, 1.0, 1.0, 1.0, 1.0, 1.0, 1.0, 1.0, 1.0, 1.0, 1.0, 1.0, 1.0, 1.0, 1.0, 1.0, 1.0, 1.0, 1.0, 1.0], user_et_hour_cos_seq_bef_sess=[-2.6179938217296694e-09, -2.6179938217296694e-09, -2.6179938217296694e-09, -2.6179938217296694e-09, -2.6179938217296694e-09, -2.6179938217296694e-09, -2.6179938217296694e-09, -2.6179938217296694e-09, -2.6179938217296694e-09, -2.6179938217296694e-09, -2.6179938217296694e-09, -2.6179938217296694e-09, -2.6179938217296694e-09, -2.6179938217296694e-09, -2.6179938217296694e-09, -2.6179938217296694e-09, -2.6179938217296694e-09, -2.6179938217296694e-09, -2.6179938217296694e-09, -2.6179938217296694e-09], user_et_month_sin_seq_bef_sess=[-0.5, -0.5, -0.5, -0.5, -0.5, -0.5, -0.5, -0.5, -0.5, -0.5, -0.5, -0.5, -0.5, -0.5, -0.5, -0.5, -0.5, -0.5, -0.5, -0.5], user_et_month_cos_seq_bef_sess=[0.8660253882408142, 0.8660253882408142, 0.8660253882408142, 0.8660253882408142, 0.8660253882408142, 0.8660253882408142, 0.8660253882408142, 0.8660253882408142, 0.8660253882408142, 0.8660253882408142, 0.8660253882408142, 0.8660253882408142, 0.8660253882408142, 0.8660253882408142, 0.8660253882408142, 0.8660253882408142, 0.8660253882408142, 0.8660253882408142, 0.8660253882408142, 0.8660253882408142], user_et_dayofweek_sin_seq_bef_sess=[8.97597907112413e-09, 8.97597907112413e-09, 8.97597907112413e-09, 8.97597907112413e-09, 8.97597907112413e-09, 8.97597907112413e-09, 8.97597907112413e-09, 8.97597907112413e-09, 8.97597907112413e-09, 8.97597907112413e-09, 8.97597907112413e-09, 8.97597907112413e-09, 8.97597907112413e-09, 8.97597907112413e-09, 8.97597907112413e-09, 8.97597907112413e-09, 8.97597907112413e-09, 8.97597907112413e-09, 8.97597907112413e-09, 8.97597907112413e-09], user_et_dayofweek_cos_seq_bef_sess=[1.0, 1.0, 1.0, 1.0, 1.0, 1.0, 1.0, 1.0, 1.0, 1.0, 1.0, 1.0, 1.0, 1.0, 1.0, 1.0, 1.0, 1.0, 1.0, 1.0], user_et_dayofmonth_sin_seq_bef_sess=[-0.10116832703351974, -0.10116832703351974, -0.10116832703351974, -0.10116832703351974, -0.10116832703351974, -0.10116832703351974, -0.10116832703351974, -0.10116832703351974, -0.10116832703351974, -0.10116832703351974, -0.10116832703351974, -0.10116832703351974, -0.10116832703351974, -0.10116832703351974, -0.10116832703351974, -0.10116832703351974, -0.10116832703351974, -0.10116832703351974, -0.10116832703351974, -0.10116832703351974], user_et_dayofmonth_cos_seq_bef_sess=[-0.9948693513870239, -0.9948693513870239, -0.9948693513870239, -0.9948693513870239, -0.9948693513870239, -0.9948693513870239, -0.9948693513870239, -0.9948693513870239, -0.9948693513870239, -0.9948693513870239, -0.9948693513870239, -0.9948693513870239, -0.9948693513870239, -0.9948693513870239, -0.9948693513870239, -0.9948693513870239, -0.9948693513870239, -0.9948693513870239, -0.9948693513870239, -0.9948693513870239], session_start_date=datetime.date(2019, 11, 16))"
      ]
     },
     "execution_count": 68,
     "metadata": {},
     "output_type": "execute_result"
    }
   ],
   "source": [
    "temp_df.take(1)[0]"
   ]
  },
  {
   "cell_type": "code",
   "execution_count": null,
   "metadata": {},
   "outputs": [],
   "source": []
  }
 ],
 "metadata": {
  "kernelspec": {
   "display_name": "Python 3",
   "language": "python",
   "name": "python3"
  },
  "language_info": {
   "codemirror_mode": {
    "name": "ipython",
    "version": 3
   },
   "file_extension": ".py",
   "mimetype": "text/x-python",
   "name": "python",
   "nbconvert_exporter": "python",
   "pygments_lexer": "ipython3",
   "version": "3.7.6"
  }
 },
 "nbformat": 4,
 "nbformat_minor": 4
}
