{
 "cells": [
  {
   "cell_type": "markdown",
   "metadata": {},
   "source": [
    "# Read, Parse, Process E-Commerce data on PySpark\n",
    "eCommerce dataset: https://www.kaggle.com/mkechinov/ecommerce-behavior-data-from-multi-category"
   ]
  },
  {
   "cell_type": "code",
   "execution_count": 1,
   "metadata": {},
   "outputs": [],
   "source": [
    "import numpy as np # linear algebra\n",
    "import pandas as pd # data processing, CSV file I/O (e.g. pd.read_csv)\n",
    "import os"
   ]
  },
  {
   "cell_type": "markdown",
   "metadata": {},
   "source": [
    "## Data Download from Kaggle"
   ]
  },
  {
   "cell_type": "code",
   "execution_count": 3,
   "metadata": {},
   "outputs": [
    {
     "name": "stdout",
     "output_type": "stream",
     "text": [
      "Collecting kaggle\n",
      "  Downloading kaggle-1.5.6.tar.gz (58 kB)\n",
      "\u001b[K     |████████████████████████████████| 58 kB 2.0 MB/s eta 0:00:011\n",
      "\u001b[?25hCollecting urllib3<1.25,>=1.21.1\n",
      "  Downloading urllib3-1.24.3-py2.py3-none-any.whl (118 kB)\n",
      "\u001b[K     |████████████████████████████████| 118 kB 11.3 MB/s eta 0:00:01\n",
      "\u001b[?25hRequirement already satisfied, skipping upgrade: six>=1.10 in /opt/conda/lib/python3.7/site-packages (from kaggle) (1.14.0)\n",
      "Requirement already satisfied, skipping upgrade: certifi in /opt/conda/lib/python3.7/site-packages (from kaggle) (2020.4.5.1)\n",
      "Requirement already satisfied, skipping upgrade: python-dateutil in /opt/conda/lib/python3.7/site-packages (from kaggle) (2.8.1)\n",
      "Requirement already satisfied, skipping upgrade: requests in /opt/conda/lib/python3.7/site-packages (from kaggle) (2.23.0)\n",
      "Requirement already satisfied, skipping upgrade: tqdm in /opt/conda/lib/python3.7/site-packages (from kaggle) (4.45.0)\n",
      "Collecting python-slugify\n",
      "  Downloading python-slugify-4.0.0.tar.gz (8.8 kB)\n",
      "Requirement already satisfied, skipping upgrade: idna<3,>=2.5 in /opt/conda/lib/python3.7/site-packages (from requests->kaggle) (2.9)\n",
      "Requirement already satisfied, skipping upgrade: chardet<4,>=3.0.2 in /opt/conda/lib/python3.7/site-packages (from requests->kaggle) (3.0.4)\n",
      "Collecting text-unidecode>=1.3\n",
      "  Downloading text_unidecode-1.3-py2.py3-none-any.whl (78 kB)\n",
      "\u001b[K     |████████████████████████████████| 78 kB 12.1 MB/s eta 0:00:01\n",
      "\u001b[?25hBuilding wheels for collected packages: kaggle, python-slugify\n",
      "  Building wheel for kaggle (setup.py) ... \u001b[?25ldone\n",
      "\u001b[?25h  Created wheel for kaggle: filename=kaggle-1.5.6-py3-none-any.whl size=72859 sha256=f6df588ba0dce2fdaa560c7260b6f24d4c3d19dddd40a82c5f8e59d4fb7e44e1\n",
      "  Stored in directory: /home/jovyan/.cache/pip/wheels/aa/e7/e7/eb3c3d514c33294d77ddd5a856bdd58dc9c1fabbed59a02a2b\n",
      "  Building wheel for python-slugify (setup.py) ... \u001b[?25ldone\n",
      "\u001b[?25h  Created wheel for python-slugify: filename=python_slugify-4.0.0-py2.py3-none-any.whl size=5486 sha256=ccd5fc462f4c2e3aff0d34f878d667cdf53acd018d64939570e8ce3c1ede5e4e\n",
      "  Stored in directory: /home/jovyan/.cache/pip/wheels/7c/26/30/5f3d95da00fe94d0c4a5ec5b4ffd2e1ae18545f5fa61752e52\n",
      "Successfully built kaggle python-slugify\n",
      "Installing collected packages: urllib3, text-unidecode, python-slugify, kaggle\n",
      "  Attempting uninstall: urllib3\n",
      "    Found existing installation: urllib3 1.25.9\n",
      "    Uninstalling urllib3-1.25.9:\n",
      "      Successfully uninstalled urllib3-1.25.9\n",
      "Successfully installed kaggle-1.5.6 python-slugify-4.0.0 text-unidecode-1.3 urllib3-1.24.3\n"
     ]
    }
   ],
   "source": [
    "# ! pip install kaggle --upgrade"
   ]
  },
  {
   "cell_type": "code",
   "execution_count": 17,
   "metadata": {},
   "outputs": [],
   "source": [
    "# NOTE: first to get kaggle api tiken from account page in Kaggle. Place it at ~/.kaggle/kaggle.json\n",
    "# mkdir ~/.kaggle/\n",
    "# nano ~/.kaggle/kaggle.json\n",
    "# chmod 600 ~/.kaggle/kaggle.json\n",
    "# kaggle datasets download mkechinov/ecommerce-behavior-data-from-multi-category-store\n",
    "# unzip ecommerce-behavior-data-from-multi-category-store.zip"
   ]
  },
  {
   "cell_type": "markdown",
   "metadata": {},
   "source": [
    "## Setup Spark"
   ]
  },
  {
   "cell_type": "code",
   "execution_count": 2,
   "metadata": {},
   "outputs": [],
   "source": [
    "import pyspark\n",
    "import pyspark.sql.functions as F\n",
    "from pyspark.sql.functions import udf\n",
    "from pyspark.ml.evaluation import BinaryClassificationEvaluator\n",
    "from pyspark.sql.types import *\n",
    "from pyspark.ml.recommendation import ALS\n",
    "from pyspark.sql import Window\n",
    "from pyspark.ml.linalg import Vectors, Vector, DenseVector, SparseVector, VectorUDT\n",
    "from pyspark.ml.stat import Summarizer"
   ]
  },
  {
   "cell_type": "code",
   "execution_count": 3,
   "metadata": {},
   "outputs": [],
   "source": [
    "from pyspark.sql import SparkSession\n",
    "\n",
    "# Setup for 400GB Mem machine\n",
    "config = pyspark.SparkConf().setAll([('spark.executor.memory', '350g'),\n",
    "                                     ('spark.executor.instances', '1'),\n",
    "                                     ('spark.cores.max', '64'),\n",
    "                                     #('spark.cores.max', '3'),\n",
    "                                     ('spark.executor.cores', '64'),\n",
    "                                     ('spark.driver.memory','30g')\n",
    "                                    ])\n",
    "spark = SparkSession.builder.config(conf=config).appName(\"JobName\").getOrCreate()\n",
    "\n",
    "# Setup for 200GB Mem machine\n",
    "# config = pyspark.SparkConf().setAll([('spark.executor.cores', '4'),\n",
    "#                                      ('spark.executor.instances', '2'),\n",
    "#                                      ('spark.executor.memory', '12g'), \n",
    "#                                      ('spark.executor.memoryOverhead', '2g'), \n",
    "#                                      #('spark.driver.cores', '4'),\n",
    "#                                      #('spark.driver.memory', '12g'),\n",
    "#                                      ('spark.dynamicAllocation.enabled', 'false'),\n",
    "#                                      ('spark.io.compression.codec', 'snappy')\n",
    "#                                     ])\n",
    "\n",
    "# spark = SparkSession.builder.config(conf=config).appName(\"Recsys-Transformer-Research\").getOrCreate()"
   ]
  },
  {
   "cell_type": "markdown",
   "metadata": {},
   "source": [
    "## Read Data"
   ]
  },
  {
   "cell_type": "markdown",
   "metadata": {},
   "source": [
    "#### Load 4 months dataset"
   ]
  },
  {
   "cell_type": "code",
   "execution_count": 4,
   "metadata": {},
   "outputs": [],
   "source": [
    "DATA_PATH = '/home/jovyan/ecommerce_raw'"
   ]
  },
  {
   "cell_type": "code",
   "execution_count": 5,
   "metadata": {},
   "outputs": [],
   "source": [
    "data_csv_01 = os.path.join(DATA_PATH, \"2019-Oct.csv\")\n",
    "data_csv_02 = os.path.join(DATA_PATH, \"2019-Nov.csv\")\n",
    "# data_csv_03 = \"/workspace/ecommerce-behavior-data-from-multi-category-store/2019-Dec.csv\"\n",
    "# data_csv_04 = \"/workspace/ecommerce-behavior-data-from-multi-category-store/2020-Jan.csv\"\n",
    "\n",
    "data_list = [data_csv_01, data_csv_02]"
   ]
  },
  {
   "cell_type": "markdown",
   "metadata": {},
   "source": [
    "#### Read through Spark from CSV"
   ]
  },
  {
   "cell_type": "code",
   "execution_count": 6,
   "metadata": {},
   "outputs": [
    {
     "name": "stdout",
     "output_type": "stream",
     "text": [
      "root\n",
      " |-- event_time: string (nullable = true)\n",
      " |-- event_type: string (nullable = true)\n",
      " |-- product_id: integer (nullable = true)\n",
      " |-- category_id: long (nullable = true)\n",
      " |-- category_code: string (nullable = true)\n",
      " |-- brand: string (nullable = true)\n",
      " |-- price: double (nullable = true)\n",
      " |-- user_id: integer (nullable = true)\n",
      " |-- user_session: string (nullable = true)\n",
      "\n"
     ]
    }
   ],
   "source": [
    "_df_sb = spark.read.csv(data_list, inferSchema = True, header = True) #.limit(1000)\n",
    "_df_sb.printSchema()"
   ]
  },
  {
   "cell_type": "markdown",
   "metadata": {},
   "source": [
    "#### Convert timestamp as the type of datetime"
   ]
  },
  {
   "cell_type": "code",
   "execution_count": 7,
   "metadata": {},
   "outputs": [],
   "source": [
    "_df_sb_a = _df_sb.withColumn('event_time_dt', F.to_timestamp('event_time','yyyy-MM-dd HH:mm:ss')) \\\n",
    "                 .withColumn('event_time_ts', F.unix_timestamp('event_time_dt')) \\\n",
    "                 .withColumn('et_hour', F.hour('event_time_dt'))\\\n",
    "                 .withColumn('et_dayofweek', F.dayofweek('event_time_dt'))\\\n",
    "                 .withColumn('et_dayofmonth', F.dayofmonth('event_time_dt'))\\\n",
    "                 .withColumn('et_month', F.month('event_time_dt'))                "
   ]
  },
  {
   "cell_type": "code",
   "execution_count": 8,
   "metadata": {},
   "outputs": [],
   "source": [
    "def cyclical_feature(value, func, max_value):\n",
    "    if func == 'sin':\n",
    "        f = np.sin\n",
    "    elif func == 'cos':\n",
    "        f = np.cos\n",
    "    else:\n",
    "        raise Exception('Invalid func (expected: sin|cos)')\n",
    "        \n",
    "    value_scaled = (value + 1e-8) / max_value\n",
    "    return float(f(2.*np.pi*value_scaled))\n",
    "\n",
    "@udf(returnType=FloatType())\n",
    "def cyclical_feature_udf(value, func, max_value):\n",
    "    return cyclical_feature(value, func, max_value)"
   ]
  },
  {
   "cell_type": "code",
   "execution_count": 9,
   "metadata": {},
   "outputs": [],
   "source": [
    "# Generating cyclical features to model continuity on temporal features\n",
    "_df_sb_a = _df_sb_a.withColumn('et_hour_sin', cyclical_feature_udf(F.col('et_hour'), F.lit('sin'), F.lit(24))) \\\n",
    "                   .withColumn('et_hour_cos', cyclical_feature_udf(F.col('et_hour'), F.lit('cos'), F.lit(24))) \\\n",
    "                   .withColumn('et_dayofweek_sin', cyclical_feature_udf(F.col('et_dayofweek'), F.lit('sin'), F.lit(7))) \\\n",
    "                   .withColumn('et_dayofweek_cos', cyclical_feature_udf(F.col('et_dayofweek'), F.lit('cos'), F.lit(7))) \\\n",
    "                   .withColumn('et_dayofmonth_sin', cyclical_feature_udf(F.col('et_dayofmonth'), F.lit('sin'), F.lit(31))) \\\n",
    "                   .withColumn('et_dayofmonth_cos', cyclical_feature_udf(F.col('et_dayofmonth'), F.lit('cos'), F.lit(31))) \\\n",
    "                   .withColumn('et_month_sin', cyclical_feature_udf(F.col('et_month'), F.lit('sin'), F.lit(12))) \\\n",
    "                   .withColumn('et_month_cos', cyclical_feature_udf(F.col('et_month'), F.lit('cos'), F.lit(12)))"
   ]
  },
  {
   "cell_type": "code",
   "execution_count": 150,
   "metadata": {},
   "outputs": [],
   "source": [
    "'''\n",
    "l = []\n",
    "for i in range(24):\n",
    "    s = cyclical_feature(i, 'sin', 24)\n",
    "    c = cyclical_feature(i, 'cos', 24)\n",
    "    l.append((s,c))\n",
    "    \n",
    "df = pd.DataFrame(l, columns=['sin', 'cos']).reset_index()\n",
    "df.plot.line(x='index', y='sin')\n",
    "df.plot.line(x='index', y='cos')\n",
    "'''"
   ]
  },
  {
   "cell_type": "code",
   "execution_count": null,
   "metadata": {},
   "outputs": [],
   "source": []
  },
  {
   "cell_type": "code",
   "execution_count": 10,
   "metadata": {},
   "outputs": [],
   "source": [
    "# Recency feature\n",
    "item_first_interaction_df = _df_sb_a.groupBy('product_id').agg(F.min('event_time_ts').alias('prod_first_event_time_ts'))\n",
    "_df_sb_a = _df_sb_a.join(item_first_interaction_df, on='product_id', how='inner') \\\n",
    "            .withColumn('product_recency_days', (F.col('event_time_ts') - F.col('prod_first_event_time_ts')) / (60*60*24)) \\\n",
    "            .withColumn('product_recency_days_log', F.log1p('product_recency_days'))"
   ]
  },
  {
   "cell_type": "code",
   "execution_count": 11,
   "metadata": {},
   "outputs": [],
   "source": [
    "#Smoothing price long-tailed distribution\n",
    "_df_sb_a = _df_sb_a.withColumn('price_log', F.log1p('price'))"
   ]
  },
  {
   "cell_type": "code",
   "execution_count": 12,
   "metadata": {},
   "outputs": [],
   "source": [
    "#Relative Price to the average price for the category_id\n",
    "avg_category_id_prices_df = _df_sb_a.groupBy('category_id').agg(F.mean('price').alias('avg_category_id_price'))\n",
    "_df_sb_a = _df_sb_a.join(avg_category_id_prices_df, on='category_id', how='inner') \\\n",
    "        .withColumn('relative_price_to_avg_category_id', (F.col('price') - F.col('avg_category_id_price')) / F.col('avg_category_id_price'))"
   ]
  },
  {
   "cell_type": "code",
   "execution_count": 13,
   "metadata": {},
   "outputs": [],
   "source": [
    "#_df_sb_a.groupBy('product_id').agg(F.stddev('price').alias('std')).where(~F.isnan('std')).agg(F.mean('std')).show()"
   ]
  },
  {
   "cell_type": "code",
   "execution_count": 14,
   "metadata": {},
   "outputs": [],
   "source": [
    "#_df_sb_a.groupBy('category_id').agg(F.stddev('price').alias('std')).where(~F.isnan('std')).agg(F.mean('std')).show()"
   ]
  },
  {
   "cell_type": "code",
   "execution_count": 15,
   "metadata": {},
   "outputs": [],
   "source": [
    "#_df_sb_a.groupBy('category_code').agg(F.stddev('price').alias('std')).agg(F.mean('std')).show()"
   ]
  },
  {
   "cell_type": "markdown",
   "metadata": {},
   "source": [
    "#### String -> Discrete Feature"
   ]
  },
  {
   "cell_type": "markdown",
   "metadata": {},
   "source": [
    "API: https://spark.apache.org/docs/latest/api/python/pyspark.ml.html?pyspark.ml.feature.StringIndexer#pyspark.ml.feature.StringIndexer\n",
    "\n",
    "How to apply:\n",
    "https://stackoverflow.com/questions/36942233/apply-stringindexer-to-several-columns-in-a-pyspark-dataframe"
   ]
  },
  {
   "cell_type": "code",
   "execution_count": 16,
   "metadata": {},
   "outputs": [],
   "source": [
    "from pyspark.ml.feature import StringIndexer\n",
    "from pyspark.ml import Pipeline\n",
    "\n",
    "#Null values are treated by handleInvalid=\"keep\" with a special bucket\n",
    "product_idxer = StringIndexer(inputCol=\"product_id\", outputCol=\"product_idx\", handleInvalid=\"keep\", stringOrderType=\"frequencyDesc\")\n",
    "category_id_idxer = StringIndexer(inputCol=\"category_id\", outputCol=\"category_sub_idx\", handleInvalid=\"keep\", stringOrderType=\"frequencyDesc\")\n",
    "category_code_idxer = StringIndexer(inputCol=\"category_code\", outputCol=\"category_code_idx\", handleInvalid=\"keep\", stringOrderType=\"frequencyDesc\")\n",
    "brand_idxer = StringIndexer(inputCol=\"brand\", outputCol=\"brand_idx\", handleInvalid=\"keep\", stringOrderType=\"frequencyDesc\")\n",
    "#userid_idxer = StringIndexer(inputCol=\"user_id\", outputCol=\"user_idx\", handleInvalid=\"keep\", stringOrderType=\"frequencyDesc\")\n",
    "event_type_idxer = StringIndexer(inputCol=\"event_type\", outputCol=\"event_type_idx\", handleInvalid=\"keep\", stringOrderType=\"frequencyDesc\")\n",
    "\n",
    "\n",
    "#NOTE: userid_idxer gets error!\n",
    "\n",
    "indexers = [product_idxer, category_id_idxer, category_code_idxer, brand_idxer, event_type_idxer]   #userid_idxer\n",
    "indexing_pipeline = Pipeline(stages = indexers)\n",
    "         \n",
    "indexing_model = indexing_pipeline.fit(_df_sb_a)\n",
    "_df_sb_a_r = indexing_model.transform(_df_sb_a)"
   ]
  },
  {
   "cell_type": "code",
   "execution_count": 17,
   "metadata": {},
   "outputs": [],
   "source": [
    "#Just to keep the pipeline unchanged after disabling String Indexing for the User\n",
    "_df_sb_a_r = _df_sb_a_r.withColumn('user_idx', F.col('user_id'))"
   ]
  },
  {
   "cell_type": "markdown",
   "metadata": {},
   "source": [
    "#### Add +2 to indexed columns"
   ]
  },
  {
   "cell_type": "code",
   "execution_count": 18,
   "metadata": {},
   "outputs": [],
   "source": [
    "start_idx = 2\n",
    "\n",
    "_df_sb_a_r = _df_sb_a_r.withColumn('product_idx', (F.col('product_idx')+start_idx)) \\\n",
    "                       .withColumn('category_sub_idx', (F.col('category_sub_idx')+start_idx)) \\\n",
    "                       .withColumn('category_code_idx', (F.col('category_code_idx')+start_idx)) \\\n",
    "                       .withColumn('brand_idx', (F.col('brand_idx')+start_idx)) \\\n",
    "                       .withColumn('event_type_idx', F.col('event_type_idx')+start_idx)          \n",
    "\n",
    "#.withColumn('user_idx', (F.col('user_idx')+start_idx)) \\"
   ]
  },
  {
   "cell_type": "markdown",
   "metadata": {},
   "source": [
    "### Get statistics"
   ]
  },
  {
   "cell_type": "code",
   "execution_count": 19,
   "metadata": {},
   "outputs": [
    {
     "name": "stdout",
     "output_type": "stream",
     "text": [
      "+----------------------------+\n",
      "|count(DISTINCT user_session)|\n",
      "+----------------------------+\n",
      "|                    23016650|\n",
      "+----------------------------+\n",
      "\n"
     ]
    }
   ],
   "source": [
    "from pyspark.sql.functions import countDistinct\n",
    "gr = _df_sb_a_r.agg(F.countDistinct(\"user_session\"))\n",
    "gr.show()"
   ]
  },
  {
   "cell_type": "code",
   "execution_count": 20,
   "metadata": {},
   "outputs": [
    {
     "name": "stdout",
     "output_type": "stream",
     "text": [
      "+-----------------------+\n",
      "|count(DISTINCT user_id)|\n",
      "+-----------------------+\n",
      "|                5316649|\n",
      "+-----------------------+\n",
      "\n"
     ]
    }
   ],
   "source": [
    "gr = _df_sb_a_r.agg(F.countDistinct(\"user_id\"))\n",
    "gr.show()"
   ]
  },
  {
   "cell_type": "code",
   "execution_count": 21,
   "metadata": {},
   "outputs": [
    {
     "name": "stdout",
     "output_type": "stream",
     "text": [
      "+--------------------------+\n",
      "|count(DISTINCT product_id)|\n",
      "+--------------------------+\n",
      "|                    206876|\n",
      "+--------------------------+\n",
      "\n"
     ]
    }
   ],
   "source": [
    "gr = _df_sb_a_r.agg(F.countDistinct(\"product_id\"))\n",
    "gr.show()"
   ]
  },
  {
   "cell_type": "code",
   "execution_count": 19,
   "metadata": {},
   "outputs": [
    {
     "name": "stdout",
     "output_type": "stream",
     "text": [
      "+---------------------------+\n",
      "|count(DISTINCT category_id)|\n",
      "+---------------------------+\n",
      "|                        691|\n",
      "+---------------------------+\n",
      "\n"
     ]
    }
   ],
   "source": [
    "gr = _df_sb_a_r.agg(F.countDistinct(\"category_id\"))\n",
    "gr.show()"
   ]
  },
  {
   "cell_type": "markdown",
   "metadata": {},
   "source": [
    "#### Normalize Continuous Features"
   ]
  },
  {
   "cell_type": "markdown",
   "metadata": {},
   "source": [
    "#### Price (log)"
   ]
  },
  {
   "cell_type": "code",
   "execution_count": 20,
   "metadata": {},
   "outputs": [
    {
     "name": "stdout",
     "output_type": "stream",
     "text": [
      "5.039902138802762 1.2186780414302592\n",
      "CPU times: user 9.74 ms, sys: 7.56 ms, total: 17.3 ms\n",
      "Wall time: 50.8 s\n"
     ]
    }
   ],
   "source": [
    "%%time\n",
    "price_log_mean, price_log_std = tuple(_df_sb_a_r.agg(F.mean('price_log'), F.stddev('price_log')).take(1)[0])\n",
    "print(price_log_mean, price_log_std)"
   ]
  },
  {
   "cell_type": "code",
   "execution_count": 21,
   "metadata": {},
   "outputs": [],
   "source": [
    "#Z-norm\n",
    "_df_sb_a_r = _df_sb_a_r.withColumn('price_norm', (F.col('price_log') - price_log_mean) / (price_log_std + 1e-8))"
   ]
  },
  {
   "cell_type": "markdown",
   "metadata": {},
   "source": [
    "#### Elapsed days (log)"
   ]
  },
  {
   "cell_type": "code",
   "execution_count": 22,
   "metadata": {},
   "outputs": [
    {
     "name": "stdout",
     "output_type": "stream",
     "text": [
      "3.2383064627782043 0.8394709773058031\n",
      "CPU times: user 6.41 ms, sys: 16.4 ms, total: 22.8 ms\n",
      "Wall time: 1min 19s\n"
     ]
    }
   ],
   "source": [
    "%%time\n",
    "product_recency_days_log_mean, product_recency_days_log_std = tuple(_df_sb_a_r.agg(F.mean('product_recency_days_log'), F.stddev('product_recency_days_log')).take(1)[0])\n",
    "print(product_recency_days_log_mean, product_recency_days_log_std)"
   ]
  },
  {
   "cell_type": "code",
   "execution_count": 23,
   "metadata": {},
   "outputs": [],
   "source": [
    "#Z-norm\n",
    "_df_sb_a_r = _df_sb_a_r.withColumn('product_recency_days_norm', (F.col('product_recency_days_log') - product_recency_days_log_mean) / (product_recency_days_log_std + 1e-8))"
   ]
  },
  {
   "cell_type": "markdown",
   "metadata": {},
   "source": [
    "## Processing sessions sequences"
   ]
  },
  {
   "cell_type": "markdown",
   "metadata": {},
   "source": [
    "#### Aggregate by session id (create sequence as type of array)"
   ]
  },
  {
   "cell_type": "code",
   "execution_count": 24,
   "metadata": {},
   "outputs": [],
   "source": [
    "session_window = Window.partitionBy('user_session').orderBy('event_time_ts')"
   ]
  },
  {
   "cell_type": "code",
   "execution_count": 25,
   "metadata": {},
   "outputs": [],
   "source": [
    "_df_sb_a_wprevt = _df_sb_a_r.withColumn('prev_event_time_ts', F.lag('event_time_ts').over(session_window)) \\\n",
    "                            .withColumn('delta_event_time',F.when(F.isnull(F.col('prev_event_time_ts')), 0) \\\n",
    "                                                            .otherwise(F.col('event_time_ts') - F.col('prev_event_time_ts')))"
   ]
  },
  {
   "cell_type": "markdown",
   "metadata": {},
   "source": [
    "#### Delta time between session clicks (secs)"
   ]
  },
  {
   "cell_type": "code",
   "execution_count": 26,
   "metadata": {},
   "outputs": [
    {
     "name": "stdout",
     "output_type": "stream",
     "text": [
      "230.3930558795769 10024.639844770056\n",
      "CPU times: user 5.86 ms, sys: 35.2 ms, total: 41 ms\n",
      "Wall time: 2min 52s\n"
     ]
    }
   ],
   "source": [
    "%%time\n",
    "session_delta_time_mean, session_delta_time_std = tuple(_df_sb_a_wprevt.agg(\n",
    "                            F.mean('delta_event_time').alias('delta_event_time_mean'),\n",
    "                            F.stddev('delta_event_time').alias('delta_event_time_std')).take(1)[0])\n",
    "print(session_delta_time_mean, session_delta_time_std)\n",
    "\n",
    "#Z-norm\n",
    "_df_sb_a_wprevt = _df_sb_a_wprevt.withColumn('delta_event_time_norm', (F.col('delta_event_time') - session_delta_time_mean) / session_delta_time_std)"
   ]
  },
  {
   "cell_type": "code",
   "execution_count": 27,
   "metadata": {},
   "outputs": [
    {
     "name": "stdout",
     "output_type": "stream",
     "text": [
      "root\n",
      " |-- category_id: long (nullable = true)\n",
      " |-- product_id: integer (nullable = true)\n",
      " |-- event_time: string (nullable = true)\n",
      " |-- event_type: string (nullable = true)\n",
      " |-- category_code: string (nullable = true)\n",
      " |-- brand: string (nullable = true)\n",
      " |-- price: double (nullable = true)\n",
      " |-- user_id: integer (nullable = true)\n",
      " |-- user_session: string (nullable = true)\n",
      " |-- event_time_dt: timestamp (nullable = true)\n",
      " |-- event_time_ts: long (nullable = true)\n",
      " |-- et_hour: integer (nullable = true)\n",
      " |-- et_dayofweek: integer (nullable = true)\n",
      " |-- et_dayofmonth: integer (nullable = true)\n",
      " |-- et_month: integer (nullable = true)\n",
      " |-- et_hour_sin: float (nullable = true)\n",
      " |-- et_hour_cos: float (nullable = true)\n",
      " |-- et_dayofweek_sin: float (nullable = true)\n",
      " |-- et_dayofweek_cos: float (nullable = true)\n",
      " |-- et_dayofmonth_sin: float (nullable = true)\n",
      " |-- et_dayofmonth_cos: float (nullable = true)\n",
      " |-- et_month_sin: float (nullable = true)\n",
      " |-- et_month_cos: float (nullable = true)\n",
      " |-- prod_first_event_time_ts: long (nullable = true)\n",
      " |-- product_recency_days: double (nullable = true)\n",
      " |-- product_recency_days_log: double (nullable = true)\n",
      " |-- price_log: double (nullable = true)\n",
      " |-- avg_category_id_price: double (nullable = true)\n",
      " |-- relative_price_to_avg_category_id: double (nullable = true)\n",
      " |-- product_idx: double (nullable = false)\n",
      " |-- category_sub_idx: double (nullable = false)\n",
      " |-- category_code_idx: double (nullable = false)\n",
      " |-- brand_idx: double (nullable = false)\n",
      " |-- event_type_idx: double (nullable = false)\n",
      " |-- user_idx: integer (nullable = true)\n",
      " |-- price_norm: double (nullable = true)\n",
      " |-- product_recency_days_norm: double (nullable = true)\n",
      " |-- prev_event_time_ts: long (nullable = true)\n",
      " |-- delta_event_time: long (nullable = true)\n",
      " |-- delta_event_time_norm: double (nullable = true)\n",
      "\n"
     ]
    }
   ],
   "source": [
    "_df_sb_a_wprevt.printSchema()"
   ]
  },
  {
   "cell_type": "code",
   "execution_count": 28,
   "metadata": {},
   "outputs": [],
   "source": [
    "def get_non_repeated_items(values):\n",
    "    #Returns unique items, keep the order of their first occurence\n",
    "    result = []\n",
    "    for v in values:\n",
    "        if v not in result:\n",
    "            result.append(v)\n",
    "    return result\n",
    "\n",
    "@udf(returnType=ArrayType(IntegerType()))\n",
    "def get_non_repeated_items_integer_udf(values):\n",
    "    result = get_non_repeated_items(values)\n",
    "    result = list([int(x) for x in result])\n",
    "    return result\n",
    "\n",
    "#########################################\n",
    "\n",
    "def get_non_repeated_additional_items(item_ids, additional_feature_values):\n",
    "    #Returns unique items, keep the order of their first occurence\n",
    "    ids = []\n",
    "    result = []\n",
    "    for i, v in zip(item_ids, additional_feature_values):\n",
    "        if i not in ids:\n",
    "            ids.append(i)\n",
    "            result.append(v)\n",
    "    return result\n",
    "\n",
    "@udf(returnType=ArrayType(IntegerType()))\n",
    "def get_non_repeated_additional_items_integer_udf(item_ids, additional_feature_values):\n",
    "    result = get_non_repeated_additional_items(item_ids, additional_feature_values)\n",
    "    result = list([int(x) for x in result])\n",
    "    return result\n",
    "\n",
    "@udf(returnType=ArrayType(FloatType()))\n",
    "def get_non_repeated_additional_items_float_udf(item_ids, additional_feature_values):\n",
    "    result =  get_non_repeated_additional_items(item_ids, additional_feature_values)\n",
    "    result = list([float(x) for x in result])\n",
    "    return result"
   ]
  },
  {
   "cell_type": "code",
   "execution_count": 29,
   "metadata": {},
   "outputs": [],
   "source": [
    "df_sb_grouped_df = _df_sb_a_wprevt \\\n",
    "                .select('user_idx', 'user_session', \n",
    "                        F.first('event_time_ts').over(session_window).alias('session_start_ts'),\n",
    "                        F.last('event_time_ts').over(session_window).alias('session_end_ts'),\n",
    "                        F.collect_list('product_idx').over(session_window).alias('pid_seq_als'), \\\n",
    "                        F.collect_list('event_time_ts').over(session_window).alias('etime_seq_als'),\\\n",
    "                        F.collect_list('event_type_idx').over(session_window).alias('event_type_seq_als'), \\\n",
    "                        F.collect_list('category_sub_idx').over(session_window).alias('csid_seq_als'),\\\n",
    "                        F.collect_list('category_code_idx').over(session_window).alias('ccid_seq_als'),\\\n",
    "                        F.collect_list('brand_idx').over(session_window).alias('bid_seq_als'),\\\n",
    "                        F.collect_list('price_norm').over(session_window).alias('price_seq_als'),\\\n",
    "                        F.collect_list('delta_event_time_norm').over(session_window).alias('dtime_seq_als'),\\\n",
    "                        F.collect_list('product_recency_days_norm').over(session_window).alias('prod_recency_days_als'),\\\n",
    "                        F.collect_list('relative_price_to_avg_category_id').over(session_window).alias('relative_price_to_avg_category_als'),\n",
    "                        F.collect_list('et_hour_sin').over(session_window).alias('et_hour_sin_seq_als'),\\\n",
    "                        F.collect_list('et_hour_cos').over(session_window).alias('et_hour_cos_seq_als'),\\\n",
    "                        F.collect_list('et_month_sin').over(session_window).alias('et_month_sin_seq_als'),\\\n",
    "                        F.collect_list('et_month_cos').over(session_window).alias('et_month_cos_seq_als'),\\\n",
    "                        F.collect_list('et_dayofweek_sin').over(session_window).alias('et_dayofweek_sin_seq_als'),\\\n",
    "                        F.collect_list('et_dayofweek_cos').over(session_window).alias('et_dayofweek_cos_seq_als'),\\\n",
    "                        F.collect_list('et_dayofmonth_sin').over(session_window).alias('et_dayofmonth_sin_seq_als'),\\\n",
    "                        F.collect_list('et_dayofmonth_cos').over(session_window).alias('et_dayofmonth_cos_seq_als'),\\\n",
    "                        \n",
    "                       )\\\n",
    "                .groupBy('user_idx', 'user_session').agg(\n",
    "                    F.min('session_start_ts').alias('session_start_ts'),\n",
    "                    F.max('session_end_ts').alias('session_end_ts'),\n",
    "                    F.max('pid_seq_als').alias('sess_pid_seq'),\n",
    "                    F.max('etime_seq_als').alias('sess_etime_seq'),\n",
    "                    F.max('event_type_seq_als').alias('sess_etype_seq'),    \n",
    "                    F.max('csid_seq_als').alias('sess_csid_seq'),\n",
    "                    F.max('ccid_seq_als').alias('sess_ccid_seq'),\n",
    "                    F.max('bid_seq_als').alias('sess_bid_seq'),\n",
    "                    F.max('price_seq_als').alias('sess_price_seq'),                    \n",
    "                    F.max('dtime_seq_als').alias('sess_dtime_seq'),\n",
    "                    F.max('prod_recency_days_als').alias('sess_product_recency_seq'),\n",
    "                    F.max('relative_price_to_avg_category_als').alias('sess_relative_price_to_avg_category_seq'),\n",
    "                    F.max('et_hour_sin_seq_als').alias('sess_et_hour_sin_seq'),\n",
    "                    F.max('et_hour_cos_seq_als').alias('sess_et_hour_cos_seq'),\n",
    "                    F.max('et_month_sin_seq_als').alias('sess_et_month_sin_seq'),\n",
    "                    F.max('et_month_cos_seq_als').alias('sess_et_month_cos_seq'),\n",
    "                    F.max('et_dayofweek_sin_seq_als').alias('sess_et_dayofweek_sin_seq'),\n",
    "                    F.max('et_dayofweek_cos_seq_als').alias('sess_et_dayofweek_cos_seq'),\n",
    "                    F.max('et_dayofmonth_sin_seq_als').alias('sess_et_dayofmonth_sin_seq'),\n",
    "                    F.max('et_dayofmonth_cos_seq_als').alias('sess_et_dayofmonth_cos_seq'),               \n",
    "                        )"
   ]
  },
  {
   "cell_type": "code",
   "execution_count": 30,
   "metadata": {},
   "outputs": [],
   "source": [
    "df_sb_grouped_nr_df = df_sb_grouped_df.select('user_idx', 'user_session', 'session_start_ts', 'session_end_ts',\n",
    "                        get_non_repeated_items_integer_udf('sess_pid_seq').alias('sess_pid_seq'),\n",
    "                        get_non_repeated_additional_items_integer_udf(F.col(\"sess_pid_seq\"), F.col('sess_etime_seq')).alias('sess_etime_seq'),\n",
    "                        get_non_repeated_additional_items_integer_udf(F.col(\"sess_pid_seq\"), F.col('sess_etype_seq')).alias('sess_etype_seq'),                        \n",
    "                        get_non_repeated_additional_items_integer_udf(F.col(\"sess_pid_seq\"), F.col('sess_csid_seq')).alias('sess_csid_seq'),\n",
    "                        get_non_repeated_additional_items_integer_udf(F.col(\"sess_pid_seq\"), F.col('sess_ccid_seq')).alias('sess_ccid_seq'),\n",
    "                        get_non_repeated_additional_items_integer_udf(F.col(\"sess_pid_seq\"), F.col('sess_bid_seq')).alias('sess_bid_seq'),\n",
    "                        get_non_repeated_additional_items_float_udf(F.col(\"sess_pid_seq\"), F.col('sess_price_seq')).alias('sess_price_seq'),                                              \n",
    "                        get_non_repeated_additional_items_float_udf(F.col(\"sess_pid_seq\"), F.col('sess_dtime_seq')).alias('sess_dtime_seq'),\n",
    "                        get_non_repeated_additional_items_float_udf(F.col(\"sess_pid_seq\"), F.col('sess_product_recency_seq')).alias('sess_product_recency_seq'),\n",
    "                        get_non_repeated_additional_items_float_udf(F.col(\"sess_pid_seq\"), F.col('sess_relative_price_to_avg_category_seq')).alias('sess_relative_price_to_avg_category_seq'),\n",
    "                        get_non_repeated_additional_items_float_udf(F.col(\"sess_pid_seq\"), F.col('sess_et_hour_sin_seq')).alias('sess_et_hour_sin_seq'),\n",
    "                        get_non_repeated_additional_items_float_udf(F.col(\"sess_pid_seq\"), F.col('sess_et_hour_cos_seq')).alias('sess_et_hour_cos_seq'),\n",
    "                        get_non_repeated_additional_items_float_udf(F.col(\"sess_pid_seq\"), F.col('sess_et_month_sin_seq')).alias('sess_et_month_sin_seq'),\n",
    "                        get_non_repeated_additional_items_float_udf(F.col(\"sess_pid_seq\"), F.col('sess_et_month_cos_seq')).alias('sess_et_month_cos_seq'),\n",
    "                        get_non_repeated_additional_items_float_udf(F.col(\"sess_pid_seq\"), F.col('sess_et_dayofweek_sin_seq')).alias('sess_et_dayofweek_sin_seq'),\n",
    "                        get_non_repeated_additional_items_float_udf(F.col(\"sess_pid_seq\"), F.col('sess_et_dayofweek_cos_seq')).alias('sess_et_dayofweek_cos_seq'),\n",
    "                        get_non_repeated_additional_items_float_udf(F.col(\"sess_pid_seq\"), F.col('sess_et_dayofmonth_sin_seq')).alias('sess_et_dayofmonth_sin_seq'),\n",
    "                        get_non_repeated_additional_items_float_udf(F.col(\"sess_pid_seq\"), F.col('sess_et_dayofmonth_cos_seq')).alias('sess_et_dayofmonth_cos_seq'),\n",
    "                       ) \\\n",
    "            .where(F.size('sess_pid_seq') >= 2) \\\n",
    "            .withColumn('sess_seq_len', F.size('sess_pid_seq'))        "
   ]
  },
  {
   "cell_type": "code",
   "execution_count": 31,
   "metadata": {},
   "outputs": [
    {
     "name": "stdout",
     "output_type": "stream",
     "text": [
      "root\n",
      " |-- user_idx: integer (nullable = true)\n",
      " |-- user_session: string (nullable = true)\n",
      " |-- session_start_ts: long (nullable = true)\n",
      " |-- session_end_ts: long (nullable = true)\n",
      " |-- sess_pid_seq: array (nullable = true)\n",
      " |    |-- element: integer (containsNull = true)\n",
      " |-- sess_etime_seq: array (nullable = true)\n",
      " |    |-- element: integer (containsNull = true)\n",
      " |-- sess_etype_seq: array (nullable = true)\n",
      " |    |-- element: integer (containsNull = true)\n",
      " |-- sess_csid_seq: array (nullable = true)\n",
      " |    |-- element: integer (containsNull = true)\n",
      " |-- sess_ccid_seq: array (nullable = true)\n",
      " |    |-- element: integer (containsNull = true)\n",
      " |-- sess_bid_seq: array (nullable = true)\n",
      " |    |-- element: integer (containsNull = true)\n",
      " |-- sess_price_seq: array (nullable = true)\n",
      " |    |-- element: float (containsNull = true)\n",
      " |-- sess_dtime_seq: array (nullable = true)\n",
      " |    |-- element: float (containsNull = true)\n",
      " |-- sess_product_recency_seq: array (nullable = true)\n",
      " |    |-- element: float (containsNull = true)\n",
      " |-- sess_relative_price_to_avg_category_seq: array (nullable = true)\n",
      " |    |-- element: float (containsNull = true)\n",
      " |-- sess_et_hour_sin_seq: array (nullable = true)\n",
      " |    |-- element: float (containsNull = true)\n",
      " |-- sess_et_hour_cos_seq: array (nullable = true)\n",
      " |    |-- element: float (containsNull = true)\n",
      " |-- sess_et_month_sin_seq: array (nullable = true)\n",
      " |    |-- element: float (containsNull = true)\n",
      " |-- sess_et_month_cos_seq: array (nullable = true)\n",
      " |    |-- element: float (containsNull = true)\n",
      " |-- sess_et_dayofweek_sin_seq: array (nullable = true)\n",
      " |    |-- element: float (containsNull = true)\n",
      " |-- sess_et_dayofweek_cos_seq: array (nullable = true)\n",
      " |    |-- element: float (containsNull = true)\n",
      " |-- sess_et_dayofmonth_sin_seq: array (nullable = true)\n",
      " |    |-- element: float (containsNull = true)\n",
      " |-- sess_et_dayofmonth_cos_seq: array (nullable = true)\n",
      " |    |-- element: float (containsNull = true)\n",
      " |-- sess_seq_len: integer (nullable = false)\n",
      "\n"
     ]
    }
   ],
   "source": [
    "df_sb_grouped_nr_df.printSchema()"
   ]
  },
  {
   "cell_type": "code",
   "execution_count": 40,
   "metadata": {},
   "outputs": [
    {
     "name": "stdout",
     "output_type": "stream",
     "text": [
      "+--------+--------------------+----------------+--------------+--------------------+--------------------+--------------+--------------------+--------------------+--------------------+--------------------+--------------+------------------------+---------------------------------------+--------------------+--------------------+---------------------+---------------------+-------------------------+-------------------------+--------------------------+--------------------------+------------+\n",
      "|user_idx|        user_session|session_start_ts|session_end_ts|        sess_pid_seq|      sess_etime_seq|sess_etype_seq|       sess_csid_seq|       sess_ccid_seq|        sess_bid_seq|      sess_price_seq|sess_dtime_seq|sess_product_recency_seq|sess_relative_price_to_avg_category_seq|sess_et_hour_sin_seq|sess_et_hour_cos_seq|sess_et_month_sin_seq|sess_et_month_cos_seq|sess_et_dayofweek_sin_seq|sess_et_dayofweek_cos_seq|sess_et_dayofmonth_sin_seq|sess_et_dayofmonth_cos_seq|sess_seq_len|\n",
      "+--------+--------------------+----------------+--------------+--------------------+--------------------+--------------+--------------------+--------------------+--------------------+--------------------+--------------+------------------------+---------------------------------------+--------------------+--------------------+---------------------+---------------------+-------------------------+-------------------------+--------------------------+--------------------------+------------+\n",
      "|      42|71249adf-78cc-44f...|      1569888264|    1569888371|           [40, 112]|[1569888264, 1569...|           [,]|              [9, 9]|            [51, 51]|            [15, 15]|[-0.97528213, -1....|           [,]|              [0.0, 0.0]|                   [0.099270165, -0....|[2.6179938E-9, 2....|          [1.0, 1.0]| [-0.8660254, -0.8...|           [0.5, 0.5]|     [0.43388373, 0.43...|     [-0.90096885, -0....|      [0.20129852, 0.20...|      [0.9795299, 0.979...|           2|\n",
      "|      80|28e9c9dd-ed51-477...|      1569888960|    1569888984|[254, 407, 418, 345]|[1569888960, 1569...|         [,,,]|        [2, 2, 2, 2]|        [2, 2, 2, 2]|        [4, 4, 4, 4]|[-0.5346697, -0.5...|         [,,,]|    [0.0, 0.0, 0.0, 0.0]|                   [-0.79823285, -0....|[2.6179938E-9, 2....|[1.0, 1.0, 1.0, 1.0]| [-0.8660254, -0.8...| [0.5, 0.5, 0.5, 0.5]|     [0.43388373, 0.43...|     [-0.90096885, -0....|      [0.20129852, 0.20...|      [0.9795299, 0.979...|           4|\n",
      "|      31|5fe9d0a0-0de6-47d...|      1569888027|    1569888362|[331, 288, 276, 6...|[1569888027, 1569...|       [,,,,,]|[24, 24, 24, 24, ...|[51, 51, 51, 51, ...|[51, 12, 12, 12, ...|[-1.4991609, -1.0...|       [,,,,,]|    [0.0, 0.0, 0.0, 0...|                   [-0.35693076, 0.0...|[2.6179938E-9, 2....|[1.0, 1.0, 1.0, 1...| [-0.8660254, -0.8...| [0.5, 0.5, 0.5, 0...|     [0.43388373, 0.43...|     [-0.90096885, -0....|      [0.20129852, 0.20...|      [0.9795299, 0.979...|           6|\n",
      "|      76|4263d574-0b40-416...|      1569888119|    1569888385|[137, 487, 354, 303]|[1569888119, 1569...|         [,,,]|        [2, 2, 2, 2]|        [2, 2, 2, 2]|        [4, 4, 4, 4]|[0.8767029, 0.869...|         [,,,]|    [1.9675925E-4, 0....|                   [-0.04592752, -0....|[2.6179938E-9, 2....|[1.0, 1.0, 1.0, 1.0]| [-0.8660254, -0.8...| [0.5, 0.5, 0.5, 0.5]|     [0.43388373, 0.43...|     [-0.90096885, -0....|      [0.20129852, 0.20...|      [0.9795299, 0.979...|           4|\n",
      "|       7|9c91461e-5924-4ed...|      1569888171|    1569888755|[403, 192, 17, 31...|[1569888171, 1569...|       [,,,,,]|[10, 10, 10, 10, ...|[51, 51, 51, 51, ...|[4, 4, 20, 20, 14...|[-0.3740899, 0.23...|       [,,,,,]|    [0.0, 0.0, 0.0027...|                   [0.57016474, 2.06...|[2.6179938E-9, 2....|[1.0, 1.0, 1.0, 1...| [-0.8660254, -0.8...| [0.5, 0.5, 0.5, 0...|     [0.43388373, 0.43...|     [-0.90096885, -0....|      [0.20129852, 0.20...|      [0.9795299, 0.979...|           6|\n",
      "|      15|a81bcd36-e90f-44c...|      1569888508|    1569888929|  [38, 195, 425, 82]|[1569888508, 1569...|         [,,,]|    [38, 38, 32, 32]|    [51, 51, 51, 51]|  [156, 89, 139, 38]|[-0.90032125, -0....|         [,,,]|    [0.0, 0.0, 0.0, 0.0]|                   [-0.34892583, 0.6...|[2.6179938E-9, 2....|[1.0, 1.0, 1.0, 1.0]| [-0.8660254, -0.8...| [0.5, 0.5, 0.5, 0.5]|     [0.43388373, 0.43...|     [-0.90096885, -0....|      [0.20129852, 0.20...|      [0.9795299, 0.979...|           4|\n",
      "|     179|4fc3e61d-5f94-45b...|      1569888057|    1569888092|          [177, 439]|[1569888057, 1569...|           [,]|              [2, 2]|              [2, 2]|              [2, 2]|[1.7640153, 1.547...|           [,]|              [0.0, 0.0]|                   [1.5243573, 0.990...|[2.6179938E-9, 2....|          [1.0, 1.0]| [-0.8660254, -0.8...|           [0.5, 0.5]|     [0.43388373, 0.43...|     [-0.90096885, -0....|      [0.20129852, 0.20...|      [0.9795299, 0.979...|           2|\n",
      "|      27|4737b7aa-83f7-489...|      1569888195|    1569888685|      [159, 134, 19]|[1569888195, 1569...|          [,,]|           [8, 8, 8]|        [51, 51, 51]|     [156, 156, 156]|[0.2450507, 0.299...|          [,,]|         [0.0, 0.0, 0.0]|                   [-0.041424774, 0....|[2.6179938E-9, 2....|     [1.0, 1.0, 1.0]| [-0.8660254, -0.8...|      [0.5, 0.5, 0.5]|     [0.43388373, 0.43...|     [-0.90096885, -0....|      [0.20129852, 0.20...|      [0.9795299, 0.979...|           3|\n",
      "|       3|b0a32a6c-a500-46d...|      1569888413|    1569888786|[24, 48, 194, 299...|[1569888413, 1569...|       [,,,,,]|[13, 13, 13, 13, ...|[51, 51, 51, 51, ...|  [5, 5, 5, 5, 5, 5]|[0.40470558, 0.76...|       [,,,,,]|    [0.0021643518, 0....|                   [-0.25368077, 0.1...|[2.6179938E-9, 2....|[1.0, 1.0, 1.0, 1...| [-0.8660254, -0.8...| [0.5, 0.5, 0.5, 0...|     [0.43388373, 0.43...|     [-0.90096885, -0....|      [0.20129852, 0.20...|      [0.9795299, 0.979...|           6|\n",
      "|      28|ab1c76e1-94e1-47a...|      1569888563|    1569888866|   [42, 5, 2, 3, 10]|[1569888563, 1569...|        [,,,,]|     [2, 2, 2, 2, 5]|     [2, 2, 2, 2, 4]|     [3, 3, 2, 3, 3]|[1.1087176, 0.987...|        [,,,,]|    [0.006284722, 0.0...|                   [0.23064794, 0.07...|[2.6179938E-9, 2....|[1.0, 1.0, 1.0, 1...| [-0.8660254, -0.8...| [0.5, 0.5, 0.5, 0...|     [0.43388373, 0.43...|     [-0.90096885, -0....|      [0.20129852, 0.20...|      [0.9795299, 0.979...|           5|\n",
      "|      78|fa30065b-fc97-475...|      1569888146|    1569888272|      [78, 470, 414]|[1569888146, 1569...|          [,,]|        [12, 12, 12]|           [9, 9, 9]|         [24, 24, 2]|[0.6342642, 0.810...|          [,,]|         [0.0, 0.0, 0.0]|                   [-0.22631755, -0....|[2.6179938E-9, 2....|     [1.0, 1.0, 1.0]| [-0.8660254, -0.8...|      [0.5, 0.5, 0.5]|     [0.43388373, 0.43...|     [-0.90096885, -0....|      [0.20129852, 0.20...|      [0.9795299, 0.979...|           3|\n",
      "|     127|2318d020-0e0d-441...|      1569888398|    1569888641|          [322, 216]|[1569888398, 1569...|           [,]|           [12, 102]|             [9, 50]|            [24, 14]|[0.39866048, -1.8...|           [,]|              [0.0, 0.0]|                      [-0.4027567, 0.0]|[2.6179938E-9, 2....|          [1.0, 1.0]| [-0.8660254, -0.8...|           [0.5, 0.5]|     [0.43388373, 0.43...|     [-0.90096885, -0....|      [0.20129852, 0.20...|      [0.9795299, 0.979...|           2|\n",
      "|      62|0b828fb6-99bd-4d2...|      1569888050|    1569888388|        [25, 382, 3]|[1569888050, 1569...|          [,,]|           [2, 9, 2]|          [2, 51, 2]|         [3, 100, 3]|[1.9088697, -0.77...|          [,,]|    [0.0, 0.0, 0.0024...|                   [1.9586384, 0.367...|[2.6179938E-9, 2....|     [1.0, 1.0, 1.0]| [-0.8660254, -0.8...|      [0.5, 0.5, 0.5]|     [0.43388373, 0.43...|     [-0.90096885, -0....|      [0.20129852, 0.20...|      [0.9795299, 0.979...|           3|\n",
      "|      66|32f9d470-c71e-46c...|      1569888697|    1569888992|              [2, 6]|[1569888697, 1569...|           [,]|              [2, 2]|              [2, 2]|              [2, 2]|[0.34595135, 0.45...|           [,]|    [0.007650463, 0.0...|                   [-0.46737486, -0....|[2.6179938E-9, 2....|          [1.0, 1.0]| [-0.8660254, -0.8...|           [0.5, 0.5]|     [0.43388373, 0.43...|     [-0.90096885, -0....|      [0.20129852, 0.20...|      [0.9795299, 0.979...|           2|\n",
      "|       2|9b80273c-2d55-47c...|      1569888609|    1569888692|          [526, 153]|[1569888609, 1569...|           [,]|            [64, 64]|            [51, 51]|            [46, 46]|[0.59392, 0.14080...|           [,]|              [0.0, 0.0]|                   [0.35417426, -0.1...|[2.6179938E-9, 2....|          [1.0, 1.0]| [-0.8660254, -0.8...|           [0.5, 0.5]|     [0.43388373, 0.43...|     [-0.90096885, -0....|      [0.20129852, 0.20...|      [0.9795299, 0.979...|           2|\n",
      "|      38|7c90fc70-0e80-459...|      1569888001|    1569888197|[184, 111, 468, 2...|[1569888001, 1569...|        [,,,,]|     [6, 6, 6, 6, 6]|     [5, 5, 5, 5, 5]|[13, 30, 30, 10, 10]|[0.33488983, 1.09...|        [,,,,]|    [0.0, 0.0, 0.0, 0...|                   [-0.5134399, 0.12...|[2.6179938E-9, 2....|[1.0, 1.0, 1.0, 1...| [-0.8660254, -0.8...| [0.5, 0.5, 0.5, 0...|     [0.43388373, 0.43...|     [-0.90096885, -0....|      [0.20129852, 0.20...|      [0.9795299, 0.979...|           5|\n",
      "|      89|b5729f38-2001-49b...|      1569888978|    1569888986|          [282, 523]|[1569888978, 1569...|           [,]|            [43, 43]|            [20, 20]|              [6, 6]|[-0.64079183, -0....|           [,]|              [0.0, 0.0]|                   [-0.18641979, -0....|[2.6179938E-9, 2....|          [1.0, 1.0]| [-0.8660254, -0.8...|           [0.5, 0.5]|     [0.43388373, 0.43...|     [-0.90096885, -0....|      [0.20129852, 0.20...|      [0.9795299, 0.979...|           2|\n",
      "|     152|1035cee3-7238-403...|      1569888537|    1569888600|          [386, 515]|[1569888537, 1569...|           [,]|              [2, 5]|              [2, 4]|              [3, 2]|[1.2814728, -0.28...|           [,]|              [0.0, 0.0]|                   [0.4873665, 0.038...|[2.6179938E-9, 2....|          [1.0, 1.0]| [-0.8660254, -0.8...|           [0.5, 0.5]|     [0.43388373, 0.43...|     [-0.90096885, -0....|      [0.20129852, 0.20...|      [0.9795299, 0.979...|           2|\n",
      "|      22|cccc58c1-4986-4d0...|      1569888084|    1569888362|           [398, 66]|[1569888084, 1569...|           [,]|              [2, 2]|              [2, 2]|            [23, 23]|[0.4269595, 0.303...|           [,]|              [0.0, 0.0]|                   [-0.41777438, -0....|[2.6179938E-9, 2....|          [1.0, 1.0]| [-0.8660254, -0.8...|           [0.5, 0.5]|     [0.43388373, 0.43...|     [-0.90096885, -0....|      [0.20129852, 0.20...|      [0.9795299, 0.979...|           2|\n",
      "|      26|77b61d9e-6caf-47b...|      1569888323|    1569888985|  [16, 449, 21, 422]|[1569888323, 1569...|         [,,,]|        [5, 5, 5, 5]|        [4, 4, 4, 4]|     [4, 134, 37, 4]|[-1.8101535, -0.8...|         [,,,]|    [0.0030902778, 0....|                   [-0.81099516, -0....|[2.6179938E-9, 2....|[1.0, 1.0, 1.0, 1.0]| [-0.8660254, -0.8...| [0.5, 0.5, 0.5, 0.5]|     [0.43388373, 0.43...|     [-0.90096885, -0....|      [0.20129852, 0.20...|      [0.9795299, 0.979...|           4|\n",
      "+--------+--------------------+----------------+--------------+--------------------+--------------------+--------------+--------------------+--------------------+--------------------+--------------------+--------------+------------------------+---------------------------------------+--------------------+--------------------+---------------------+---------------------+-------------------------+-------------------------+--------------------------+--------------------------+------------+\n",
      "only showing top 20 rows\n",
      "\n"
     ]
    }
   ],
   "source": [
    "#df_sb_grouped_nr_df.show()"
   ]
  },
  {
   "cell_type": "code",
   "execution_count": 32,
   "metadata": {},
   "outputs": [],
   "source": [
    "percentiles = np.arange(0., 1.1, 0.1).tolist()+[0.95,0.99,0.999]"
   ]
  },
  {
   "cell_type": "code",
   "execution_count": 96,
   "metadata": {},
   "outputs": [
    {
     "data": {
      "text/html": [
       "<div>\n",
       "<style scoped>\n",
       "    .dataframe tbody tr th:only-of-type {\n",
       "        vertical-align: middle;\n",
       "    }\n",
       "\n",
       "    .dataframe tbody tr th {\n",
       "        vertical-align: top;\n",
       "    }\n",
       "\n",
       "    .dataframe thead th {\n",
       "        text-align: right;\n",
       "    }\n",
       "</style>\n",
       "<table border=\"1\" class=\"dataframe\">\n",
       "  <thead>\n",
       "    <tr style=\"text-align: right;\">\n",
       "      <th></th>\n",
       "      <th>percentile</th>\n",
       "      <th>session_sizes</th>\n",
       "    </tr>\n",
       "  </thead>\n",
       "  <tbody>\n",
       "    <tr>\n",
       "      <th>0</th>\n",
       "      <td>0.000</td>\n",
       "      <td>2.0</td>\n",
       "    </tr>\n",
       "    <tr>\n",
       "      <th>1</th>\n",
       "      <td>0.100</td>\n",
       "      <td>2.0</td>\n",
       "    </tr>\n",
       "    <tr>\n",
       "      <th>2</th>\n",
       "      <td>0.200</td>\n",
       "      <td>2.0</td>\n",
       "    </tr>\n",
       "    <tr>\n",
       "      <th>3</th>\n",
       "      <td>0.300</td>\n",
       "      <td>2.0</td>\n",
       "    </tr>\n",
       "    <tr>\n",
       "      <th>4</th>\n",
       "      <td>0.400</td>\n",
       "      <td>2.0</td>\n",
       "    </tr>\n",
       "    <tr>\n",
       "      <th>5</th>\n",
       "      <td>0.500</td>\n",
       "      <td>3.0</td>\n",
       "    </tr>\n",
       "    <tr>\n",
       "      <th>6</th>\n",
       "      <td>0.600</td>\n",
       "      <td>3.0</td>\n",
       "    </tr>\n",
       "    <tr>\n",
       "      <th>7</th>\n",
       "      <td>0.700</td>\n",
       "      <td>4.0</td>\n",
       "    </tr>\n",
       "    <tr>\n",
       "      <th>8</th>\n",
       "      <td>0.800</td>\n",
       "      <td>4.0</td>\n",
       "    </tr>\n",
       "    <tr>\n",
       "      <th>9</th>\n",
       "      <td>0.900</td>\n",
       "      <td>6.0</td>\n",
       "    </tr>\n",
       "    <tr>\n",
       "      <th>11</th>\n",
       "      <td>0.950</td>\n",
       "      <td>7.0</td>\n",
       "    </tr>\n",
       "    <tr>\n",
       "      <th>12</th>\n",
       "      <td>0.990</td>\n",
       "      <td>9.0</td>\n",
       "    </tr>\n",
       "    <tr>\n",
       "      <th>13</th>\n",
       "      <td>0.999</td>\n",
       "      <td>12.0</td>\n",
       "    </tr>\n",
       "    <tr>\n",
       "      <th>10</th>\n",
       "      <td>1.000</td>\n",
       "      <td>12.0</td>\n",
       "    </tr>\n",
       "  </tbody>\n",
       "</table>\n",
       "</div>"
      ],
      "text/plain": [
       "    percentile  session_sizes\n",
       "0        0.000            2.0\n",
       "1        0.100            2.0\n",
       "2        0.200            2.0\n",
       "3        0.300            2.0\n",
       "4        0.400            2.0\n",
       "5        0.500            3.0\n",
       "6        0.600            3.0\n",
       "7        0.700            4.0\n",
       "8        0.800            4.0\n",
       "9        0.900            6.0\n",
       "11       0.950            7.0\n",
       "12       0.990            9.0\n",
       "13       0.999           12.0\n",
       "10       1.000           12.0"
      ]
     },
     "execution_count": 96,
     "metadata": {},
     "output_type": "execute_result"
    }
   ],
   "source": [
    "session_sizes_pdf = pd.DataFrame(zip(percentiles, \n",
    "                                          df_sb_grouped_nr_df.approxQuantile('sess_seq_len', probabilities=percentiles, relativeError=0.00001)),\n",
    "                                         columns=['percentile', 'session_sizes']).sort_values('percentile')\n",
    "session_sizes_pdf"
   ]
  },
  {
   "cell_type": "markdown",
   "metadata": {},
   "source": [
    "## Processing users sequences"
   ]
  },
  {
   "cell_type": "code",
   "execution_count": 33,
   "metadata": {},
   "outputs": [],
   "source": [
    "# by manual\n",
    "SESSIONS_MAX_LENGTH = 20"
   ]
  },
  {
   "cell_type": "code",
   "execution_count": 34,
   "metadata": {},
   "outputs": [],
   "source": [
    "user_window = Window.partitionBy('user_idx').orderBy('event_time_ts')"
   ]
  },
  {
   "cell_type": "markdown",
   "metadata": {},
   "source": [
    "#### Delta time between session clicks (secs)"
   ]
  },
  {
   "cell_type": "code",
   "execution_count": 35,
   "metadata": {},
   "outputs": [],
   "source": [
    "_df_user_wprevt = _df_sb_a_r.withColumn('user_prev_event_time_ts', F.lag('event_time_ts').over(user_window)) \\\n",
    "                            .withColumn('user_delta_event_time',F.when(F.isnull(F.col('user_prev_event_time_ts')), 0) \\\n",
    "                                                            .otherwise(F.col('event_time_ts') - F.col('user_prev_event_time_ts'))) \\\n",
    "                            .withColumn('user_delta_event_time_log', F.log1p('user_delta_event_time'))"
   ]
  },
  {
   "cell_type": "code",
   "execution_count": 36,
   "metadata": {},
   "outputs": [
    {
     "name": "stdout",
     "output_type": "stream",
     "text": [
      "4.465940900094787 3.026454528930501\n",
      "CPU times: user 11.6 ms, sys: 15.5 ms, total: 27.1 ms\n",
      "Wall time: 1min 36s\n"
     ]
    }
   ],
   "source": [
    "%%time\n",
    "user_delta_time_mean, user_delta_time_std = tuple(_df_user_wprevt.agg(\n",
    "                            F.mean('user_delta_event_time_log').alias('user_delta_event_time_mean'),\n",
    "                            F.stddev('user_delta_event_time_log').alias('user_delta_event_time_std')).take(1)[0])\n",
    "print(user_delta_time_mean, user_delta_time_std)\n",
    "\n",
    "#Z-norm\n",
    "_df_user_wprevt = _df_user_wprevt.withColumn('user_delta_event_time_log_norm', (F.col('user_delta_event_time_log') - user_delta_time_mean) / user_delta_time_std)"
   ]
  },
  {
   "cell_type": "code",
   "execution_count": 37,
   "metadata": {},
   "outputs": [],
   "source": [
    "df_user_seq_grouped_df = _df_user_wprevt \\\n",
    "                .select('user_idx',  \n",
    "                        F.collect_list('product_idx').over(user_window).alias('pid_seq_als'), \n",
    "                        F.collect_list('event_time_ts').over(user_window).alias('etime_seq_als'),\n",
    "                        F.collect_list('event_type_idx').over(user_window).alias('event_type_seq_als'), \n",
    "                        F.collect_list('category_sub_idx').over(user_window).alias('csid_seq_als'),\n",
    "                        F.collect_list('category_code_idx').over(user_window).alias('ccid_seq_als'),\n",
    "                        F.collect_list('brand_idx').over(user_window).alias('bid_seq_als'),\n",
    "                        F.collect_list('price_norm').over(user_window).alias('price_seq_als'),\n",
    "                        F.collect_list('user_delta_event_time_log_norm').over(user_window).alias('dtime_seq_als'),\n",
    "                        F.collect_list('product_recency_days_norm').over(user_window).alias('prod_recency_days_als'),\n",
    "                        F.collect_list('relative_price_to_avg_category_id').over(user_window).alias('relative_price_to_avg_category_als'),\n",
    "                        F.collect_list('et_hour_sin').over(user_window).alias('et_hour_sin_seq_als'),\n",
    "                        F.collect_list('et_hour_cos').over(user_window).alias('et_hour_cos_seq_als'),\n",
    "                        F.collect_list('et_month_sin').over(user_window).alias('et_month_sin_seq_als'),\n",
    "                        F.collect_list('et_month_cos').over(user_window).alias('et_month_cos_seq_als'),\n",
    "                        F.collect_list('et_dayofweek_sin').over(user_window).alias('et_dayofweek_sin_seq_als'),\n",
    "                        F.collect_list('et_dayofweek_cos').over(user_window).alias('et_dayofweek_cos_seq_als'),\n",
    "                        F.collect_list('et_dayofmonth_sin').over(user_window).alias('et_dayofmonth_sin_seq_als'),\n",
    "                        F.collect_list('et_dayofmonth_cos').over(user_window).alias('et_dayofmonth_cos_seq_als'),                     \n",
    "                       )\\\n",
    "                .groupBy('user_idx').agg(\n",
    "                    F.max('pid_seq_als').alias('user_pid_seq'),\n",
    "                    F.max('etime_seq_als').alias('user_etime_seq'),\n",
    "                    F.max('event_type_seq_als').alias('user_etype_seq'),    \n",
    "                    F.max('csid_seq_als').alias('user_csid_seq'),\n",
    "                    F.max('ccid_seq_als').alias('user_ccid_seq'),\n",
    "                    F.max('bid_seq_als').alias('user_bid_seq'),\n",
    "                    F.max('price_seq_als').alias('user_price_seq'),                    \n",
    "                    F.max('dtime_seq_als').alias('user_dtime_seq'),\n",
    "                    F.max('prod_recency_days_als').alias('user_product_recency_seq'),\n",
    "                    F.max('relative_price_to_avg_category_als').alias('user_relative_price_to_avg_category_seq'),\n",
    "                    F.max('et_hour_sin_seq_als').alias('user_et_hour_sin_seq'),\n",
    "                    F.max('et_hour_cos_seq_als').alias('user_et_hour_cos_seq'),\n",
    "                    F.max('et_month_sin_seq_als').alias('user_et_month_sin_seq'),\n",
    "                    F.max('et_month_cos_seq_als').alias('user_et_month_cos_seq'),\n",
    "                    F.max('et_dayofweek_sin_seq_als').alias('user_et_dayofweek_sin_seq'),\n",
    "                    F.max('et_dayofweek_cos_seq_als').alias('user_et_dayofweek_cos_seq'),\n",
    "                    F.max('et_dayofmonth_sin_seq_als').alias('user_et_dayofmonth_sin_seq'),\n",
    "                    F.max('et_dayofmonth_cos_seq_als').alias('user_et_dayofmonth_cos_seq'),               \n",
    "                        )"
   ]
  },
  {
   "cell_type": "code",
   "execution_count": 38,
   "metadata": {},
   "outputs": [
    {
     "name": "stdout",
     "output_type": "stream",
     "text": [
      "root\n",
      " |-- user_idx: integer (nullable = true)\n",
      " |-- user_pid_seq: array (nullable = true)\n",
      " |    |-- element: double (containsNull = true)\n",
      " |-- user_etime_seq: array (nullable = true)\n",
      " |    |-- element: long (containsNull = true)\n",
      " |-- user_etype_seq: array (nullable = true)\n",
      " |    |-- element: double (containsNull = true)\n",
      " |-- user_csid_seq: array (nullable = true)\n",
      " |    |-- element: double (containsNull = true)\n",
      " |-- user_ccid_seq: array (nullable = true)\n",
      " |    |-- element: double (containsNull = true)\n",
      " |-- user_bid_seq: array (nullable = true)\n",
      " |    |-- element: double (containsNull = true)\n",
      " |-- user_price_seq: array (nullable = true)\n",
      " |    |-- element: double (containsNull = true)\n",
      " |-- user_dtime_seq: array (nullable = true)\n",
      " |    |-- element: double (containsNull = true)\n",
      " |-- user_product_recency_seq: array (nullable = true)\n",
      " |    |-- element: double (containsNull = true)\n",
      " |-- user_relative_price_to_avg_category_seq: array (nullable = true)\n",
      " |    |-- element: double (containsNull = true)\n",
      " |-- user_et_hour_sin_seq: array (nullable = true)\n",
      " |    |-- element: float (containsNull = true)\n",
      " |-- user_et_hour_cos_seq: array (nullable = true)\n",
      " |    |-- element: float (containsNull = true)\n",
      " |-- user_et_month_sin_seq: array (nullable = true)\n",
      " |    |-- element: float (containsNull = true)\n",
      " |-- user_et_month_cos_seq: array (nullable = true)\n",
      " |    |-- element: float (containsNull = true)\n",
      " |-- user_et_dayofweek_sin_seq: array (nullable = true)\n",
      " |    |-- element: float (containsNull = true)\n",
      " |-- user_et_dayofweek_cos_seq: array (nullable = true)\n",
      " |    |-- element: float (containsNull = true)\n",
      " |-- user_et_dayofmonth_sin_seq: array (nullable = true)\n",
      " |    |-- element: float (containsNull = true)\n",
      " |-- user_et_dayofmonth_cos_seq: array (nullable = true)\n",
      " |    |-- element: float (containsNull = true)\n",
      "\n"
     ]
    }
   ],
   "source": [
    "df_user_seq_grouped_df.printSchema()"
   ]
  },
  {
   "cell_type": "markdown",
   "metadata": {},
   "source": [
    "### Joining users and sessions sequences"
   ]
  },
  {
   "cell_type": "code",
   "execution_count": 39,
   "metadata": {},
   "outputs": [],
   "source": [
    "users_and_session_seq_joined_df = df_sb_grouped_nr_df.join(df_user_seq_grouped_df, on='user_idx', how='inner')"
   ]
  },
  {
   "cell_type": "code",
   "execution_count": 40,
   "metadata": {},
   "outputs": [
    {
     "name": "stdout",
     "output_type": "stream",
     "text": [
      "root\n",
      " |-- user_idx: integer (nullable = true)\n",
      " |-- user_session: string (nullable = true)\n",
      " |-- session_start_ts: long (nullable = true)\n",
      " |-- session_end_ts: long (nullable = true)\n",
      " |-- sess_pid_seq: array (nullable = true)\n",
      " |    |-- element: integer (containsNull = true)\n",
      " |-- sess_etime_seq: array (nullable = true)\n",
      " |    |-- element: integer (containsNull = true)\n",
      " |-- sess_etype_seq: array (nullable = true)\n",
      " |    |-- element: integer (containsNull = true)\n",
      " |-- sess_csid_seq: array (nullable = true)\n",
      " |    |-- element: integer (containsNull = true)\n",
      " |-- sess_ccid_seq: array (nullable = true)\n",
      " |    |-- element: integer (containsNull = true)\n",
      " |-- sess_bid_seq: array (nullable = true)\n",
      " |    |-- element: integer (containsNull = true)\n",
      " |-- sess_price_seq: array (nullable = true)\n",
      " |    |-- element: float (containsNull = true)\n",
      " |-- sess_dtime_seq: array (nullable = true)\n",
      " |    |-- element: float (containsNull = true)\n",
      " |-- sess_product_recency_seq: array (nullable = true)\n",
      " |    |-- element: float (containsNull = true)\n",
      " |-- sess_relative_price_to_avg_category_seq: array (nullable = true)\n",
      " |    |-- element: float (containsNull = true)\n",
      " |-- sess_et_hour_sin_seq: array (nullable = true)\n",
      " |    |-- element: float (containsNull = true)\n",
      " |-- sess_et_hour_cos_seq: array (nullable = true)\n",
      " |    |-- element: float (containsNull = true)\n",
      " |-- sess_et_month_sin_seq: array (nullable = true)\n",
      " |    |-- element: float (containsNull = true)\n",
      " |-- sess_et_month_cos_seq: array (nullable = true)\n",
      " |    |-- element: float (containsNull = true)\n",
      " |-- sess_et_dayofweek_sin_seq: array (nullable = true)\n",
      " |    |-- element: float (containsNull = true)\n",
      " |-- sess_et_dayofweek_cos_seq: array (nullable = true)\n",
      " |    |-- element: float (containsNull = true)\n",
      " |-- sess_et_dayofmonth_sin_seq: array (nullable = true)\n",
      " |    |-- element: float (containsNull = true)\n",
      " |-- sess_et_dayofmonth_cos_seq: array (nullable = true)\n",
      " |    |-- element: float (containsNull = true)\n",
      " |-- sess_seq_len: integer (nullable = false)\n",
      " |-- user_pid_seq: array (nullable = true)\n",
      " |    |-- element: double (containsNull = true)\n",
      " |-- user_etime_seq: array (nullable = true)\n",
      " |    |-- element: long (containsNull = true)\n",
      " |-- user_etype_seq: array (nullable = true)\n",
      " |    |-- element: double (containsNull = true)\n",
      " |-- user_csid_seq: array (nullable = true)\n",
      " |    |-- element: double (containsNull = true)\n",
      " |-- user_ccid_seq: array (nullable = true)\n",
      " |    |-- element: double (containsNull = true)\n",
      " |-- user_bid_seq: array (nullable = true)\n",
      " |    |-- element: double (containsNull = true)\n",
      " |-- user_price_seq: array (nullable = true)\n",
      " |    |-- element: double (containsNull = true)\n",
      " |-- user_dtime_seq: array (nullable = true)\n",
      " |    |-- element: double (containsNull = true)\n",
      " |-- user_product_recency_seq: array (nullable = true)\n",
      " |    |-- element: double (containsNull = true)\n",
      " |-- user_relative_price_to_avg_category_seq: array (nullable = true)\n",
      " |    |-- element: double (containsNull = true)\n",
      " |-- user_et_hour_sin_seq: array (nullable = true)\n",
      " |    |-- element: float (containsNull = true)\n",
      " |-- user_et_hour_cos_seq: array (nullable = true)\n",
      " |    |-- element: float (containsNull = true)\n",
      " |-- user_et_month_sin_seq: array (nullable = true)\n",
      " |    |-- element: float (containsNull = true)\n",
      " |-- user_et_month_cos_seq: array (nullable = true)\n",
      " |    |-- element: float (containsNull = true)\n",
      " |-- user_et_dayofweek_sin_seq: array (nullable = true)\n",
      " |    |-- element: float (containsNull = true)\n",
      " |-- user_et_dayofweek_cos_seq: array (nullable = true)\n",
      " |    |-- element: float (containsNull = true)\n",
      " |-- user_et_dayofmonth_sin_seq: array (nullable = true)\n",
      " |    |-- element: float (containsNull = true)\n",
      " |-- user_et_dayofmonth_cos_seq: array (nullable = true)\n",
      " |    |-- element: float (containsNull = true)\n",
      "\n"
     ]
    }
   ],
   "source": [
    "users_and_session_seq_joined_df.printSchema()"
   ]
  },
  {
   "cell_type": "code",
   "execution_count": 41,
   "metadata": {},
   "outputs": [],
   "source": [
    "def user_seq_feature_before_session(session_start, user_ts_seq, user_feature_seq, limit):\n",
    "    new_seq = list(map(lambda y: y[1], filter(lambda x: x[0] < session_start, zip(user_ts_seq, user_feature_seq))))[-limit:]\n",
    "    return new_seq\n",
    "\n",
    "@udf(returnType=ArrayType(IntegerType()))\n",
    "def user_seq_before_session_integer_udf(session_start, user_ts_seq, user_feature_seq, limit):\n",
    "    result = user_seq_feature_before_session(session_start, user_ts_seq, user_feature_seq, limit)\n",
    "    return list([int(x) for x in result])\n",
    "\n",
    "@udf(returnType=ArrayType(FloatType()))\n",
    "def user_seq_before_session_float_udf(session_start, user_ts_seq, user_feature_seq, limit):\n",
    "    result = user_seq_feature_before_session(session_start, user_ts_seq, user_feature_seq, limit)\n",
    "    return list([float(x) for x in result])"
   ]
  },
  {
   "cell_type": "code",
   "execution_count": 42,
   "metadata": {},
   "outputs": [],
   "source": [
    "MAX_LENGTH_USER_SEQUENCE_BEFORE_SESSION = 20"
   ]
  },
  {
   "cell_type": "code",
   "execution_count": 43,
   "metadata": {},
   "outputs": [],
   "source": [
    "#Assume that users with unseen previous interactions within the dataset (6 months) interacted 7 months before\n",
    "ELAPSED_DAYS_BEF_LAST_SESSION_DEFAULT = 7*30 \n",
    "\n",
    "@udf(returnType=FloatType())\n",
    "def elapsed_days_since_last_interaction_bef_session(session_start, previous_interactions_ts_list):\n",
    "    if len(previous_interactions_ts_list) == 0:\n",
    "        return ELAPSED_DAYS_BEF_LAST_SESSION_DEFAULT\n",
    "    \n",
    "    elapsed_days = max(session_start - previous_interactions_ts_list[-1], 0) / (60*60*24)\n",
    "    return elapsed_days"
   ]
  },
  {
   "cell_type": "code",
   "execution_count": 44,
   "metadata": {},
   "outputs": [],
   "source": [
    "session_seq_and_prev_users_seq_df = users_and_session_seq_joined_df \\\n",
    "            .withColumn('user_pid_seq_bef_sess', user_seq_before_session_integer_udf(F.col('session_start_ts'), F.col('user_etime_seq'),  F.col('user_pid_seq'), F.lit(MAX_LENGTH_USER_SEQUENCE_BEFORE_SESSION))) \\\n",
    "            .withColumn('user_etime_seq_bef_sess', user_seq_before_session_integer_udf(F.col('session_start_ts'), F.col('user_etime_seq'),  F.col('user_etime_seq'), F.lit(MAX_LENGTH_USER_SEQUENCE_BEFORE_SESSION))) \\\n",
    "            .withColumn('user_etype_seq_bef_sess', user_seq_before_session_integer_udf(F.col('session_start_ts'), F.col('user_etime_seq'),  F.col('user_etype_seq'), F.lit(MAX_LENGTH_USER_SEQUENCE_BEFORE_SESSION))) \\\n",
    "            .withColumn('user_csid_seq_bef_sess', user_seq_before_session_integer_udf(F.col('session_start_ts'), F.col('user_etime_seq'),  F.col('user_csid_seq'), F.lit(MAX_LENGTH_USER_SEQUENCE_BEFORE_SESSION))) \\\n",
    "            .withColumn('user_ccid_seq_bef_sess', user_seq_before_session_integer_udf(F.col('session_start_ts'), F.col('user_etime_seq'),  F.col('user_ccid_seq'), F.lit(MAX_LENGTH_USER_SEQUENCE_BEFORE_SESSION))) \\\n",
    "            .withColumn('user_bid_seq_bef_sess', user_seq_before_session_integer_udf(F.col('session_start_ts'), F.col('user_etime_seq'),  F.col('user_bid_seq'), F.lit(MAX_LENGTH_USER_SEQUENCE_BEFORE_SESSION))) \\\n",
    "            .withColumn('user_price_seq_bef_sess', user_seq_before_session_float_udf(F.col('session_start_ts'), F.col('user_etime_seq'),  F.col('user_price_seq'), F.lit(MAX_LENGTH_USER_SEQUENCE_BEFORE_SESSION))) \\\n",
    "            .withColumn('user_dtime_seq_bef_sess', user_seq_before_session_float_udf(F.col('session_start_ts'), F.col('user_etime_seq'),  F.col('user_dtime_seq'), F.lit(MAX_LENGTH_USER_SEQUENCE_BEFORE_SESSION))) \\\n",
    "            .withColumn('user_product_recency_seq_bef_sess', user_seq_before_session_float_udf(F.col('session_start_ts'), F.col('user_etime_seq'),  F.col('user_product_recency_seq'), F.lit(MAX_LENGTH_USER_SEQUENCE_BEFORE_SESSION))) \\\n",
    "            .withColumn('user_relative_price_to_avg_category_seq_bef_sess', user_seq_before_session_float_udf(F.col('session_start_ts'), F.col('user_etime_seq'),  F.col('user_relative_price_to_avg_category_seq'), F.lit(MAX_LENGTH_USER_SEQUENCE_BEFORE_SESSION))) \\\n",
    "            .withColumn('user_et_hour_sin_seq_bef_sess', user_seq_before_session_float_udf(F.col('session_start_ts'), F.col('user_etime_seq'),  F.col('user_et_hour_sin_seq'), F.lit(MAX_LENGTH_USER_SEQUENCE_BEFORE_SESSION))) \\\n",
    "            .withColumn('user_et_hour_cos_seq_bef_sess', user_seq_before_session_float_udf(F.col('session_start_ts'), F.col('user_etime_seq'),  F.col('user_et_hour_cos_seq'), F.lit(MAX_LENGTH_USER_SEQUENCE_BEFORE_SESSION))) \\\n",
    "            .withColumn('user_et_month_sin_seq_bef_sess', user_seq_before_session_float_udf(F.col('session_start_ts'), F.col('user_etime_seq'),  F.col('user_et_month_sin_seq'), F.lit(MAX_LENGTH_USER_SEQUENCE_BEFORE_SESSION))) \\\n",
    "            .withColumn('user_et_month_cos_seq_bef_sess', user_seq_before_session_float_udf(F.col('session_start_ts'), F.col('user_etime_seq'),  F.col('user_et_month_cos_seq'), F.lit(MAX_LENGTH_USER_SEQUENCE_BEFORE_SESSION))) \\\n",
    "            .withColumn('user_et_dayofweek_sin_seq_bef_sess', user_seq_before_session_float_udf(F.col('session_start_ts'), F.col('user_etime_seq'),  F.col('user_et_dayofweek_sin_seq'), F.lit(MAX_LENGTH_USER_SEQUENCE_BEFORE_SESSION))) \\\n",
    "            .withColumn('user_et_dayofweek_cos_seq_bef_sess', user_seq_before_session_float_udf(F.col('session_start_ts'), F.col('user_etime_seq'),  F.col('user_et_dayofweek_cos_seq'), F.lit(MAX_LENGTH_USER_SEQUENCE_BEFORE_SESSION))) \\\n",
    "            .withColumn('user_et_dayofmonth_sin_seq_bef_sess', user_seq_before_session_float_udf(F.col('session_start_ts'), F.col('user_etime_seq'),  F.col('user_et_dayofmonth_sin_seq'), F.lit(MAX_LENGTH_USER_SEQUENCE_BEFORE_SESSION))) \\\n",
    "            .withColumn('user_et_dayofmonth_cos_seq_bef_sess', user_seq_before_session_float_udf(F.col('session_start_ts'), F.col('user_etime_seq'),  F.col('user_et_dayofmonth_cos_seq'), F.lit(MAX_LENGTH_USER_SEQUENCE_BEFORE_SESSION))) \\\n",
    "            .withColumn('user_seq_length_bef_sess', F.size('user_pid_seq_bef_sess')) \\\n",
    "            .withColumn('user_elapsed_days_bef_sess', elapsed_days_since_last_interaction_bef_session(F.col('session_start_ts'), F.col('sess_etime_seq'))) \\\n",
    "            .withColumn('user_elapsed_days_log_bef_sess', F.log1p('user_elapsed_days_bef_sess'))"
   ]
  },
  {
   "cell_type": "code",
   "execution_count": 45,
   "metadata": {},
   "outputs": [
    {
     "name": "stdout",
     "output_type": "stream",
     "text": [
      "0.0 0.0\n",
      "CPU times: user 50.5 ms, sys: 69.6 ms, total: 120 ms\n",
      "Wall time: 4min 32s\n"
     ]
    }
   ],
   "source": [
    "%%time\n",
    "user_elapsed_days_log_bef_sess_mean, user_elapsed_days_log_bef_sess_std = tuple(session_seq_and_prev_users_seq_df.agg(\n",
    "                                                                                F.mean('user_elapsed_days_log_bef_sess'),\n",
    "                                                                                F.stddev('user_elapsed_days_log_bef_sess')).take(1)[0])\n",
    "print(user_elapsed_days_log_bef_sess_mean, user_elapsed_days_log_bef_sess_std)\n",
    "\n",
    "#Z-norm\n",
    "session_seq_and_prev_users_seq_df = session_seq_and_prev_users_seq_df.withColumn('user_elapsed_days_log_bef_sess_norm', \n",
    "                                                                                 (F.col('user_elapsed_days_log_bef_sess') - user_elapsed_days_log_bef_sess_mean) / user_elapsed_days_log_bef_sess_std)"
   ]
  },
  {
   "cell_type": "code",
   "execution_count": 46,
   "metadata": {},
   "outputs": [
    {
     "name": "stdout",
     "output_type": "stream",
     "text": [
      "root\n",
      " |-- user_idx: integer (nullable = true)\n",
      " |-- user_session: string (nullable = true)\n",
      " |-- session_start_ts: long (nullable = true)\n",
      " |-- session_end_ts: long (nullable = true)\n",
      " |-- sess_pid_seq: array (nullable = true)\n",
      " |    |-- element: integer (containsNull = true)\n",
      " |-- sess_etime_seq: array (nullable = true)\n",
      " |    |-- element: integer (containsNull = true)\n",
      " |-- sess_etype_seq: array (nullable = true)\n",
      " |    |-- element: integer (containsNull = true)\n",
      " |-- sess_csid_seq: array (nullable = true)\n",
      " |    |-- element: integer (containsNull = true)\n",
      " |-- sess_ccid_seq: array (nullable = true)\n",
      " |    |-- element: integer (containsNull = true)\n",
      " |-- sess_bid_seq: array (nullable = true)\n",
      " |    |-- element: integer (containsNull = true)\n",
      " |-- sess_price_seq: array (nullable = true)\n",
      " |    |-- element: float (containsNull = true)\n",
      " |-- sess_dtime_seq: array (nullable = true)\n",
      " |    |-- element: float (containsNull = true)\n",
      " |-- sess_product_recency_seq: array (nullable = true)\n",
      " |    |-- element: float (containsNull = true)\n",
      " |-- sess_relative_price_to_avg_category_seq: array (nullable = true)\n",
      " |    |-- element: float (containsNull = true)\n",
      " |-- sess_et_hour_sin_seq: array (nullable = true)\n",
      " |    |-- element: float (containsNull = true)\n",
      " |-- sess_et_hour_cos_seq: array (nullable = true)\n",
      " |    |-- element: float (containsNull = true)\n",
      " |-- sess_et_month_sin_seq: array (nullable = true)\n",
      " |    |-- element: float (containsNull = true)\n",
      " |-- sess_et_month_cos_seq: array (nullable = true)\n",
      " |    |-- element: float (containsNull = true)\n",
      " |-- sess_et_dayofweek_sin_seq: array (nullable = true)\n",
      " |    |-- element: float (containsNull = true)\n",
      " |-- sess_et_dayofweek_cos_seq: array (nullable = true)\n",
      " |    |-- element: float (containsNull = true)\n",
      " |-- sess_et_dayofmonth_sin_seq: array (nullable = true)\n",
      " |    |-- element: float (containsNull = true)\n",
      " |-- sess_et_dayofmonth_cos_seq: array (nullable = true)\n",
      " |    |-- element: float (containsNull = true)\n",
      " |-- sess_seq_len: integer (nullable = false)\n",
      " |-- user_pid_seq: array (nullable = true)\n",
      " |    |-- element: double (containsNull = true)\n",
      " |-- user_etime_seq: array (nullable = true)\n",
      " |    |-- element: long (containsNull = true)\n",
      " |-- user_etype_seq: array (nullable = true)\n",
      " |    |-- element: double (containsNull = true)\n",
      " |-- user_csid_seq: array (nullable = true)\n",
      " |    |-- element: double (containsNull = true)\n",
      " |-- user_ccid_seq: array (nullable = true)\n",
      " |    |-- element: double (containsNull = true)\n",
      " |-- user_bid_seq: array (nullable = true)\n",
      " |    |-- element: double (containsNull = true)\n",
      " |-- user_price_seq: array (nullable = true)\n",
      " |    |-- element: double (containsNull = true)\n",
      " |-- user_dtime_seq: array (nullable = true)\n",
      " |    |-- element: double (containsNull = true)\n",
      " |-- user_product_recency_seq: array (nullable = true)\n",
      " |    |-- element: double (containsNull = true)\n",
      " |-- user_relative_price_to_avg_category_seq: array (nullable = true)\n",
      " |    |-- element: double (containsNull = true)\n",
      " |-- user_et_hour_sin_seq: array (nullable = true)\n",
      " |    |-- element: float (containsNull = true)\n",
      " |-- user_et_hour_cos_seq: array (nullable = true)\n",
      " |    |-- element: float (containsNull = true)\n",
      " |-- user_et_month_sin_seq: array (nullable = true)\n",
      " |    |-- element: float (containsNull = true)\n",
      " |-- user_et_month_cos_seq: array (nullable = true)\n",
      " |    |-- element: float (containsNull = true)\n",
      " |-- user_et_dayofweek_sin_seq: array (nullable = true)\n",
      " |    |-- element: float (containsNull = true)\n",
      " |-- user_et_dayofweek_cos_seq: array (nullable = true)\n",
      " |    |-- element: float (containsNull = true)\n",
      " |-- user_et_dayofmonth_sin_seq: array (nullable = true)\n",
      " |    |-- element: float (containsNull = true)\n",
      " |-- user_et_dayofmonth_cos_seq: array (nullable = true)\n",
      " |    |-- element: float (containsNull = true)\n",
      " |-- user_pid_seq_bef_sess: array (nullable = true)\n",
      " |    |-- element: integer (containsNull = true)\n",
      " |-- user_etime_seq_bef_sess: array (nullable = true)\n",
      " |    |-- element: integer (containsNull = true)\n",
      " |-- user_etype_seq_bef_sess: array (nullable = true)\n",
      " |    |-- element: integer (containsNull = true)\n",
      " |-- user_csid_seq_bef_sess: array (nullable = true)\n",
      " |    |-- element: integer (containsNull = true)\n",
      " |-- user_ccid_seq_bef_sess: array (nullable = true)\n",
      " |    |-- element: integer (containsNull = true)\n",
      " |-- user_bid_seq_bef_sess: array (nullable = true)\n",
      " |    |-- element: integer (containsNull = true)\n",
      " |-- user_price_seq_bef_sess: array (nullable = true)\n",
      " |    |-- element: float (containsNull = true)\n",
      " |-- user_dtime_seq_bef_sess: array (nullable = true)\n",
      " |    |-- element: float (containsNull = true)\n",
      " |-- user_product_recency_seq_bef_sess: array (nullable = true)\n",
      " |    |-- element: float (containsNull = true)\n",
      " |-- user_relative_price_to_avg_category_seq_bef_sess: array (nullable = true)\n",
      " |    |-- element: float (containsNull = true)\n",
      " |-- user_et_hour_sin_seq_bef_sess: array (nullable = true)\n",
      " |    |-- element: float (containsNull = true)\n",
      " |-- user_et_hour_cos_seq_bef_sess: array (nullable = true)\n",
      " |    |-- element: float (containsNull = true)\n",
      " |-- user_et_month_sin_seq_bef_sess: array (nullable = true)\n",
      " |    |-- element: float (containsNull = true)\n",
      " |-- user_et_month_cos_seq_bef_sess: array (nullable = true)\n",
      " |    |-- element: float (containsNull = true)\n",
      " |-- user_et_dayofweek_sin_seq_bef_sess: array (nullable = true)\n",
      " |    |-- element: float (containsNull = true)\n",
      " |-- user_et_dayofweek_cos_seq_bef_sess: array (nullable = true)\n",
      " |    |-- element: float (containsNull = true)\n",
      " |-- user_et_dayofmonth_sin_seq_bef_sess: array (nullable = true)\n",
      " |    |-- element: float (containsNull = true)\n",
      " |-- user_et_dayofmonth_cos_seq_bef_sess: array (nullable = true)\n",
      " |    |-- element: float (containsNull = true)\n",
      " |-- user_seq_length_bef_sess: integer (nullable = false)\n",
      " |-- user_elapsed_days_bef_sess: float (nullable = true)\n",
      " |-- user_elapsed_days_log_bef_sess: double (nullable = true)\n",
      " |-- user_elapsed_days_log_bef_sess_norm: double (nullable = true)\n",
      "\n"
     ]
    }
   ],
   "source": [
    "session_seq_and_prev_users_seq_df.printSchema()"
   ]
  },
  {
   "cell_type": "markdown",
   "metadata": {},
   "source": [
    "# Exporting data"
   ]
  },
  {
   "cell_type": "markdown",
   "metadata": {},
   "source": [
    "#### Option A: Pad zeros to make all sequences same length\n",
    "NOTE: it would be not memory-efficient. But currently it seems no way to utilize Petastorm (parquet -> dataloader) without this option."
   ]
  },
  {
   "cell_type": "code",
   "execution_count": 47,
   "metadata": {},
   "outputs": [],
   "source": [
    "from pyspark.sql.types import ArrayType, IntegerType\n",
    "\n",
    "def pad_array(values, expected_length, trunc_start, dtype=int):\n",
    "    #if dtype is float:\n",
    "    #    value_to_pad = [0.]\n",
    "    #else:\n",
    "    #    value_to_pad = [0]\n",
    "    #value_to_pad = [dtype(0)]\n",
    "        \n",
    "    res = list([type(x) for x in values]) + ([dtype(0)] * (expected_length-len(values)))\n",
    "    \n",
    "    # Pick first N\n",
    "    if trunc_start:\n",
    "        res = res[:expected_length]\n",
    "    #Pick last N\n",
    "    else:\n",
    "        res = res[-expected_length:]\n",
    "        \n",
    "    return res\n",
    "\n",
    "\n",
    "@udf(returnType=ArrayType(IntegerType()))\n",
    "def pad_array_int(values, expected_length, trunc_start):\n",
    "    return pad_array(values, expected_length, trunc_start)\n",
    "\n",
    "@udf(returnType=ArrayType(LongType()))\n",
    "def pad_array_long(values, expected_length, trunc_start):\n",
    "    return pad_array(values, expected_length, trunc_start)\n",
    "\n",
    "@udf(returnType=ArrayType(FloatType()))\n",
    "def pad_array_float(values, expected_length, trunc_start):\n",
    "    return pad_array(values, expected_length, trunc_start, dtype=float)"
   ]
  },
  {
   "cell_type": "code",
   "execution_count": 48,
   "metadata": {},
   "outputs": [],
   "source": [
    "sessions_users_seqs_to_export_df = \\\n",
    "        session_seq_and_prev_users_seq_df.select('user_idx', 'user_session', 'sess_seq_len', \n",
    "                                                 'session_start_ts',  \n",
    "                                                 F.date_trunc('day', F.to_timestamp(F.col('session_start_ts'))).cast('string').substr(0,10).alias('session_start_date'), \n",
    "                                                 'user_seq_length_bef_sess', 'user_elapsed_days_bef_sess', 'user_elapsed_days_log_bef_sess_norm',\n",
    "                        # Session sequences (first N interactions)\n",
    "                        pad_array_long(F.col('sess_pid_seq'), F.lit(SESSIONS_MAX_LENGTH), F.lit(True)).alias('sess_pid_seq'),\n",
    "                        pad_array_long(F.col('sess_etime_seq'), F.lit(SESSIONS_MAX_LENGTH), F.lit(True)).alias('sess_etime_seq'),\n",
    "                        pad_array_int(F.col('sess_etype_seq'), F.lit(SESSIONS_MAX_LENGTH), F.lit(True)).alias('sess_etype_seq'),\n",
    "                        pad_array_int(F.col('sess_csid_seq'), F.lit(SESSIONS_MAX_LENGTH), F.lit(True)).alias('sess_csid_seq'),\n",
    "                        pad_array_int(F.col('sess_ccid_seq'), F.lit(SESSIONS_MAX_LENGTH), F.lit(True)).alias('sess_ccid_seq'),\n",
    "                        pad_array_int(F.col('sess_bid_seq'), F.lit(SESSIONS_MAX_LENGTH), F.lit(True)).alias('sess_bid_seq'),\n",
    "                        pad_array_float(F.col('sess_price_seq'), F.lit(SESSIONS_MAX_LENGTH), F.lit(True)).alias('sess_price_seq'),\n",
    "                        pad_array_float(F.col('sess_dtime_seq'), F.lit(SESSIONS_MAX_LENGTH), F.lit(True)).alias('sess_dtime_seq'),\n",
    "                        pad_array_float(F.col('sess_product_recency_seq'), F.lit(SESSIONS_MAX_LENGTH), F.lit(True)).alias('sess_product_recency_seq'),\n",
    "                        pad_array_float(F.col('sess_relative_price_to_avg_category_seq'), F.lit(SESSIONS_MAX_LENGTH), F.lit(True)).alias('sess_relative_price_to_avg_category_seq'),\n",
    "                        pad_array_float(F.col('sess_et_hour_sin_seq'), F.lit(SESSIONS_MAX_LENGTH), F.lit(True)).alias('sess_et_hour_sin_seq'), \n",
    "                        pad_array_float(F.col('sess_et_hour_cos_seq'), F.lit(SESSIONS_MAX_LENGTH), F.lit(True)).alias('sess_et_hour_cos_seq'),\n",
    "                        pad_array_float(F.col('sess_et_month_sin_seq'), F.lit(SESSIONS_MAX_LENGTH), F.lit(True)).alias('sess_et_month_sin_seq'),\n",
    "                        pad_array_float(F.col('sess_et_month_cos_seq'), F.lit(SESSIONS_MAX_LENGTH), F.lit(True)).alias('sess_et_month_cos_seq'),\n",
    "                        pad_array_float(F.col('sess_et_dayofweek_sin_seq'), F.lit(SESSIONS_MAX_LENGTH), F.lit(True)).alias('sess_et_dayofweek_sin_seq'),\n",
    "                        pad_array_float(F.col('sess_et_dayofweek_cos_seq'), F.lit(SESSIONS_MAX_LENGTH), F.lit(True)).alias('sess_et_dayofweek_cos_seq'),\n",
    "                        pad_array_float(F.col('sess_et_dayofmonth_sin_seq'), F.lit(SESSIONS_MAX_LENGTH), F.lit(True)).alias('sess_et_dayofmonth_sin_seq'),\n",
    "                        pad_array_float(F.col('sess_et_dayofmonth_cos_seq'), F.lit(SESSIONS_MAX_LENGTH), F.lit(True)).alias('sess_et_dayofmonth_cos_seq'),\n",
    "                         # Users sequences before session (last M interactions) \n",
    "                         pad_array_long(F.col('user_pid_seq_bef_sess'), F.lit(MAX_LENGTH_USER_SEQUENCE_BEFORE_SESSION), F.lit(False)).alias('user_pid_seq_bef_sess'),\n",
    "                         pad_array_long(F.col('user_etime_seq_bef_sess'), F.lit(MAX_LENGTH_USER_SEQUENCE_BEFORE_SESSION), F.lit(False)).alias('user_etime_seq_bef_sess'),\n",
    "                         pad_array_int(F.col('user_etype_seq_bef_sess'), F.lit(MAX_LENGTH_USER_SEQUENCE_BEFORE_SESSION), F.lit(False)).alias('user_etype_seq_bef_sess'),\n",
    "                         pad_array_int(F.col('user_csid_seq_bef_sess'), F.lit(MAX_LENGTH_USER_SEQUENCE_BEFORE_SESSION), F.lit(False)).alias('user_csid_seq_bef_sess'),\n",
    "                         pad_array_int(F.col('user_ccid_seq_bef_sess'), F.lit(MAX_LENGTH_USER_SEQUENCE_BEFORE_SESSION), F.lit(False)).alias('user_ccid_seq_bef_sess'),\n",
    "                         pad_array_int(F.col('user_bid_seq_bef_sess'), F.lit(MAX_LENGTH_USER_SEQUENCE_BEFORE_SESSION), F.lit(False)).alias('user_bid_seq_bef_sess'),\n",
    "                         pad_array_float(F.col('user_price_seq_bef_sess'), F.lit(MAX_LENGTH_USER_SEQUENCE_BEFORE_SESSION), F.lit(False)).alias('user_price_seq_bef_sess'),\n",
    "                         pad_array_float(F.col('user_dtime_seq_bef_sess'), F.lit(MAX_LENGTH_USER_SEQUENCE_BEFORE_SESSION), F.lit(False)).alias('user_dtime_seq_bef_sess'),\n",
    "                         pad_array_float(F.col('user_product_recency_seq_bef_sess'), F.lit(MAX_LENGTH_USER_SEQUENCE_BEFORE_SESSION), F.lit(False)).alias('user_product_recency_seq_bef_sess'),\n",
    "                         pad_array_float(F.col('user_relative_price_to_avg_category_seq_bef_sess'), F.lit(MAX_LENGTH_USER_SEQUENCE_BEFORE_SESSION), F.lit(False)).alias('user_relative_price_to_avg_category_seq_bef_sess'),\n",
    "                         pad_array_float(F.col('user_et_hour_sin_seq_bef_sess'), F.lit(MAX_LENGTH_USER_SEQUENCE_BEFORE_SESSION), F.lit(False)).alias('user_et_hour_sin_seq_bef_sess'),\n",
    "                         pad_array_float(F.col('user_et_hour_cos_seq_bef_sess'), F.lit(MAX_LENGTH_USER_SEQUENCE_BEFORE_SESSION), F.lit(False)).alias('user_et_hour_cos_seq_bef_sess'),\n",
    "                         pad_array_float(F.col('user_et_month_sin_seq_bef_sess'), F.lit(MAX_LENGTH_USER_SEQUENCE_BEFORE_SESSION), F.lit(False)).alias('user_et_month_sin_seq_bef_sess'),\n",
    "                         pad_array_float(F.col('user_et_month_cos_seq_bef_sess'), F.lit(MAX_LENGTH_USER_SEQUENCE_BEFORE_SESSION), F.lit(False)).alias('user_et_month_cos_seq_bef_sess'),\n",
    "                         pad_array_float(F.col('user_et_dayofweek_sin_seq_bef_sess'), F.lit(MAX_LENGTH_USER_SEQUENCE_BEFORE_SESSION), F.lit(False)).alias('user_et_dayofweek_sin_seq_bef_sess'),\n",
    "                         pad_array_float(F.col('user_et_dayofweek_cos_seq_bef_sess'), F.lit(MAX_LENGTH_USER_SEQUENCE_BEFORE_SESSION), F.lit(False)).alias('user_et_dayofweek_cos_seq_bef_sess'),\n",
    "                         pad_array_float(F.col('user_et_dayofmonth_sin_seq_bef_sess'), F.lit(MAX_LENGTH_USER_SEQUENCE_BEFORE_SESSION), F.lit(False)).alias('user_et_dayofmonth_sin_seq_bef_sess'),\n",
    "                         pad_array_float(F.col('user_et_dayofmonth_cos_seq_bef_sess'), F.lit(MAX_LENGTH_USER_SEQUENCE_BEFORE_SESSION), F.lit(False)).alias('user_et_dayofmonth_cos_seq_bef_sess'),\n",
    "                    )"
   ]
  },
  {
   "cell_type": "code",
   "execution_count": 49,
   "metadata": {},
   "outputs": [
    {
     "name": "stdout",
     "output_type": "stream",
     "text": [
      "root\n",
      " |-- user_idx: integer (nullable = true)\n",
      " |-- user_session: string (nullable = true)\n",
      " |-- sess_seq_len: integer (nullable = false)\n",
      " |-- session_start_ts: long (nullable = true)\n",
      " |-- session_start_date: string (nullable = true)\n",
      " |-- user_seq_length_bef_sess: integer (nullable = false)\n",
      " |-- user_elapsed_days_bef_sess: float (nullable = true)\n",
      " |-- user_elapsed_days_log_bef_sess_norm: double (nullable = true)\n",
      " |-- sess_pid_seq: array (nullable = true)\n",
      " |    |-- element: long (containsNull = true)\n",
      " |-- sess_etime_seq: array (nullable = true)\n",
      " |    |-- element: long (containsNull = true)\n",
      " |-- sess_etype_seq: array (nullable = true)\n",
      " |    |-- element: integer (containsNull = true)\n",
      " |-- sess_csid_seq: array (nullable = true)\n",
      " |    |-- element: integer (containsNull = true)\n",
      " |-- sess_ccid_seq: array (nullable = true)\n",
      " |    |-- element: integer (containsNull = true)\n",
      " |-- sess_bid_seq: array (nullable = true)\n",
      " |    |-- element: integer (containsNull = true)\n",
      " |-- sess_price_seq: array (nullable = true)\n",
      " |    |-- element: float (containsNull = true)\n",
      " |-- sess_dtime_seq: array (nullable = true)\n",
      " |    |-- element: float (containsNull = true)\n",
      " |-- sess_product_recency_seq: array (nullable = true)\n",
      " |    |-- element: float (containsNull = true)\n",
      " |-- sess_relative_price_to_avg_category_seq: array (nullable = true)\n",
      " |    |-- element: float (containsNull = true)\n",
      " |-- sess_et_hour_sin_seq: array (nullable = true)\n",
      " |    |-- element: float (containsNull = true)\n",
      " |-- sess_et_hour_cos_seq: array (nullable = true)\n",
      " |    |-- element: float (containsNull = true)\n",
      " |-- sess_et_month_sin_seq: array (nullable = true)\n",
      " |    |-- element: float (containsNull = true)\n",
      " |-- sess_et_month_cos_seq: array (nullable = true)\n",
      " |    |-- element: float (containsNull = true)\n",
      " |-- sess_et_dayofweek_sin_seq: array (nullable = true)\n",
      " |    |-- element: float (containsNull = true)\n",
      " |-- sess_et_dayofweek_cos_seq: array (nullable = true)\n",
      " |    |-- element: float (containsNull = true)\n",
      " |-- sess_et_dayofmonth_sin_seq: array (nullable = true)\n",
      " |    |-- element: float (containsNull = true)\n",
      " |-- sess_et_dayofmonth_cos_seq: array (nullable = true)\n",
      " |    |-- element: float (containsNull = true)\n",
      " |-- user_pid_seq_bef_sess: array (nullable = true)\n",
      " |    |-- element: long (containsNull = true)\n",
      " |-- user_etime_seq_bef_sess: array (nullable = true)\n",
      " |    |-- element: long (containsNull = true)\n",
      " |-- user_etype_seq_bef_sess: array (nullable = true)\n",
      " |    |-- element: integer (containsNull = true)\n",
      " |-- user_csid_seq_bef_sess: array (nullable = true)\n",
      " |    |-- element: integer (containsNull = true)\n",
      " |-- user_ccid_seq_bef_sess: array (nullable = true)\n",
      " |    |-- element: integer (containsNull = true)\n",
      " |-- user_bid_seq_bef_sess: array (nullable = true)\n",
      " |    |-- element: integer (containsNull = true)\n",
      " |-- user_price_seq_bef_sess: array (nullable = true)\n",
      " |    |-- element: float (containsNull = true)\n",
      " |-- user_dtime_seq_bef_sess: array (nullable = true)\n",
      " |    |-- element: float (containsNull = true)\n",
      " |-- user_product_recency_seq_bef_sess: array (nullable = true)\n",
      " |    |-- element: float (containsNull = true)\n",
      " |-- user_relative_price_to_avg_category_seq_bef_sess: array (nullable = true)\n",
      " |    |-- element: float (containsNull = true)\n",
      " |-- user_et_hour_sin_seq_bef_sess: array (nullable = true)\n",
      " |    |-- element: float (containsNull = true)\n",
      " |-- user_et_hour_cos_seq_bef_sess: array (nullable = true)\n",
      " |    |-- element: float (containsNull = true)\n",
      " |-- user_et_month_sin_seq_bef_sess: array (nullable = true)\n",
      " |    |-- element: float (containsNull = true)\n",
      " |-- user_et_month_cos_seq_bef_sess: array (nullable = true)\n",
      " |    |-- element: float (containsNull = true)\n",
      " |-- user_et_dayofweek_sin_seq_bef_sess: array (nullable = true)\n",
      " |    |-- element: float (containsNull = true)\n",
      " |-- user_et_dayofweek_cos_seq_bef_sess: array (nullable = true)\n",
      " |    |-- element: float (containsNull = true)\n",
      " |-- user_et_dayofmonth_sin_seq_bef_sess: array (nullable = true)\n",
      " |    |-- element: float (containsNull = true)\n",
      " |-- user_et_dayofmonth_cos_seq_bef_sess: array (nullable = true)\n",
      " |    |-- element: float (containsNull = true)\n",
      "\n"
     ]
    }
   ],
   "source": [
    "sessions_users_seqs_to_export_df.printSchema()"
   ]
  },
  {
   "cell_type": "code",
   "execution_count": 245,
   "metadata": {},
   "outputs": [
    {
     "name": "stdout",
     "output_type": "stream",
     "text": [
      "+--------+--------------------+------------+----------------+------------------+------------------------+------------------------------+-----------------------------------+--------------------+--------------------+--------------------+--------------------+--------------------+--------------------+--------------------+--------------------+------------------------+---------------------------------------+--------------------+--------------------+---------------------+---------------------+-------------------------+-------------------------+--------------------------+--------------------------+---------------------+-----------------------+-----------------------+----------------------+----------------------+---------------------+-----------------------+-----------------------+---------------------------------+------------------------------------------------+-----------------------------+-----------------------------+------------------------------+------------------------------+----------------------------------+----------------------------------+-----------------------------------+-----------------------------------+\n",
      "|user_idx|        user_session|sess_seq_len|session_start_ts|session_start_date|user_seq_length_bef_sess|user_elapsed_days_log_bef_sess|user_elapsed_days_log_bef_sess_norm|        sess_pid_seq|      sess_etime_seq|      sess_etype_seq|       sess_csid_seq|       sess_ccid_seq|        sess_bid_seq|      sess_price_seq|      sess_dtime_seq|sess_product_recency_seq|sess_relative_price_to_avg_category_seq|sess_et_hour_sin_seq|sess_et_hour_cos_seq|sess_et_month_sin_seq|sess_et_month_cos_seq|sess_et_dayofweek_sin_seq|sess_et_dayofweek_cos_seq|sess_et_dayofmonth_sin_seq|sess_et_dayofmonth_cos_seq|user_pid_seq_bef_sess|user_etime_seq_bef_sess|user_etype_seq_bef_sess|user_csid_seq_bef_sess|user_ccid_seq_bef_sess|user_bid_seq_bef_sess|user_price_seq_bef_sess|user_dtime_seq_bef_sess|user_product_recency_seq_bef_sess|user_relative_price_to_avg_category_seq_bef_sess|user_et_hour_sin_seq_bef_sess|user_et_hour_cos_seq_bef_sess|user_et_month_sin_seq_bef_sess|user_et_month_cos_seq_bef_sess|user_et_dayofweek_sin_seq_bef_sess|user_et_dayofweek_cos_seq_bef_sess|user_et_dayofmonth_sin_seq_bef_sess|user_et_dayofmonth_cos_seq_bef_sess|\n",
      "+--------+--------------------+------------+----------------+------------------+------------------------+------------------------------+-----------------------------------+--------------------+--------------------+--------------------+--------------------+--------------------+--------------------+--------------------+--------------------+------------------------+---------------------------------------+--------------------+--------------------+---------------------+---------------------+-------------------------+-------------------------+--------------------------+--------------------------+---------------------+-----------------------+-----------------------+----------------------+----------------------+---------------------+-----------------------+-----------------------+---------------------------------+------------------------------------------------+-----------------------------+-----------------------------+------------------------------+------------------------------+----------------------------------+----------------------------------+-----------------------------------+-----------------------------------+\n",
      "|      26|77b61d9e-6caf-47b...|           4|      1569888323|        2019-10-01|                       0|          -0.00737667813239...|                 -2.917579579741167|[16, 449, 21, 422...|[1569888323, 1569...|[,,,, 0, 0, 0, 0,...|[5, 5, 5, 5, 0, 0...|[4, 4, 4, 4, 0, 0...|[4, 134, 37, 4, 0...|[-1.8101535, -0.8...|[-0.66146547, 0.6...|    [0.0030902778, 0....|                   [-0.81099516, -0....|[2.6179938E-9, 2....|[1.0, 1.0, 1.0, 1...| [-0.8660254, -0.8...| [0.5, 0.5, 0.5, 0...|     [0.43388373, 0.43...|     [-0.90096885, -0....|      [0.20129852, 0.20...|      [0.9795299, 0.979...| [0, 0, 0, 0, 0, 0...|   [0, 0, 0, 0, 0, 0...|   [0, 0, 0, 0, 0, 0...|  [0, 0, 0, 0, 0, 0...|  [0, 0, 0, 0, 0, 0...| [0, 0, 0, 0, 0, 0...|   [0.0, 0.0, 0.0, 0...|   [0.0, 0.0, 0.0, 0...|             [0.0, 0.0, 0.0, 0...|                            [0.0, 0.0, 0.0, 0...|         [0.0, 0.0, 0.0, 0...|         [0.0, 0.0, 0.0, 0...|          [0.0, 0.0, 0.0, 0...|          [0.0, 0.0, 0.0, 0...|              [0.0, 0.0, 0.0, 0...|              [0.0, 0.0, 0.0, 0...|               [0.0, 0.0, 0.0, 0...|               [0.0, 0.0, 0.0, 0...|\n",
      "|      29|bb8e28c8-d11f-428...|           3|      1569888035|        2019-10-01|                       0|          -0.00173761991149...|                0.11439141777228946|[88, 17, 76, 0, 0...|[1569888035, 1569...|[,,, 0, 0, 0, 0, ...|[10, 10, 10, 0, 0...|[51, 51, 51, 0, 0...|[49, 20, 25, 0, 0...|[-1.3580045, -1.3...|[-0.66146547, -0....|    [0.0, 0.0, 0.0, 0...|                   [-0.47438708, -0....|[2.6179938E-9, 2....|[1.0, 1.0, 1.0, 0...| [-0.8660254, -0.8...| [0.5, 0.5, 0.5, 0...|     [0.43388373, 0.43...|     [-0.90096885, -0....|      [0.20129852, 0.20...|      [0.9795299, 0.979...| [0, 0, 0, 0, 0, 0...|   [0, 0, 0, 0, 0, 0...|   [0, 0, 0, 0, 0, 0...|  [0, 0, 0, 0, 0, 0...|  [0, 0, 0, 0, 0, 0...| [0, 0, 0, 0, 0, 0...|   [0.0, 0.0, 0.0, 0...|   [0.0, 0.0, 0.0, 0...|             [0.0, 0.0, 0.0, 0...|                            [0.0, 0.0, 0.0, 0...|         [0.0, 0.0, 0.0, 0...|         [0.0, 0.0, 0.0, 0...|          [0.0, 0.0, 0.0, 0...|          [0.0, 0.0, 0.0, 0...|              [0.0, 0.0, 0.0, 0...|              [0.0, 0.0, 0.0, 0...|               [0.0, 0.0, 0.0, 0...|               [0.0, 0.0, 0.0, 0...|\n",
      "|      19|673efa91-486f-4a0...|           5|      1569888787|        2019-10-01|                       4|          -0.00179559264179...|                0.08322102902616771|[323, 220, 402, 3...|[1569888787, 1569...|[,,,,, 0, 0, 0, 0...|[11, 11, 11, 11, ...|[7, 7, 7, 7, 7, 0...|[3, 30, 10, 10, 1...|[1.9088697, 0.843...|[-0.66146547, -0....|    [0.0, 0.0, 0.0, 0...|                   [1.0255669, -0.37...|[2.6179938E-9, 2....|[1.0, 1.0, 1.0, 1...| [-0.8660254, -0.8...| [0.5, 0.5, 0.5, 0...|     [0.43388373, 0.43...|     [-0.90096885, -0....|      [0.20129852, 0.20...|      [0.9795299, 0.979...| [197, 165, 126, 1...|   [1569888050, 1569...|   [,,,, 0, 0, 0, 0,...|  [6, 6, 11, 11, 0,...|  [5, 5, 7, 7, 0, 0...| [30, 13, 10, 10, ...|   [0.554215, 0.4655...|   [-1.2988056, 0.19...|             [0.0, 0.0, 0.0, 1...|                            [-0.38083127, -0....|         [2.6179938E-9, 2....|         [1.0, 1.0, 1.0, 1...|          [-0.8660254, -0.8...|          [0.5, 0.5, 0.5, 0...|              [0.43388373, 0.43...|              [-0.90096885, -0....|               [0.20129852, 0.20...|               [0.9795299, 0.979...|\n",
      "|      19|244570b9-ebb4-4d4...|           2|      1569888050|        2019-10-01|                       0|          -1.85202333712210...|                 0.9490848874086221|[197, 165, 0, 0, ...|[1569888050, 1569...|[,, 0, 0, 0, 0, 0...|[6, 6, 0, 0, 0, 0...|[5, 5, 0, 0, 0, 0...|[30, 13, 0, 0, 0,...|[0.554215, 0.4655...|[-0.66146547, -0....|    [0.0, 0.0, 0.0, 0...|                   [-0.38083127, -0....|[2.6179938E-9, 2....|[1.0, 1.0, 0.0, 0...| [-0.8660254, -0.8...| [0.5, 0.5, 0.0, 0...|     [0.43388373, 0.43...|     [-0.90096885, -0....|      [0.20129852, 0.20...|      [0.9795299, 0.979...| [0, 0, 0, 0, 0, 0...|   [0, 0, 0, 0, 0, 0...|   [0, 0, 0, 0, 0, 0...|  [0, 0, 0, 0, 0, 0...|  [0, 0, 0, 0, 0, 0...| [0, 0, 0, 0, 0, 0...|   [0.0, 0.0, 0.0, 0...|   [0.0, 0.0, 0.0, 0...|             [0.0, 0.0, 0.0, 0...|                            [0.0, 0.0, 0.0, 0...|         [0.0, 0.0, 0.0, 0...|         [0.0, 0.0, 0.0, 0...|          [0.0, 0.0, 0.0, 0...|          [0.0, 0.0, 0.0, 0...|              [0.0, 0.0, 0.0, 0...|              [0.0, 0.0, 0.0, 0...|               [0.0, 0.0, 0.0, 0...|               [0.0, 0.0, 0.0, 0...|\n",
      "|      54|9fc424df-a04f-405...|           4|      1569888161|        2019-10-01|                       0|          -0.00115807772926...|                0.42599577075966216|[259, 114, 267, 4...|[1569888161, 1569...|[,,,, 0, 0, 0, 0,...|[23, 23, 23, 120,...|[8, 8, 8, 51, 0, ...|[2, 61, 61, 143, ...|[0.35504442, 1.76...|[-0.66146547, 0.1...|    [0.0, 0.0, 0.0, 0...|                   [-0.50046676, 1.3...|[2.6179938E-9, 2....|[1.0, 1.0, 1.0, 1...| [-0.8660254, -0.8...| [0.5, 0.5, 0.5, 0...|     [0.43388373, 0.43...|     [-0.90096885, -0....|      [0.20129852, 0.20...|      [0.9795299, 0.979...| [0, 0, 0, 0, 0, 0...|   [0, 0, 0, 0, 0, 0...|   [0, 0, 0, 0, 0, 0...|  [0, 0, 0, 0, 0, 0...|  [0, 0, 0, 0, 0, 0...| [0, 0, 0, 0, 0, 0...|   [0.0, 0.0, 0.0, 0...|   [0.0, 0.0, 0.0, 0...|             [0.0, 0.0, 0.0, 0...|                            [0.0, 0.0, 0.0, 0...|         [0.0, 0.0, 0.0, 0...|         [0.0, 0.0, 0.0, 0...|          [0.0, 0.0, 0.0, 0...|          [0.0, 0.0, 0.0, 0...|              [0.0, 0.0, 0.0, 0...|              [0.0, 0.0, 0.0, 0...|               [0.0, 0.0, 0.0, 0...|               [0.0, 0.0, 0.0, 0...|\n",
      "|     112|758d8ee1-65f5-42e...|           3|      1569888564|        2019-10-01|                       0|          -0.00474503613045...|                -1.5026159611435923|[460, 293, 296, 0...|[1569888564, 1569...|[,,, 0, 0, 0, 0, ...|[17, 17, 17, 0, 0...|[11, 11, 11, 0, 0...|[4, 4, 4, 0, 0, 0...|[0.49410814, 0.48...|[-0.66146547, 6.4...|    [0.0, 0.0, 0.0, 0...|                   [0.92270386, 0.91...|[2.6179938E-9, 2....|[1.0, 1.0, 1.0, 0...| [-0.8660254, -0.8...| [0.5, 0.5, 0.5, 0...|     [0.43388373, 0.43...|     [-0.90096885, -0....|      [0.20129852, 0.20...|      [0.9795299, 0.979...| [0, 0, 0, 0, 0, 0...|   [0, 0, 0, 0, 0, 0...|   [0, 0, 0, 0, 0, 0...|  [0, 0, 0, 0, 0, 0...|  [0, 0, 0, 0, 0, 0...| [0, 0, 0, 0, 0, 0...|   [0.0, 0.0, 0.0, 0...|   [0.0, 0.0, 0.0, 0...|             [0.0, 0.0, 0.0, 0...|                            [0.0, 0.0, 0.0, 0...|         [0.0, 0.0, 0.0, 0...|         [0.0, 0.0, 0.0, 0...|          [0.0, 0.0, 0.0, 0...|          [0.0, 0.0, 0.0, 0...|              [0.0, 0.0, 0.0, 0...|              [0.0, 0.0, 0.0, 0...|               [0.0, 0.0, 0.0, 0...|               [0.0, 0.0, 0.0, 0...|\n",
      "|     167|4994e4b9-a3de-4ce...|           2|      1569888175|        2019-10-01|                       0|          -5.90452060033164...|                 0.7311929329678599|[289, 426, 0, 0, ...|[1569888175, 1569...|[,, 0, 0, 0, 0, 0...|[16, 16, 0, 0, 0,...|[51, 51, 0, 0, 0,...|[145, 119, 0, 0, ...|[-2.1150799, -1.2...|[-0.66146547, 0.3...|    [0.0, 0.0, 0.0, 0...|                   [-0.8541592, -0.6...|[2.6179938E-9, 2....|[1.0, 1.0, 0.0, 0...| [-0.8660254, -0.8...| [0.5, 0.5, 0.0, 0...|     [0.43388373, 0.43...|     [-0.90096885, -0....|      [0.20129852, 0.20...|      [0.9795299, 0.979...| [0, 0, 0, 0, 0, 0...|   [0, 0, 0, 0, 0, 0...|   [0, 0, 0, 0, 0, 0...|  [0, 0, 0, 0, 0, 0...|  [0, 0, 0, 0, 0, 0...| [0, 0, 0, 0, 0, 0...|   [0.0, 0.0, 0.0, 0...|   [0.0, 0.0, 0.0, 0...|             [0.0, 0.0, 0.0, 0...|                            [0.0, 0.0, 0.0, 0...|         [0.0, 0.0, 0.0, 0...|         [0.0, 0.0, 0.0, 0...|          [0.0, 0.0, 0.0, 0...|          [0.0, 0.0, 0.0, 0...|              [0.0, 0.0, 0.0, 0...|              [0.0, 0.0, 0.0, 0...|               [0.0, 0.0, 0.0, 0...|               [0.0, 0.0, 0.0, 0...|\n",
      "|      22|cccc58c1-4986-4d0...|           2|      1569888084|        2019-10-01|                       0|          -2.31508273357833...|                 0.9241874203993294|[398, 66, 0, 0, 0...|[1569888084, 1569...|[,, 0, 0, 0, 0, 0...|[2, 2, 0, 0, 0, 0...|[2, 2, 0, 0, 0, 0...|[23, 23, 0, 0, 0,...|[0.4269595, 0.303...|[-0.66146547, -0....|    [0.0, 0.0, 0.0, 0...|                   [-0.41777438, -0....|[2.6179938E-9, 2....|[1.0, 1.0, 0.0, 0...| [-0.8660254, -0.8...| [0.5, 0.5, 0.0, 0...|     [0.43388373, 0.43...|     [-0.90096885, -0....|      [0.20129852, 0.20...|      [0.9795299, 0.979...| [0, 0, 0, 0, 0, 0...|   [0, 0, 0, 0, 0, 0...|   [0, 0, 0, 0, 0, 0...|  [0, 0, 0, 0, 0, 0...|  [0, 0, 0, 0, 0, 0...| [0, 0, 0, 0, 0, 0...|   [0.0, 0.0, 0.0, 0...|   [0.0, 0.0, 0.0, 0...|             [0.0, 0.0, 0.0, 0...|                            [0.0, 0.0, 0.0, 0...|         [0.0, 0.0, 0.0, 0...|         [0.0, 0.0, 0.0, 0...|          [0.0, 0.0, 0.0, 0...|          [0.0, 0.0, 0.0, 0...|              [0.0, 0.0, 0.0, 0...|              [0.0, 0.0, 0.0, 0...|               [0.0, 0.0, 0.0, 0...|               [0.0, 0.0, 0.0, 0...|\n",
      "|      22|388ce9db-2945-4ba...|           2|      1569888710|        2019-10-01|                       6|          -0.00105379578007...|                 0.4820653896757076|[27, 182, 0, 0, 0...|[1569888710, 1569...|[,, 0, 0, 0, 0, 0...|[2, 2, 0, 0, 0, 0...|[2, 2, 0, 0, 0, 0...|[9, 9, 0, 0, 0, 0...|[0.35504442, 1.11...|[-0.66146547, 0.0...|    [0.0047685187, 0....|                   [-0.46202394, 0.2...|[2.6179938E-9, 2....|[1.0, 1.0, 0.0, 0...| [-0.8660254, -0.8...| [0.5, 0.5, 0.0, 0...|     [0.43388373, 0.43...|     [-0.90096885, -0....|      [0.20129852, 0.20...|      [0.9795299, 0.979...| [398, 66, 66, 246...|   [1569888084, 1569...|   [,,,,,, 0, 0, 0, ...|  [2, 2, 2, 2, 2, 2...|  [2, 2, 2, 2, 2, 2...| [23, 23, 23, 4, 4...|   [0.4269595, 0.303...|   [-1.2988056, 0.31...|             [0.0, 0.0, 0.0029...|                            [-0.41777438, -0....|         [2.6179938E-9, 2....|         [1.0, 1.0, 1.0, 1...|          [-0.8660254, -0.8...|          [0.5, 0.5, 0.5, 0...|              [0.43388373, 0.43...|              [-0.90096885, -0....|               [0.20129852, 0.20...|               [0.9795299, 0.979...|\n",
      "|      22|765c81ce-b11f-4fc...|           2|      1569888475|        2019-10-01|                       3|          -3.12548831312808...|                 0.8806140768166267|[246, 54, 0, 0, 0...|[1569888475, 1569...|[,, 0, 0, 0, 0, 0...|[2, 2, 0, 0, 0, 0...|[2, 2, 0, 0, 0, 0...|[4, 4, 0, 0, 0, 0...|[0.055279054, 0.6...|[-0.66146547, -0....|    [0.0, 0.0, 0.0, 0...|                   [-0.61314553, -0....|[2.6179938E-9, 2....|[1.0, 1.0, 0.0, 0...| [-0.8660254, -0.8...| [0.5, 0.5, 0.0, 0...|     [0.43388373, 0.43...|     [-0.90096885, -0....|      [0.20129852, 0.20...|      [0.9795299, 0.979...| [398, 66, 66, 0, ...|   [1569888084, 1569...|   [,,, 0, 0, 0, 0, ...|  [2, 2, 2, 0, 0, 0...|  [2, 2, 2, 0, 0, 0...| [23, 23, 23, 0, 0...|   [0.4269595, 0.303...|   [-1.2988056, 0.31...|             [0.0, 0.0, 0.0029...|                            [-0.41777438, -0....|         [2.6179938E-9, 2....|         [1.0, 1.0, 1.0, 0...|          [-0.8660254, -0.8...|          [0.5, 0.5, 0.5, 0...|              [0.43388373, 0.43...|              [-0.90096885, -0....|               [0.20129852, 0.20...|               [0.9795299, 0.979...|\n",
      "|     130|c6bd7419-2748-4c5...|           2|      1569888004|        2019-10-01|                       0|          -1.73626187469165...|                 0.9553090720680126|[170, 89, 0, 0, 0...|[1569888004, 1569...|[,, 0, 0, 0, 0, 0...|[2, 2, 0, 0, 0, 0...|[2, 2, 0, 0, 0, 0...|[3, 3, 0, 0, 0, 0...|[1.663711, 2.1013...|[-0.66146547, -0....|    [0.0, 0.0, 0.0, 0...|                   [1.2615563, 2.653...|[2.6179938E-9, 2....|[1.0, 1.0, 0.0, 0...| [-0.8660254, -0.8...| [0.5, 0.5, 0.0, 0...|     [0.43388373, 0.43...|     [-0.90096885, -0....|      [0.20129852, 0.20...|      [0.9795299, 0.979...| [0, 0, 0, 0, 0, 0...|   [0, 0, 0, 0, 0, 0...|   [0, 0, 0, 0, 0, 0...|  [0, 0, 0, 0, 0, 0...|  [0, 0, 0, 0, 0, 0...| [0, 0, 0, 0, 0, 0...|   [0.0, 0.0, 0.0, 0...|   [0.0, 0.0, 0.0, 0...|             [0.0, 0.0, 0.0, 0...|                            [0.0, 0.0, 0.0, 0...|         [0.0, 0.0, 0.0, 0...|         [0.0, 0.0, 0.0, 0...|          [0.0, 0.0, 0.0, 0...|          [0.0, 0.0, 0.0, 0...|              [0.0, 0.0, 0.0, 0...|              [0.0, 0.0, 0.0, 0...|               [0.0, 0.0, 0.0, 0...|               [0.0, 0.0, 0.0, 0...|\n",
      "|       7|9c91461e-5924-4ed...|           6|      1569888171|        2019-10-01|                       0|          -0.00612986029016...|                -2.2471989259619605|[403, 192, 17, 31...|[1569888171, 1569...|[,,,,,, 0, 0, 0, ...|[10, 10, 10, 10, ...|[51, 51, 51, 51, ...|[4, 4, 20, 20, 14...|[-0.3740899, 0.23...|[-0.66146547, 0.9...|    [0.0, 0.0, 0.0027...|                   [0.57016474, 2.06...|[2.6179938E-9, 2....|[1.0, 1.0, 1.0, 1...| [-0.8660254, -0.8...| [0.5, 0.5, 0.5, 0...|     [0.43388373, 0.43...|     [-0.90096885, -0....|      [0.20129852, 0.20...|      [0.9795299, 0.979...| [0, 0, 0, 0, 0, 0...|   [0, 0, 0, 0, 0, 0...|   [0, 0, 0, 0, 0, 0...|  [0, 0, 0, 0, 0, 0...|  [0, 0, 0, 0, 0, 0...| [0, 0, 0, 0, 0, 0...|   [0.0, 0.0, 0.0, 0...|   [0.0, 0.0, 0.0, 0...|             [0.0, 0.0, 0.0, 0...|                            [0.0, 0.0, 0.0, 0...|         [0.0, 0.0, 0.0, 0...|         [0.0, 0.0, 0.0, 0...|          [0.0, 0.0, 0.0, 0...|          [0.0, 0.0, 0.0, 0...|              [0.0, 0.0, 0.0, 0...|              [0.0, 0.0, 0.0, 0...|               [0.0, 0.0, 0.0, 0...|               [0.0, 0.0, 0.0, 0...|\n",
      "|      77|7c7c18eb-f0a2-49b...|           3|      1569888453|        2019-10-01|                       0|          -0.00337374011445...|                -0.7653067178909775|[203, 29, 7, 0, 0...|[1569888453, 1569...|[,,, 0, 0, 0, 0, ...|[2, 2, 2, 0, 0, 0...|[2, 2, 2, 0, 0, 0...|[2, 2, 2, 0, 0, 0...|[0.8847524, 0.730...|[-0.66146547, 0.8...|    [0.0, 0.005451388...|                   [-0.037462205, -0...|[2.6179938E-9, 2....|[1.0, 1.0, 1.0, 0...| [-0.8660254, -0.8...| [0.5, 0.5, 0.5, 0...|     [0.43388373, 0.43...|     [-0.90096885, -0....|      [0.20129852, 0.20...|      [0.9795299, 0.979...| [0, 0, 0, 0, 0, 0...|   [0, 0, 0, 0, 0, 0...|   [0, 0, 0, 0, 0, 0...|  [0, 0, 0, 0, 0, 0...|  [0, 0, 0, 0, 0, 0...| [0, 0, 0, 0, 0, 0...|   [0.0, 0.0, 0.0, 0...|   [0.0, 0.0, 0.0, 0...|             [0.0, 0.0, 0.0, 0...|                            [0.0, 0.0, 0.0, 0...|         [0.0, 0.0, 0.0, 0...|         [0.0, 0.0, 0.0, 0...|          [0.0, 0.0, 0.0, 0...|          [0.0, 0.0, 0.0, 0...|              [0.0, 0.0, 0.0, 0...|              [0.0, 0.0, 0.0, 0...|               [0.0, 0.0, 0.0, 0...|               [0.0, 0.0, 0.0, 0...|\n",
      "|      34|b67cdbcb-b073-427...|           3|      1569888502|        2019-10-01|                       0|          -6.59939906986651...|                 0.6938311735410704|[9, 222, 14, 0, 0...|[1569888502, 1569...|[,,, 0, 0, 0, 0, ...|[3, 3, 3, 0, 0, 0...|[3, 3, 3, 0, 0, 0...|[7, 7, 11, 0, 0, ...|[-1.4852675, -1.1...|[-0.66146547, -0....|    [0.004375, 0.0, 0...|                   [-0.20958388, 0.1...|[2.6179938E-9, 2....|[1.0, 1.0, 1.0, 0...| [-0.8660254, -0.8...| [0.5, 0.5, 0.5, 0...|     [0.43388373, 0.43...|     [-0.90096885, -0....|      [0.20129852, 0.20...|      [0.9795299, 0.979...| [0, 0, 0, 0, 0, 0...|   [0, 0, 0, 0, 0, 0...|   [0, 0, 0, 0, 0, 0...|  [0, 0, 0, 0, 0, 0...|  [0, 0, 0, 0, 0, 0...| [0, 0, 0, 0, 0, 0...|   [0.0, 0.0, 0.0, 0...|   [0.0, 0.0, 0.0, 0...|             [0.0, 0.0, 0.0, 0...|                            [0.0, 0.0, 0.0, 0...|         [0.0, 0.0, 0.0, 0...|         [0.0, 0.0, 0.0, 0...|          [0.0, 0.0, 0.0, 0...|          [0.0, 0.0, 0.0, 0...|              [0.0, 0.0, 0.0, 0...|              [0.0, 0.0, 0.0, 0...|               [0.0, 0.0, 0.0, 0...|               [0.0, 0.0, 0.0, 0...|\n",
      "|     188|f1de2d2d-2ec6-4b6...|           2|      1569888436|        2019-10-01|                       0|          -3.70438973682531E-4|                 0.8494880933932527|[454, 217, 0, 0, ...|[1569888436, 1569...|[,, 0, 0, 0, 0, 0...|[128, 93, 0, 0, 0...|[14, 14, 0, 0, 0,...|[156, 156, 0, 0, ...|[-0.5970529, -0.5...|[-0.66146547, -0....|    [0.0, 0.0, 0.0, 0...|                   [0.0, 0.0, 0.0, 0...|[2.6179938E-9, 2....|[1.0, 1.0, 0.0, 0...| [-0.8660254, -0.8...| [0.5, 0.5, 0.0, 0...|     [0.43388373, 0.43...|     [-0.90096885, -0....|      [0.20129852, 0.20...|      [0.9795299, 0.979...| [0, 0, 0, 0, 0, 0...|   [0, 0, 0, 0, 0, 0...|   [0, 0, 0, 0, 0, 0...|  [0, 0, 0, 0, 0, 0...|  [0, 0, 0, 0, 0, 0...| [0, 0, 0, 0, 0, 0...|   [0.0, 0.0, 0.0, 0...|   [0.0, 0.0, 0.0, 0...|             [0.0, 0.0, 0.0, 0...|                            [0.0, 0.0, 0.0, 0...|         [0.0, 0.0, 0.0, 0...|         [0.0, 0.0, 0.0, 0...|          [0.0, 0.0, 0.0, 0...|          [0.0, 0.0, 0.0, 0...|              [0.0, 0.0, 0.0, 0...|              [0.0, 0.0, 0.0, 0...|               [0.0, 0.0, 0.0, 0...|               [0.0, 0.0, 0.0, 0...|\n",
      "|     126|18084eec-2516-43f...|           3|      1569888585|        2019-10-01|                       0|          -5.78871221636504...|                 0.7374196404729317|[186, 363, 233, 0...|[1569888585, 1569...|[,,, 0, 0, 0, 0, ...|[11, 11, 11, 0, 0...|[7, 7, 7, 0, 0, 0...|[10, 114, 28, 0, ...|[1.1514155, 1.640...|[-0.66146547, -0....|    [0.0, 0.0, 0.0, 0...|                   [-0.11706646, 0.5...|[2.6179938E-9, 2....|[1.0, 1.0, 1.0, 0...| [-0.8660254, -0.8...| [0.5, 0.5, 0.5, 0...|     [0.43388373, 0.43...|     [-0.90096885, -0....|      [0.20129852, 0.20...|      [0.9795299, 0.979...| [0, 0, 0, 0, 0, 0...|   [0, 0, 0, 0, 0, 0...|   [0, 0, 0, 0, 0, 0...|  [0, 0, 0, 0, 0, 0...|  [0, 0, 0, 0, 0, 0...| [0, 0, 0, 0, 0, 0...|   [0.0, 0.0, 0.0, 0...|   [0.0, 0.0, 0.0, 0...|             [0.0, 0.0, 0.0, 0...|                            [0.0, 0.0, 0.0, 0...|         [0.0, 0.0, 0.0, 0...|         [0.0, 0.0, 0.0, 0...|          [0.0, 0.0, 0.0, 0...|          [0.0, 0.0, 0.0, 0...|              [0.0, 0.0, 0.0, 0...|              [0.0, 0.0, 0.0, 0...|               [0.0, 0.0, 0.0, 0...|               [0.0, 0.0, 0.0, 0...|\n",
      "|      50|961ff93c-0af2-431...|           5|      1569888407|        2019-10-01|                       0|          -0.00145939774256...|                0.26398404725322605|[6, 22, 3, 12, 12...|[1569888407, 1569...|[,,,,, 0, 0, 0, 0...|[2, 2, 2, 2, 2, 0...|[2, 2, 2, 2, 2, 0...|[2, 2, 3, 4, 3, 0...|[0.45371026, 0.29...|[-0.66146547, -0....|    [0.0039699073, 0....|                   [-0.40040478, -0....|[2.6179938E-9, 2....|[1.0, 1.0, 1.0, 1...| [-0.8660254, -0.8...| [0.5, 0.5, 0.5, 0...|     [0.43388373, 0.43...|     [-0.90096885, -0....|      [0.20129852, 0.20...|      [0.9795299, 0.979...| [0, 0, 0, 0, 0, 0...|   [0, 0, 0, 0, 0, 0...|   [0, 0, 0, 0, 0, 0...|  [0, 0, 0, 0, 0, 0...|  [0, 0, 0, 0, 0, 0...| [0, 0, 0, 0, 0, 0...|   [0.0, 0.0, 0.0, 0...|   [0.0, 0.0, 0.0, 0...|             [0.0, 0.0, 0.0, 0...|                            [0.0, 0.0, 0.0, 0...|         [0.0, 0.0, 0.0, 0...|         [0.0, 0.0, 0.0, 0...|          [0.0, 0.0, 0.0, 0...|          [0.0, 0.0, 0.0, 0...|              [0.0, 0.0, 0.0, 0...|              [0.0, 0.0, 0.0, 0...|               [0.0, 0.0, 0.0, 0...|               [0.0, 0.0, 0.0, 0...|\n",
      "|      94|b2473177-a3ba-486...|           3|      1569888897|        2019-10-01|                       0|          -6.83103653940202...|                  0.681376645461061|[25, 41, 3, 0, 0,...|[1569888897, 1569...|[,,, 0, 0, 0, 0, ...|[2, 2, 2, 0, 0, 0...|[2, 2, 2, 0, 0, 0...|[3, 3, 3, 0, 0, 0...|[1.9088697, 1.311...|[-0.66146547, -0....|    [0.009803241, 0.0...|                   [1.9586384, 0.536...|[2.6179938E-9, 2....|[1.0, 1.0, 1.0, 0...| [-0.8660254, -0.8...| [0.5, 0.5, 0.5, 0...|     [0.43388373, 0.43...|     [-0.90096885, -0....|      [0.20129852, 0.20...|      [0.9795299, 0.979...| [0, 0, 0, 0, 0, 0...|   [0, 0, 0, 0, 0, 0...|   [0, 0, 0, 0, 0, 0...|  [0, 0, 0, 0, 0, 0...|  [0, 0, 0, 0, 0, 0...| [0, 0, 0, 0, 0, 0...|   [0.0, 0.0, 0.0, 0...|   [0.0, 0.0, 0.0, 0...|             [0.0, 0.0, 0.0, 0...|                            [0.0, 0.0, 0.0, 0...|         [0.0, 0.0, 0.0, 0...|         [0.0, 0.0, 0.0, 0...|          [0.0, 0.0, 0.0, 0...|          [0.0, 0.0, 0.0, 0...|              [0.0, 0.0, 0.0, 0...|              [0.0, 0.0, 0.0, 0...|               [0.0, 0.0, 0.0, 0...|               [0.0, 0.0, 0.0, 0...|\n",
      "|     149|3e686589-9b0c-4db...|           2|      1569888112|        2019-10-01|                       0|          -1.15747437168852...|                 0.9864289302799243|[149, 188, 0, 0, ...|[1569888112, 1569...|[,, 0, 0, 0, 0, 0...|[2, 2, 0, 0, 0, 0...|[2, 2, 0, 0, 0, 0...|[3, 3, 0, 0, 0, 0...|[1.5522345, 1.316...|[-0.66146547, -0....|    [9.259259E-5, 0.0...|                   [1.0014306, 0.546...|[2.6179938E-9, 2....|[1.0, 1.0, 0.0, 0...| [-0.8660254, -0.8...| [0.5, 0.5, 0.0, 0...|     [0.43388373, 0.43...|     [-0.90096885, -0....|      [0.20129852, 0.20...|      [0.9795299, 0.979...| [0, 0, 0, 0, 0, 0...|   [0, 0, 0, 0, 0, 0...|   [0, 0, 0, 0, 0, 0...|  [0, 0, 0, 0, 0, 0...|  [0, 0, 0, 0, 0, 0...| [0, 0, 0, 0, 0, 0...|   [0.0, 0.0, 0.0, 0...|   [0.0, 0.0, 0.0, 0...|             [0.0, 0.0, 0.0, 0...|                            [0.0, 0.0, 0.0, 0...|         [0.0, 0.0, 0.0, 0...|         [0.0, 0.0, 0.0, 0...|          [0.0, 0.0, 0.0, 0...|          [0.0, 0.0, 0.0, 0...|              [0.0, 0.0, 0.0, 0...|              [0.0, 0.0, 0.0, 0...|               [0.0, 0.0, 0.0, 0...|               [0.0, 0.0, 0.0, 0...|\n",
      "|     110|f67fc5f3-86fb-4dc...|           3|      1569888367|        2019-10-01|                       0|          -0.00114649025718...|                 0.4322260450191809|[266, 211, 320, 0...|[1569888367, 1569...|[,,, 0, 0, 0, 0, ...|[7, 7, 7, 0, 0, 0...|[6, 6, 6, 0, 0, 0...|[24, 2, 6, 0, 0, ...|[0.028335234, 0.4...|[-0.66146547, -0....|    [0.0, 0.0, 0.0, 0...|                   [-0.44767296, -0....|[2.6179938E-9, 2....|[1.0, 1.0, 1.0, 0...| [-0.8660254, -0.8...| [0.5, 0.5, 0.5, 0...|     [0.43388373, 0.43...|     [-0.90096885, -0....|      [0.20129852, 0.20...|      [0.9795299, 0.979...| [0, 0, 0, 0, 0, 0...|   [0, 0, 0, 0, 0, 0...|   [0, 0, 0, 0, 0, 0...|  [0, 0, 0, 0, 0, 0...|  [0, 0, 0, 0, 0, 0...| [0, 0, 0, 0, 0, 0...|   [0.0, 0.0, 0.0, 0...|   [0.0, 0.0, 0.0, 0...|             [0.0, 0.0, 0.0, 0...|                            [0.0, 0.0, 0.0, 0...|         [0.0, 0.0, 0.0, 0...|         [0.0, 0.0, 0.0, 0...|          [0.0, 0.0, 0.0, 0...|          [0.0, 0.0, 0.0, 0...|              [0.0, 0.0, 0.0, 0...|              [0.0, 0.0, 0.0, 0...|               [0.0, 0.0, 0.0, 0...|               [0.0, 0.0, 0.0, 0...|\n",
      "+--------+--------------------+------------+----------------+------------------+------------------------+------------------------------+-----------------------------------+--------------------+--------------------+--------------------+--------------------+--------------------+--------------------+--------------------+--------------------+------------------------+---------------------------------------+--------------------+--------------------+---------------------+---------------------+-------------------------+-------------------------+--------------------------+--------------------------+---------------------+-----------------------+-----------------------+----------------------+----------------------+---------------------+-----------------------+-----------------------+---------------------------------+------------------------------------------------+-----------------------------+-----------------------------+------------------------------+------------------------------+----------------------------------+----------------------------------+-----------------------------------+-----------------------------------+\n",
      "only showing top 20 rows\n",
      "\n"
     ]
    }
   ],
   "source": [
    "#sessions_users_seqs_to_export_df.show()"
   ]
  },
  {
   "cell_type": "markdown",
   "metadata": {},
   "source": [
    "#### Export dataset to parquet, partioned by the session date"
   ]
  },
  {
   "cell_type": "code",
   "execution_count": 50,
   "metadata": {},
   "outputs": [
    {
     "name": "stdout",
     "output_type": "stream",
     "text": [
      "CPU times: user 294 ms, sys: 298 ms, total: 592 ms\n",
      "Wall time: 33min 11s\n"
     ]
    }
   ],
   "source": [
    "%%time\n",
    "OUTPUT_PATH = '/home/jovyan/'\n",
    "sessions_users_seqs_to_export_df.repartition(F.col('session_start_date')) \\\n",
    "                .write.partitionBy('session_start_date') \\\n",
    "                .parquet(os.path.join(OUTPUT_PATH, 'ecommerce_preproc.parquet'))"
   ]
  },
  {
   "cell_type": "code",
   "execution_count": 48,
   "metadata": {},
   "outputs": [
    {
     "data": {
      "text/plain": [
       "1"
      ]
     },
     "execution_count": 48,
     "metadata": {},
     "output_type": "execute_result"
    }
   ],
   "source": [
    "1"
   ]
  },
  {
   "cell_type": "code",
   "execution_count": 50,
   "metadata": {},
   "outputs": [],
   "source": [
    "temp_df = spark.read.parquet('ecommerce_preproc.parquet')"
   ]
  },
  {
   "cell_type": "code",
   "execution_count": 59,
   "metadata": {},
   "outputs": [
    {
     "data": {
      "text/plain": [
       "[Row(user_idx=476651191, user_session='5308244f-2d97-475d-9368-e98cb2fcaf6a', sess_seq_len=3, session_start_ts=1573383799, user_seq_length_bef_sess=26, user_elapsed_days_log_bef_sess=-0.0012507818736779838, user_elapsed_days_log_bef_sess_norm=0.15898386347431748, sess_pid_seq=[None, None, None, 0, 0, 0, 0, 0, 0, 0, 0, 0, 0, 0, 0, 0, 0, 0, 0, 0], sess_etime_seq=[1573383799, 1573383872, 1573383907, 0, 0, 0, 0, 0, 0, 0, 0, 0, 0, 0, 0, 0, 0, 0, 0, 0], sess_etype_seq=[None, None, None, 0, 0, 0, 0, 0, 0, 0, 0, 0, 0, 0, 0, 0, 0, 0, 0, 0], sess_csid_seq=[None, None, None, 0, 0, 0, 0, 0, 0, 0, 0, 0, 0, 0, 0, 0, 0, 0, 0, 0], sess_ccid_seq=[None, None, None, 0, 0, 0, 0, 0, 0, 0, 0, 0, 0, 0, 0, 0, 0, 0, 0, 0], sess_bid_seq=[None, None, None, 0, 0, 0, 0, 0, 0, 0, 0, 0, 0, 0, 0, 0, 0, 0, 0, 0], sess_price_seq=[-1.6059000492095947, -1.8523046970367432, -1.3824394941329956, 0.0, 0.0, 0.0, 0.0, 0.0, 0.0, 0.0, 0.0, 0.0, 0.0, 0.0, 0.0, 0.0, 0.0, 0.0, 0.0, 0.0], sess_dtime_seq=[-0.022982677444815636, -0.01570061966776848, -0.02048882097005844, 0.0, 0.0, 0.0, 0.0, 0.0, 0.0, 0.0, 0.0, 0.0, 0.0, 0.0, 0.0, 0.0, 0.0, 0.0, 0.0, 0.0], sess_product_recency_seq=[39.68763732910156, 40.152523040771484, 40.3636360168457, 0.0, 0.0, 0.0, 0.0, 0.0, 0.0, 0.0, 0.0, 0.0, 0.0, 0.0, 0.0, 0.0, 0.0, 0.0, 0.0, 0.0], sess_relative_price_to_avg_category_seq=[-0.7108270525932312, -0.789439857006073, -0.615963876247406, 0.0, 0.0, 0.0, 0.0, 0.0, 0.0, 0.0, 0.0, 0.0, 0.0, 0.0, 0.0, 0.0, 0.0, 0.0, 0.0, 0.0], sess_et_hour_sin_seq=[0.258819043636322, 0.258819043636322, 0.258819043636322, 0.0, 0.0, 0.0, 0.0, 0.0, 0.0, 0.0, 0.0, 0.0, 0.0, 0.0, 0.0, 0.0, 0.0, 0.0, 0.0, 0.0], sess_et_hour_cos_seq=[-0.9659258127212524, -0.9659258127212524, -0.9659258127212524, 0.0, 0.0, 0.0, 0.0, 0.0, 0.0, 0.0, 0.0, 0.0, 0.0, 0.0, 0.0, 0.0, 0.0, 0.0, 0.0, 0.0], sess_et_month_sin_seq=[-0.5, -0.5, -0.5, 0.0, 0.0, 0.0, 0.0, 0.0, 0.0, 0.0, 0.0, 0.0, 0.0, 0.0, 0.0, 0.0, 0.0, 0.0, 0.0, 0.0], sess_et_month_cos_seq=[0.8660253882408142, 0.8660253882408142, 0.8660253882408142, 0.0, 0.0, 0.0, 0.0, 0.0, 0.0, 0.0, 0.0, 0.0, 0.0, 0.0, 0.0, 0.0, 0.0, 0.0, 0.0, 0.0], sess_et_dayofweek_sin_seq=[0.7818315029144287, 0.7818315029144287, 0.7818315029144287, 0.0, 0.0, 0.0, 0.0, 0.0, 0.0, 0.0, 0.0, 0.0, 0.0, 0.0, 0.0, 0.0, 0.0, 0.0, 0.0, 0.0], sess_et_dayofweek_cos_seq=[0.6234897971153259, 0.6234897971153259, 0.6234897971153259, 0.0, 0.0, 0.0, 0.0, 0.0, 0.0, 0.0, 0.0, 0.0, 0.0, 0.0, 0.0, 0.0, 0.0, 0.0, 0.0, 0.0], sess_et_dayofmonth_sin_seq=[0.8978045582771301, 0.8978045582771301, 0.8978045582771301, 0.0, 0.0, 0.0, 0.0, 0.0, 0.0, 0.0, 0.0, 0.0, 0.0, 0.0, 0.0, 0.0, 0.0, 0.0, 0.0, 0.0], sess_et_dayofmonth_cos_seq=[-0.44039416313171387, -0.44039416313171387, -0.44039416313171387, 0.0, 0.0, 0.0, 0.0, 0.0, 0.0, 0.0, 0.0, 0.0, 0.0, 0.0, 0.0, 0.0, 0.0, 0.0, 0.0, 0.0], user_pid_seq_bef_sess=[None, None, None, None, None, None, None, None, None, None, None, None, None, None, None, None, None, None, None, None], user_etime_seq_bef_sess=[1571723373, 1571723436, 1571723471, 1571723477, 1571723486, 1573371569, 1573371646, 1573371692, 1573371724, 1573371763, 1573371983, 1573371998, 1573372027, 1573372038, 1573372106, 1573372265, 1573383619, 1573383700, 1573383717, 1573383788], user_etype_seq_bef_sess=[None, None, None, None, None, None, None, None, None, None, None, None, None, None, None, None, None, None, None, None], user_csid_seq_bef_sess=[None, None, None, None, None, None, None, None, None, None, None, None, None, None, None, None, None, None, None, None], user_ccid_seq_bef_sess=[None, None, None, None, None, None, None, None, None, None, None, None, None, None, None, None, None, None, None, None], user_bid_seq_bef_sess=[None, None, None, None, None, None, None, None, None, None, None, None, None, None, None, None, None, None, None, None], user_price_seq_bef_sess=[-1.5185807943344116, -1.5185807943344116, -1.5185807943344116, -1.8507827520370483, -1.4415110349655151, -1.8523046970367432, -1.8523046970367432, -1.8523046970367432, -1.8523046970367432, -1.4517314434051514, -1.8523046970367432, -1.4517314434051514, -1.4517314434051514, -1.4517314434051514, -1.4415110349655151, -1.4415110349655151, -1.4415110349655151, -1.4415110349655151, -1.4517314434051514, -1.4415110349655151], user_dtime_seq_bef_sess=[0.07749644666910172, -0.10145793110132217, -0.2915695309638977, -0.8326676487922668, -0.7148152589797974, 3.254363536834717, -0.036092422902584076, -0.20347020030021667, -0.320319801568985, -0.25675636529922485, 0.3080243766307831, -0.5595167875289917, -0.3518121540546417, -0.654572606086731, -0.07660263776779175, 0.20130251348018646, 1.6096302270889282, -0.01956799626350403, -0.5205990076065063, -0.06254010647535324], user_product_recency_seq_bef_sess=[21.110532760620117, 21.11126136779785, 21.111665725708008, 20.934988021850586, 20.94964027404785, 40.010128021240234, 40.011016845703125, 40.01155090332031, 40.01192092895508, 40.18880844116211, 40.01491928100586, 40.1915283203125, 40.191864013671875, 40.19198989868164, 40.03089141845703, 40.03273010253906, 40.16414260864258, 40.16508102416992, 40.32716369628906, 40.166099548339844], user_relative_price_to_avg_category_seq_bef_sess=[-0.6767985224723816, -0.6767985224723816, -0.6767985224723816, -0.789023220539093, -0.6436033844947815, -0.789439857006073, -0.789439857006073, -0.789439857006073, -0.789439857006073, -0.6481868028640747, -0.789439857006073, -0.6481868028640747, -0.6481868028640747, -0.6481868028640747, -0.6436033844947815, -0.6436033844947815, -0.6436033844947815, -0.6436033844947815, -0.6481868028640747, -0.6436033844947815], user_et_hour_sin_seq_bef_sess=[0.9659258127212524, 0.9659258127212524, 0.9659258127212524, 0.9659258127212524, 0.9659258127212524, 0.9659258127212524, 0.9659258127212524, 0.9659258127212524, 0.9659258127212524, 0.9659258127212524, 0.9659258127212524, 0.9659258127212524, 0.9659258127212524, 0.9659258127212524, 0.9659258127212524, 0.9659258127212524, 0.258819043636322, 0.258819043636322, 0.258819043636322, 0.258819043636322], user_et_hour_cos_seq_bef_sess=[0.258819043636322, 0.258819043636322, 0.258819043636322, 0.258819043636322, 0.258819043636322, -0.258819043636322, -0.258819043636322, -0.258819043636322, -0.258819043636322, -0.258819043636322, -0.258819043636322, -0.258819043636322, -0.258819043636322, -0.258819043636322, -0.258819043636322, -0.258819043636322, -0.9659258127212524, -0.9659258127212524, -0.9659258127212524, -0.9659258127212524], user_et_month_sin_seq_bef_sess=[-0.8660253882408142, -0.8660253882408142, -0.8660253882408142, -0.8660253882408142, -0.8660253882408142, -0.5, -0.5, -0.5, -0.5, -0.5, -0.5, -0.5, -0.5, -0.5, -0.5, -0.5, -0.5, -0.5, -0.5, -0.5], user_et_month_cos_seq_bef_sess=[0.5, 0.5, 0.5, 0.5, 0.5, 0.8660253882408142, 0.8660253882408142, 0.8660253882408142, 0.8660253882408142, 0.8660253882408142, 0.8660253882408142, 0.8660253882408142, 0.8660253882408142, 0.8660253882408142, 0.8660253882408142, 0.8660253882408142, 0.8660253882408142, 0.8660253882408142, 0.8660253882408142, 0.8660253882408142], user_et_dayofweek_sin_seq_bef_sess=[0.4338837265968323, 0.4338837265968323, 0.4338837265968323, 0.4338837265968323, 0.4338837265968323, 0.7818315029144287, 0.7818315029144287, 0.7818315029144287, 0.7818315029144287, 0.7818315029144287, 0.7818315029144287, 0.7818315029144287, 0.7818315029144287, 0.7818315029144287, 0.7818315029144287, 0.7818315029144287, 0.7818315029144287, 0.7818315029144287, 0.7818315029144287, 0.7818315029144287], user_et_dayofweek_cos_seq_bef_sess=[-0.9009688496589661, -0.9009688496589661, -0.9009688496589661, -0.9009688496589661, -0.9009688496589661, 0.6234897971153259, 0.6234897971153259, 0.6234897971153259, 0.6234897971153259, 0.6234897971153259, 0.6234897971153259, 0.6234897971153259, 0.6234897971153259, 0.6234897971153259, 0.6234897971153259, 0.6234897971153259, 0.6234897971153259, 0.6234897971153259, 0.6234897971153259, 0.6234897971153259], user_et_dayofmonth_sin_seq_bef_sess=[-0.9680771231651306, -0.9680771231651306, -0.9680771231651306, -0.9680771231651306, -0.9680771231651306, 0.8978045582771301, 0.8978045582771301, 0.8978045582771301, 0.8978045582771301, 0.8978045582771301, 0.8978045582771301, 0.8978045582771301, 0.8978045582771301, 0.8978045582771301, 0.8978045582771301, 0.8978045582771301, 0.8978045582771301, 0.8978045582771301, 0.8978045582771301, 0.8978045582771301], user_et_dayofmonth_cos_seq_bef_sess=[-0.2506525218486786, -0.2506525218486786, -0.2506525218486786, -0.2506525218486786, -0.2506525218486786, -0.44039416313171387, -0.44039416313171387, -0.44039416313171387, -0.44039416313171387, -0.44039416313171387, -0.44039416313171387, -0.44039416313171387, -0.44039416313171387, -0.44039416313171387, -0.44039416313171387, -0.44039416313171387, -0.44039416313171387, -0.44039416313171387, -0.44039416313171387, -0.44039416313171387], session_start_date=datetime.date(2019, 11, 10))]"
      ]
     },
     "execution_count": 59,
     "metadata": {},
     "output_type": "execute_result"
    }
   ],
   "source": [
    "temp_df.take(1)"
   ]
  },
  {
   "cell_type": "code",
   "execution_count": null,
   "metadata": {},
   "outputs": [],
   "source": []
  }
 ],
 "metadata": {
  "kernelspec": {
   "display_name": "Python 3",
   "language": "python",
   "name": "python3"
  },
  "language_info": {
   "codemirror_mode": {
    "name": "ipython",
    "version": 3
   },
   "file_extension": ".py",
   "mimetype": "text/x-python",
   "name": "python",
   "nbconvert_exporter": "python",
   "pygments_lexer": "ipython3",
   "version": "3.7.6"
  }
 },
 "nbformat": 4,
 "nbformat_minor": 4
}
