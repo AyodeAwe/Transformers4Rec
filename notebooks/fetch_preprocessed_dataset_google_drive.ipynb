{
 "cells": [
  {
   "cell_type": "markdown",
   "metadata": {},
   "source": [
    "# Fetch preprocessed RecSys dataset from Google drive\n"
   ]
  },
  {
   "cell_type": "code",
   "execution_count": 1,
   "metadata": {},
   "outputs": [
    {
     "name": "stdout",
     "output_type": "stream",
     "text": [
      "Collecting gdown\n",
      "  Downloading gdown-3.11.1.tar.gz (8.6 kB)\n",
      "  Installing build dependencies ... \u001b[?25ldone\n",
      "\u001b[?25h  Getting requirements to build wheel ... \u001b[?25ldone\n",
      "\u001b[?25h    Preparing wheel metadata ... \u001b[?25ldone\n",
      "\u001b[?25hRequirement already satisfied: six in /conda/lib/python3.7/site-packages (from gdown) (1.14.0)\n",
      "Requirement already satisfied: requests[socks] in /conda/lib/python3.7/site-packages (from gdown) (2.23.0)\n",
      "Requirement already satisfied: tqdm in /conda/lib/python3.7/site-packages (from gdown) (4.46.0)\n",
      "Requirement already satisfied: filelock in /conda/lib/python3.7/site-packages (from gdown) (3.0.12)\n",
      "Requirement already satisfied: urllib3!=1.25.0,!=1.25.1,<1.26,>=1.21.1 in /conda/lib/python3.7/site-packages (from requests[socks]->gdown) (1.25.8)\n",
      "Requirement already satisfied: idna<3,>=2.5 in /conda/lib/python3.7/site-packages (from requests[socks]->gdown) (2.9)\n",
      "Requirement already satisfied: certifi>=2017.4.17 in /conda/lib/python3.7/site-packages (from requests[socks]->gdown) (2020.6.20)\n",
      "Requirement already satisfied: chardet<4,>=3.0.2 in /conda/lib/python3.7/site-packages (from requests[socks]->gdown) (3.0.4)\n",
      "Requirement already satisfied: PySocks!=1.5.7,>=1.5.6; extra == \"socks\" in /conda/lib/python3.7/site-packages (from requests[socks]->gdown) (1.7.1)\n",
      "Building wheels for collected packages: gdown\n",
      "  Building wheel for gdown (PEP 517) ... \u001b[?25ldone\n",
      "\u001b[?25h  Created wheel for gdown: filename=gdown-3.11.1-py3-none-any.whl size=9656 sha256=087bf5e0bc8328316443ef7f86083dc255f11ac6771cb81356794e2dd8b329be\n",
      "  Stored in directory: /root/.cache/pip/wheels/ac/0f/65/f8898ba51a103158b41f418d2a37cc928471624397da3af2f4\n",
      "Successfully built gdown\n",
      "Installing collected packages: gdown\n",
      "Successfully installed gdown-3.11.1\n"
     ]
    }
   ],
   "source": [
    "!pip install gdown"
   ]
  },
  {
   "cell_type": "code",
   "execution_count": 10,
   "metadata": {},
   "outputs": [],
   "source": [
    "!mkdir -p dataset"
   ]
  },
  {
   "cell_type": "code",
   "execution_count": 11,
   "metadata": {},
   "outputs": [],
   "source": [
    "!cd dataset"
   ]
  },
  {
   "cell_type": "code",
   "execution_count": 2,
   "metadata": {},
   "outputs": [
    {
     "name": "stdout",
     "output_type": "stream",
     "text": [
      "Downloading...\n",
      "From: https://drive.google.com/uc?id=1PsIa7BovY5WWMfInp7RebTWVW_aG2eFB\n",
      "To: /root/ecommerce_preproc_2019-10.zip\n",
      "1.56GB [00:16, 96.8MB/s]\n",
      "Downloading...\n",
      "From: https://drive.google.com/uc?id=172sZhq7GzLAJfHTtfHHhir-MkXUPml9K\n",
      "To: /root/ecommerce_preproc_2019-11.zip\n",
      "2.75GB [00:43, 63.4MB/s]\n"
     ]
    }
   ],
   "source": [
    "!gdown https://drive.google.com/uc?id=1PsIa7BovY5WWMfInp7RebTWVW_aG2eFB\n",
    "!gdown https://drive.google.com/uc?id=172sZhq7GzLAJfHTtfHHhir-MkXUPml9K"
   ]
  },
  {
   "cell_type": "code",
   "execution_count": 9,
   "metadata": {},
   "outputs": [
    {
     "name": "stdout",
     "output_type": "stream",
     "text": [
      "Archive:  dataset/ecommerce_preproc_2019-11.zip\n",
      "   creating: ecommerce_preproc_2019-11/\n",
      "   creating: ecommerce_preproc_2019-11/ecommerce_preproc.parquet/\n",
      "   creating: ecommerce_preproc_2019-11/ecommerce_preproc.parquet/session_start_date=2019-11-29/\n",
      "  inflating: ecommerce_preproc_2019-11/ecommerce_preproc.parquet/session_start_date=2019-11-29/part-00186-1fb5299f-9048-47a3-bb5d-1af042cb871c.c000.snappy.parquet  \n",
      "  inflating: ecommerce_preproc_2019-11/ecommerce_preproc.parquet/session_start_date=2019-11-29/.part-00186-1fb5299f-9048-47a3-bb5d-1af042cb871c.c000.snappy.parquet.crc  \n",
      "   creating: ecommerce_preproc_2019-11/ecommerce_preproc.parquet/session_start_date=2019-11-26/\n",
      "  inflating: ecommerce_preproc_2019-11/ecommerce_preproc.parquet/session_start_date=2019-11-26/part-00062-1fb5299f-9048-47a3-bb5d-1af042cb871c.c000.snappy.parquet  \n",
      "  inflating: ecommerce_preproc_2019-11/ecommerce_preproc.parquet/session_start_date=2019-11-26/.part-00062-1fb5299f-9048-47a3-bb5d-1af042cb871c.c000.snappy.parquet.crc  \n",
      "   creating: ecommerce_preproc_2019-11/ecommerce_preproc.parquet/session_start_date=2019-11-02/\n",
      "  inflating: ecommerce_preproc_2019-11/ecommerce_preproc.parquet/session_start_date=2019-11-02/.part-00109-1fb5299f-9048-47a3-bb5d-1af042cb871c.c000.snappy.parquet.crc  \n",
      "  inflating: ecommerce_preproc_2019-11/ecommerce_preproc.parquet/session_start_date=2019-11-02/part-00109-1fb5299f-9048-47a3-bb5d-1af042cb871c.c000.snappy.parquet  \n",
      "   creating: ecommerce_preproc_2019-11/ecommerce_preproc.parquet/session_start_date=2019-11-13/\n",
      "  inflating: ecommerce_preproc_2019-11/ecommerce_preproc.parquet/session_start_date=2019-11-13/.part-00137-1fb5299f-9048-47a3-bb5d-1af042cb871c.c000.snappy.parquet.crc  \n",
      "  inflating: ecommerce_preproc_2019-11/ecommerce_preproc.parquet/session_start_date=2019-11-13/part-00137-1fb5299f-9048-47a3-bb5d-1af042cb871c.c000.snappy.parquet  \n",
      "   creating: ecommerce_preproc_2019-11/ecommerce_preproc.parquet/session_start_date=2019-11-15/\n",
      "  inflating: ecommerce_preproc_2019-11/ecommerce_preproc.parquet/session_start_date=2019-11-15/part-00121-1fb5299f-9048-47a3-bb5d-1af042cb871c.c000.snappy.parquet  \n",
      "  inflating: ecommerce_preproc_2019-11/ecommerce_preproc.parquet/session_start_date=2019-11-15/.part-00121-1fb5299f-9048-47a3-bb5d-1af042cb871c.c000.snappy.parquet.crc  \n",
      "   creating: ecommerce_preproc_2019-11/ecommerce_preproc.parquet/session_start_date=2019-11-19/\n",
      "  inflating: ecommerce_preproc_2019-11/ecommerce_preproc.parquet/session_start_date=2019-11-19/.part-00164-1fb5299f-9048-47a3-bb5d-1af042cb871c.c000.snappy.parquet.crc  \n",
      "  inflating: ecommerce_preproc_2019-11/ecommerce_preproc.parquet/session_start_date=2019-11-19/part-00164-1fb5299f-9048-47a3-bb5d-1af042cb871c.c000.snappy.parquet  \n",
      "   creating: ecommerce_preproc_2019-11/ecommerce_preproc.parquet/session_start_date=2019-11-25/\n",
      "  inflating: ecommerce_preproc_2019-11/ecommerce_preproc.parquet/session_start_date=2019-11-25/part-00159-1fb5299f-9048-47a3-bb5d-1af042cb871c.c000.snappy.parquet  \n",
      "  inflating: ecommerce_preproc_2019-11/ecommerce_preproc.parquet/session_start_date=2019-11-25/.part-00159-1fb5299f-9048-47a3-bb5d-1af042cb871c.c000.snappy.parquet.crc  \n",
      "   creating: ecommerce_preproc_2019-11/ecommerce_preproc.parquet/session_start_date=2019-11-23/\n",
      "  inflating: ecommerce_preproc_2019-11/ecommerce_preproc.parquet/session_start_date=2019-11-23/part-00132-1fb5299f-9048-47a3-bb5d-1af042cb871c.c000.snappy.parquet  \n",
      "  inflating: ecommerce_preproc_2019-11/ecommerce_preproc.parquet/session_start_date=2019-11-23/.part-00132-1fb5299f-9048-47a3-bb5d-1af042cb871c.c000.snappy.parquet.crc  \n",
      "   creating: ecommerce_preproc_2019-11/ecommerce_preproc.parquet/session_start_date=2019-11-16/\n",
      "  inflating: ecommerce_preproc_2019-11/ecommerce_preproc.parquet/session_start_date=2019-11-16/part-00029-1fb5299f-9048-47a3-bb5d-1af042cb871c.c000.snappy.parquet  \n",
      "  inflating: ecommerce_preproc_2019-11/ecommerce_preproc.parquet/session_start_date=2019-11-16/.part-00029-1fb5299f-9048-47a3-bb5d-1af042cb871c.c000.snappy.parquet.crc  \n",
      "   creating: ecommerce_preproc_2019-11/ecommerce_preproc.parquet/session_start_date=2019-11-03/\n",
      "  inflating: ecommerce_preproc_2019-11/ecommerce_preproc.parquet/session_start_date=2019-11-03/.part-00096-1fb5299f-9048-47a3-bb5d-1af042cb871c.c000.snappy.parquet.crc  \n",
      "  inflating: ecommerce_preproc_2019-11/ecommerce_preproc.parquet/session_start_date=2019-11-03/part-00096-1fb5299f-9048-47a3-bb5d-1af042cb871c.c000.snappy.parquet  \n",
      "   creating: ecommerce_preproc_2019-11/ecommerce_preproc.parquet/session_start_date=2019-11-24/\n",
      "  inflating: ecommerce_preproc_2019-11/ecommerce_preproc.parquet/session_start_date=2019-11-24/.part-00075-1fb5299f-9048-47a3-bb5d-1af042cb871c.c000.snappy.parquet.crc  \n",
      "  inflating: ecommerce_preproc_2019-11/ecommerce_preproc.parquet/session_start_date=2019-11-24/part-00075-1fb5299f-9048-47a3-bb5d-1af042cb871c.c000.snappy.parquet  \n",
      "   creating: ecommerce_preproc_2019-11/ecommerce_preproc.parquet/session_start_date=2019-11-20/\n",
      "  inflating: ecommerce_preproc_2019-11/ecommerce_preproc.parquet/session_start_date=2019-11-20/.part-00158-1fb5299f-9048-47a3-bb5d-1af042cb871c.c000.snappy.parquet.crc  \n",
      "  inflating: ecommerce_preproc_2019-11/ecommerce_preproc.parquet/session_start_date=2019-11-20/part-00158-1fb5299f-9048-47a3-bb5d-1af042cb871c.c000.snappy.parquet  \n",
      "   creating: ecommerce_preproc_2019-11/ecommerce_preproc.parquet/session_start_date=2019-11-04/\n",
      "  inflating: ecommerce_preproc_2019-11/ecommerce_preproc.parquet/session_start_date=2019-11-04/part-00121-1fb5299f-9048-47a3-bb5d-1af042cb871c.c000.snappy.parquet  \n",
      "  inflating: ecommerce_preproc_2019-11/ecommerce_preproc.parquet/session_start_date=2019-11-04/.part-00121-1fb5299f-9048-47a3-bb5d-1af042cb871c.c000.snappy.parquet.crc  \n",
      "   creating: ecommerce_preproc_2019-11/ecommerce_preproc.parquet/session_start_date=2019-11-18/\n",
      "  inflating: ecommerce_preproc_2019-11/ecommerce_preproc.parquet/session_start_date=2019-11-18/.part-00146-1fb5299f-9048-47a3-bb5d-1af042cb871c.c000.snappy.parquet.crc  \n",
      "  inflating: ecommerce_preproc_2019-11/ecommerce_preproc.parquet/session_start_date=2019-11-18/part-00146-1fb5299f-9048-47a3-bb5d-1af042cb871c.c000.snappy.parquet  \n",
      "   creating: ecommerce_preproc_2019-11/ecommerce_preproc.parquet/session_start_date=2019-11-14/\n",
      "  inflating: ecommerce_preproc_2019-11/ecommerce_preproc.parquet/session_start_date=2019-11-14/part-00093-1fb5299f-9048-47a3-bb5d-1af042cb871c.c000.snappy.parquet  \n",
      "  inflating: ecommerce_preproc_2019-11/ecommerce_preproc.parquet/session_start_date=2019-11-14/.part-00093-1fb5299f-9048-47a3-bb5d-1af042cb871c.c000.snappy.parquet.crc  \n",
      "   creating: ecommerce_preproc_2019-11/ecommerce_preproc.parquet/session_start_date=2019-11-09/\n",
      "  inflating: ecommerce_preproc_2019-11/ecommerce_preproc.parquet/session_start_date=2019-11-09/part-00160-1fb5299f-9048-47a3-bb5d-1af042cb871c.c000.snappy.parquet  \n",
      "  inflating: ecommerce_preproc_2019-11/ecommerce_preproc.parquet/session_start_date=2019-11-09/.part-00160-1fb5299f-9048-47a3-bb5d-1af042cb871c.c000.snappy.parquet.crc  \n",
      "   creating: ecommerce_preproc_2019-11/ecommerce_preproc.parquet/session_start_date=2019-11-28/\n",
      "  inflating: ecommerce_preproc_2019-11/ecommerce_preproc.parquet/session_start_date=2019-11-28/part-00111-1fb5299f-9048-47a3-bb5d-1af042cb871c.c000.snappy.parquet  \n",
      "  inflating: ecommerce_preproc_2019-11/ecommerce_preproc.parquet/session_start_date=2019-11-28/.part-00111-1fb5299f-9048-47a3-bb5d-1af042cb871c.c000.snappy.parquet.crc  \n",
      "   creating: ecommerce_preproc_2019-11/ecommerce_preproc.parquet/session_start_date=2019-11-30/\n",
      "  inflating: ecommerce_preproc_2019-11/ecommerce_preproc.parquet/session_start_date=2019-11-30/.part-00082-1fb5299f-9048-47a3-bb5d-1af042cb871c.c000.snappy.parquet.crc  \n",
      "  inflating: ecommerce_preproc_2019-11/ecommerce_preproc.parquet/session_start_date=2019-11-30/part-00082-1fb5299f-9048-47a3-bb5d-1af042cb871c.c000.snappy.parquet  \n",
      "   creating: ecommerce_preproc_2019-11/ecommerce_preproc.parquet/session_start_date=2019-11-21/\n",
      "  inflating: ecommerce_preproc_2019-11/ecommerce_preproc.parquet/session_start_date=2019-11-21/part-00105-1fb5299f-9048-47a3-bb5d-1af042cb871c.c000.snappy.parquet  \n",
      "  inflating: ecommerce_preproc_2019-11/ecommerce_preproc.parquet/session_start_date=2019-11-21/.part-00105-1fb5299f-9048-47a3-bb5d-1af042cb871c.c000.snappy.parquet.crc  \n",
      "   creating: ecommerce_preproc_2019-11/ecommerce_preproc.parquet/session_start_date=2019-11-10/\n",
      "  inflating: ecommerce_preproc_2019-11/ecommerce_preproc.parquet/session_start_date=2019-11-10/.part-00087-1fb5299f-9048-47a3-bb5d-1af042cb871c.c000.snappy.parquet.crc  \n",
      "  inflating: ecommerce_preproc_2019-11/ecommerce_preproc.parquet/session_start_date=2019-11-10/part-00087-1fb5299f-9048-47a3-bb5d-1af042cb871c.c000.snappy.parquet  \n",
      "   creating: ecommerce_preproc_2019-11/ecommerce_preproc.parquet/session_start_date=2019-11-05/\n",
      "  inflating: ecommerce_preproc_2019-11/ecommerce_preproc.parquet/session_start_date=2019-11-05/part-00168-1fb5299f-9048-47a3-bb5d-1af042cb871c.c000.snappy.parquet  \n",
      "  inflating: ecommerce_preproc_2019-11/ecommerce_preproc.parquet/session_start_date=2019-11-05/.part-00168-1fb5299f-9048-47a3-bb5d-1af042cb871c.c000.snappy.parquet.crc  \n",
      "   creating: ecommerce_preproc_2019-11/ecommerce_preproc.parquet/session_start_date=2019-11-08/\n",
      "  inflating: ecommerce_preproc_2019-11/ecommerce_preproc.parquet/session_start_date=2019-11-08/.part-00146-1fb5299f-9048-47a3-bb5d-1af042cb871c.c000.snappy.parquet.crc  \n",
      "  inflating: ecommerce_preproc_2019-11/ecommerce_preproc.parquet/session_start_date=2019-11-08/part-00146-1fb5299f-9048-47a3-bb5d-1af042cb871c.c000.snappy.parquet  \n",
      "   creating: ecommerce_preproc_2019-11/ecommerce_preproc.parquet/session_start_date=2019-11-11/\n",
      "  inflating: ecommerce_preproc_2019-11/ecommerce_preproc.parquet/session_start_date=2019-11-11/.part-00113-1fb5299f-9048-47a3-bb5d-1af042cb871c.c000.snappy.parquet.crc  \n",
      "  inflating: ecommerce_preproc_2019-11/ecommerce_preproc.parquet/session_start_date=2019-11-11/part-00113-1fb5299f-9048-47a3-bb5d-1af042cb871c.c000.snappy.parquet  \n",
      "   creating: ecommerce_preproc_2019-11/ecommerce_preproc.parquet/session_start_date=2019-11-01/\n",
      "  inflating: ecommerce_preproc_2019-11/ecommerce_preproc.parquet/session_start_date=2019-11-01/part-00133-1fb5299f-9048-47a3-bb5d-1af042cb871c.c000.snappy.parquet  \n",
      "  inflating: ecommerce_preproc_2019-11/ecommerce_preproc.parquet/session_start_date=2019-11-01/.part-00133-1fb5299f-9048-47a3-bb5d-1af042cb871c.c000.snappy.parquet.crc  \n",
      "   creating: ecommerce_preproc_2019-11/ecommerce_preproc.parquet/session_start_date=2019-11-22/\n",
      "  inflating: ecommerce_preproc_2019-11/ecommerce_preproc.parquet/session_start_date=2019-11-22/part-00188-1fb5299f-9048-47a3-bb5d-1af042cb871c.c000.snappy.parquet  \n",
      "  inflating: ecommerce_preproc_2019-11/ecommerce_preproc.parquet/session_start_date=2019-11-22/.part-00188-1fb5299f-9048-47a3-bb5d-1af042cb871c.c000.snappy.parquet.crc  \n",
      "   creating: ecommerce_preproc_2019-11/ecommerce_preproc.parquet/session_start_date=2019-11-07/\n",
      "  inflating: ecommerce_preproc_2019-11/ecommerce_preproc.parquet/session_start_date=2019-11-07/.part-00182-1fb5299f-9048-47a3-bb5d-1af042cb871c.c000.snappy.parquet.crc  \n",
      "  inflating: ecommerce_preproc_2019-11/ecommerce_preproc.parquet/session_start_date=2019-11-07/part-00182-1fb5299f-9048-47a3-bb5d-1af042cb871c.c000.snappy.parquet  \n",
      "   creating: ecommerce_preproc_2019-11/ecommerce_preproc.parquet/session_start_date=2019-11-17/\n",
      "  inflating: ecommerce_preproc_2019-11/ecommerce_preproc.parquet/session_start_date=2019-11-17/.part-00028-1fb5299f-9048-47a3-bb5d-1af042cb871c.c000.snappy.parquet.crc  \n",
      "  inflating: ecommerce_preproc_2019-11/ecommerce_preproc.parquet/session_start_date=2019-11-17/part-00028-1fb5299f-9048-47a3-bb5d-1af042cb871c.c000.snappy.parquet  \n",
      "   creating: ecommerce_preproc_2019-11/ecommerce_preproc.parquet/session_start_date=2019-11-27/\n",
      "  inflating: ecommerce_preproc_2019-11/ecommerce_preproc.parquet/session_start_date=2019-11-27/.part-00162-1fb5299f-9048-47a3-bb5d-1af042cb871c.c000.snappy.parquet.crc  \n",
      "  inflating: ecommerce_preproc_2019-11/ecommerce_preproc.parquet/session_start_date=2019-11-27/part-00162-1fb5299f-9048-47a3-bb5d-1af042cb871c.c000.snappy.parquet  \n",
      "   creating: ecommerce_preproc_2019-11/ecommerce_preproc.parquet/session_start_date=2019-11-06/\n",
      "  inflating: ecommerce_preproc_2019-11/ecommerce_preproc.parquet/session_start_date=2019-11-06/part-00085-1fb5299f-9048-47a3-bb5d-1af042cb871c.c000.snappy.parquet  \n",
      "  inflating: ecommerce_preproc_2019-11/ecommerce_preproc.parquet/session_start_date=2019-11-06/.part-00085-1fb5299f-9048-47a3-bb5d-1af042cb871c.c000.snappy.parquet.crc  \n",
      "   creating: ecommerce_preproc_2019-11/ecommerce_preproc.parquet/session_start_date=2019-11-12/\n",
      "  inflating: ecommerce_preproc_2019-11/ecommerce_preproc.parquet/session_start_date=2019-11-12/.part-00141-1fb5299f-9048-47a3-bb5d-1af042cb871c.c000.snappy.parquet.crc  \n",
      "  inflating: ecommerce_preproc_2019-11/ecommerce_preproc.parquet/session_start_date=2019-11-12/part-00141-1fb5299f-9048-47a3-bb5d-1af042cb871c.c000.snappy.parquet  \n"
     ]
    }
   ],
   "source": [
    "! unzip dataset/ecommerce_preproc_2019-10.zip\n",
    "! unzip dataset/ecommerce_preproc_2019-11.zip\n"
   ]
  }
 ],
 "metadata": {
  "kernelspec": {
   "display_name": "Python 3",
   "language": "python",
   "name": "python3"
  },
  "language_info": {
   "codemirror_mode": {
    "name": "ipython",
    "version": 3
   },
   "file_extension": ".py",
   "mimetype": "text/x-python",
   "name": "python",
   "nbconvert_exporter": "python",
   "pygments_lexer": "ipython3",
   "version": "3.7.6"
  }
 },
 "nbformat": 4,
 "nbformat_minor": 4
}
