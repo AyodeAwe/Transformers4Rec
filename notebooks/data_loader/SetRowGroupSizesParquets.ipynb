{
 "cells": [
  {
   "cell_type": "code",
   "execution_count": 8,
   "metadata": {},
   "outputs": [],
   "source": [
    "import cudf"
   ]
  },
  {
   "cell_type": "code",
   "execution_count": 9,
   "metadata": {},
   "outputs": [],
   "source": [
    "import os"
   ]
  },
  {
   "cell_type": "code",
   "execution_count": 3,
   "metadata": {},
   "outputs": [
    {
     "name": "stdout",
     "output_type": "stream",
     "text": [
      "ecommerce_preproc_2019-10\n",
      "ecommerce_preproc_2019-10_fixed_partial\n",
      "ecommerce_preproc_2019-10_row_group_fixed\n"
     ]
    }
   ],
   "source": [
    "!ls /data"
   ]
  },
  {
   "cell_type": "code",
   "execution_count": 2,
   "metadata": {},
   "outputs": [],
   "source": [
    "INPUT_FOLDER = '/data/ecommerce_preproc_2019-10_row_group_fixed'"
   ]
  },
  {
   "cell_type": "code",
   "execution_count": 59,
   "metadata": {},
   "outputs": [],
   "source": [
    "#df = cudf.read_parquet(os.path.join(INPUT_FOLDER,'session_start_date=2019-10-01-test.parquet'), row_groups=0, row_group=0)\n",
    "#df = cudf.read_parquet(os.path.join(INPUT_FOLDER,'session_start_date=2019-10-01.parquet'))\n",
    "#df = cudf.read_parquet(os.path.join(INPUT_FOLDER,'session_start_date=2019-10-01-temp.parquet'))"
   ]
  },
  {
   "cell_type": "code",
   "execution_count": 55,
   "metadata": {},
   "outputs": [],
   "source": [
    "#df.to_parquet(os.path.join(INPUT_FOLDER,'session_start_date=2019-10-01-temp.parquet'), row_group_size=40000)"
   ]
  },
  {
   "cell_type": "code",
   "execution_count": 4,
   "metadata": {},
   "outputs": [],
   "source": [
    "def _memory_usage(df):\n",
    "    \"\"\"this function is a workaround of a problem with getting memory usage of lists\n",
    "    in cudf0.16.  This can be deleted and just use `df.memory_usage(deep= True, index=True).sum()`\n",
    "    once we are using cudf 0.17 (fixed in https://github.com/rapidsai/cudf/pull/6549)\"\"\"\n",
    "    size = 0\n",
    "    for col in df._data.columns:\n",
    "        if cudf.utils.dtypes.is_list_dtype(col.dtype):\n",
    "            for child in col.base_children:\n",
    "                size += child.__sizeof__()\n",
    "        else:\n",
    "            size += col._memory_usage(deep=True)\n",
    "    size += df.index.memory_usage(deep=True)\n",
    "    return size"
   ]
  },
  {
   "cell_type": "code",
   "execution_count": 39,
   "metadata": {},
   "outputs": [
    {
     "data": {
      "text/plain": [
       "0"
      ]
     },
     "execution_count": 39,
     "metadata": {},
     "output_type": "execute_result"
    }
   ],
   "source": [
    "df.index.memory_usage(deep=True)"
   ]
  },
  {
   "cell_type": "code",
   "execution_count": 60,
   "metadata": {},
   "outputs": [
    {
     "data": {
      "text/plain": [
       "139887"
      ]
     },
     "execution_count": 60,
     "metadata": {},
     "output_type": "execute_result"
    }
   ],
   "source": [
    "len(df)"
   ]
  },
  {
   "cell_type": "code",
   "execution_count": 61,
   "metadata": {},
   "outputs": [
    {
     "data": {
      "text/plain": [
       "477889212"
      ]
     },
     "execution_count": 61,
     "metadata": {},
     "output_type": "execute_result"
    }
   ],
   "source": [
    "_memory_usage(df)"
   ]
  },
  {
   "cell_type": "code",
   "execution_count": 49,
   "metadata": {},
   "outputs": [
    {
     "data": {
      "text/plain": [
       "477889212"
      ]
     },
     "execution_count": 49,
     "metadata": {},
     "output_type": "execute_result"
    }
   ],
   "source": [
    "_memory_usage(df)"
   ]
  },
  {
   "cell_type": "code",
   "execution_count": 10,
   "metadata": {},
   "outputs": [
    {
     "name": "stdout",
     "output_type": "stream",
     "text": [
      "'session_start_date=2019-10-16.parquet'\n",
      "'session_start_date=2019-10-16-test.parquet'\n",
      "'session_start_date=2019-10-16-train.parquet'\n",
      "'session_start_date=2019-10-17.parquet'\n",
      "'session_start_date=2019-10-17-test.parquet'\n",
      "'session_start_date=2019-10-17-train.parquet'\n",
      "'session_start_date=2019-10-18.parquet'\n",
      "'session_start_date=2019-10-18-test.parquet'\n",
      "'session_start_date=2019-10-18-train.parquet'\n",
      "'session_start_date=2019-10-19.parquet'\n",
      "'session_start_date=2019-10-19-test.parquet'\n",
      "'session_start_date=2019-10-19-train.parquet'\n",
      "'session_start_date=2019-10-20.parquet'\n",
      "'session_start_date=2019-10-20-test.parquet'\n",
      "'session_start_date=2019-10-20-train.parquet'\n",
      "'session_start_date=2019-10-21.parquet'\n",
      "'session_start_date=2019-10-21-test.parquet'\n",
      "'session_start_date=2019-10-21-train.parquet'\n",
      "'session_start_date=2019-10-22.parquet'\n",
      "'session_start_date=2019-10-22-test.parquet'\n",
      "'session_start_date=2019-10-22-train.parquet'\n",
      "'session_start_date=2019-10-23.parquet'\n",
      "'session_start_date=2019-10-23-test.parquet'\n",
      "'session_start_date=2019-10-23-train.parquet'\n",
      "'session_start_date=2019-10-24.parquet'\n",
      "'session_start_date=2019-10-24-test.parquet'\n",
      "'session_start_date=2019-10-24-train.parquet'\n",
      "'session_start_date=2019-10-25.parquet'\n",
      "'session_start_date=2019-10-25-test.parquet'\n",
      "'session_start_date=2019-10-25-train.parquet'\n",
      "'session_start_date=2019-10-26.parquet'\n",
      "'session_start_date=2019-10-26-test.parquet'\n",
      "'session_start_date=2019-10-26-train.parquet'\n",
      "'session_start_date=2019-10-27.parquet'\n",
      "'session_start_date=2019-10-27-test.parquet'\n",
      "'session_start_date=2019-10-27-train.parquet'\n",
      "'session_start_date=2019-10-28.parquet'\n",
      "'session_start_date=2019-10-28-test.parquet'\n",
      "'session_start_date=2019-10-28-train.parquet'\n",
      "'session_start_date=2019-10-29.parquet'\n",
      "'session_start_date=2019-10-29-test.parquet'\n",
      "'session_start_date=2019-10-29-train.parquet'\n",
      "'session_start_date=2019-10-30.parquet'\n",
      "'session_start_date=2019-10-30-test.parquet'\n",
      "'session_start_date=2019-10-30-train.parquet'\n",
      "'session_start_date=2019-10-31.parquet'\n",
      "'session_start_date=2019-10-31-test.parquet'\n",
      "'session_start_date=2019-10-31-train.parquet'\n"
     ]
    }
   ],
   "source": [
    "!ls $INPUT_FOLDER"
   ]
  },
  {
   "cell_type": "code",
   "execution_count": 11,
   "metadata": {},
   "outputs": [
    {
     "name": "stdout",
     "output_type": "stream",
     "text": [
      "session_start_date=2019-10-16-test.parquet\n",
      "session_start_date=2019-10-16-train.parquet\n",
      "session_start_date=2019-10-16.parquet\n",
      "session_start_date=2019-10-17-test.parquet\n",
      "session_start_date=2019-10-17-train.parquet\n",
      "session_start_date=2019-10-17.parquet\n",
      "session_start_date=2019-10-18-test.parquet\n",
      "session_start_date=2019-10-18-train.parquet\n",
      "session_start_date=2019-10-18.parquet\n",
      "session_start_date=2019-10-19-test.parquet\n",
      "session_start_date=2019-10-19-train.parquet\n",
      "session_start_date=2019-10-19.parquet\n",
      "session_start_date=2019-10-20-test.parquet\n",
      "session_start_date=2019-10-20-train.parquet\n",
      "session_start_date=2019-10-20.parquet\n",
      "session_start_date=2019-10-21-test.parquet\n",
      "session_start_date=2019-10-21-train.parquet\n",
      "session_start_date=2019-10-21.parquet\n",
      "session_start_date=2019-10-22-test.parquet\n",
      "session_start_date=2019-10-22-train.parquet\n",
      "session_start_date=2019-10-22.parquet\n",
      "session_start_date=2019-10-23-test.parquet\n",
      "session_start_date=2019-10-23-train.parquet\n",
      "session_start_date=2019-10-23.parquet\n",
      "session_start_date=2019-10-24-test.parquet\n",
      "session_start_date=2019-10-24-train.parquet\n",
      "session_start_date=2019-10-24.parquet\n",
      "session_start_date=2019-10-25-test.parquet\n",
      "session_start_date=2019-10-25-train.parquet\n",
      "session_start_date=2019-10-25.parquet\n",
      "session_start_date=2019-10-26-test.parquet\n",
      "session_start_date=2019-10-26-train.parquet\n",
      "session_start_date=2019-10-26.parquet\n",
      "session_start_date=2019-10-27-test.parquet\n",
      "session_start_date=2019-10-27-train.parquet\n",
      "session_start_date=2019-10-27.parquet\n",
      "session_start_date=2019-10-28-test.parquet\n",
      "session_start_date=2019-10-28-train.parquet\n",
      "session_start_date=2019-10-28.parquet\n",
      "session_start_date=2019-10-29-test.parquet\n",
      "session_start_date=2019-10-29-train.parquet\n",
      "session_start_date=2019-10-29.parquet\n",
      "session_start_date=2019-10-30-test.parquet\n",
      "session_start_date=2019-10-30-train.parquet\n",
      "session_start_date=2019-10-30.parquet\n",
      "session_start_date=2019-10-31-test.parquet\n",
      "session_start_date=2019-10-31-train.parquet\n",
      "session_start_date=2019-10-31.parquet\n",
      "CPU times: user 3min 5s, sys: 5.19 s, total: 3min 11s\n",
      "Wall time: 3min 12s\n"
     ]
    }
   ],
   "source": [
    "%%time\n",
    "for filename in sorted(os.listdir(INPUT_FOLDER)):\n",
    "    print(filename)\n",
    "    path = os.path.join(INPUT_FOLDER,filename)\n",
    "    df = cudf.read_parquet(path)\n",
    "    df.to_parquet(path, row_group_size=40000)"
   ]
  },
  {
   "cell_type": "code",
   "execution_count": null,
   "metadata": {},
   "outputs": [],
   "source": []
  }
 ],
 "metadata": {
  "kernelspec": {
   "display_name": "Python 3",
   "language": "python",
   "name": "python3"
  },
  "language_info": {
   "codemirror_mode": {
    "name": "ipython",
    "version": 3
   },
   "file_extension": ".py",
   "mimetype": "text/x-python",
   "name": "python",
   "nbconvert_exporter": "python",
   "pygments_lexer": "ipython3",
   "version": "3.7.8"
  }
 },
 "nbformat": 4,
 "nbformat_minor": 4
}
