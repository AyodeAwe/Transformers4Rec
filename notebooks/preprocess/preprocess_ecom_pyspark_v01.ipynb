{
 "cells": [
  {
   "cell_type": "markdown",
   "metadata": {},
   "source": [
    "# Read, Parse, Process E-Commerce data on PySpark\n",
    "eCommerce dataset: https://www.kaggle.com/mkechinov/ecommerce-behavior-data-from-multi-category"
   ]
  },
  {
   "cell_type": "code",
   "execution_count": 1,
   "metadata": {},
   "outputs": [],
   "source": [
    "import numpy as np # linear algebra\n",
    "import pandas as pd # data processing, CSV file I/O (e.g. pd.read_csv)\n",
    "import os"
   ]
  },
  {
   "cell_type": "markdown",
   "metadata": {},
   "source": [
    "## Data Download from Kaggle"
   ]
  },
  {
   "cell_type": "code",
   "execution_count": 3,
   "metadata": {},
   "outputs": [
    {
     "name": "stdout",
     "output_type": "stream",
     "text": [
      "Collecting kaggle\n",
      "  Downloading kaggle-1.5.6.tar.gz (58 kB)\n",
      "\u001b[K     |████████████████████████████████| 58 kB 2.0 MB/s eta 0:00:011\n",
      "\u001b[?25hCollecting urllib3<1.25,>=1.21.1\n",
      "  Downloading urllib3-1.24.3-py2.py3-none-any.whl (118 kB)\n",
      "\u001b[K     |████████████████████████████████| 118 kB 11.3 MB/s eta 0:00:01\n",
      "\u001b[?25hRequirement already satisfied, skipping upgrade: six>=1.10 in /opt/conda/lib/python3.7/site-packages (from kaggle) (1.14.0)\n",
      "Requirement already satisfied, skipping upgrade: certifi in /opt/conda/lib/python3.7/site-packages (from kaggle) (2020.4.5.1)\n",
      "Requirement already satisfied, skipping upgrade: python-dateutil in /opt/conda/lib/python3.7/site-packages (from kaggle) (2.8.1)\n",
      "Requirement already satisfied, skipping upgrade: requests in /opt/conda/lib/python3.7/site-packages (from kaggle) (2.23.0)\n",
      "Requirement already satisfied, skipping upgrade: tqdm in /opt/conda/lib/python3.7/site-packages (from kaggle) (4.45.0)\n",
      "Collecting python-slugify\n",
      "  Downloading python-slugify-4.0.0.tar.gz (8.8 kB)\n",
      "Requirement already satisfied, skipping upgrade: idna<3,>=2.5 in /opt/conda/lib/python3.7/site-packages (from requests->kaggle) (2.9)\n",
      "Requirement already satisfied, skipping upgrade: chardet<4,>=3.0.2 in /opt/conda/lib/python3.7/site-packages (from requests->kaggle) (3.0.4)\n",
      "Collecting text-unidecode>=1.3\n",
      "  Downloading text_unidecode-1.3-py2.py3-none-any.whl (78 kB)\n",
      "\u001b[K     |████████████████████████████████| 78 kB 12.1 MB/s eta 0:00:01\n",
      "\u001b[?25hBuilding wheels for collected packages: kaggle, python-slugify\n",
      "  Building wheel for kaggle (setup.py) ... \u001b[?25ldone\n",
      "\u001b[?25h  Created wheel for kaggle: filename=kaggle-1.5.6-py3-none-any.whl size=72859 sha256=f6df588ba0dce2fdaa560c7260b6f24d4c3d19dddd40a82c5f8e59d4fb7e44e1\n",
      "  Stored in directory: /home/jovyan/.cache/pip/wheels/aa/e7/e7/eb3c3d514c33294d77ddd5a856bdd58dc9c1fabbed59a02a2b\n",
      "  Building wheel for python-slugify (setup.py) ... \u001b[?25ldone\n",
      "\u001b[?25h  Created wheel for python-slugify: filename=python_slugify-4.0.0-py2.py3-none-any.whl size=5486 sha256=ccd5fc462f4c2e3aff0d34f878d667cdf53acd018d64939570e8ce3c1ede5e4e\n",
      "  Stored in directory: /home/jovyan/.cache/pip/wheels/7c/26/30/5f3d95da00fe94d0c4a5ec5b4ffd2e1ae18545f5fa61752e52\n",
      "Successfully built kaggle python-slugify\n",
      "Installing collected packages: urllib3, text-unidecode, python-slugify, kaggle\n",
      "  Attempting uninstall: urllib3\n",
      "    Found existing installation: urllib3 1.25.9\n",
      "    Uninstalling urllib3-1.25.9:\n",
      "      Successfully uninstalled urllib3-1.25.9\n",
      "Successfully installed kaggle-1.5.6 python-slugify-4.0.0 text-unidecode-1.3 urllib3-1.24.3\n"
     ]
    }
   ],
   "source": [
    "# ! pip install kaggle --upgrade"
   ]
  },
  {
   "cell_type": "code",
   "execution_count": 17,
   "metadata": {},
   "outputs": [],
   "source": [
    "# NOTE: first to get kaggle api tiken from account page in Kaggle. Place it at ~/.kaggle/kaggle.json\n",
    "# mkdir ~/.kaggle/\n",
    "# nano ~/.kaggle/kaggle.json\n",
    "# chmod 600 ~/.kaggle/kaggle.json\n",
    "# kaggle datasets download mkechinov/ecommerce-behavior-data-from-multi-category-store\n",
    "# unzip ecommerce-behavior-data-from-multi-category-store.zip"
   ]
  },
  {
   "cell_type": "markdown",
   "metadata": {},
   "source": [
    "## Setup Spark"
   ]
  },
  {
   "cell_type": "code",
   "execution_count": 2,
   "metadata": {},
   "outputs": [],
   "source": [
    "import pyspark\n",
    "import pyspark.sql.functions as F\n",
    "from pyspark.sql.functions import udf\n",
    "from pyspark.ml.evaluation import BinaryClassificationEvaluator\n",
    "from pyspark.sql.types import *\n",
    "from pyspark.ml.recommendation import ALS\n",
    "from pyspark.sql import Window\n",
    "from pyspark.ml.linalg import Vectors, Vector, DenseVector, SparseVector, VectorUDT\n",
    "from pyspark.ml.stat import Summarizer"
   ]
  },
  {
   "cell_type": "code",
   "execution_count": 3,
   "metadata": {},
   "outputs": [],
   "source": [
    "from pyspark.sql import SparkSession\n",
    "\n",
    "# Setup for 400GB Mem machine\n",
    "config = pyspark.SparkConf().setAll([('spark.executor.memory', '350g'),\n",
    "                                     ('spark.executor.instances', '1'),\n",
    "                                     ('spark.cores.max', '64'),\n",
    "                                     #('spark.cores.max', '3'),\n",
    "                                     ('spark.executor.cores', '64'),\n",
    "                                     ('spark.driver.memory','30g')\n",
    "                                    ])\n",
    "spark = SparkSession.builder.config(conf=config).appName(\"JobName\").getOrCreate()\n",
    "\n",
    "# Setup for 200GB Mem machine\n",
    "# config = pyspark.SparkConf().setAll([('spark.executor.cores', '4'),\n",
    "#                                      ('spark.executor.instances', '2'),\n",
    "#                                      ('spark.executor.memory', '12g'), \n",
    "#                                      ('spark.executor.memoryOverhead', '2g'), \n",
    "#                                      #('spark.driver.cores', '4'),\n",
    "#                                      #('spark.driver.memory', '12g'),\n",
    "#                                      ('spark.dynamicAllocation.enabled', 'false'),\n",
    "#                                      ('spark.io.compression.codec', 'snappy')\n",
    "#                                     ])\n",
    "\n",
    "# spark = SparkSession.builder.config(conf=config).appName(\"Recsys-Transformer-Research\").getOrCreate()"
   ]
  },
  {
   "cell_type": "markdown",
   "metadata": {},
   "source": [
    "## Read Data"
   ]
  },
  {
   "cell_type": "markdown",
   "metadata": {},
   "source": [
    "#### Load 4 months dataset"
   ]
  },
  {
   "cell_type": "code",
   "execution_count": 4,
   "metadata": {},
   "outputs": [],
   "source": [
    "data_csv_01 = \"./2019-Oct.csv\"\n",
    "data_csv_02 = \"./2019-Nov.csv\"\n",
    "# data_csv_03 = \"/workspace/ecommerce-behavior-data-from-multi-category-store/2019-Dec.csv\"\n",
    "# data_csv_04 = \"/workspace/ecommerce-behavior-data-from-multi-category-store/2020-Jan.csv\"\n",
    "\n",
    "# data_list = [data_csv_01, data_csv_02]\n",
    "data_list = [data_csv_01]"
   ]
  },
  {
   "cell_type": "markdown",
   "metadata": {},
   "source": [
    "#### Read through Spark from CSV"
   ]
  },
  {
   "cell_type": "code",
   "execution_count": 5,
   "metadata": {},
   "outputs": [
    {
     "name": "stdout",
     "output_type": "stream",
     "text": [
      "root\n",
      " |-- event_time: string (nullable = true)\n",
      " |-- event_type: string (nullable = true)\n",
      " |-- product_id: integer (nullable = true)\n",
      " |-- category_id: long (nullable = true)\n",
      " |-- category_code: string (nullable = true)\n",
      " |-- brand: string (nullable = true)\n",
      " |-- price: double (nullable = true)\n",
      " |-- user_id: integer (nullable = true)\n",
      " |-- user_session: string (nullable = true)\n",
      "\n"
     ]
    }
   ],
   "source": [
    "_df_sb = spark.read.csv(data_list, inferSchema = True, header = True)\n",
    "_df_sb.printSchema()"
   ]
  },
  {
   "cell_type": "markdown",
   "metadata": {},
   "source": [
    "#### Convert timestamp as the type of datetime"
   ]
  },
  {
   "cell_type": "code",
   "execution_count": 6,
   "metadata": {},
   "outputs": [],
   "source": [
    "_df_sb_a = _df_sb.withColumn('event_time_dt', F.to_timestamp('event_time','yyyy-MM-dd HH:mm:ss'))"
   ]
  },
  {
   "cell_type": "code",
   "execution_count": 7,
   "metadata": {},
   "outputs": [],
   "source": [
    "_df_sb_a = _df_sb_a.withColumn('et_hour', F.hour('event_time_dt'))\\\n",
    "                .withColumn('et_dayofweek', F.dayofweek('event_time_dt'))\\\n",
    "                .withColumn('et_dayofmonth', F.dayofmonth('event_time_dt'))\\\n",
    "                .withColumn('et_month', F.month('event_time_dt'))"
   ]
  },
  {
   "cell_type": "markdown",
   "metadata": {},
   "source": [
    "#### String -> Discrete Feature"
   ]
  },
  {
   "cell_type": "markdown",
   "metadata": {},
   "source": [
    "API: https://spark.apache.org/docs/latest/api/python/pyspark.ml.html?pyspark.ml.feature.StringIndexer#pyspark.ml.feature.StringIndexer\n",
    "\n",
    "How to apply:\n",
    "https://stackoverflow.com/questions/36942233/apply-stringindexer-to-several-columns-in-a-pyspark-dataframe"
   ]
  },
  {
   "cell_type": "code",
   "execution_count": 8,
   "metadata": {},
   "outputs": [
    {
     "name": "stdout",
     "output_type": "stream",
     "text": [
      "+--------------------+----------+----------+-------------------+--------------------+--------+-------+---------+--------------------+-------------------+-------+------------+-------------+--------+-----------+------------+---------+\n",
      "|          event_time|event_type|product_id|        category_id|       category_code|   brand|  price|  user_id|        user_session|      event_time_dt|et_hour|et_dayofweek|et_dayofmonth|et_month|product_idx|category_idx|brand_idx|\n",
      "+--------------------+----------+----------+-------------------+--------------------+--------+-------+---------+--------------------+-------------------+-------+------------+-------------+--------+-----------+------------+---------+\n",
      "|2019-10-01 00:00:...|      view|  44600062|2103807459595387724|                null|shiseido|  35.79|541312140|72d76fde-8bb3-4e0...|2019-10-01 00:00:00|      0|           3|            1|      10|    30797.0|       380.0|    595.0|\n",
      "|2019-10-01 00:00:...|      view|   3900821|2053013552326770905|appliances.enviro...|    aqua|   33.2|554748717|9333dfbd-b87a-470...|2019-10-01 00:00:00|      0|           3|            1|      10|     1903.0|        50.0|    260.0|\n",
      "|2019-10-01 00:00:...|      view|   1307067|2053013558920217191|  computers.notebook|  lenovo| 251.74|550050854|7c90fc70-0e80-459...|2019-10-01 00:00:01|      0|           3|            1|      10|      212.0|         2.0|     12.0|\n",
      "|2019-10-01 00:00:...|      view|   1004237|2053013555631882655|electronics.smart...|   apple|1081.98|535871217|c6bd7419-2748-4c5...|2019-10-01 00:00:04|      0|           3|            1|      10|       44.0|         0.0|      1.0|\n",
      "|2019-10-01 00:00:...|      view|   1480613|2053013561092866779|   computers.desktop|  pulser| 908.62|512742880|0d0d91c2-c9c2-4e8...|2019-10-01 00:00:05|      0|           3|            1|      10|    12367.0|        26.0|     59.0|\n",
      "|2019-10-01 00:00:...|      view|  17300353|2053013553853497655|                null|   creed| 380.96|555447699|4fe811e9-91de-46d...|2019-10-01 00:00:08|      0|           3|            1|      10|     2997.0|        17.0|    259.0|\n",
      "|2019-10-01 00:00:...|      view|  31500053|2053013558031024687|                null|luminarc|  41.16|550978835|6280d577-25c8-414...|2019-10-01 00:00:08|      0|           3|            1|      10|     1851.0|        54.0|     65.0|\n",
      "|2019-10-01 00:00:...|      view|  28719074|2053013565480109009|  apparel.shoes.keds|   baden| 102.71|520571932|ac1cd4e5-a3ce-422...|2019-10-01 00:00:10|      0|           3|            1|      10|    38436.0|        62.0|     39.0|\n",
      "|2019-10-01 00:00:...|      view|   1004545|2053013555631882655|electronics.smart...|  huawei| 566.01|537918940|406c46ed-90a4-478...|2019-10-01 00:00:11|      0|           3|            1|      10|     1287.0|         0.0|      3.0|\n",
      "|2019-10-01 00:00:...|      view|   2900536|2053013554776244595|appliances.kitche...|elenberg|  51.46|555158050|b5bdd0b3-4ca2-4c5...|2019-10-01 00:00:11|      0|           3|            1|      10|      199.0|        39.0|     20.0|\n",
      "|2019-10-01 00:00:...|      view|   1005011|2053013555631882655|electronics.smart...| samsung| 900.64|530282093|50a293fb-5940-41b...|2019-10-01 00:00:11|      0|           3|            1|      10|     5162.0|         0.0|      0.0|\n",
      "|2019-10-01 00:00:...|      view|   3900746|2053013552326770905|appliances.enviro...|   haier| 102.38|555444559|98b88fa0-d8fa-4b9...|2019-10-01 00:00:13|      0|           3|            1|      10|     8899.0|        50.0|     30.0|\n",
      "|2019-10-01 00:00:...|      view|  44600062|2103807459595387724|                null|shiseido|  35.79|541312140|72d76fde-8bb3-4e0...|2019-10-01 00:00:15|      0|           3|            1|      10|    30797.0|       380.0|    595.0|\n",
      "|2019-10-01 00:00:...|      view|  13500240|2053013557099889147|furniture.bedroom...|     brw|  93.18|555446365|7f0062d8-ead0-4e0...|2019-10-01 00:00:16|      0|           3|            1|      10|   107915.0|       349.0|     33.0|\n",
      "|2019-10-01 00:00:...|      view|   1801995|2053013554415534427|electronics.video.tv|   haier| 193.03|537192226|e3151795-c355-4ef...|2019-10-01 00:00:18|      0|           3|            1|      10|      208.0|         3.0|     30.0|\n",
      "|2019-10-01 00:00:...|      view|  10900029|2053013555069845885|appliances.kitche...|   bosch|  58.95|519528062|901b9e3c-3f8f-414...|2019-10-01 00:00:18|      0|           3|            1|      10|     3076.0|        73.0|      6.0|\n",
      "|2019-10-01 00:00:...|      view|   1306631|2053013558920217191|  computers.notebook|      hp| 580.89|550050854|7c90fc70-0e80-459...|2019-10-01 00:00:19|      0|           3|            1|      10|     1626.0|         2.0|     13.0|\n",
      "|2019-10-01 00:00:...|      view|   1005135|2053013555631882655|electronics.smart...|   apple|1747.79|535871217|c6bd7419-2748-4c5...|2019-10-01 00:00:19|      0|           3|            1|      10|       24.0|         0.0|      1.0|\n",
      "|2019-10-01 00:00:...|      view|   1003306|2053013555631882655|electronics.smart...|   apple| 588.77|555446831|6ec635da-ea15-4a5...|2019-10-01 00:00:20|      0|           3|            1|      10|       21.0|         0.0|      1.0|\n",
      "|2019-10-01 00:00:...|      view|   4803399|2053013554658804075|electronics.audio...|     jbl|  33.21|555428858|8a6afed4-77f8-40c...|2019-10-01 00:00:20|      0|           3|            1|      10|      282.0|         4.0|     36.0|\n",
      "+--------------------+----------+----------+-------------------+--------------------+--------+-------+---------+--------------------+-------------------+-------+------------+-------------+--------+-----------+------------+---------+\n",
      "only showing top 20 rows\n",
      "\n"
     ]
    }
   ],
   "source": [
    "from pyspark.ml.feature import StringIndexer\n",
    "from pyspark.ml import Pipeline\n",
    "\n",
    "product_idxer = StringIndexer(inputCol=\"product_id\", outputCol=\"product_idx\", handleInvalid=\"error\", stringOrderType=\"frequencyDesc\")\n",
    "category_idxer = StringIndexer(inputCol=\"category_id\", outputCol=\"category_idx\", handleInvalid=\"error\", stringOrderType=\"frequencyDesc\")\n",
    "userid_idxer = StringIndexer(inputCol=\"user_id\", outputCol=\"user_idx\", handleInvalid=\"skip\", stringOrderType=\"frequencyDesc\")\n",
    "usersession_idxer = StringIndexer(inputCol=\"user_session\", outputCol=\"user_session_idx\", handleInvalid=\"skip\", stringOrderType=\"frequencyDesc\")\n",
    "brand_idxer = StringIndexer(inputCol=\"brand\", outputCol=\"brand_idx\", handleInvalid=\"skip\", stringOrderType=\"frequencyDesc\")\n",
    "\n",
    "#NOTE: userid_idxer gets error!\n",
    "\n",
    "indexers = [product_idxer, category_idxer, brand_idxer, ]# product_idxer, category_idxer,userid_idxer, usersession_idxer, brand_idxer]\n",
    "pipeline = Pipeline(stages = indexers)\n",
    "         \n",
    "index_model = pipeline.fit(_df_sb_a)\n",
    "_df_sb_a_r = index_model.transform(_df_sb_a)"
   ]
  },
  {
   "cell_type": "markdown",
   "metadata": {},
   "source": [
    "#### Add +3 to indexed columns"
   ]
  },
  {
   "cell_type": "code",
   "execution_count": 9,
   "metadata": {},
   "outputs": [
    {
     "name": "stdout",
     "output_type": "stream",
     "text": [
      "+--------------------+----------+----------+-------------------+--------------------+--------+-------+---------+--------------------+-------------------+-------+------------+-------------+--------+-----------+------------+---------+\n",
      "|          event_time|event_type|product_id|        category_id|       category_code|   brand|  price|  user_id|        user_session|      event_time_dt|et_hour|et_dayofweek|et_dayofmonth|et_month|product_idx|category_idx|brand_idx|\n",
      "+--------------------+----------+----------+-------------------+--------------------+--------+-------+---------+--------------------+-------------------+-------+------------+-------------+--------+-----------+------------+---------+\n",
      "|2019-10-01 00:00:...|      view|  44600062|2103807459595387724|                null|shiseido|  35.79|541312140|72d76fde-8bb3-4e0...|2019-10-01 00:00:00|      0|           3|            1|      10|    30798.0|       381.0|    596.0|\n",
      "|2019-10-01 00:00:...|      view|   3900821|2053013552326770905|appliances.enviro...|    aqua|   33.2|554748717|9333dfbd-b87a-470...|2019-10-01 00:00:00|      0|           3|            1|      10|     1904.0|        51.0|    261.0|\n",
      "|2019-10-01 00:00:...|      view|   1307067|2053013558920217191|  computers.notebook|  lenovo| 251.74|550050854|7c90fc70-0e80-459...|2019-10-01 00:00:01|      0|           3|            1|      10|      213.0|         3.0|     13.0|\n",
      "|2019-10-01 00:00:...|      view|   1004237|2053013555631882655|electronics.smart...|   apple|1081.98|535871217|c6bd7419-2748-4c5...|2019-10-01 00:00:04|      0|           3|            1|      10|       45.0|         1.0|      2.0|\n",
      "|2019-10-01 00:00:...|      view|   1480613|2053013561092866779|   computers.desktop|  pulser| 908.62|512742880|0d0d91c2-c9c2-4e8...|2019-10-01 00:00:05|      0|           3|            1|      10|    12368.0|        27.0|     60.0|\n",
      "|2019-10-01 00:00:...|      view|  17300353|2053013553853497655|                null|   creed| 380.96|555447699|4fe811e9-91de-46d...|2019-10-01 00:00:08|      0|           3|            1|      10|     2998.0|        18.0|    260.0|\n",
      "|2019-10-01 00:00:...|      view|  31500053|2053013558031024687|                null|luminarc|  41.16|550978835|6280d577-25c8-414...|2019-10-01 00:00:08|      0|           3|            1|      10|     1852.0|        55.0|     66.0|\n",
      "|2019-10-01 00:00:...|      view|  28719074|2053013565480109009|  apparel.shoes.keds|   baden| 102.71|520571932|ac1cd4e5-a3ce-422...|2019-10-01 00:00:10|      0|           3|            1|      10|    38437.0|        63.0|     40.0|\n",
      "|2019-10-01 00:00:...|      view|   1004545|2053013555631882655|electronics.smart...|  huawei| 566.01|537918940|406c46ed-90a4-478...|2019-10-01 00:00:11|      0|           3|            1|      10|     1288.0|         1.0|      4.0|\n",
      "|2019-10-01 00:00:...|      view|   2900536|2053013554776244595|appliances.kitche...|elenberg|  51.46|555158050|b5bdd0b3-4ca2-4c5...|2019-10-01 00:00:11|      0|           3|            1|      10|      200.0|        40.0|     21.0|\n",
      "|2019-10-01 00:00:...|      view|   1005011|2053013555631882655|electronics.smart...| samsung| 900.64|530282093|50a293fb-5940-41b...|2019-10-01 00:00:11|      0|           3|            1|      10|     5163.0|         1.0|      1.0|\n",
      "|2019-10-01 00:00:...|      view|   3900746|2053013552326770905|appliances.enviro...|   haier| 102.38|555444559|98b88fa0-d8fa-4b9...|2019-10-01 00:00:13|      0|           3|            1|      10|     8900.0|        51.0|     31.0|\n",
      "|2019-10-01 00:00:...|      view|  44600062|2103807459595387724|                null|shiseido|  35.79|541312140|72d76fde-8bb3-4e0...|2019-10-01 00:00:15|      0|           3|            1|      10|    30798.0|       381.0|    596.0|\n",
      "|2019-10-01 00:00:...|      view|  13500240|2053013557099889147|furniture.bedroom...|     brw|  93.18|555446365|7f0062d8-ead0-4e0...|2019-10-01 00:00:16|      0|           3|            1|      10|   107916.0|       350.0|     34.0|\n",
      "|2019-10-01 00:00:...|      view|   1801995|2053013554415534427|electronics.video.tv|   haier| 193.03|537192226|e3151795-c355-4ef...|2019-10-01 00:00:18|      0|           3|            1|      10|      209.0|         4.0|     31.0|\n",
      "|2019-10-01 00:00:...|      view|  10900029|2053013555069845885|appliances.kitche...|   bosch|  58.95|519528062|901b9e3c-3f8f-414...|2019-10-01 00:00:18|      0|           3|            1|      10|     3077.0|        74.0|      7.0|\n",
      "|2019-10-01 00:00:...|      view|   1306631|2053013558920217191|  computers.notebook|      hp| 580.89|550050854|7c90fc70-0e80-459...|2019-10-01 00:00:19|      0|           3|            1|      10|     1627.0|         3.0|     14.0|\n",
      "|2019-10-01 00:00:...|      view|   1005135|2053013555631882655|electronics.smart...|   apple|1747.79|535871217|c6bd7419-2748-4c5...|2019-10-01 00:00:19|      0|           3|            1|      10|       25.0|         1.0|      2.0|\n",
      "|2019-10-01 00:00:...|      view|   1003306|2053013555631882655|electronics.smart...|   apple| 588.77|555446831|6ec635da-ea15-4a5...|2019-10-01 00:00:20|      0|           3|            1|      10|       22.0|         1.0|      2.0|\n",
      "|2019-10-01 00:00:...|      view|   4803399|2053013554658804075|electronics.audio...|     jbl|  33.21|555428858|8a6afed4-77f8-40c...|2019-10-01 00:00:20|      0|           3|            1|      10|      283.0|         5.0|     37.0|\n",
      "+--------------------+----------+----------+-------------------+--------------------+--------+-------+---------+--------------------+-------------------+-------+------------+-------------+--------+-----------+------------+---------+\n",
      "only showing top 20 rows\n",
      "\n"
     ]
    }
   ],
   "source": [
    "start_idx = 3\n",
    "\n",
    "_df_sb_a_r = _df_sb_a_r.withColumn('product_idx', F.col('product_idx')+start_idx)\\\n",
    "            .withColumn('category_idx', F.col('category_idx')+start_idx)\\\n",
    "            .withColumn('brand_idx', F.col('brand_idx')+start_idx)\n",
    "#             .withColumn('user_idx', F.col('user_idx')+1)\\\n",
    "#             .withColumn('user_session_idx', F.col('user_session_idx')+1)\\"
   ]
  },
  {
   "cell_type": "markdown",
   "metadata": {},
   "source": [
    "### Change type to INT"
   ]
  },
  {
   "cell_type": "code",
   "execution_count": 104,
   "metadata": {},
   "outputs": [],
   "source": [
    "_df_sb_a_r = _df_sb_a_r.withColumn('product_idx', F.col('product_idx').cast(IntegerType()))\\\n",
    "            .withColumn('category_idx', F.col('category_idx').cast(IntegerType()))\\\n",
    "            .withColumn('brand_idx', F.col('brand_idx').cast(IntegerType()))"
   ]
  },
  {
   "cell_type": "markdown",
   "metadata": {},
   "source": [
    "### Get statistics"
   ]
  },
  {
   "cell_type": "code",
   "execution_count": 32,
   "metadata": {},
   "outputs": [
    {
     "name": "stdout",
     "output_type": "stream",
     "text": [
      "+----------------------------+\n",
      "|count(DISTINCT user_session)|\n",
      "+----------------------------+\n",
      "|                    12731393|\n",
      "+----------------------------+\n",
      "\n"
     ]
    }
   ],
   "source": [
    "from pyspark.sql.functions import countDistinct\n",
    "gr = _df_sb_a_r.agg(countDistinct(\"user_session\"))\n",
    "gr.show()"
   ]
  },
  {
   "cell_type": "code",
   "execution_count": 33,
   "metadata": {},
   "outputs": [
    {
     "name": "stdout",
     "output_type": "stream",
     "text": [
      "+-----------------------+\n",
      "|count(DISTINCT user_id)|\n",
      "+-----------------------+\n",
      "|                3504600|\n",
      "+-----------------------+\n",
      "\n"
     ]
    }
   ],
   "source": [
    "gr = _df_sb_a_r.agg(countDistinct(\"user_id\"))\n",
    "gr.show()"
   ]
  },
  {
   "cell_type": "code",
   "execution_count": 34,
   "metadata": {},
   "outputs": [
    {
     "name": "stdout",
     "output_type": "stream",
     "text": [
      "+--------------------------+\n",
      "|count(DISTINCT product_id)|\n",
      "+--------------------------+\n",
      "|                    146312|\n",
      "+--------------------------+\n",
      "\n"
     ]
    }
   ],
   "source": [
    "gr = _df_sb_a_r.agg(countDistinct(\"product_id\"))\n",
    "gr.show()"
   ]
  },
  {
   "cell_type": "code",
   "execution_count": 35,
   "metadata": {},
   "outputs": [
    {
     "name": "stdout",
     "output_type": "stream",
     "text": [
      "+---------------------------+\n",
      "|count(DISTINCT category_id)|\n",
      "+---------------------------+\n",
      "|                        675|\n",
      "+---------------------------+\n",
      "\n"
     ]
    }
   ],
   "source": [
    "gr = _df_sb_a_r.agg(countDistinct(\"category_id\"))\n",
    "gr.show()"
   ]
  },
  {
   "cell_type": "markdown",
   "metadata": {},
   "source": [
    "#### Normalize Continuous Feature"
   ]
  },
  {
   "cell_type": "markdown",
   "metadata": {},
   "source": [
    "api: http://spark.apache.org/docs/latest/api/python/pyspark.mllib.html?highlight=standardscaler#pyspark.mllib.feature.StandardScaler"
   ]
  },
  {
   "cell_type": "markdown",
   "metadata": {},
   "source": [
    "TODO: change column to array (vector) type to run it "
   ]
  },
  {
   "cell_type": "code",
   "execution_count": 30,
   "metadata": {},
   "outputs": [],
   "source": [
    "# from pyspark.ml.feature import StandardScaler\n",
    "\n",
    "# scaler = StandardScaler(inputCol=\"price\", outputCol=\"price_scl\",\n",
    "#                         withStd=True, withMean=False)\n",
    "# model = scaler.fit(_df_sb_a_r)\n",
    "# _df_sb_a_r = model.transform(dataset)"
   ]
  },
  {
   "cell_type": "markdown",
   "metadata": {},
   "source": [
    "#### Aggregate by session id (create sequence as type of array)"
   ]
  },
  {
   "cell_type": "code",
   "execution_count": 106,
   "metadata": {},
   "outputs": [],
   "source": [
    "window = Window.partitionBy('user_session').orderBy('event_time_dt')\n",
    "\n"
   ]
  },
  {
   "cell_type": "code",
   "execution_count": 107,
   "metadata": {},
   "outputs": [],
   "source": [
    "\n",
    "_df_sb_a_r = _df_sb_a_r.withColumn('ux_event_time', F.unix_timestamp('event_time_dt'))\n",
    "_df_sb_a_r = _df_sb_a_r.withColumn('prev_event_time', F.lag('ux_event_time').over(window))\n"
   ]
  },
  {
   "cell_type": "code",
   "execution_count": 108,
   "metadata": {},
   "outputs": [],
   "source": [
    "_df_sb_a_wprevt = _df_sb_a_r.withColumn('delta_event_time',F.when(F.isnull(F.col('prev_event_time')), 0).otherwise(F.col('ux_event_time') - F.col('prev_event_time')))\n",
    "\n"
   ]
  },
  {
   "cell_type": "code",
   "execution_count": 109,
   "metadata": {},
   "outputs": [
    {
     "name": "stdout",
     "output_type": "stream",
     "text": [
      "root\n",
      " |-- event_time: string (nullable = true)\n",
      " |-- event_type: string (nullable = true)\n",
      " |-- product_id: integer (nullable = true)\n",
      " |-- category_id: long (nullable = true)\n",
      " |-- category_code: string (nullable = true)\n",
      " |-- brand: string (nullable = true)\n",
      " |-- price: double (nullable = true)\n",
      " |-- user_id: integer (nullable = true)\n",
      " |-- user_session: string (nullable = true)\n",
      " |-- event_time_dt: timestamp (nullable = true)\n",
      " |-- et_hour: integer (nullable = true)\n",
      " |-- et_dayofweek: integer (nullable = true)\n",
      " |-- et_dayofmonth: integer (nullable = true)\n",
      " |-- et_month: integer (nullable = true)\n",
      " |-- product_idx: integer (nullable = true)\n",
      " |-- category_idx: integer (nullable = true)\n",
      " |-- brand_idx: integer (nullable = true)\n",
      " |-- ux_event_time: long (nullable = true)\n",
      " |-- prev_event_time: long (nullable = true)\n",
      " |-- delta_event_time: long (nullable = true)\n",
      "\n"
     ]
    }
   ],
   "source": [
    "_df_sb_a_wprevt.printSchema()"
   ]
  },
  {
   "cell_type": "code",
   "execution_count": 110,
   "metadata": {},
   "outputs": [],
   "source": [
    "df_sb_grouped_df = _df_sb_a_wprevt \\\n",
    "                .select('user_session', \n",
    "                        F.collect_list('product_idx').over(window ).alias('pid_seq_als'), \\\n",
    "                        F.collect_list('category_idx').over(window ).alias('cid_seq_als'),\\\n",
    "                        F.collect_list('brand_idx').over(window ).alias('bid_seq_als'),\\\n",
    "                        F.collect_list('price').over(window ).alias('price_seq_als'),\\\n",
    "                        F.collect_list('ux_event_time').over(window ).alias('etime_seq_als'),\\\n",
    "                        F.collect_list('delta_event_time').over(window).alias('dtime_seq_als'),\\\n",
    "                        F.collect_list('et_hour').over(window).alias('et_hour_seq_als'),\\\n",
    "                        F.collect_list('et_month').over(window).alias('et_month_seq_als'),\\\n",
    "                        F.collect_list('et_dayofweek').over(window).alias('et_dayofweek_seq_als'),\\\n",
    "                        F.collect_list('et_dayofmonth').over(window).alias('et_dayofmonth_seq_als'),\\\n",
    "                       )\\\n",
    "                .groupBy('user_session').agg(\n",
    "                    F.max('pid_seq_als').alias('pid_seq'),\n",
    "                    F.max('cid_seq_als').alias('cid_seq'),\n",
    "                    F.max('bid_seq_als').alias('bid_seq'),\n",
    "                    F.max('price_seq_als').alias('price_seq'),\n",
    "                    F.max('etime_seq_als').alias('etime_seq'),\n",
    "                    F.max('dtime_seq_als').alias('dtime_seq'),\n",
    "                    F.max('et_hour_seq_als').alias('et_hour_seq'),\n",
    "                    F.max('et_month_seq_als').alias('et_month_seq'),\n",
    "                    F.max('et_dayofweek_seq_als').alias('et_dayofweek_seq'),\n",
    "                    F.max('et_dayofmonth_seq_als').alias('et_dayofmonth_seq'),\n",
    ")\n"
   ]
  },
  {
   "cell_type": "code",
   "execution_count": 111,
   "metadata": {},
   "outputs": [
    {
     "name": "stdout",
     "output_type": "stream",
     "text": [
      "+--------------------+--------------------+--------------------+--------------------+--------------------+--------------------+--------------------+--------------------+--------------------+--------------------+--------------------+\n",
      "|        user_session|             pid_seq|             cid_seq|             bid_seq|           price_seq|           etime_seq|           dtime_seq|         et_hour_seq|        et_month_seq|    et_dayofweek_seq|   et_dayofmonth_seq|\n",
      "+--------------------+--------------------+--------------------+--------------------+--------------------+--------------------+--------------------+--------------------+--------------------+--------------------+--------------------+\n",
      "|00019495-9f33-48f...|                [39]|                 [1]|                 [1]|             [88.52]|        [1572188370]|                 [0]|                [14]|                [10]|                 [1]|                [27]|\n",
      "|0002854a-13ef-490...|[7419, 10791, 239...|[2, 2, 2, 2, 2, 2...|[181, 181, 233, 6...|[27.54, 29.47, 29...|[1571867123, 1571...|[0, 36, 5, 8, 11,...|[21, 21, 21, 21, ...|[10, 10, 10, 10, ...|[4, 4, 4, 4, 4, 4...|[23, 23, 23, 23, ...|\n",
      "|0002a642-8f4a-48c...|                [37]|                 [1]|                 [1]|            [246.45]|        [1571839911]|                 [0]|                [14]|                [10]|                 [4]|                [23]|\n",
      "|0002af2d-cbff-455...|[4442, 4442, 4442...|        [9, 9, 9, 9]|[130, 130, 130, 130]|[46.08, 46.08, 46...|[1570100571, 1570...|     [0, 96, 10, 40]|    [11, 11, 11, 11]|    [10, 10, 10, 10]|        [5, 5, 5, 5]|        [3, 3, 3, 3]|\n",
      "|00084f25-74e3-4df...|             [20104]|               [182]|               [867]|              [4.76]|        [1571718952]|                 [0]|                 [4]|                [10]|                 [3]|                [22]|\n",
      "|00088378-6d3f-40c...|          [519, 519]|              [4, 4]|            [31, 31]|    [154.42, 154.42]|[1571762194, 1571...|             [0, 37]|            [16, 16]|            [10, 10]|              [3, 3]|            [22, 22]|\n",
      "|000a2754-1167-47c...|[435, 435, 435, 4...|[35, 35, 35, 35, ...|[22, 22, 22, 22, ...|[39.68, 39.68, 39...|[1572262529, 1572...|[0, 51, 13, 55, 4...|[11, 11, 11, 11, ...|[10, 10, 10, 10, ...|[2, 2, 2, 2, 2, 2...|[28, 28, 28, 28, ...|\n",
      "|000a378f-37b9-4f8...|[671, 2, 2, 3089,...|[1, 1, 1, 17, 17,...|[1, 1, 1, 56, 56,...|[228.76, 250.82, ...|[1571019048, 1571...|[0, 55, 82, 37, 2...|[2, 2, 2, 2, 2, 2...|[10, 10, 10, 10, ...|[2, 2, 2, 2, 2, 2...|[14, 14, 14, 14, ...|\n",
      "|000b2a8a-194b-40b...|[6397, 2409, 3272...|[80, 80, 80, 80, ...|[15, 55, 15, 15, ...|[330.74, 309.49, ...|[1571550976, 1571...|[0, 57, 36, 22, 1...|[5, 5, 5, 5, 5, 5...|[10, 10, 10, 10, ...|[1, 1, 1, 1, 1, 1...|[20, 20, 20, 20, ...|\n",
      "|000d8e70-ed4a-4d5...|               [297]|                 [1]|                 [2]|            [2072.1]|        [1570017519]|                 [0]|                [11]|                [10]|                 [4]|                 [2]|\n",
      "|000d99dc-b6e9-430...|[1878, 1878, 1878...|[13, 13, 13, 13, ...|[5, 5, 5, 5, 5, 5...|[88.03, 88.03, 88...|[1570941345, 1570...|[0, 19, 16, 14, 3...|[4, 4, 4, 4, 4, 4...|[10, 10, 10, 10, ...|[1, 1, 1, 1, 1, 1...|[13, 13, 13, 13, ...|\n",
      "|000e9abc-3a8b-4bc...|[3, 41, 505, 43, ...|  [1, 1, 1, 1, 1, 1]|  [2, 2, 3, 3, 3, 3]|[1003.85, 764.34,...|[1570873281, 1570...|[0, 40, 63, 53, 3...|  [9, 9, 9, 9, 9, 9]|[10, 10, 10, 10, ...|  [7, 7, 7, 7, 7, 7]|[12, 12, 12, 12, ...|\n",
      "|000eef2b-65e5-4ea...|      [16700, 16700]|            [51, 51]|            [67, 67]|    [111.18, 111.18]|[1571130683, 1571...|            [0, 167]|              [9, 9]|            [10, 10]|              [3, 3]|            [15, 15]|\n",
      "|000f63ed-a15f-4c0...|              [7019]|                 [2]|               [113]|             [36.81]|        [1570892019]|                 [0]|                [14]|                [10]|                 [7]|                [12]|\n",
      "|0010ac52-cc78-406...|[11, 11, 1486, 14...|[1, 1, 1, 1, 1, 1...|[3, 3, 3, 3, 3, 3...|[190.22, 190.22, ...|[1571370151, 1571...|[0, 19, 102, 42, ...|[3, 3, 3, 3, 3, 3...|[10, 10, 10, 10, ...|[6, 6, 6, 6, 6, 6...|[18, 18, 18, 18, ...|\n",
      "|0010c8e5-44fd-40b...|        [4173, 6226]|          [278, 278]|            [34, 34]|    [406.96, 198.98]|[1571501915, 1571...|             [0, 51]|            [16, 16]|            [10, 10]|              [7, 7]|            [19, 19]|\n",
      "|0010f624-b475-425...|              [1, 6]|              [1, 1]|              [1, 1]|    [131.66, 287.76]|[1571131352, 1571...|             [0, 17]|              [9, 9]|            [10, 10]|              [3, 3]|            [15, 15]|\n",
      "|0012b8f1-5965-45d...|               [838]|                 [2]|                [29]|             [49.16]|        [1570532334]|                 [0]|                [10]|                [10]|                 [3]|                 [8]|\n",
      "|00131c36-c6b4-4eb...|           [30, 169]|              [5, 9]|              [2, 2]|    [188.94, 431.22]|[1572441817, 1572...|             [0, 70]|            [13, 13]|            [10, 10]|              [4, 4]|            [30, 30]|\n",
      "|00135fcf-bd50-46a...|   [4109, 573, 3765]|        [3, 17, 329]|       [10, 17, 390]|[509.41, 154.42, ...|[1571064216, 1571...|        [0, 39, 228]|        [14, 14, 14]|        [10, 10, 10]|           [2, 2, 2]|        [14, 14, 14]|\n",
      "+--------------------+--------------------+--------------------+--------------------+--------------------+--------------------+--------------------+--------------------+--------------------+--------------------+--------------------+\n",
      "only showing top 20 rows\n",
      "\n"
     ]
    }
   ],
   "source": [
    "df_sb_grouped_df.show()"
   ]
  },
  {
   "cell_type": "code",
   "execution_count": 112,
   "metadata": {},
   "outputs": [
    {
     "name": "stdout",
     "output_type": "stream",
     "text": [
      "root\n",
      " |-- user_session: string (nullable = true)\n",
      " |-- pid_seq: array (nullable = true)\n",
      " |    |-- element: integer (containsNull = true)\n",
      " |-- cid_seq: array (nullable = true)\n",
      " |    |-- element: integer (containsNull = true)\n",
      " |-- bid_seq: array (nullable = true)\n",
      " |    |-- element: integer (containsNull = true)\n",
      " |-- price_seq: array (nullable = true)\n",
      " |    |-- element: double (containsNull = true)\n",
      " |-- etime_seq: array (nullable = true)\n",
      " |    |-- element: long (containsNull = true)\n",
      " |-- dtime_seq: array (nullable = true)\n",
      " |    |-- element: long (containsNull = true)\n",
      " |-- et_hour_seq: array (nullable = true)\n",
      " |    |-- element: integer (containsNull = true)\n",
      " |-- et_month_seq: array (nullable = true)\n",
      " |    |-- element: integer (containsNull = true)\n",
      " |-- et_dayofweek_seq: array (nullable = true)\n",
      " |    |-- element: integer (containsNull = true)\n",
      " |-- et_dayofmonth_seq: array (nullable = true)\n",
      " |    |-- element: integer (containsNull = true)\n",
      "\n"
     ]
    }
   ],
   "source": [
    "df_sb_grouped_df.printSchema()"
   ]
  },
  {
   "cell_type": "markdown",
   "metadata": {},
   "source": [
    "#### Check lengths of sequences"
   ]
  },
  {
   "cell_type": "code",
   "execution_count": 113,
   "metadata": {},
   "outputs": [
    {
     "name": "stdout",
     "output_type": "stream",
     "text": [
      "+--------------------+--------------------+--------------------+--------------------+--------------------+--------------------+--------------------+--------------------+--------------------+--------------------+--------------------+-------+\n",
      "|        user_session|             pid_seq|             cid_seq|             bid_seq|           price_seq|           etime_seq|           dtime_seq|         et_hour_seq|        et_month_seq|    et_dayofweek_seq|   et_dayofmonth_seq|seq_len|\n",
      "+--------------------+--------------------+--------------------+--------------------+--------------------+--------------------+--------------------+--------------------+--------------------+--------------------+--------------------+-------+\n",
      "|00019495-9f33-48f...|                [39]|                 [1]|                 [1]|             [88.52]|        [1572188370]|                 [0]|                [14]|                [10]|                 [1]|                [27]|      1|\n",
      "|0002854a-13ef-490...|[7419, 10791, 239...|[2, 2, 2, 2, 2, 2...|[181, 181, 233, 6...|[27.54, 29.47, 29...|[1571867123, 1571...|[0, 36, 5, 8, 11,...|[21, 21, 21, 21, ...|[10, 10, 10, 10, ...|[4, 4, 4, 4, 4, 4...|[23, 23, 23, 23, ...|     10|\n",
      "|0002a642-8f4a-48c...|                [37]|                 [1]|                 [1]|            [246.45]|        [1571839911]|                 [0]|                [14]|                [10]|                 [4]|                [23]|      1|\n",
      "|0002af2d-cbff-455...|[4442, 4442, 4442...|        [9, 9, 9, 9]|[130, 130, 130, 130]|[46.08, 46.08, 46...|[1570100571, 1570...|     [0, 96, 10, 40]|    [11, 11, 11, 11]|    [10, 10, 10, 10]|        [5, 5, 5, 5]|        [3, 3, 3, 3]|      4|\n",
      "|00084f25-74e3-4df...|             [20104]|               [182]|               [867]|              [4.76]|        [1571718952]|                 [0]|                 [4]|                [10]|                 [3]|                [22]|      1|\n",
      "|00088378-6d3f-40c...|          [519, 519]|              [4, 4]|            [31, 31]|    [154.42, 154.42]|[1571762194, 1571...|             [0, 37]|            [16, 16]|            [10, 10]|              [3, 3]|            [22, 22]|      2|\n",
      "|000a2754-1167-47c...|[435, 435, 435, 4...|[35, 35, 35, 35, ...|[22, 22, 22, 22, ...|[39.68, 39.68, 39...|[1572262529, 1572...|[0, 51, 13, 55, 4...|[11, 11, 11, 11, ...|[10, 10, 10, 10, ...|[2, 2, 2, 2, 2, 2...|[28, 28, 28, 28, ...|     28|\n",
      "|000a378f-37b9-4f8...|[671, 2, 2, 3089,...|[1, 1, 1, 17, 17,...|[1, 1, 1, 56, 56,...|[228.76, 250.82, ...|[1571019048, 1571...|[0, 55, 82, 37, 2...|[2, 2, 2, 2, 2, 2...|[10, 10, 10, 10, ...|[2, 2, 2, 2, 2, 2...|[14, 14, 14, 14, ...|     14|\n",
      "|000b2a8a-194b-40b...|[6397, 2409, 3272...|[80, 80, 80, 80, ...|[15, 55, 15, 15, ...|[330.74, 309.49, ...|[1571550976, 1571...|[0, 57, 36, 22, 1...|[5, 5, 5, 5, 5, 5...|[10, 10, 10, 10, ...|[1, 1, 1, 1, 1, 1...|[20, 20, 20, 20, ...|      9|\n",
      "|000d8e70-ed4a-4d5...|               [297]|                 [1]|                 [2]|            [2072.1]|        [1570017519]|                 [0]|                [11]|                [10]|                 [4]|                 [2]|      1|\n",
      "|000d99dc-b6e9-430...|[1878, 1878, 1878...|[13, 13, 13, 13, ...|[5, 5, 5, 5, 5, 5...|[88.03, 88.03, 88...|[1570941345, 1570...|[0, 19, 16, 14, 3...|[4, 4, 4, 4, 4, 4...|[10, 10, 10, 10, ...|[1, 1, 1, 1, 1, 1...|[13, 13, 13, 13, ...|      8|\n",
      "|000e9abc-3a8b-4bc...|[3, 41, 505, 43, ...|  [1, 1, 1, 1, 1, 1]|  [2, 2, 3, 3, 3, 3]|[1003.85, 764.34,...|[1570873281, 1570...|[0, 40, 63, 53, 3...|  [9, 9, 9, 9, 9, 9]|[10, 10, 10, 10, ...|  [7, 7, 7, 7, 7, 7]|[12, 12, 12, 12, ...|      6|\n",
      "|000eef2b-65e5-4ea...|      [16700, 16700]|            [51, 51]|            [67, 67]|    [111.18, 111.18]|[1571130683, 1571...|            [0, 167]|              [9, 9]|            [10, 10]|              [3, 3]|            [15, 15]|      2|\n",
      "|000f63ed-a15f-4c0...|              [7019]|                 [2]|               [113]|             [36.81]|        [1570892019]|                 [0]|                [14]|                [10]|                 [7]|                [12]|      1|\n",
      "|0010ac52-cc78-406...|[11, 11, 1486, 14...|[1, 1, 1, 1, 1, 1...|[3, 3, 3, 3, 3, 3...|[190.22, 190.22, ...|[1571370151, 1571...|[0, 19, 102, 42, ...|[3, 3, 3, 3, 3, 3...|[10, 10, 10, 10, ...|[6, 6, 6, 6, 6, 6...|[18, 18, 18, 18, ...|      8|\n",
      "|0010c8e5-44fd-40b...|        [4173, 6226]|          [278, 278]|            [34, 34]|    [406.96, 198.98]|[1571501915, 1571...|             [0, 51]|            [16, 16]|            [10, 10]|              [7, 7]|            [19, 19]|      2|\n",
      "|0010f624-b475-425...|              [1, 6]|              [1, 1]|              [1, 1]|    [131.66, 287.76]|[1571131352, 1571...|             [0, 17]|              [9, 9]|            [10, 10]|              [3, 3]|            [15, 15]|      2|\n",
      "|0012b8f1-5965-45d...|               [838]|                 [2]|                [29]|             [49.16]|        [1570532334]|                 [0]|                [10]|                [10]|                 [3]|                 [8]|      1|\n",
      "|00131c36-c6b4-4eb...|           [30, 169]|              [5, 9]|              [2, 2]|    [188.94, 431.22]|[1572441817, 1572...|             [0, 70]|            [13, 13]|            [10, 10]|              [4, 4]|            [30, 30]|      2|\n",
      "|00135fcf-bd50-46a...|   [4109, 573, 3765]|        [3, 17, 329]|       [10, 17, 390]|[509.41, 154.42, ...|[1571064216, 1571...|        [0, 39, 228]|        [14, 14, 14]|        [10, 10, 10]|           [2, 2, 2]|        [14, 14, 14]|      3|\n",
      "+--------------------+--------------------+--------------------+--------------------+--------------------+--------------------+--------------------+--------------------+--------------------+--------------------+--------------------+-------+\n",
      "only showing top 20 rows\n",
      "\n"
     ]
    }
   ],
   "source": [
    "@udf(returnType=IntegerType())\n",
    "def get_array_len(arr):\n",
    "    return len(arr)\n",
    "\n",
    "df_sb_grouped_df_len = df_sb_grouped_df.withColumn(\"seq_len\", F.size(F.col(\"pid_seq\")))\n",
    "# df_sb_grouped_df_len = df_sb_grouped_df.withColumn(\"seq_len\", get_array_len(F.col(\"pid_seq\")))\n",
    "\n",
    "\n",
    "df_sb_grouped_df_len.show()"
   ]
  },
  {
   "cell_type": "code",
   "execution_count": 27,
   "metadata": {},
   "outputs": [],
   "source": [
    "# ! conda install seaborn\n",
    "import seaborn as sns # visualizations\n",
    "import matplotlib.pyplot as plt"
   ]
  },
  {
   "cell_type": "code",
   "execution_count": 90,
   "metadata": {},
   "outputs": [
    {
     "data": {
      "image/png": "[encoded data removed]",
      "text/plain": [
       "<Figure size 432x288 with 1 Axes>"
      ]
     },
     "metadata": {
      "needs_background": "light"
     },
     "output_type": "display_data"
    }
   ],
   "source": [
    "seq_lengths = df_sb_grouped_df_len.select('seq_len')\n",
    "seq_lengths_pd = seq_lengths.toPandas()\n",
    "ax = sns.distplot(seq_lengths_pd, hist=True, kde=False, axlabel=\"Number of transactions per session\")\n",
    "ax.set_yscale('log')"
   ]
  },
  {
   "cell_type": "code",
   "execution_count": 38,
   "metadata": {},
   "outputs": [
    {
     "data": {
      "text/plain": [
       "(-0.08600000000000001, 109.5]    8517057\n",
       "(109.5, 218.0]                       886\n",
       "(218.0, 326.5]                        37\n",
       "(977.5, 1086.0]                        2\n",
       "(543.5, 652.0]                         1\n",
       "(435.0, 543.5]                         1\n",
       "(869.0, 977.5]                         0\n",
       "(760.5, 869.0]                         0\n",
       "(652.0, 760.5]                         0\n",
       "(326.5, 435.0]                         0\n",
       "Name: seq_len, dtype: int64"
      ]
     },
     "execution_count": 38,
     "metadata": {},
     "output_type": "execute_result"
    }
   ],
   "source": [
    "seq_lengths_pd['seq_len'].value_counts(bins=10)"
   ]
  },
  {
   "cell_type": "code",
   "execution_count": 117,
   "metadata": {},
   "outputs": [],
   "source": [
    "# by the data\n",
    "# max_length = df_sb_grouped_df.select(F.max(F.size(F.col('pid_seq'))).alias('max_length')).take(1)[0]['max_length']\n",
    "\n",
    "# by manual\n",
    "max_length = 20"
   ]
  },
  {
   "cell_type": "markdown",
   "metadata": {},
   "source": [
    "### Filter out sequence w/ shorter (len=1) "
   ]
  },
  {
   "cell_type": "code",
   "execution_count": 118,
   "metadata": {},
   "outputs": [],
   "source": [
    "df_sb_grouped_df_len_fl = df_sb_grouped_df_len.where(F.col(\"seq_len\")>1)"
   ]
  },
  {
   "cell_type": "code",
   "execution_count": 119,
   "metadata": {},
   "outputs": [
    {
     "name": "stdout",
     "output_type": "stream",
     "text": [
      "+--------------------+--------------------+--------------------+--------------------+--------------------+--------------------+--------------------+--------------------+--------------------+--------------------+--------------------+-------+\n",
      "|        user_session|             pid_seq|             cid_seq|             bid_seq|           price_seq|           etime_seq|           dtime_seq|         et_hour_seq|        et_month_seq|    et_dayofweek_seq|   et_dayofmonth_seq|seq_len|\n",
      "+--------------------+--------------------+--------------------+--------------------+--------------------+--------------------+--------------------+--------------------+--------------------+--------------------+--------------------+-------+\n",
      "|0002854a-13ef-490...|[7419, 10791, 239...|[2, 2, 2, 2, 2, 2...|[181, 181, 233, 6...|[27.54, 29.47, 29...|[1571867123, 1571...|[0, 36, 5, 8, 11,...|[21, 21, 21, 21, ...|[10, 10, 10, 10, ...|[4, 4, 4, 4, 4, 4...|[23, 23, 23, 23, ...|     10|\n",
      "|0002af2d-cbff-455...|[4442, 4442, 4442...|        [9, 9, 9, 9]|[130, 130, 130, 130]|[46.08, 46.08, 46...|[1570100571, 1570...|     [0, 96, 10, 40]|    [11, 11, 11, 11]|    [10, 10, 10, 10]|        [5, 5, 5, 5]|        [3, 3, 3, 3]|      4|\n",
      "|00088378-6d3f-40c...|          [519, 519]|              [4, 4]|            [31, 31]|    [154.42, 154.42]|[1571762194, 1571...|             [0, 37]|            [16, 16]|            [10, 10]|              [3, 3]|            [22, 22]|      2|\n",
      "|000a2754-1167-47c...|[435, 435, 435, 4...|[35, 35, 35, 35, ...|[22, 22, 22, 22, ...|[39.68, 39.68, 39...|[1572262529, 1572...|[0, 51, 13, 55, 4...|[11, 11, 11, 11, ...|[10, 10, 10, 10, ...|[2, 2, 2, 2, 2, 2...|[28, 28, 28, 28, ...|     28|\n",
      "|000a378f-37b9-4f8...|[671, 2, 2, 3089,...|[1, 1, 1, 17, 17,...|[1, 1, 1, 56, 56,...|[228.76, 250.82, ...|[1571019048, 1571...|[0, 55, 82, 37, 2...|[2, 2, 2, 2, 2, 2...|[10, 10, 10, 10, ...|[2, 2, 2, 2, 2, 2...|[14, 14, 14, 14, ...|     14|\n",
      "|000b2a8a-194b-40b...|[6397, 2409, 3272...|[80, 80, 80, 80, ...|[15, 55, 15, 15, ...|[330.74, 309.49, ...|[1571550976, 1571...|[0, 57, 36, 22, 1...|[5, 5, 5, 5, 5, 5...|[10, 10, 10, 10, ...|[1, 1, 1, 1, 1, 1...|[20, 20, 20, 20, ...|      9|\n",
      "|000d99dc-b6e9-430...|[1878, 1878, 1878...|[13, 13, 13, 13, ...|[5, 5, 5, 5, 5, 5...|[88.03, 88.03, 88...|[1570941345, 1570...|[0, 19, 16, 14, 3...|[4, 4, 4, 4, 4, 4...|[10, 10, 10, 10, ...|[1, 1, 1, 1, 1, 1...|[13, 13, 13, 13, ...|      8|\n",
      "|000e9abc-3a8b-4bc...|[3, 41, 505, 43, ...|  [1, 1, 1, 1, 1, 1]|  [2, 2, 3, 3, 3, 3]|[1003.85, 764.34,...|[1570873281, 1570...|[0, 40, 63, 53, 3...|  [9, 9, 9, 9, 9, 9]|[10, 10, 10, 10, ...|  [7, 7, 7, 7, 7, 7]|[12, 12, 12, 12, ...|      6|\n",
      "|000eef2b-65e5-4ea...|      [16700, 16700]|            [51, 51]|            [67, 67]|    [111.18, 111.18]|[1571130683, 1571...|            [0, 167]|              [9, 9]|            [10, 10]|              [3, 3]|            [15, 15]|      2|\n",
      "|0010ac52-cc78-406...|[11, 11, 1486, 14...|[1, 1, 1, 1, 1, 1...|[3, 3, 3, 3, 3, 3...|[190.22, 190.22, ...|[1571370151, 1571...|[0, 19, 102, 42, ...|[3, 3, 3, 3, 3, 3...|[10, 10, 10, 10, ...|[6, 6, 6, 6, 6, 6...|[18, 18, 18, 18, ...|      8|\n",
      "|0010c8e5-44fd-40b...|        [4173, 6226]|          [278, 278]|            [34, 34]|    [406.96, 198.98]|[1571501915, 1571...|             [0, 51]|            [16, 16]|            [10, 10]|              [7, 7]|            [19, 19]|      2|\n",
      "|0010f624-b475-425...|              [1, 6]|              [1, 1]|              [1, 1]|    [131.66, 287.76]|[1571131352, 1571...|             [0, 17]|              [9, 9]|            [10, 10]|              [3, 3]|            [15, 15]|      2|\n",
      "|00131c36-c6b4-4eb...|           [30, 169]|              [5, 9]|              [2, 2]|    [188.94, 431.22]|[1572441817, 1572...|             [0, 70]|            [13, 13]|            [10, 10]|              [4, 4]|            [30, 30]|      2|\n",
      "|00135fcf-bd50-46a...|   [4109, 573, 3765]|        [3, 17, 329]|       [10, 17, 390]|[509.41, 154.42, ...|[1571064216, 1571...|        [0, 39, 228]|        [14, 14, 14]|        [10, 10, 10]|           [2, 2, 2]|        [14, 14, 14]|      3|\n",
      "|00137b31-7cbe-400...|        [1029, 1029]|              [2, 2]|            [26, 26]|      [41.96, 41.96]|[1570183747, 1570...|             [0, 70]|            [10, 10]|            [10, 10]|              [6, 6]|              [4, 4]|      2|\n",
      "|00170aeb-bee0-44b...|        [3, 6, 6, 4]|        [1, 1, 1, 1]|        [2, 1, 1, 1]|[1015.46, 288.03,...|[1570526556, 1570...|     [0, 36, 32, 14]|        [9, 9, 9, 9]|    [10, 10, 10, 10]|        [3, 3, 3, 3]|        [8, 8, 8, 8]|      4|\n",
      "|001aec60-3725-44c...|[396, 199, 1013, ...|[2, 37, 37, 37, 3...|[29, 39, 39, 39, ...|[45.82, 157.53, 1...|[1572362972, 1572...|[0, 19, 166, 10, ...|[15, 15, 15, 15, ...|[10, 10, 10, 10, ...|[3, 3, 3, 3, 3, 3...|[29, 29, 29, 29, ...|     15|\n",
      "|001c083e-1790-498...|[21, 21, 21, 143,...|[5, 5, 5, 5, 5, 5...|[3, 3, 3, 3, 3, 3...|[22.95, 22.95, 22...|[1571378056, 1571...|[0, 56, 76, 25, 2...|[5, 5, 5, 5, 5, 5...|[10, 10, 10, 10, ...|[6, 6, 6, 6, 6, 6...|[18, 18, 18, 18, ...|     15|\n",
      "|002086fa-cc20-43c...|   [14, 14, 211, 14]|        [1, 1, 1, 1]|        [3, 3, 3, 3]|[197.12, 197.12, ...|[1570037550, 1570...|    [0, 106, 17, 64]|    [17, 17, 17, 17]|    [10, 10, 10, 10]|        [4, 4, 4, 4]|        [2, 2, 2, 2]|      4|\n",
      "|0026da65-d60b-4d7...|[6138, 6138, 1118...|  [4, 4, 4, 4, 4, 4]|  [9, 9, 9, 9, 9, 9]|[926.41, 926.41, ...|[1572541448, 1572...|[0, 129, 164, 262...|[17, 17, 17, 17, ...|[10, 10, 10, 10, ...|  [5, 5, 5, 5, 5, 5]|[31, 31, 31, 31, ...|      6|\n",
      "+--------------------+--------------------+--------------------+--------------------+--------------------+--------------------+--------------------+--------------------+--------------------+--------------------+--------------------+-------+\n",
      "only showing top 20 rows\n",
      "\n"
     ]
    }
   ],
   "source": [
    "df_sb_grouped_df_len_fl.show()"
   ]
  },
  {
   "cell_type": "code",
   "execution_count": 120,
   "metadata": {},
   "outputs": [
    {
     "data": {
      "image/png": "[encoded data removed]",
      "text/plain": [
       "<Figure size 432x288 with 1 Axes>"
      ]
     },
     "metadata": {
      "needs_background": "light"
     },
     "output_type": "display_data"
    }
   ],
   "source": [
    "seq_lengths_pd_fl = df_sb_grouped_df_len_fl.select('seq_len').toPandas()\n",
    "ax = sns.distplot(seq_lengths_pd_fl, hist=True, kde=False, axlabel=\"Number of transactions per session\")\n",
    "ax.set_yscale('log')"
   ]
  },
  {
   "cell_type": "code",
   "execution_count": 121,
   "metadata": {},
   "outputs": [
    {
     "data": {
      "text/plain": [
       "(0.915, 110.4]     5432441\n",
       "(110.4, 218.8]         852\n",
       "(218.8, 327.2]          37\n",
       "(977.6, 1086.0]          2\n",
       "(544.0, 652.4]           1\n",
       "(435.6, 544.0]           1\n",
       "(869.2, 977.6]           0\n",
       "(760.8, 869.2]           0\n",
       "(652.4, 760.8]           0\n",
       "(327.2, 435.6]           0\n",
       "Name: seq_len, dtype: int64"
      ]
     },
     "execution_count": 121,
     "metadata": {},
     "output_type": "execute_result"
    }
   ],
   "source": [
    "seq_lengths_pd['seq_len'].value_counts(bins=10)"
   ]
  },
  {
   "cell_type": "markdown",
   "metadata": {},
   "source": [
    "#### Remove repeating items (keep the order of their first occurrence)"
   ]
  },
  {
   "cell_type": "code",
   "execution_count": 141,
   "metadata": {},
   "outputs": [],
   "source": [
    "@udf(returnType=ArrayType(StringType()))\n",
    "def get_non_repeated_addtional_items(item_ids, additional_feature_values):\n",
    "    #Returns unique items, keep the order of their first occurence\n",
    "    ids = []\n",
    "    result = []\n",
    "    for i, v in zip(item_ids, additional_feature_values):\n",
    "        if i not in ids:\n",
    "            ids.append(i)\n",
    "            result.append(v)\n",
    "    return result\n",
    "\n",
    "@udf(returnType=ArrayType(StringType()))\n",
    "def get_non_repeated_items(values):\n",
    "    #Returns unique items, keep the order of their first occurence\n",
    "    result = []\n",
    "    for v in values:\n",
    "        if v not in result:\n",
    "            result.append(v)\n",
    "    return result\n",
    "\n",
    "# nr: non-repeated\n",
    "df_sb_grouped_df_len_fl_nr = df_sb_grouped_df_len_fl\\\n",
    "    .withColumn(\"pid_seq_nr\", get_non_repeated_items(F.col(\"pid_seq\")))\\\n",
    "    .withColumn(\"price_seq_nr\", get_non_repeated_items(F.col(\"price_seq\")))\\\n",
    "    .withColumn(\"cid_seq_nr\", get_non_repeated_addtional_items(F.col(\"pid_seq\"), F.col(\"cid_seq\")))\\\n",
    "    .withColumn(\"etime_seq_nr\", get_non_repeated_addtional_items(F.col(\"pid_seq\"), F.col(\"etime_seq\")))\\\n",
    "    .withColumn(\"dtime_seq_nr\", get_non_repeated_addtional_items(F.col(\"pid_seq\"), F.col(\"dtime_seq\")))\\\n",
    "    .withColumn(\"et_hour_seq_nr\", get_non_repeated_addtional_items(F.col(\"pid_seq\"), F.col(\"et_hour_seq\")))\\\n",
    "    .withColumn(\"et_month_seq_nr\", get_non_repeated_addtional_items(F.col(\"pid_seq\"), F.col(\"et_month_seq\")))\\\n",
    "    .withColumn(\"et_dayofweek_seq_nr\", get_non_repeated_addtional_items(F.col(\"pid_seq\"), F.col(\"et_dayofweek_seq\")))\\\n",
    "    .withColumn(\"et_dayofmonth_seq_nr\", get_non_repeated_addtional_items(F.col(\"pid_seq\"), F.col(\"et_dayofmonth_seq\")))\n",
    "\n",
    "\n"
   ]
  },
  {
   "cell_type": "markdown",
   "metadata": {},
   "source": [
    "#### Option A: Pad zeros to make all sequences same length\n",
    "NOTE: it would be not memory-efficient. But currently it seems no way to utilize Petastorm (parquest -> dataloader) without this option."
   ]
  },
  {
   "cell_type": "code",
   "execution_count": 122,
   "metadata": {},
   "outputs": [],
   "source": [
    "# take small sample\n",
    "# small = df_sb_grouped_df_len_fl.sample(False, 0.000001, seed=0).limit(1000)\n",
    "# small.show()\n",
    "\n"
   ]
  },
  {
   "cell_type": "code",
   "execution_count": 142,
   "metadata": {},
   "outputs": [],
   "source": [
    "from pyspark.sql.types import ArrayType, IntegerType\n",
    "\n",
    "\n",
    "def pad_array(values, expected_length):\n",
    "    res = values + [0] * (expected_length-len(values))\n",
    "    # NOTE: cut first N\n",
    "    res = res[:expected_length]\n",
    "    return res\n",
    "\n",
    "\n",
    "@udf(returnType=ArrayType(IntegerType()))\n",
    "def pad_array_int(values, expected_length):\n",
    "    return pad_array(values, expected_length)\n",
    "\n",
    "@udf(returnType=ArrayType(LongType()))\n",
    "def pad_array_long(values, expected_length):\n",
    "    return pad_array(values, expected_length)\n",
    "\n",
    "@udf(returnType=ArrayType(FloatType()))\n",
    "def pad_array_float(values, expected_length):\n",
    "    return pad_array(values, expected_length)\n",
    "\n",
    "\n",
    "df_sb_grouped_df_zpd_nr = df_sb_grouped_df_len_fl_nr\\\n",
    "    .withColumn(\"pid_seq_zpd\", pad_array_long(F.col(\"pid_seq\"), F.lit(max_length)))\\\n",
    "    .withColumn(\"cid_seq_zpd\", pad_array_long(F.col(\"cid_seq\"), F.lit(max_length)))\\\n",
    "    .withColumn(\"price_seq_zpd\", pad_array_float(F.col(\"price_seq\"), F.lit(max_length)))\\\n",
    "    .withColumn(\"etime_seq_zpd\", pad_array_long(F.col(\"etime_seq\"), F.lit(max_length)))\\\n",
    "    .withColumn(\"dtime_seq_zpd\", pad_array_long(F.col(\"dtime_seq\"), F.lit(max_length)))\\\n",
    "    .withColumn(\"et_hour_seq_zpd\", pad_array_int(F.col(\"et_hour_seq\"), F.lit(max_length)))\\\n",
    "    .withColumn(\"et_month_seq_zpd\", pad_array_int(F.col(\"et_month_seq\"), F.lit(max_length)))\\\n",
    "    .withColumn(\"et_dayofweek_seq_zpd\", pad_array_int(F.col(\"et_dayofweek_seq\"), F.lit(max_length)))\\\n",
    "    .withColumn(\"et_dayofmonth_seq_zpd\", pad_array_int(F.col(\"et_dayofmonth_seq\"), F.lit(max_length)))           \n"
   ]
  },
  {
   "cell_type": "code",
   "execution_count": null,
   "metadata": {},
   "outputs": [],
   "source": [
    "df_sb_grouped_df_zpd.describe().show()"
   ]
  },
  {
   "cell_type": "code",
   "execution_count": 137,
   "metadata": {},
   "outputs": [
    {
     "name": "stdout",
     "output_type": "stream",
     "text": [
      "+--------------------+--------------------+--------------------+--------------------+--------------------+--------------------+--------------------+--------------------+--------------------+--------------------+--------------------+-------+--------------------+--------------------+--------------------+--------------------+--------------------+--------------------+--------------------+--------------------+--------------------+--------------------+--------------------+--------------------+--------------------+--------------------+--------------------+---------------------+\n",
      "|        user_session|             pid_seq|             cid_seq|             bid_seq|           price_seq|           etime_seq|           dtime_seq|         et_hour_seq|        et_month_seq|    et_dayofweek_seq|   et_dayofmonth_seq|seq_len|          pid_seq_nr|          cid_seq_nr|        etime_seq_nr|        dtime_seq_nr|      et_hour_seq_nr|     et_month_seq_nr| et_dayofweek_seq_nr|et_dayofmonth_seq_nr|         pid_seq_zpd|         cid_seq_zpd|       etime_seq_zpd|       dtime_seq_zpd|     et_hour_seq_zpd|    et_month_seq_zpd|et_dayofweek_seq_zpd|et_dayofmonth_seq_zpd|\n",
      "+--------------------+--------------------+--------------------+--------------------+--------------------+--------------------+--------------------+--------------------+--------------------+--------------------+--------------------+-------+--------------------+--------------------+--------------------+--------------------+--------------------+--------------------+--------------------+--------------------+--------------------+--------------------+--------------------+--------------------+--------------------+--------------------+--------------------+---------------------+\n",
      "|0002854a-13ef-490...|[7419, 10791, 239...|[2, 2, 2, 2, 2, 2...|[181, 181, 233, 6...|[27.54, 29.47, 29...|[1571867123, 1571...|[0, 36, 5, 8, 11,...|[21, 21, 21, 21, ...|[10, 10, 10, 10, ...|[4, 4, 4, 4, 4, 4...|[23, 23, 23, 23, ...|     10|[7419, 10791, 239...|[2, 2, 2, 2, 2, 2...|[1571867123, 1571...|[0, 36, 5, 8, 11,...|[21, 21, 21, 21, ...|[10, 10, 10, 10, ...|[4, 4, 4, 4, 4, 4...|[23, 23, 23, 23, ...|[7419, 10791, 239...|[2, 2, 2, 2, 2, 2...|[1571867123, 1571...|[0, 36, 5, 8, 11,...|[21, 21, 21, 21, ...|[10, 10, 10, 10, ...|[4, 4, 4, 4, 4, 4...| [23, 23, 23, 23, ...|\n",
      "|0002af2d-cbff-455...|[4442, 4442, 4442...|        [9, 9, 9, 9]|[130, 130, 130, 130]|[46.08, 46.08, 46...|[1570100571, 1570...|     [0, 96, 10, 40]|    [11, 11, 11, 11]|    [10, 10, 10, 10]|        [5, 5, 5, 5]|        [3, 3, 3, 3]|      4|              [4442]|                 [9]|        [1570100571]|                 [0]|                [11]|                [10]|                 [5]|                 [3]|[4442, 4442, 4442...|[9, 9, 9, 9, 0, 0...|[1570100571, 1570...|[0, 96, 10, 40, 0...|[11, 11, 11, 11, ...|[10, 10, 10, 10, ...|[5, 5, 5, 5, 0, 0...| [3, 3, 3, 3, 0, 0...|\n",
      "|00088378-6d3f-40c...|          [519, 519]|              [4, 4]|            [31, 31]|    [154.42, 154.42]|[1571762194, 1571...|             [0, 37]|            [16, 16]|            [10, 10]|              [3, 3]|            [22, 22]|      2|               [519]|                 [4]|        [1571762194]|                 [0]|                [16]|                [10]|                 [3]|                [22]|[519, 519, 0, 0, ...|[4, 4, 0, 0, 0, 0...|[1571762194, 1571...|[0, 37, 0, 0, 0, ...|[16, 16, 0, 0, 0,...|[10, 10, 0, 0, 0,...|[3, 3, 0, 0, 0, 0...| [22, 22, 0, 0, 0,...|\n",
      "|000a2754-1167-47c...|[435, 435, 435, 4...|[35, 35, 35, 35, ...|[22, 22, 22, 22, ...|[39.68, 39.68, 39...|[1572262529, 1572...|[0, 51, 13, 55, 4...|[11, 11, 11, 11, ...|[10, 10, 10, 10, ...|[2, 2, 2, 2, 2, 2...|[28, 28, 28, 28, ...|     28|[435, 1257, 4408,...| [35, 35, 35, 35, 1]|[1572262529, 1572...|[0, 41, 48, 24, 150]|[11, 11, 11, 11, 11]|[10, 10, 10, 10, 10]|     [2, 2, 2, 2, 2]|[28, 28, 28, 28, 28]|[435, 435, 435, 4...|[35, 35, 35, 35, ...|[1572262529, 1572...|[0, 51, 13, 55, 4...|[11, 11, 11, 11, ...|[10, 10, 10, 10, ...|[2, 2, 2, 2, 2, 2...| [28, 28, 28, 28, ...|\n",
      "|000a378f-37b9-4f8...|[671, 2, 2, 3089,...|[1, 1, 1, 17, 17,...|[1, 1, 1, 56, 56,...|[228.76, 250.82, ...|[1571019048, 1571...|[0, 55, 82, 37, 2...|[2, 2, 2, 2, 2, 2...|[10, 10, 10, 10, ...|[2, 2, 2, 2, 2, 2...|[14, 14, 14, 14, ...|     14|[671, 2, 3089, 14...|[1, 1, 17, 17, 40...|[1571019048, 1571...|[0, 55, 37, 8, 22...|[2, 2, 2, 2, 2, 2...|[10, 10, 10, 10, ...|[2, 2, 2, 2, 2, 2...|[14, 14, 14, 14, ...|[671, 2, 2, 3089,...|[1, 1, 1, 17, 17,...|[1571019048, 1571...|[0, 55, 82, 37, 2...|[2, 2, 2, 2, 2, 2...|[10, 10, 10, 10, ...|[2, 2, 2, 2, 2, 2...| [14, 14, 14, 14, ...|\n",
      "|000b2a8a-194b-40b...|[6397, 2409, 3272...|[80, 80, 80, 80, ...|[15, 55, 15, 15, ...|[330.74, 309.49, ...|[1571550976, 1571...|[0, 57, 36, 22, 1...|[5, 5, 5, 5, 5, 5...|[10, 10, 10, 10, ...|[1, 1, 1, 1, 1, 1...|[20, 20, 20, 20, ...|      9|[6397, 2409, 3272...|[80, 80, 80, 80, 80]|[1571550976, 1571...| [0, 57, 36, 34, 20]|     [5, 5, 5, 5, 5]|[10, 10, 10, 10, 10]|     [1, 1, 1, 1, 1]|[20, 20, 20, 20, 20]|[6397, 2409, 3272...|[80, 80, 80, 80, ...|[1571550976, 1571...|[0, 57, 36, 22, 1...|[5, 5, 5, 5, 5, 5...|[10, 10, 10, 10, ...|[1, 1, 1, 1, 1, 1...| [20, 20, 20, 20, ...|\n",
      "|000d99dc-b6e9-430...|[1878, 1878, 1878...|[13, 13, 13, 13, ...|[5, 5, 5, 5, 5, 5...|[88.03, 88.03, 88...|[1570941345, 1570...|[0, 19, 16, 14, 3...|[4, 4, 4, 4, 4, 4...|[10, 10, 10, 10, ...|[1, 1, 1, 1, 1, 1...|[13, 13, 13, 13, ...|      8|  [1878, 3549, 2114]|         [13, 13, 7]|[1570941345, 1570...|         [0, 14, 37]|           [4, 4, 4]|        [10, 10, 10]|           [1, 1, 1]|        [13, 13, 13]|[1878, 1878, 1878...|[13, 13, 13, 13, ...|[1570941345, 1570...|[0, 19, 16, 14, 3...|[4, 4, 4, 4, 4, 4...|[10, 10, 10, 10, ...|[1, 1, 1, 1, 1, 1...| [13, 13, 13, 13, ...|\n",
      "|000e9abc-3a8b-4bc...|[3, 41, 505, 43, ...|  [1, 1, 1, 1, 1, 1]|  [2, 2, 3, 3, 3, 3]|[1003.85, 764.34,...|[1570873281, 1570...|[0, 40, 63, 53, 3...|  [9, 9, 9, 9, 9, 9]|[10, 10, 10, 10, ...|  [7, 7, 7, 7, 7, 7]|[12, 12, 12, 12, ...|      6|[3, 41, 505, 43, ...|  [1, 1, 1, 1, 1, 1]|[1570873281, 1570...|[0, 40, 63, 53, 3...|  [9, 9, 9, 9, 9, 9]|[10, 10, 10, 10, ...|  [7, 7, 7, 7, 7, 7]|[12, 12, 12, 12, ...|[3, 41, 505, 43, ...|[1, 1, 1, 1, 1, 1...|[1570873281, 1570...|[0, 40, 63, 53, 3...|[9, 9, 9, 9, 9, 9...|[10, 10, 10, 10, ...|[7, 7, 7, 7, 7, 7...| [12, 12, 12, 12, ...|\n",
      "|000eef2b-65e5-4ea...|      [16700, 16700]|            [51, 51]|            [67, 67]|    [111.18, 111.18]|[1571130683, 1571...|            [0, 167]|              [9, 9]|            [10, 10]|              [3, 3]|            [15, 15]|      2|             [16700]|                [51]|        [1571130683]|                 [0]|                 [9]|                [10]|                 [3]|                [15]|[16700, 16700, 0,...|[51, 51, 0, 0, 0,...|[1571130683, 1571...|[0, 167, 0, 0, 0,...|[9, 9, 0, 0, 0, 0...|[10, 10, 0, 0, 0,...|[3, 3, 0, 0, 0, 0...| [15, 15, 0, 0, 0,...|\n",
      "|0010ac52-cc78-406...|[11, 11, 1486, 14...|[1, 1, 1, 1, 1, 1...|[3, 3, 3, 3, 3, 3...|[190.22, 190.22, ...|[1571370151, 1571...|[0, 19, 102, 42, ...|[3, 3, 3, 3, 3, 3...|[10, 10, 10, 10, ...|[6, 6, 6, 6, 6, 6...|[18, 18, 18, 18, ...|      8|     [11, 1486, 137]|           [1, 1, 1]|[1571370151, 1571...|       [0, 102, 164]|           [3, 3, 3]|        [10, 10, 10]|           [6, 6, 6]|        [18, 18, 18]|[11, 11, 1486, 14...|[1, 1, 1, 1, 1, 1...|[1571370151, 1571...|[0, 19, 102, 42, ...|[3, 3, 3, 3, 3, 3...|[10, 10, 10, 10, ...|[6, 6, 6, 6, 6, 6...| [18, 18, 18, 18, ...|\n",
      "|0010c8e5-44fd-40b...|        [4173, 6226]|          [278, 278]|            [34, 34]|    [406.96, 198.98]|[1571501915, 1571...|             [0, 51]|            [16, 16]|            [10, 10]|              [7, 7]|            [19, 19]|      2|        [4173, 6226]|          [278, 278]|[1571501915, 1571...|             [0, 51]|            [16, 16]|            [10, 10]|              [7, 7]|            [19, 19]|[4173, 6226, 0, 0...|[278, 278, 0, 0, ...|[1571501915, 1571...|[0, 51, 0, 0, 0, ...|[16, 16, 0, 0, 0,...|[10, 10, 0, 0, 0,...|[7, 7, 0, 0, 0, 0...| [19, 19, 0, 0, 0,...|\n",
      "|0010f624-b475-425...|              [1, 6]|              [1, 1]|              [1, 1]|    [131.66, 287.76]|[1571131352, 1571...|             [0, 17]|              [9, 9]|            [10, 10]|              [3, 3]|            [15, 15]|      2|              [1, 6]|              [1, 1]|[1571131352, 1571...|             [0, 17]|              [9, 9]|            [10, 10]|              [3, 3]|            [15, 15]|[1, 6, 0, 0, 0, 0...|[1, 1, 0, 0, 0, 0...|[1571131352, 1571...|[0, 17, 0, 0, 0, ...|[9, 9, 0, 0, 0, 0...|[10, 10, 0, 0, 0,...|[3, 3, 0, 0, 0, 0...| [15, 15, 0, 0, 0,...|\n",
      "|00131c36-c6b4-4eb...|           [30, 169]|              [5, 9]|              [2, 2]|    [188.94, 431.22]|[1572441817, 1572...|             [0, 70]|            [13, 13]|            [10, 10]|              [4, 4]|            [30, 30]|      2|           [30, 169]|              [5, 9]|[1572441817, 1572...|             [0, 70]|            [13, 13]|            [10, 10]|              [4, 4]|            [30, 30]|[30, 169, 0, 0, 0...|[5, 9, 0, 0, 0, 0...|[1572441817, 1572...|[0, 70, 0, 0, 0, ...|[13, 13, 0, 0, 0,...|[10, 10, 0, 0, 0,...|[4, 4, 0, 0, 0, 0...| [30, 30, 0, 0, 0,...|\n",
      "|00135fcf-bd50-46a...|   [4109, 573, 3765]|        [3, 17, 329]|       [10, 17, 390]|[509.41, 154.42, ...|[1571064216, 1571...|        [0, 39, 228]|        [14, 14, 14]|        [10, 10, 10]|           [2, 2, 2]|        [14, 14, 14]|      3|   [4109, 573, 3765]|        [3, 17, 329]|[1571064216, 1571...|        [0, 39, 228]|        [14, 14, 14]|        [10, 10, 10]|           [2, 2, 2]|        [14, 14, 14]|[4109, 573, 3765,...|[3, 17, 329, 0, 0...|[1571064216, 1571...|[0, 39, 228, 0, 0...|[14, 14, 14, 0, 0...|[10, 10, 10, 0, 0...|[2, 2, 2, 0, 0, 0...| [14, 14, 14, 0, 0...|\n",
      "|00137b31-7cbe-400...|        [1029, 1029]|              [2, 2]|            [26, 26]|      [41.96, 41.96]|[1570183747, 1570...|             [0, 70]|            [10, 10]|            [10, 10]|              [6, 6]|              [4, 4]|      2|              [1029]|                 [2]|        [1570183747]|                 [0]|                [10]|                [10]|                 [6]|                 [4]|[1029, 1029, 0, 0...|[2, 2, 0, 0, 0, 0...|[1570183747, 1570...|[0, 70, 0, 0, 0, ...|[10, 10, 0, 0, 0,...|[10, 10, 0, 0, 0,...|[6, 6, 0, 0, 0, 0...| [4, 4, 0, 0, 0, 0...|\n",
      "|00170aeb-bee0-44b...|        [3, 6, 6, 4]|        [1, 1, 1, 1]|        [2, 1, 1, 1]|[1015.46, 288.03,...|[1570526556, 1570...|     [0, 36, 32, 14]|        [9, 9, 9, 9]|    [10, 10, 10, 10]|        [3, 3, 3, 3]|        [8, 8, 8, 8]|      4|           [3, 6, 4]|           [1, 1, 1]|[1570526556, 1570...|         [0, 36, 14]|           [9, 9, 9]|        [10, 10, 10]|           [3, 3, 3]|           [8, 8, 8]|[3, 6, 6, 4, 0, 0...|[1, 1, 1, 1, 0, 0...|[1570526556, 1570...|[0, 36, 32, 14, 0...|[9, 9, 9, 9, 0, 0...|[10, 10, 10, 10, ...|[3, 3, 3, 3, 0, 0...| [8, 8, 8, 8, 0, 0...|\n",
      "|001aec60-3725-44c...|[396, 199, 1013, ...|[2, 37, 37, 37, 3...|[29, 39, 39, 39, ...|[45.82, 157.53, 1...|[1572362972, 1572...|[0, 19, 166, 10, ...|[15, 15, 15, 15, ...|[10, 10, 10, 10, ...|[3, 3, 3, 3, 3, 3...|[29, 29, 29, 29, ...|     15|[396, 199, 1013, ...|[2, 37, 37, 37, 3...|[1572362972, 1572...|[0, 19, 166, 8, 1...|[15, 15, 15, 15, ...|[10, 10, 10, 10, ...|[3, 3, 3, 3, 3, 3...|[29, 29, 29, 29, ...|[396, 199, 1013, ...|[2, 37, 37, 37, 3...|[1572362972, 1572...|[0, 19, 166, 10, ...|[15, 15, 15, 15, ...|[10, 10, 10, 10, ...|[3, 3, 3, 3, 3, 3...| [29, 29, 29, 29, ...|\n",
      "|001c083e-1790-498...|[21, 21, 21, 143,...|[5, 5, 5, 5, 5, 5...|[3, 3, 3, 3, 3, 3...|[22.95, 22.95, 22...|[1571378056, 1571...|[0, 56, 76, 25, 2...|[5, 5, 5, 5, 5, 5...|[10, 10, 10, 10, ...|[6, 6, 6, 6, 6, 6...|[18, 18, 18, 18, ...|     15|[21, 143, 1668, 9...|        [5, 5, 5, 5]|[1571378056, 1571...|     [0, 25, 75, 33]|        [5, 5, 6, 6]|    [10, 10, 10, 10]|        [6, 6, 6, 6]|    [18, 18, 18, 18]|[21, 21, 21, 143,...|[5, 5, 5, 5, 5, 5...|[1571378056, 1571...|[0, 56, 76, 25, 2...|[5, 5, 5, 5, 5, 5...|[10, 10, 10, 10, ...|[6, 6, 6, 6, 6, 6...| [18, 18, 18, 18, ...|\n",
      "|002086fa-cc20-43c...|   [14, 14, 211, 14]|        [1, 1, 1, 1]|        [3, 3, 3, 3]|[197.12, 197.12, ...|[1570037550, 1570...|    [0, 106, 17, 64]|    [17, 17, 17, 17]|    [10, 10, 10, 10]|        [4, 4, 4, 4]|        [2, 2, 2, 2]|      4|           [14, 211]|              [1, 1]|[1570037550, 1570...|             [0, 17]|            [17, 17]|            [10, 10]|              [4, 4]|              [2, 2]|[14, 14, 211, 14,...|[1, 1, 1, 1, 0, 0...|[1570037550, 1570...|[0, 106, 17, 64, ...|[17, 17, 17, 17, ...|[10, 10, 10, 10, ...|[4, 4, 4, 4, 0, 0...| [2, 2, 2, 2, 0, 0...|\n",
      "|0026da65-d60b-4d7...|[6138, 6138, 1118...|  [4, 4, 4, 4, 4, 4]|  [9, 9, 9, 9, 9, 9]|[926.41, 926.41, ...|[1572541448, 1572...|[0, 129, 164, 262...|[17, 17, 17, 17, ...|[10, 10, 10, 10, ...|  [5, 5, 5, 5, 5, 5]|[31, 31, 31, 31, ...|      6|       [6138, 11186]|              [4, 4]|[1572541448, 1572...|            [0, 164]|            [17, 17]|            [10, 10]|              [5, 5]|            [31, 31]|[6138, 6138, 1118...|[4, 4, 4, 4, 4, 4...|[1572541448, 1572...|[0, 129, 164, 262...|[17, 17, 17, 17, ...|[10, 10, 10, 10, ...|[5, 5, 5, 5, 5, 5...| [31, 31, 31, 31, ...|\n",
      "+--------------------+--------------------+--------------------+--------------------+--------------------+--------------------+--------------------+--------------------+--------------------+--------------------+--------------------+-------+--------------------+--------------------+--------------------+--------------------+--------------------+--------------------+--------------------+--------------------+--------------------+--------------------+--------------------+--------------------+--------------------+--------------------+--------------------+---------------------+\n",
      "only showing top 20 rows\n",
      "\n"
     ]
    }
   ],
   "source": [
    "df_sb_grouped_df_zpd_nr.show()"
   ]
  },
  {
   "cell_type": "markdown",
   "metadata": {},
   "source": [
    "## Split Train/Test"
   ]
  },
  {
   "cell_type": "code",
   "execution_count": 143,
   "metadata": {},
   "outputs": [],
   "source": [
    "df_train, df_val = df_sb_grouped_df_zpd_nr.randomSplit([0.9, 0.1], seed=12345)\n",
    "\n",
    "# Make sure the number of partitions is at least the number of workers which is required for distributed training.\n",
    "df_train = df_train.repartition(2)\n",
    "df_val = df_val.repartition(2)\n"
   ]
  },
  {
   "cell_type": "markdown",
   "metadata": {},
   "source": [
    "## Data Load on PyTorch (Example)"
   ]
  },
  {
   "cell_type": "markdown",
   "metadata": {},
   "source": [
    "Reference: PetaStorm (allow us to load parquet data in PyTorch or Tensorflow\n",
    "- https://docs.databricks.com/applications/deep-learning/data-prep/petastorm.html#\n",
    "- https://petastorm.readthedocs.io/en/latest/api.html?highlight=array#petastorm.spark.spark_dataset_converter.vector_to_array\n"
   ]
  },
  {
   "cell_type": "code",
   "execution_count": 169,
   "metadata": {},
   "outputs": [
    {
     "name": "stdout",
     "output_type": "stream",
     "text": [
      "Collecting package metadata (current_repodata.json): done\n",
      "Solving environment: / ^C\n",
      "- "
     ]
    }
   ],
   "source": [
    "# ! conda install pytorch torchvision cudatoolkit=10.2 -c pytorch -y"
   ]
  },
  {
   "cell_type": "code",
   "execution_count": null,
   "metadata": {},
   "outputs": [],
   "source": [
    "# !pip install petastorm\n"
   ]
  },
  {
   "cell_type": "code",
   "execution_count": 44,
   "metadata": {},
   "outputs": [],
   "source": [
    "from petastorm.spark import SparkDatasetConverter, make_spark_converter\n"
   ]
  },
  {
   "cell_type": "markdown",
   "metadata": {},
   "source": [
    "### Cache the Spark DataFrame using Petastorm Spark converter\n"
   ]
  },
  {
   "cell_type": "code",
   "execution_count": 45,
   "metadata": {},
   "outputs": [],
   "source": [
    "! mkdir -p /home/jovyan/tmp/petastorm/cache"
   ]
  },
  {
   "cell_type": "code",
   "execution_count": 144,
   "metadata": {},
   "outputs": [
    {
     "name": "stderr",
     "output_type": "stream",
     "text": [
      "Converting floating-point columns to float32\n",
      "Converting floating-point columns to float32\n"
     ]
    }
   ],
   "source": [
    "# Set a cache directory on DBFS FUSE for intermediate data.\n",
    "spark.conf.set(SparkDatasetConverter.PARENT_CACHE_DIR_URL_CONF, \"file:///home/jovyan/tmp/petastorm/cache\")\n",
    "\n",
    "converter_train = make_spark_converter(df_train)\n",
    "converter_val = make_spark_converter(df_val)\n"
   ]
  },
  {
   "cell_type": "markdown",
   "metadata": {},
   "source": [
    "### Show current cached file path"
   ]
  },
  {
   "cell_type": "code",
   "execution_count": 160,
   "metadata": {},
   "outputs": [
    {
     "data": {
      "text/plain": [
       "['file:///home/jovyan/tmp/petastorm/cache/20200617044630-appid-local-1592357472062-5618370f-419b-4421-be76-1ef1bc3df293/part-00000-e9c67d19-de9c-4ba0-934d-7becf19a483c-c000.parquet',\n",
       " 'file:///home/jovyan/tmp/petastorm/cache/20200617044630-appid-local-1592357472062-5618370f-419b-4421-be76-1ef1bc3df293/part-00001-e9c67d19-de9c-4ba0-934d-7becf19a483c-c000.parquet']"
      ]
     },
     "execution_count": 160,
     "metadata": {},
     "output_type": "execute_result"
    }
   ],
   "source": [
    "converter_train.file_urls"
   ]
  },
  {
   "cell_type": "code",
   "execution_count": 161,
   "metadata": {},
   "outputs": [
    {
     "data": {
      "text/plain": [
       "['file:///home/jovyan/tmp/petastorm/cache/20200617045047-appid-local-1592357472062-4796c1ec-0f9a-4ddb-b736-66a0ca1acb99/part-00000-e40aad43-ebb1-47d1-ad55-5f2ee63d9034-c000.parquet',\n",
       " 'file:///home/jovyan/tmp/petastorm/cache/20200617045047-appid-local-1592357472062-4796c1ec-0f9a-4ddb-b736-66a0ca1acb99/part-00001-e40aad43-ebb1-47d1-ad55-5f2ee63d9034-c000.parquet']"
      ]
     },
     "execution_count": 161,
     "metadata": {},
     "output_type": "execute_result"
    }
   ],
   "source": [
    "converter_val.file_urls"
   ]
  },
  {
   "cell_type": "code",
   "execution_count": 148,
   "metadata": {},
   "outputs": [
    {
     "name": "stdout",
     "output_type": "stream",
     "text": [
      "train: 4890191, val: 543143\n"
     ]
    }
   ],
   "source": [
    "print(f\"train: {len(converter_train)}, val: {len(converter_val)}\")\n"
   ]
  },
  {
   "cell_type": "markdown",
   "metadata": {},
   "source": [
    "#### Create Petastorm Data Schema\n",
    "Currently we're not using this choice. This could be used to create custom Petastorm data schema to load variable-length array into dataloder\n",
    "\n",
    "API: https://petastorm.readthedocs.io/en/latest/api.html?module-petastorm.codecs\n",
    "Example: https://github.com/uber/petastorm/blob/9a903d9885759674f81b412dc133aeb9577e00dd/examples/spark_dataset_converter/pytorch_converter_example.py"
   ]
  },
  {
   "cell_type": "code",
   "execution_count": 48,
   "metadata": {},
   "outputs": [],
   "source": [
    "from petastorm.unischema import UnischemaField\n",
    "from petastorm.unischema import Unischema\n",
    "\n",
    "from petastorm.codecs import NdarrayCodec\n"
   ]
  },
  {
   "cell_type": "code",
   "execution_count": 176,
   "metadata": {},
   "outputs": [],
   "source": [
    "recsys_schema = [\n",
    "#     UnischemaField('user_session', np.string_, (None), NdarrayCodec(), True),\n",
    "    UnischemaField('pid_seq_zpd', np.longlong, (None), NdarrayCodec(), True),\n",
    "    UnischemaField('cid_seq_zpd', np.longlong, (None), NdarrayCodec(), True),\n",
    "    UnischemaField('dtime_seq_zpd', np.int, (None), NdarrayCodec(), True),\n",
    "    UnischemaField('et_hour_seq_zpd', np.int, (None), NdarrayCodec(), True),\n",
    "    UnischemaField('et_month_seq_zpd', np.int, (None), NdarrayCodec(), True), \n",
    "    UnischemaField('et_dayofweek_seq_zpd', np.int, (None), NdarrayCodec(), True),\n",
    "    UnischemaField('et_dayofmonth_seq_zpd', np.int, (None), NdarrayCodec(), True),\n",
    "]\n",
    "\n",
    "recsys_schema_pid = [\n",
    "    UnischemaField('pid_seq_zpd', np.longlong, (None), NdarrayCodec(), True),\n",
    "]"
   ]
  },
  {
   "cell_type": "markdown",
   "metadata": {},
   "source": [
    "### Sample PyTorch DataLoader"
   ]
  },
  {
   "cell_type": "code",
   "execution_count": null,
   "metadata": {},
   "outputs": [],
   "source": [
    "BATCH_SIZE = 64\n",
    "NUM_EPOCHS = 1"
   ]
  },
  {
   "cell_type": "code",
   "execution_count": 147,
   "metadata": {},
   "outputs": [
    {
     "name": "stdout",
     "output_type": "stream",
     "text": [
      "Epoch 1/1\n",
      "----------\n"
     ]
    },
    {
     "name": "stderr",
     "output_type": "stream",
     "text": [
      "/opt/conda/lib/python3.7/site-packages/petastorm/arrow_reader_worker.py:53: FutureWarning: Calling .data on ChunkedArray is provided for compatibility after Column was removed, simply drop this attribute\n",
      "  column_as_pandas = column.data.chunks[0].to_pandas()\n"
     ]
    },
    {
     "name": "stdout",
     "output_type": "stream",
     "text": [
      "p_seq:tensor([[ 4442,  4442,  4442,     0,     0,     0,     0,     0,     0,     0,\n",
      "             0,     0,     0,     0,     0,     0,     0,     0,     0,     0],\n",
      "        [   60,   780,   231,   338,  1093,   780,   957,     0,     0,     0,\n",
      "             0,     0,     0,     0,     0,     0,     0,     0,     0,     0],\n",
      "        [ 2186,  1480,     0,     0,     0,     0,     0,     0,     0,     0,\n",
      "             0,     0,     0,     0,     0,     0,     0,     0,     0,     0],\n",
      "        [   16,    22,    81,  2509,    16,    16,     0,     0,     0,     0,\n",
      "             0,     0,     0,     0,     0,     0,     0,     0,     0,     0],\n",
      "        [ 3080,  3080,  3080,  3080,  3080,     0,     0,     0,     0,     0,\n",
      "             0,     0,     0,     0,     0,     0,     0,     0,     0,     0],\n",
      "        [  220,   220,   220,     0,     0,     0,     0,     0,     0,     0,\n",
      "             0,     0,     0,     0,     0,     0,     0,     0,     0,     0],\n",
      "        [22442, 22442, 30424, 49989, 62268, 62268, 62268,     0,     0,     0,\n",
      "             0,     0,     0,     0,     0,     0,     0,     0,     0,     0],\n",
      "        [   19,    42,    98,    82,    56,    89,    15,   193,   173,   104,\n",
      "             4,    68,   173,   145,   298,    24,   237,  1496,  3742,  2901]])\n",
      "c_seq:tensor([[  9,   9,   9,   0,   0,   0,   0,   0,   0,   0,   0,   0,   0,   0,\n",
      "           0,   0,   0,   0,   0,   0],\n",
      "        [  1,   1,   1,   1,   1,   1,   1,   0,   0,   0,   0,   0,   0,   0,\n",
      "           0,   0,   0,   0,   0,   0],\n",
      "        [108, 108,   0,   0,   0,   0,   0,   0,   0,   0,   0,   0,   0,   0,\n",
      "           0,   0,   0,   0,   0,   0],\n",
      "        [  1,   1,   1,   1,   1,   1,   0,   0,   0,   0,   0,   0,   0,   0,\n",
      "           0,   0,   0,   0,   0,   0],\n",
      "        [  5,   5,   5,   5,   5,   0,   0,   0,   0,   0,   0,   0,   0,   0,\n",
      "           0,   0,   0,   0,   0,   0],\n",
      "        [  8,   8,   8,   0,   0,   0,   0,   0,   0,   0,   0,   0,   0,   0,\n",
      "           0,   0,   0,   0,   0,   0],\n",
      "        [434, 434, 434, 434, 434, 434, 434,   0,   0,   0,   0,   0,   0,   0,\n",
      "           0,   0,   0,   0,   0,   0],\n",
      "        [  1,   1,   1,   1,   1,   1,   1,   1,   1,   1,   1,   1,   1,   1,\n",
      "           1,   1,   1,   1,   1,   1]])\n",
      "d_seq:tensor([[  0,  20,  92,   0,   0,   0,   0,   0,   0,   0,   0,   0,   0,   0,\n",
      "           0,   0,   0,   0,   0,   0],\n",
      "        [  0,  74,  24,  34,  12,  11,  12,   0,   0,   0,   0,   0,   0,   0,\n",
      "           0,   0,   0,   0,   0,   0],\n",
      "        [  0,  48,   0,   0,   0,   0,   0,   0,   0,   0,   0,   0,   0,   0,\n",
      "           0,   0,   0,   0,   0,   0],\n",
      "        [  0,  41,  37,  83,  47,  36,   0,   0,   0,   0,   0,   0,   0,   0,\n",
      "           0,   0,   0,   0,   0,   0],\n",
      "        [  0,  31,   8,  72, 467,   0,   0,   0,   0,   0,   0,   0,   0,   0,\n",
      "           0,   0,   0,   0,   0,   0],\n",
      "        [  0,  67,  41,   0,   0,   0,   0,   0,   0,   0,   0,   0,   0,   0,\n",
      "           0,   0,   0,   0,   0,   0],\n",
      "        [  0,  27,  13,   6,  18, 387,  17,   0,   0,   0,   0,   0,   0,   0,\n",
      "           0,   0,   0,   0,   0,   0],\n",
      "        [  0,  37,  15,  14,  20,  37,  25,  57,  21,  21,  50,  35,  80,   8,\n",
      "          16,  51,  25,  52,  20,  26]])\n",
      "eth_seq:tensor([[ 6,  6,  6,  0,  0,  0,  0,  0,  0,  0,  0,  0,  0,  0,  0,  0,  0,  0,\n",
      "          0,  0],\n",
      "        [ 6,  6,  6,  6,  6,  6,  6,  0,  0,  0,  0,  0,  0,  0,  0,  0,  0,  0,\n",
      "          0,  0],\n",
      "        [16, 16,  0,  0,  0,  0,  0,  0,  0,  0,  0,  0,  0,  0,  0,  0,  0,  0,\n",
      "          0,  0],\n",
      "        [22, 22, 22, 22, 22, 22,  0,  0,  0,  0,  0,  0,  0,  0,  0,  0,  0,  0,\n",
      "          0,  0],\n",
      "        [11, 11, 11, 11, 12,  0,  0,  0,  0,  0,  0,  0,  0,  0,  0,  0,  0,  0,\n",
      "          0,  0],\n",
      "        [ 7,  7,  7,  0,  0,  0,  0,  0,  0,  0,  0,  0,  0,  0,  0,  0,  0,  0,\n",
      "          0,  0],\n",
      "        [15, 15, 15, 15, 15, 15, 15,  0,  0,  0,  0,  0,  0,  0,  0,  0,  0,  0,\n",
      "          0,  0],\n",
      "        [12, 12, 12, 12, 12, 12, 12, 12, 12, 13, 13, 13, 13, 13, 13, 13, 13, 13,\n",
      "         13, 13]], dtype=torch.int32)\n",
      "etm_seq:tensor([[10, 10, 10,  0,  0,  0,  0,  0,  0,  0,  0,  0,  0,  0,  0,  0,  0,  0,\n",
      "          0,  0],\n",
      "        [10, 10, 10, 10, 10, 10, 10,  0,  0,  0,  0,  0,  0,  0,  0,  0,  0,  0,\n",
      "          0,  0],\n",
      "        [10, 10,  0,  0,  0,  0,  0,  0,  0,  0,  0,  0,  0,  0,  0,  0,  0,  0,\n",
      "          0,  0],\n",
      "        [10, 10, 10, 10, 10, 10,  0,  0,  0,  0,  0,  0,  0,  0,  0,  0,  0,  0,\n",
      "          0,  0],\n",
      "        [10, 10, 10, 10, 10,  0,  0,  0,  0,  0,  0,  0,  0,  0,  0,  0,  0,  0,\n",
      "          0,  0],\n",
      "        [10, 10, 10,  0,  0,  0,  0,  0,  0,  0,  0,  0,  0,  0,  0,  0,  0,  0,\n",
      "          0,  0],\n",
      "        [10, 10, 10, 10, 10, 10, 10,  0,  0,  0,  0,  0,  0,  0,  0,  0,  0,  0,\n",
      "          0,  0],\n",
      "        [10, 10, 10, 10, 10, 10, 10, 10, 10, 10, 10, 10, 10, 10, 10, 10, 10, 10,\n",
      "         10, 10]], dtype=torch.int32)\n",
      "etdw_seq:tensor([[3, 3, 3, 0, 0, 0, 0, 0, 0, 0, 0, 0, 0, 0, 0, 0, 0, 0, 0, 0],\n",
      "        [4, 4, 4, 4, 4, 4, 4, 0, 0, 0, 0, 0, 0, 0, 0, 0, 0, 0, 0, 0],\n",
      "        [4, 4, 0, 0, 0, 0, 0, 0, 0, 0, 0, 0, 0, 0, 0, 0, 0, 0, 0, 0],\n",
      "        [3, 3, 3, 3, 3, 3, 0, 0, 0, 0, 0, 0, 0, 0, 0, 0, 0, 0, 0, 0],\n",
      "        [7, 7, 7, 7, 7, 0, 0, 0, 0, 0, 0, 0, 0, 0, 0, 0, 0, 0, 0, 0],\n",
      "        [2, 2, 2, 0, 0, 0, 0, 0, 0, 0, 0, 0, 0, 0, 0, 0, 0, 0, 0, 0],\n",
      "        [2, 2, 2, 2, 2, 2, 2, 0, 0, 0, 0, 0, 0, 0, 0, 0, 0, 0, 0, 0],\n",
      "        [2, 2, 2, 2, 2, 2, 2, 2, 2, 2, 2, 2, 2, 2, 2, 2, 2, 2, 2, 2]],\n",
      "       dtype=torch.int32)\n",
      "etdm_seq:tensor([[ 8,  8,  8,  0,  0,  0,  0,  0,  0,  0,  0,  0,  0,  0,  0,  0,  0,  0,\n",
      "          0,  0],\n",
      "        [ 2,  2,  2,  2,  2,  2,  2,  0,  0,  0,  0,  0,  0,  0,  0,  0,  0,  0,\n",
      "          0,  0],\n",
      "        [23, 23,  0,  0,  0,  0,  0,  0,  0,  0,  0,  0,  0,  0,  0,  0,  0,  0,\n",
      "          0,  0],\n",
      "        [29, 29, 29, 29, 29, 29,  0,  0,  0,  0,  0,  0,  0,  0,  0,  0,  0,  0,\n",
      "          0,  0],\n",
      "        [26, 26, 26, 26, 26,  0,  0,  0,  0,  0,  0,  0,  0,  0,  0,  0,  0,  0,\n",
      "          0,  0],\n",
      "        [14, 14, 14,  0,  0,  0,  0,  0,  0,  0,  0,  0,  0,  0,  0,  0,  0,  0,\n",
      "          0,  0],\n",
      "        [28, 28, 28, 28, 28, 28, 28,  0,  0,  0,  0,  0,  0,  0,  0,  0,  0,  0,\n",
      "          0,  0],\n",
      "        [14, 14, 14, 14, 14, 14, 14, 14, 14, 14, 14, 14, 14, 14, 14, 14, 14, 14,\n",
      "         14, 14]], dtype=torch.int32)\n"
     ]
    }
   ],
   "source": [
    "#     , \\\n",
    "#        converter_val.make_torch_dataloader(batch_size=BATCH_SIZE, schema_fields=RecSysSchema) as val_dataloader:\n",
    "\n",
    "\n",
    "with converter_train.make_torch_dataloader(batch_size=BATCH_SIZE, schema_fields=recsys_schema) as train_dataloader:\n",
    "\n",
    "    train_dataloader_iter = iter(train_dataloader)\n",
    "    steps_per_epoch = len(converter_train) // BATCH_SIZE\n",
    "\n",
    "#         val_dataloader_iter = iter(val_dataloader)\n",
    "#         validation_steps = max(1, len(converter_val) // BATCH_SIZE)\n",
    "\n",
    "    device = None\n",
    "\n",
    "    for epoch in range(NUM_EPOCHS):\n",
    "        print('Epoch {}/{}'.format(epoch + 1, NUM_EPOCHS))\n",
    "        print('-' * 10)\n",
    "\n",
    "        train_one_epoch(train_dataloader_iter, steps_per_epoch, epoch, device)\n",
    "        #           val_loss, val_acc = evaluate(val_dataloader_iter, validation_steps, device)\n",
    "        break\n"
   ]
  },
  {
   "cell_type": "code",
   "execution_count": 70,
   "metadata": {},
   "outputs": [],
   "source": [
    "def train_one_epoch(train_dataloader_iter, steps_per_epoch, epoch, device=None):\n",
    "    for step in range(steps_per_epoch):\n",
    "        pd_batch = next(train_dataloader_iter)\n",
    "        # u_sess = pd_batch['user_session'].to(device)\n",
    "        p_seq = pd_batch['pid_seq_zpd'].to(device)\n",
    "        c_seq = pd_batch['cid_seq_zpd'].to(device)\n",
    "        d_seq = pd_batch['dtime_seq_zpd'].to(device)\n",
    "        eth_seq = pd_batch['et_hour_seq_zpd'].to(device)\n",
    "        etm_seq = pd_batch['et_month_seq_zpd'].to(device)\n",
    "        etdw_seq = pd_batch['et_dayofweek_seq_zpd'].to(device)\n",
    "        etdm_seq = pd_batch['et_dayofmonth_seq_zpd'].to(device)\n",
    "        \n",
    "        print(\"p_seq:{}\".format(p_seq))\n",
    "        print(\"c_seq:{}\".format(c_seq))\n",
    "        print(\"d_seq:{}\".format(d_seq))\n",
    "        print(\"eth_seq:{}\".format(eth_seq))\n",
    "        print(\"etm_seq:{}\".format(etm_seq))\n",
    "        print(\"etdw_seq:{}\".format(etdw_seq))\n",
    "        print(\"etdm_seq:{}\".format(etdm_seq))\n",
    "\n",
    "        break\n",
    "        \n",
    "# def evaluate(val_dataloader_iter, validation_steps, device):\n",
    "    "
   ]
  },
  {
   "cell_type": "code",
   "execution_count": null,
   "metadata": {},
   "outputs": [],
   "source": []
  },
  {
   "cell_type": "code",
   "execution_count": null,
   "metadata": {},
   "outputs": [],
   "source": [
    "with converter_train.make_torch_dataloader(batch_size=BATCH_SIZE) as train_dataloader,\\\n",
    "        converter_val.make_torch_dataloader(batch_size=BATCH_SIZE) as val_dataloader:\n",
    "    train_dataloader_iter = iter(train_dataloader)\n",
    "    steps_per_epoch = len(converter_train) // BATCH_SIZE\n",
    "\n",
    "    val_dataloader_iter = iter(val_dataloader)\n",
    "    validation_steps = max(1, len(converter_val) // BATCH_SIZE)\n",
    "\n",
    "    device = None\n",
    "\n",
    "    for epoch in range(NUM_EPOCHS):\n",
    "        print('Epoch {}/{}'.format(epoch + 1, NUM_EPOCHS))\n",
    "        print('-' * 10)\n",
    "        for step in range(steps_per_epoch):\n",
    "            print('-' * 10)\n",
    "            pd_batch = next(train_dataloader_iter)\n",
    "            user_session = pd_batch['user_session'].to(device)\n",
    "            pid_seq = pd_batch['pid_seq'].to(device)\n",
    "            cid_seq = pd_batch['cid_seq'].to(device)\n",
    "            etime_seq = pd_batch['etime_seq'].to(device)\n",
    "            dtime_seq = pd_batch['dtime_seq'].to(device)\n",
    "            et_hour_seq = pd_batch['et_hour_seq'].to(device)\n",
    "            et_month_seq = pd_batch['et_month_seq'].to(device)\n",
    "            et_dayofweek_seq = pd_batch['et_dayofweek_seq'].to(device)\n",
    "            et_dayofmonth_seq = pd_batch['et_dayofmonth_seq'].to(device)\n",
    "            print(\"user_session:{}\".format(user_session))\n",
    "            print(\"pid_seq:{}\".format(pid_seq))\n",
    "            print(\"cid_seq:{}\".format(cid_seq))\n",
    "            print(\"etime_seq:{}\".format(etime_seq))\n",
    "            print(\"dtime_seq:{}\".format(dtime_seq))\n",
    "            print(\"et_hour_seq:{}\".format(et_hour_seq))\n",
    "            print(\"et_month_seq:{}\".format(et_month_seq))\n",
    "            print(\"et_dayofweek_seq:{}\".format(et_dayofweek_seq))\n",
    "            print(\"et_dayofmonth_seq:{}\".format(et_dayofmonth_seq))\n",
    "            break\n",
    "#         train_one_epoch(train_dataloader_iter, steps_per_epoch, epoch, device)\n",
    "\n",
    "#     train_dataloader_iter = iter(train_dataloader)\n",
    "#     steps_per_epoch = len(converter_train) // BATCH_SIZE\n",
    "\n",
    "#     val_dataloader_iter = iter(val_dataloader)\n",
    "#     validation_steps = max(1, len(converter_val) // BATCH_SIZE)\n",
    "\n",
    "#     device = None\n",
    "\n",
    "#     for epoch in range(NUM_EPOCHS):\n",
    "#       print('Epoch {}/{}'.format(epoch + 1, NUM_EPOCHS))\n",
    "#       print('-' * 10)\n",
    "\n",
    "#       train_one_epoch(train_dataloader_iter, steps_per_epoch, epoch, device)\n",
    "\n"
   ]
  },
  {
   "cell_type": "markdown",
   "metadata": {},
   "source": [
    "#### DataCollatorForLanguageModeling\n"
   ]
  },
  {
   "cell_type": "code",
   "execution_count": 442,
   "metadata": {},
   "outputs": [],
   "source": [
    "del DataCollatorForLanguageModelingRecSys"
   ]
  },
  {
   "cell_type": "code",
   "execution_count": 443,
   "metadata": {},
   "outputs": [],
   "source": [
    "# from transformers_recsys2.data import DataCollatorForLanguageModelingRecSys\n",
    "from dataclasses import dataclass\n",
    "from typing import Any, Callable, Dict, List, NewType, Tuple\n",
    "\n",
    "import torch\n",
    "from torch.nn.utils.rnn import pad_sequence\n",
    "\n",
    "\n",
    "@dataclass\n",
    "class DataCollatorForLanguageModelingRecSys:\n",
    "    \"\"\"\n",
    "    Data collator used for language modeling.\n",
    "    - collates batches of tensors, honoring their tokenizer's pad_token\n",
    "    - preprocesses batches for masked language modeling\n",
    "    \"\"\"\n",
    "    target_col: str = None\n",
    "    _pad_token: int = 0\n",
    "\n",
    "    def __call__(self, examples: List[torch.Tensor]) -> Dict[str, torch.Tensor]:\n",
    "        print(examples)\n",
    "        _examples = [torch.LongTensor(example[self.target_col]) for example in examples]\n",
    "        print('after transform:')\n",
    "        print(_examples)\n",
    "        batch = self._tensorize_batch(_examples)\n",
    "        return {\"input_ids\": batch, \"labels\": batch}\n",
    "\n",
    "    def _tensorize_batch(self, examples: List[torch.Tensor]) -> torch.Tensor:\n",
    "        length_of_first = examples[0].size(0)\n",
    "        are_tensors_same_length = all(x.size(0) == length_of_first for x in examples)\n",
    "        if are_tensors_same_length:\n",
    "            return torch.stack(examples, dim=0)\n",
    "        else:\n",
    "            return pad_sequence(examples, batch_first=True, padding_value=self._pad_token)\n"
   ]
  },
  {
   "cell_type": "markdown",
   "metadata": {},
   "source": [
    "print(examples): \n",
    "    [{\"col_name\":array(...)}, {\"col_name\":array(...)}, {\"col_name\":array(...)}, {\"col_name\":array(...)}...]"
   ]
  },
  {
   "cell_type": "code",
   "execution_count": 444,
   "metadata": {},
   "outputs": [],
   "source": [
    "data_collator = DataCollatorForLanguageModelingRecSys(\n",
    "    target_col=\"pid_seq_zpd\", \n",
    "    _pad_token=0\n",
    ")\n"
   ]
  },
  {
   "cell_type": "markdown",
   "metadata": {},
   "source": [
    "### Create custom data loader \n",
    "Background: `make_torch_dataloader` returns context manager. To work with huggingface's trainer, we should obtain non-context-manager based data loader"
   ]
  },
  {
   "cell_type": "code",
   "execution_count": 463,
   "metadata": {},
   "outputs": [],
   "source": [
    "from petastorm.reader import make_batch_reader\n",
    "from petastorm.pytorch import BatchedDataLoader, DataLoader\n",
    "from functools import partial\n",
    "import torch \n",
    "\n",
    "train_reader = make_batch_reader(converter_train.file_urls, schema_fields=recsys_schema_pid)\n",
    "valid_reader = make_batch_reader(converter_val.file_urls, schema_fields=recsys_schema_pid)"
   ]
  },
  {
   "cell_type": "code",
   "execution_count": 464,
   "metadata": {},
   "outputs": [],
   "source": [
    "# train_loader = BatchedDataLoader(train_reader, shuffling_queue_capacity=BATCH_SIZE * 10, batch_size=BATCH_SIZE,\n",
    "#                            transform_fn=partial(torch.as_tensor, device=device))\n",
    "# valid_loader = BatchedDataLoader(valid_reader, shuffling_queue_capacity=BATCH_SIZE * 10, batch_size=BATCH_SIZE,\n",
    "#                            transform_fn=partial(torch.as_tensor, device=device))\n",
    "\n",
    "train_loader = DataLoader(train_reader, \n",
    "                          batch_size=BATCH_SIZE,\n",
    "                           collate_fn=data_collator)\n",
    "valid_loader = DataLoader(valid_reader, \n",
    "                          batch_size=BATCH_SIZE,\n",
    "                           collate_fn=data_collator)"
   ]
  },
  {
   "cell_type": "code",
   "execution_count": 465,
   "metadata": {},
   "outputs": [],
   "source": [
    "del DLWrapper\n",
    "del get_train_dataloader"
   ]
  },
  {
   "cell_type": "code",
   "execution_count": 466,
   "metadata": {},
   "outputs": [],
   "source": [
    "class EmptyDataSet(object):\n",
    "    def __init__(self, data_size):\n",
    "        self.len = data_size\n",
    "        \n",
    "    def __len__(self):\n",
    "        return self.len\n",
    "\n",
    "class DLWrapper(object):\n",
    "    def __init__(self, init_loader, data_size=100):\n",
    "        self.loader = init_loader\n",
    "        self.data_size = data_size\n",
    "        self.dataset = EmptyDataSet(data_size)\n",
    "        \n",
    "    def __len__(self):\n",
    "        return self.data_size\n",
    "    \n",
    "    def __iter__(self):\n",
    "        yield iter(self.loader)\n",
    "        \n",
    "    def _yield_batches(self,keys):\n",
    "        return self.loader._yield_batches(keys)\n",
    "    \n",
    "    def __enter__(self):\n",
    "        return self.loader\n",
    "    \n",
    "    def __exit__(self, exc_type, exc_val, exc_tb):\n",
    "        self.loader.reader.stop()\n",
    "        self.loader.reader.join()\n",
    "        \n",
    "#     def __getitem__(self, i) -> torch.Tensor:\n",
    "#         return torch.tensor(self.examples[i], dtype=torch.long)\n",
    "\n",
    "train_dl_wrapper = DLWrapper(valid_loader, converter_train.dataset_size) ## train_loader\n",
    "valid_dl_wrapper = DLWrapper(valid_loader, converter_val.dataset_size)\n",
    "\n",
    "def get_train_dataloader():\n",
    "    return train_dl_wrapper"
   ]
  },
  {
   "cell_type": "markdown",
   "metadata": {},
   "source": [
    "## Transformer"
   ]
  },
  {
   "cell_type": "code",
   "execution_count": 450,
   "metadata": {},
   "outputs": [
    {
     "name": "stdout",
     "output_type": "stream",
     "text": [
      "helloworld!\n"
     ]
    }
   ],
   "source": [
    "import sys\n",
    "sys.path.append(\"./\")\n",
    "from transformers_recsys2.test import hello\n",
    "print(hello)\n"
   ]
  },
  {
   "cell_type": "code",
   "execution_count": 456,
   "metadata": {},
   "outputs": [],
   "source": [
    "\n",
    "from transformers_recsys2 import RobertaConfig\n",
    "\n",
    "config = RobertaConfig(\n",
    "    vocab_size=150_000,\n",
    "    max_position_embeddings=514,\n",
    "    num_attention_heads=12,\n",
    "    num_hidden_layers=6,\n",
    "    type_vocab_size=1,\n",
    ")"
   ]
  },
  {
   "cell_type": "code",
   "execution_count": 457,
   "metadata": {},
   "outputs": [],
   "source": [
    "from transformers_recsys2 import RobertaForMaskedLM\n",
    "\n",
    "model = RobertaForMaskedLM(config=config)\n",
    "\n"
   ]
  },
  {
   "cell_type": "markdown",
   "metadata": {},
   "source": [
    "#### Column name re mapping"
   ]
  },
  {
   "cell_type": "code",
   "execution_count": 458,
   "metadata": {},
   "outputs": [],
   "source": [
    "# col_name_mapping = {\"pid_seq_zpd\":\"input_ids\"}\n",
    "col_name_mapping=None"
   ]
  },
  {
   "cell_type": "markdown",
   "metadata": {},
   "source": [
    "#### Tip: remove cached class to get fresher file"
   ]
  },
  {
   "cell_type": "code",
   "execution_count": 459,
   "metadata": {},
   "outputs": [],
   "source": [
    "del Trainer\n",
    "del TrainingArguments"
   ]
  },
  {
   "cell_type": "code",
   "execution_count": 467,
   "metadata": {},
   "outputs": [],
   "source": [
    "try:\n",
    "    del sys.modules['transformers_recsys2.trainer']\n",
    "    del sys.modules['transformers_recsys2']\n",
    "except AttributeError:\n",
    "    pass\n",
    "import transformers_recsys2.trainer\n",
    "\n"
   ]
  },
  {
   "cell_type": "code",
   "execution_count": 468,
   "metadata": {},
   "outputs": [
    {
     "name": "stderr",
     "output_type": "stream",
     "text": [
      "You are instantiating a Trainer but Tensorboard is not installed. You should consider installing it.\n"
     ]
    },
    {
     "name": "stdout",
     "output_type": "stream",
     "text": [
      "hi2\n"
     ]
    }
   ],
   "source": [
    "from transformers_recsys2 import Trainer, TrainingArguments\n",
    "\n",
    "training_args = TrainingArguments(\n",
    "    output_dir=\"./trained/\",\n",
    "    overwrite_output_dir=True,\n",
    "    num_train_epochs=1,\n",
    "    per_gpu_train_batch_size=64,\n",
    "    save_steps=10_000,\n",
    "    save_total_limit=2,\n",
    ")\n",
    "\n",
    "trainer = Trainer(\n",
    "    model=model,\n",
    "    args=training_args,\n",
    "    prediction_loss_only=True,\n",
    "    ps_train_dataloader=train_dl_wrapper,\n",
    "    ps_eval_dataloader=valid_dl_wrapper,    \n",
    ")"
   ]
  },
  {
   "cell_type": "code",
   "execution_count": 469,
   "metadata": {},
   "outputs": [
    {
     "name": "stderr",
     "output_type": "stream",
     "text": [
      "Using deprecated `--per_gpu_train_batch_size` argument which will be removed in a future version. Using `--per_device_train_batch_size` is preferred.\n"
     ]
    },
    {
     "data": {
      "application/vnd.jupyter.widget-view+json": {
       "model_id": "e342f5cbfced4126893531ba9d67cbde",
       "version_major": 2,
       "version_minor": 0
      },
      "text/plain": [
       "HBox(children=(FloatProgress(value=0.0, description='Epoch', max=1.0, style=ProgressStyle(description_width='i…"
      ]
     },
     "metadata": {},
     "output_type": "display_data"
    },
    {
     "data": {
      "application/vnd.jupyter.widget-view+json": {
       "model_id": "e94e2742dcf4451ab62505ee9d36931d",
       "version_major": 2,
       "version_minor": 0
      },
      "text/plain": [
       "HBox(children=(FloatProgress(value=0.0, description='Iteration', max=4890191.0, style=ProgressStyle(descriptio…"
      ]
     },
     "metadata": {},
     "output_type": "display_data"
    },
    {
     "name": "stdout",
     "output_type": "stream",
     "text": [
      "[{'pid_seq_zpd': array([14633, 14633,     0,     0,     0,     0,     0,     0,     0,\n",
      "           0,     0,     0,     0,     0,     0,     0,     0,     0,\n",
      "           0,     0])}, {'pid_seq_zpd': array([ 91152,  93253,  80381, 125464,  99337,   3786,   5234,   5947,\n",
      "         6816,   3859,  19051,      0,      0,      0,      0,      0,\n",
      "            0,      0,      0,      0])}, {'pid_seq_zpd': array([ 1, 13,  0,  0,  0,  0,  0,  0,  0,  0,  0,  0,  0,  0,  0,  0,  0,\n",
      "        0,  0,  0])}, {'pid_seq_zpd': array([ 4,  4,  2,  9, 20, 87, 12, 12, 12, 12, 12, 12, 12,  0,  0,  0,  0,\n",
      "        0,  0,  0])}, {'pid_seq_zpd': array([ 1166,    50,    50, 19103,    50,    16, 19103,  1166,  1166,\n",
      "          51,     0,     0,     0,     0,     0,     0,     0,     0,\n",
      "           0,     0])}, {'pid_seq_zpd': array([5, 5, 0, 0, 0, 0, 0, 0, 0, 0, 0, 0, 0, 0, 0, 0, 0, 0, 0, 0])}, {'pid_seq_zpd': array([2646, 2171, 2646,  421,  157, 2284,    0,    0,    0,    0,    0,\n",
      "          0,    0,    0,    0,    0,    0,    0,    0,    0])}, {'pid_seq_zpd': array([ 1, 23, 23,  0,  0,  0,  0,  0,  0,  0,  0,  0,  0,  0,  0,  0,  0,\n",
      "        0,  0,  0])}]\n",
      "after transform:\n",
      "[tensor([14633, 14633,     0,     0,     0,     0,     0,     0,     0,     0,\n",
      "            0,     0,     0,     0,     0,     0,     0,     0,     0,     0]), tensor([ 91152,  93253,  80381, 125464,  99337,   3786,   5234,   5947,   6816,\n",
      "          3859,  19051,      0,      0,      0,      0,      0,      0,      0,\n",
      "             0,      0]), tensor([ 1, 13,  0,  0,  0,  0,  0,  0,  0,  0,  0,  0,  0,  0,  0,  0,  0,  0,\n",
      "         0,  0]), tensor([ 4,  4,  2,  9, 20, 87, 12, 12, 12, 12, 12, 12, 12,  0,  0,  0,  0,  0,\n",
      "         0,  0]), tensor([ 1166,    50,    50, 19103,    50,    16, 19103,  1166,  1166,    51,\n",
      "            0,     0,     0,     0,     0,     0,     0,     0,     0,     0]), tensor([5, 5, 0, 0, 0, 0, 0, 0, 0, 0, 0, 0, 0, 0, 0, 0, 0, 0, 0, 0]), tensor([2646, 2171, 2646,  421,  157, 2284,    0,    0,    0,    0,    0,    0,\n",
      "           0,    0,    0,    0,    0,    0,    0,    0]), tensor([ 1, 23, 23,  0,  0,  0,  0,  0,  0,  0,  0,  0,  0,  0,  0,  0,  0,  0,\n",
      "         0,  0])]\n",
      "inputs: {'input_ids': tensor([[ 14633,  14633,      0,      0,      0,      0,      0,      0,      0,\n",
      "              0,      0,      0,      0,      0,      0,      0,      0,      0,\n",
      "              0,      0],\n",
      "        [ 91152,  93253,  80381, 125464,  99337,   3786,   5234,   5947,   6816,\n",
      "           3859,  19051,      0,      0,      0,      0,      0,      0,      0,\n",
      "              0,      0],\n",
      "        [     1,     13,      0,      0,      0,      0,      0,      0,      0,\n",
      "              0,      0,      0,      0,      0,      0,      0,      0,      0,\n",
      "              0,      0],\n",
      "        [     4,      4,      2,      9,     20,     87,     12,     12,     12,\n",
      "             12,     12,     12,     12,      0,      0,      0,      0,      0,\n",
      "              0,      0],\n",
      "        [  1166,     50,     50,  19103,     50,     16,  19103,   1166,   1166,\n",
      "             51,      0,      0,      0,      0,      0,      0,      0,      0,\n",
      "              0,      0],\n",
      "        [     5,      5,      0,      0,      0,      0,      0,      0,      0,\n",
      "              0,      0,      0,      0,      0,      0,      0,      0,      0,\n",
      "              0,      0],\n",
      "        [  2646,   2171,   2646,    421,    157,   2284,      0,      0,      0,\n",
      "              0,      0,      0,      0,      0,      0,      0,      0,      0,\n",
      "              0,      0],\n",
      "        [     1,     23,     23,      0,      0,      0,      0,      0,      0,\n",
      "              0,      0,      0,      0,      0,      0,      0,      0,      0,\n",
      "              0,      0]]), 'labels': tensor([[ 14633,  14633,      0,      0,      0,      0,      0,      0,      0,\n",
      "              0,      0,      0,      0,      0,      0,      0,      0,      0,\n",
      "              0,      0],\n",
      "        [ 91152,  93253,  80381, 125464,  99337,   3786,   5234,   5947,   6816,\n",
      "           3859,  19051,      0,      0,      0,      0,      0,      0,      0,\n",
      "              0,      0],\n",
      "        [     1,     13,      0,      0,      0,      0,      0,      0,      0,\n",
      "              0,      0,      0,      0,      0,      0,      0,      0,      0,\n",
      "              0,      0],\n",
      "        [     4,      4,      2,      9,     20,     87,     12,     12,     12,\n",
      "             12,     12,     12,     12,      0,      0,      0,      0,      0,\n",
      "              0,      0],\n",
      "        [  1166,     50,     50,  19103,     50,     16,  19103,   1166,   1166,\n",
      "             51,      0,      0,      0,      0,      0,      0,      0,      0,\n",
      "              0,      0],\n",
      "        [     5,      5,      0,      0,      0,      0,      0,      0,      0,\n",
      "              0,      0,      0,      0,      0,      0,      0,      0,      0,\n",
      "              0,      0],\n",
      "        [  2646,   2171,   2646,    421,    157,   2284,      0,      0,      0,\n",
      "              0,      0,      0,      0,      0,      0,      0,      0,      0,\n",
      "              0,      0],\n",
      "        [     1,     23,     23,      0,      0,      0,      0,      0,      0,\n",
      "              0,      0,      0,      0,      0,      0,      0,      0,      0,\n",
      "              0,      0]])}\n",
      "\n",
      "\n"
     ]
    },
    {
     "data": {
      "text/plain": [
       "TrainOutput(global_step=1, training_loss=12.084307670593262)"
      ]
     },
     "execution_count": 469,
     "metadata": {},
     "output_type": "execute_result"
    }
   ],
   "source": [
    "trainer.train()\n",
    "\n"
   ]
  }
 ],
 "metadata": {
  "kernelspec": {
   "display_name": "Python 3",
   "language": "python",
   "name": "python3"
  },
  "language_info": {
   "codemirror_mode": {
    "name": "ipython",
    "version": 3
   },
   "file_extension": ".py",
   "mimetype": "text/x-python",
   "name": "python",
   "nbconvert_exporter": "python",
   "pygments_lexer": "ipython3",
   "version": "3.7.6"
  }
 },
 "nbformat": 4,
 "nbformat_minor": 4
}
