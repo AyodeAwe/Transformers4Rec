{
 "cells": [
  {
   "cell_type": "markdown",
   "metadata": {},
   "source": [
    "### Script to create a Spark instance on NGC\n",
    "\n",
    "```\n",
    "ngc batch run --name \"gmoreira-jupyterlab\" --preempt RUNONCE --min-timeslice 0s --total-runtime 0s --ace nv-us-west-2 --instance dgx1v.16g.8.norm --commandline \"jupyter lab --ip=0.0.0.0 --allow-root --no-browser --NotebookApp.token='recsys' --notebook-dir=/ --NotebookApp.allow_origin='*' & date; sleep 200000h\" --result /mount/results --image \"nvidian/rapids/spark2_on_ngc_test\" --org nvidian --team prj-recsys --workspace gmoreira-wksp:/mount/workspace:RW --datasetid 62351:/mount/data/ecommerce_raw --port 6006 --port 7000 --port 8888\n",
    "```"
   ]
  },
  {
   "cell_type": "markdown",
   "metadata": {},
   "source": [
    "# Read, Parse, Process E-Commerce data on PySpark\n",
    "eCommerce dataset: https://www.kaggle.com/mkechinov/ecommerce-behavior-data-from-multi-category-store"
   ]
  },
  {
   "cell_type": "markdown",
   "metadata": {},
   "source": [
    "## Data Download from Kaggle"
   ]
  },
  {
   "cell_type": "code",
   "execution_count": 2,
   "metadata": {},
   "outputs": [
    {
     "name": "stdout",
     "output_type": "stream",
     "text": [
      "Collecting kaggle\n",
      "  Downloading kaggle-1.5.10.tar.gz (59 kB)\n",
      "\u001b[K     |████████████████████████████████| 59 kB 7.8 MB/s  eta 0:00:01\n",
      "\u001b[?25hRequirement already satisfied, skipping upgrade: six>=1.10 in /opt/conda/lib/python3.7/site-packages (from kaggle) (1.14.0)\n",
      "Requirement already satisfied, skipping upgrade: certifi in /opt/conda/lib/python3.7/site-packages (from kaggle) (2020.4.5.1)\n",
      "Requirement already satisfied, skipping upgrade: python-dateutil in /opt/conda/lib/python3.7/site-packages (from kaggle) (2.8.1)\n",
      "Requirement already satisfied, skipping upgrade: requests in /opt/conda/lib/python3.7/site-packages (from kaggle) (2.23.0)\n",
      "Requirement already satisfied, skipping upgrade: tqdm in /opt/conda/lib/python3.7/site-packages (from kaggle) (4.45.0)\n",
      "Collecting python-slugify\n",
      "  Downloading python-slugify-4.0.1.tar.gz (11 kB)\n",
      "Requirement already satisfied, skipping upgrade: urllib3 in /opt/conda/lib/python3.7/site-packages (from kaggle) (1.25.9)\n",
      "Requirement already satisfied, skipping upgrade: idna<3,>=2.5 in /opt/conda/lib/python3.7/site-packages (from requests->kaggle) (2.9)\n",
      "Requirement already satisfied, skipping upgrade: chardet<4,>=3.0.2 in /opt/conda/lib/python3.7/site-packages (from requests->kaggle) (3.0.4)\n",
      "Collecting text-unidecode>=1.3\n",
      "  Downloading text_unidecode-1.3-py2.py3-none-any.whl (78 kB)\n",
      "\u001b[K     |████████████████████████████████| 78 kB 12.0 MB/s eta 0:00:01\n",
      "\u001b[?25hBuilding wheels for collected packages: kaggle, python-slugify\n",
      "  Building wheel for kaggle (setup.py) ... \u001b[?25ldone\n",
      "\u001b[?25h  Created wheel for kaggle: filename=kaggle-1.5.10-py3-none-any.whl size=73269 sha256=8cfb8a9ea4d79183eb62b51d0659802635cd43dd65c6cda62084d96021d94c91\n",
      "  Stored in directory: /home/jovyan/.cache/pip/wheels/ea/c5/fe/7e7fb5b3d1f150fac96188949b3d83d375a4c9df16ba557e52\n",
      "  Building wheel for python-slugify (setup.py) ... \u001b[?25ldone\n",
      "\u001b[?25h  Created wheel for python-slugify: filename=python_slugify-4.0.1-py2.py3-none-any.whl size=6767 sha256=105d20759ec29723caa7687dd13d7beedb5f9b4cec3be51169a64eceafcfd9be\n",
      "  Stored in directory: /home/jovyan/.cache/pip/wheels/48/1b/6f/5c1cfab22eacbe0095fc619786da6571b55253653c71324b5c\n",
      "Successfully built kaggle python-slugify\n",
      "Installing collected packages: text-unidecode, python-slugify, kaggle\n",
      "Successfully installed kaggle-1.5.10 python-slugify-4.0.1 text-unidecode-1.3\n"
     ]
    }
   ],
   "source": [
    "!pip install kaggle --upgrade"
   ]
  },
  {
   "cell_type": "code",
   "execution_count": 9,
   "metadata": {},
   "outputs": [
    {
     "name": "stdout",
     "output_type": "stream",
     "text": [
      "Downloading ecommerce-behavior-data-from-multi-category-store.zip to /home/jovyan/data\n",
      "100%|█████████████████████████████████████▉| 4.28G/4.29G [00:59<00:00, 91.0MB/s]\n",
      "100%|██████████████████████████████████████| 4.29G/4.29G [00:59<00:00, 78.0MB/s]\n",
      "Archive:  ecommerce-behavior-data-from-multi-category-store.zip\n",
      "  inflating: 2019-Nov.csv            \n",
      "  inflating: 2019-Oct.csv            \n"
     ]
    }
   ],
   "source": [
    "# NOTE: first to get kaggle api tiken from account page in Kaggle. Place it at ~/.kaggle/kaggle.json\n",
    "!mkdir -p ~/.kaggle/ && cp /mount/workspace/kaggle.json ~/.kaggle/ && chmod 600 ~/.kaggle/kaggle.json\n",
    "!mkdir -p ~/data\n",
    "!cd ~/data && kaggle datasets download mkechinov/ecommerce-behavior-data-from-multi-category-store\n",
    "!cd ~/data && unzip ecommerce-behavior-data-from-multi-category-store.zip"
   ]
  },
  {
   "cell_type": "markdown",
   "metadata": {},
   "source": [
    "### Downloading additional months from Google Drive"
   ]
  },
  {
   "cell_type": "code",
   "execution_count": 10,
   "metadata": {},
   "outputs": [
    {
     "name": "stdout",
     "output_type": "stream",
     "text": [
      "Requirement already satisfied: gdown in /opt/conda/lib/python3.7/site-packages (3.12.2)\n",
      "Requirement already satisfied: requests[socks] in /opt/conda/lib/python3.7/site-packages (from gdown) (2.23.0)\n",
      "Requirement already satisfied: tqdm in /opt/conda/lib/python3.7/site-packages (from gdown) (4.45.0)\n",
      "Requirement already satisfied: filelock in /opt/conda/lib/python3.7/site-packages (from gdown) (3.0.12)\n",
      "Requirement already satisfied: six in /opt/conda/lib/python3.7/site-packages (from gdown) (1.14.0)\n",
      "Requirement already satisfied: urllib3!=1.25.0,!=1.25.1,<1.26,>=1.21.1 in /opt/conda/lib/python3.7/site-packages (from requests[socks]->gdown) (1.25.9)\n",
      "Requirement already satisfied: certifi>=2017.4.17 in /opt/conda/lib/python3.7/site-packages (from requests[socks]->gdown) (2020.4.5.1)\n",
      "Requirement already satisfied: chardet<4,>=3.0.2 in /opt/conda/lib/python3.7/site-packages (from requests[socks]->gdown) (3.0.4)\n",
      "Requirement already satisfied: idna<3,>=2.5 in /opt/conda/lib/python3.7/site-packages (from requests[socks]->gdown) (2.9)\n",
      "Requirement already satisfied: PySocks!=1.5.7,>=1.5.6; extra == \"socks\" in /opt/conda/lib/python3.7/site-packages (from requests[socks]->gdown) (1.7.1)\n"
     ]
    }
   ],
   "source": [
    "!pip install gdown\n",
    "!cd ~/data "
   ]
  },
  {
   "cell_type": "code",
   "execution_count": 11,
   "metadata": {},
   "outputs": [
    {
     "name": "stdout",
     "output_type": "stream",
     "text": [
      "Downloading...\n",
      "From: https://drive.google.com/uc?id=1qZIwMbMgMmgDC5EoMdJ8aI9lQPsWA3-P\n",
      "To: /home/jovyan/data/2019-Dec.csv.gz\n",
      "2.95GB [00:51, 57.0MB/s]\n",
      "Unziping\n"
     ]
    }
   ],
   "source": [
    "!cd ~/data && gdown https://drive.google.com/uc?id=1qZIwMbMgMmgDC5EoMdJ8aI9lQPsWA3-P\n",
    "!cd ~/data && echo \"Unziping\" && gunzip 2019-Dec.csv.gz"
   ]
  },
  {
   "cell_type": "code",
   "execution_count": 12,
   "metadata": {},
   "outputs": [
    {
     "name": "stdout",
     "output_type": "stream",
     "text": [
      "Downloading...\n",
      "From: https://drive.google.com/uc?id=1x5ohrrZNhWQN4Q-zww0RmXOwctKHH9PT\n",
      "To: /home/jovyan/data/2020-Jan.csv.gz\n",
      "2.39GB [00:48, 49.5MB/s]\n",
      "Unziping\n"
     ]
    }
   ],
   "source": [
    "!cd ~/data && gdown https://drive.google.com/uc?id=1x5ohrrZNhWQN4Q-zww0RmXOwctKHH9PT\n",
    "!cd ~/data && echo \"Unziping\" && gunzip 2020-Jan.csv.gz"
   ]
  },
  {
   "cell_type": "code",
   "execution_count": 13,
   "metadata": {},
   "outputs": [
    {
     "name": "stdout",
     "output_type": "stream",
     "text": [
      "Downloading...\n",
      "From: https://drive.google.com/uc?id=1-Rov9fFtGJqb7_ePc6qH-Rhzxn0cIcKB\n",
      "To: /home/jovyan/data/2020-Feb.csv.gz\n",
      "2.35GB [00:37, 62.0MB/s]\n",
      "Unziping\n"
     ]
    }
   ],
   "source": [
    "!cd ~/data && gdown https://drive.google.com/uc?id=1-Rov9fFtGJqb7_ePc6qH-Rhzxn0cIcKB\n",
    "!cd ~/data && echo \"Unziping\" && gunzip 2020-Feb.csv.gz"
   ]
  },
  {
   "cell_type": "code",
   "execution_count": 14,
   "metadata": {},
   "outputs": [
    {
     "name": "stdout",
     "output_type": "stream",
     "text": [
      "Downloading...\n",
      "From: https://drive.google.com/uc?id=1zr_RXpGvOWN2PrWI6itWL8HnRsCpyqz8\n",
      "To: /home/jovyan/data/2020-Mar.csv.gz\n",
      "2.42GB [00:27, 88.8MB/s]\n",
      "Unziping\n"
     ]
    }
   ],
   "source": [
    "!cd ~/data && gdown https://drive.google.com/uc?id=1zr_RXpGvOWN2PrWI6itWL8HnRsCpyqz8\n",
    "!cd ~/data && echo \"Unziping\" && gunzip 2020-Mar.csv.gz"
   ]
  },
  {
   "cell_type": "code",
   "execution_count": 15,
   "metadata": {},
   "outputs": [
    {
     "name": "stdout",
     "output_type": "stream",
     "text": [
      "Downloading...\n",
      "From: https://drive.google.com/uc?id=1g5WoIgLe05UMdREbxAjh0bEFgVCjA1UL\n",
      "To: /home/jovyan/data/2020-Apr.csv.gz\n",
      "2.93GB [00:55, 53.0MB/s]\n",
      "Unziping\n"
     ]
    }
   ],
   "source": [
    "!cd ~/data && gdown https://drive.google.com/uc?id=1g5WoIgLe05UMdREbxAjh0bEFgVCjA1UL\n",
    "!cd ~/data && echo \"Unziping\" && gunzip 2020-Apr.csv.gz"
   ]
  },
  {
   "cell_type": "markdown",
   "metadata": {},
   "source": [
    "## Configurations"
   ]
  },
  {
   "cell_type": "code",
   "execution_count": 1,
   "metadata": {},
   "outputs": [],
   "source": [
    "NUM_MONTHS_TO_PREPROCESS = 1 #For the eCommerce dataset there are up to 7 months (2019-Oct to 2020-Apr)\n",
    "KEEP_REPEATED_USER_INTERACTIONS = True"
   ]
  },
  {
   "cell_type": "markdown",
   "metadata": {},
   "source": [
    "## Setup Spark"
   ]
  },
  {
   "cell_type": "code",
   "execution_count": 2,
   "metadata": {},
   "outputs": [],
   "source": [
    "import os"
   ]
  },
  {
   "cell_type": "code",
   "execution_count": 3,
   "metadata": {},
   "outputs": [],
   "source": [
    "import pyspark\n",
    "import pyspark.sql.functions as F\n",
    "from pyspark.sql.functions import udf\n",
    "from pyspark.ml.evaluation import BinaryClassificationEvaluator\n",
    "from pyspark.sql.types import *\n",
    "from pyspark.ml.recommendation import ALS\n",
    "from pyspark.sql import Window\n",
    "from pyspark.ml.linalg import Vectors, Vector, DenseVector, SparseVector, VectorUDT\n",
    "from pyspark.ml.stat import Summarizer"
   ]
  },
  {
   "cell_type": "code",
   "execution_count": 4,
   "metadata": {},
   "outputs": [],
   "source": [
    "from pyspark.sql import SparkSession\n",
    "\n",
    "# Setup for 400GB Mem machine\n",
    "config = pyspark.SparkConf().setAll([('spark.executor.memory', '350g'),\n",
    "                                     ('spark.executor.instances', '1'),\n",
    "                                     ('spark.cores.max', '64'),\n",
    "                                     #('spark.cores.max', '3'),\n",
    "                                     ('spark.executor.cores', '64'),\n",
    "                                     ('spark.driver.memory','30g')\n",
    "                                    ])\n",
    "spark = SparkSession.builder.config(conf=config).appName(\"JobName\").getOrCreate()\n",
    "\n",
    "# Setup for 200GB Mem machine\n",
    "# config = pyspark.SparkConf().setAll([('spark.executor.cores', '4'),\n",
    "#                                      ('spark.executor.instances', '2'),\n",
    "#                                      ('spark.executor.memory', '12g'), \n",
    "#                                      ('spark.executor.memoryOverhead', '2g'), \n",
    "#                                      #('spark.driver.cores', '4'),\n",
    "#                                      #('spark.driver.memory', '12g'),\n",
    "#                                      ('spark.dynamicAllocation.enabled', 'false'),\n",
    "#                                      ('spark.io.compression.codec', 'snappy')\n",
    "#                                     ])\n",
    "\n",
    "# spark = SparkSession.builder.config(conf=config).appName(\"Recsys-Transformer-Research\").getOrCreate()"
   ]
  },
  {
   "cell_type": "markdown",
   "metadata": {},
   "source": [
    "## Read Data"
   ]
  },
  {
   "cell_type": "code",
   "execution_count": 5,
   "metadata": {},
   "outputs": [],
   "source": [
    "import numpy as np # linear algebra\n",
    "import pandas as pd # data processing, CSV file I/O (e.g. pd.read_csv)"
   ]
  },
  {
   "cell_type": "code",
   "execution_count": 6,
   "metadata": {},
   "outputs": [],
   "source": [
    "DATA_PATH = '/home/jovyan/data'"
   ]
  },
  {
   "cell_type": "code",
   "execution_count": 7,
   "metadata": {},
   "outputs": [],
   "source": [
    "MONTHS_FILES = [\"2019-Oct.csv\", \"2019-Nov.csv\", \"2019-Dec.csv\", \"2020-Jan.csv\", \"2020-Feb.csv\", \"2020-Mar.csv\", \"2020-Apr.csv\"]"
   ]
  },
  {
   "cell_type": "code",
   "execution_count": 8,
   "metadata": {},
   "outputs": [
    {
     "data": {
      "text/plain": [
       "['2019-Oct.csv']"
      ]
     },
     "execution_count": 8,
     "metadata": {},
     "output_type": "execute_result"
    }
   ],
   "source": [
    "selected_months = MONTHS_FILES[:NUM_MONTHS_TO_PREPROCESS]\n",
    "selected_months"
   ]
  },
  {
   "cell_type": "code",
   "execution_count": 9,
   "metadata": {},
   "outputs": [
    {
     "data": {
      "text/plain": [
       "['/home/jovyan/data/2019-Oct.csv']"
      ]
     },
     "execution_count": 9,
     "metadata": {},
     "output_type": "execute_result"
    }
   ],
   "source": [
    "files_paths = [os.path.join(DATA_PATH, file) for file in selected_months]\n",
    "files_paths"
   ]
  },
  {
   "cell_type": "markdown",
   "metadata": {},
   "source": [
    "#### Read through Spark from CSV"
   ]
  },
  {
   "cell_type": "code",
   "execution_count": 10,
   "metadata": {},
   "outputs": [
    {
     "name": "stdout",
     "output_type": "stream",
     "text": [
      "root\n",
      " |-- event_time: string (nullable = true)\n",
      " |-- event_type: string (nullable = true)\n",
      " |-- product_id: integer (nullable = true)\n",
      " |-- category_id: long (nullable = true)\n",
      " |-- category_code: string (nullable = true)\n",
      " |-- brand: string (nullable = true)\n",
      " |-- price: double (nullable = true)\n",
      " |-- user_id: integer (nullable = true)\n",
      " |-- user_session: string (nullable = true)\n",
      "\n",
      "CPU times: user 1.07 ms, sys: 5.3 ms, total: 6.38 ms\n",
      "Wall time: 12.5 s\n"
     ]
    }
   ],
   "source": [
    "%%time\n",
    "raw_df = spark.read.csv(files_paths, inferSchema = True, header = True) #.limit(1000)\n",
    "raw_df.printSchema()"
   ]
  },
  {
   "cell_type": "code",
   "execution_count": 11,
   "metadata": {},
   "outputs": [
    {
     "name": "stdout",
     "output_type": "stream",
     "text": [
      "CPU times: user 0 ns, sys: 8.42 ms, total: 8.42 ms\n",
      "Wall time: 252 ms\n"
     ]
    },
    {
     "data": {
      "text/plain": [
       "[Row(event_time='2019-10-01 00:00:00 UTC', event_type='view', product_id=44600062, category_id=2103807459595387724, category_code=None, brand='shiseido', price=35.79, user_id=541312140, user_session='72d76fde-8bb3-4e00-8c23-a032dfed738c'),\n",
       " Row(event_time='2019-10-01 00:00:00 UTC', event_type='view', product_id=3900821, category_id=2053013552326770905, category_code='appliances.environment.water_heater', brand='aqua', price=33.2, user_id=554748717, user_session='9333dfbd-b87a-4708-9857-6336556b0fcc')]"
      ]
     },
     "execution_count": 11,
     "metadata": {},
     "output_type": "execute_result"
    }
   ],
   "source": [
    "%%time\n",
    "raw_df.head(2)"
   ]
  },
  {
   "cell_type": "markdown",
   "metadata": {},
   "source": [
    "## Convert timestamp from datetime"
   ]
  },
  {
   "cell_type": "code",
   "execution_count": 76,
   "metadata": {},
   "outputs": [],
   "source": [
    "raw_df = raw_df.withColumn('event_time_dt', F.to_timestamp('event_time','yyyy-MM-dd HH:mm:ss')) \\\n",
    "           .withColumn('event_time_ts', F.unix_timestamp('event_time_dt')) \\"
   ]
  },
  {
   "cell_type": "code",
   "execution_count": 77,
   "metadata": {},
   "outputs": [
    {
     "name": "stdout",
     "output_type": "stream",
     "text": [
      "+--------------------+----------+----------+-------------------+--------------------+--------+-------+---------+--------------------+-------------------+-------------+\n",
      "|          event_time|event_type|product_id|        category_id|       category_code|   brand|  price|  user_id|        user_session|      event_time_dt|event_time_ts|\n",
      "+--------------------+----------+----------+-------------------+--------------------+--------+-------+---------+--------------------+-------------------+-------------+\n",
      "|2019-10-01 00:00:...|      view|  44600062|2103807459595387724|                null|shiseido|  35.79|541312140|72d76fde-8bb3-4e0...|2019-10-01 00:00:00|   1569888000|\n",
      "|2019-10-01 00:00:...|      view|   3900821|2053013552326770905|appliances.enviro...|    aqua|   33.2|554748717|9333dfbd-b87a-470...|2019-10-01 00:00:00|   1569888000|\n",
      "|2019-10-01 00:00:...|      view|  17200506|2053013559792632471|furniture.living_...|    null|  543.1|519107250|566511c2-e2e3-422...|2019-10-01 00:00:01|   1569888001|\n",
      "|2019-10-01 00:00:...|      view|   1307067|2053013558920217191|  computers.notebook|  lenovo| 251.74|550050854|7c90fc70-0e80-459...|2019-10-01 00:00:01|   1569888001|\n",
      "|2019-10-01 00:00:...|      view|   1004237|2053013555631882655|electronics.smart...|   apple|1081.98|535871217|c6bd7419-2748-4c5...|2019-10-01 00:00:04|   1569888004|\n",
      "+--------------------+----------+----------+-------------------+--------------------+--------+-------+---------+--------------------+-------------------+-------------+\n",
      "only showing top 5 rows\n",
      "\n"
     ]
    }
   ],
   "source": [
    "raw_df.show(5)"
   ]
  },
  {
   "cell_type": "markdown",
   "metadata": {},
   "source": [
    "## Removing repeated (user,item) interactions"
   ]
  },
  {
   "cell_type": "code",
   "execution_count": null,
   "metadata": {},
   "outputs": [],
   "source": [
    "df = raw_df"
   ]
  },
  {
   "cell_type": "code",
   "execution_count": 13,
   "metadata": {},
   "outputs": [
    {
     "name": "stdout",
     "output_type": "stream",
     "text": [
      "CPU times: user 2.47 ms, sys: 0 ns, total: 2.47 ms\n",
      "Wall time: 1.89 s\n"
     ]
    },
    {
     "data": {
      "text/plain": [
       "42448764"
      ]
     },
     "execution_count": 13,
     "metadata": {},
     "output_type": "execute_result"
    }
   ],
   "source": [
    "%%time\n",
    "df.count()"
   ]
  },
  {
   "cell_type": "code",
   "execution_count": 14,
   "metadata": {},
   "outputs": [],
   "source": [
    "#Keeping only the first user interaction with an item (ignores all future repeated interactions)\n",
    "if not KEEP_REPEATED_USER_INTERACTIONS:\n",
    "    df_first_user_item_interaction_df = df.groupBy(['user_id', 'product_id']).agg(F.min('event_time_ts').alias('first_user_item_event_time_ts'))\n",
    "    df = df.join(df_first_user_item_interaction_df, how='inner',\n",
    "                                              on=((df['user_id'] == df_first_user_item_interaction_df['user_id'])) &\n",
    "                                                  (df['product_id'] == df_first_user_item_interaction_df['product_id']) &\n",
    "                                                  (df['event_time_ts'] == df_first_user_item_interaction_df['first_user_item_event_time_ts'])) \\\n",
    "                                .drop(df_first_user_item_interaction_df['user_id']) \\\n",
    "                                .drop(df_first_user_item_interaction_df['product_id']) \\\n",
    "                                .drop(df_first_user_item_interaction_df['first_user_item_event_time_ts'])\n",
    "#Keeps repeated interactions on the same items, removing only consecutive interactions, because it might be due to browser tab refreshes or different interaction types (e.g. click, add-to-card, purchase)\n",
    "else:\n",
    "    user_id_window = Window.partitionBy('user_id').orderBy('event_time_ts')\n",
    "    df = df.withColumn('last_product_id_interacted_by_user', F.lag('product_id').over(user_id_window)) \\\n",
    "           .where(F.col('last_product_id_interacted_by_user') != F.col('product_id')) \\\n",
    "           .drop(F.col('last_product_id_interacted_by_user'))    "
   ]
  },
  {
   "cell_type": "code",
   "execution_count": 15,
   "metadata": {},
   "outputs": [
    {
     "name": "stdout",
     "output_type": "stream",
     "text": [
      "26565608\n",
      "CPU times: user 1.03 ms, sys: 4.96 ms, total: 5.99 ms\n",
      "Wall time: 19.3 s\n"
     ]
    }
   ],
   "source": [
    "%%time\n",
    "print(df.count())"
   ]
  },
  {
   "cell_type": "markdown",
   "metadata": {},
   "source": [
    "**Full Dataset (7 months) Stats - Number of interactions**\n",
    "- No filter: 411709736\n",
    "- Removed iser consecutive repeated interactions in the same items: 261390136\n",
    "- Removing all user repeated interactions with the same items: 204098003"
   ]
  },
  {
   "cell_type": "markdown",
   "metadata": {},
   "source": [
    "**1 Months Stats - Number of interactions**\n",
    "- No filter: 42448764\n",
    "- Removed iser consecutive repeated interactions in the same items: 26565608 \n",
    "- Removing all user repeated interactions with the same items: 23312920"
   ]
  },
  {
   "cell_type": "markdown",
   "metadata": {},
   "source": [
    "## Categorical features encoding\n",
    "\n",
    "API: https://spark.apache.org/docs/latest/api/python/pyspark.ml.html?pyspark.ml.feature.StringIndexer#pyspark.ml.feature.StringIndexer\n",
    "\n",
    "How to apply:\n",
    "https://stackoverflow.com/questions/36942233/apply-stringindexer-to-several-columns-in-a-pyspark-dataframe"
   ]
  },
  {
   "cell_type": "code",
   "execution_count": 16,
   "metadata": {},
   "outputs": [
    {
     "name": "stdout",
     "output_type": "stream",
     "text": [
      "CPU times: user 65.1 ms, sys: 40.1 ms, total: 105 ms\n",
      "Wall time: 1min 21s\n"
     ]
    }
   ],
   "source": [
    "%%time\n",
    "from pyspark.ml.feature import StringIndexer\n",
    "from pyspark.ml import Pipeline\n",
    "\n",
    "#Null values are treated by handleInvalid=\"keep\" with a special bucket\n",
    "#userid_idxer = StringIndexer(inputCol=\"user_id\", outputCol=\"user_idx\", handleInvalid=\"keep\", stringOrderType=\"frequencyDesc\")\n",
    "product_idxer = StringIndexer(inputCol=\"product_id\", outputCol=\"product_idx\", handleInvalid=\"keep\", stringOrderType=\"frequencyDesc\")\n",
    "category_id_idxer = StringIndexer(inputCol=\"category_id\", outputCol=\"category_sub_idx\", handleInvalid=\"keep\", stringOrderType=\"frequencyDesc\")\n",
    "category_code_idxer = StringIndexer(inputCol=\"category_code\", outputCol=\"category_code_idx\", handleInvalid=\"keep\", stringOrderType=\"frequencyDesc\")\n",
    "brand_idxer = StringIndexer(inputCol=\"brand\", outputCol=\"brand_idx\", handleInvalid=\"keep\", stringOrderType=\"frequencyDesc\")\n",
    "event_type_idxer = StringIndexer(inputCol=\"event_type\", outputCol=\"event_type_idx\", handleInvalid=\"keep\", stringOrderType=\"frequencyDesc\")\n",
    "\n",
    "\n",
    "#NOTE: userid_idxer gets error!\n",
    "\n",
    "indexers = [product_idxer, category_id_idxer, category_code_idxer, brand_idxer, event_type_idxer]   #,userid_idxer\n",
    "indexing_pipeline = Pipeline(stages = indexers)\n",
    "         \n",
    "indexing_model = indexing_pipeline.fit(df)\n",
    "df_indexed = indexing_model.transform(df)"
   ]
  },
  {
   "cell_type": "markdown",
   "metadata": {},
   "source": [
    "### Add two to indexed columns"
   ]
  },
  {
   "cell_type": "code",
   "execution_count": 17,
   "metadata": {},
   "outputs": [],
   "source": [
    "start_idx = 2\n",
    "\n",
    "df_indexed = df_indexed.withColumn('product_idx', (F.col('product_idx')+start_idx).cast(IntegerType())) \\\n",
    "                       .withColumn('category_sub_idx', (F.col('category_sub_idx')+start_idx).cast(IntegerType())) \\\n",
    "                       .withColumn('category_code_idx', (F.col('category_code_idx')+start_idx).cast(IntegerType())) \\\n",
    "                       .withColumn('brand_idx', (F.col('brand_idx')+start_idx).cast(IntegerType())) \\\n",
    "                       .withColumn('event_type_idx', (F.col('event_type_idx')+start_idx).cast(IntegerType())) \\\n",
    "                       .withColumn('user_idx', F.col('user_id')+start_idx) #Keeps the original user id as it is (because it causes error on StringIndexer, due to the high cardinality)\n",
    "\n",
    "#.withColumn('user_idx', (F.col('user_idx')+start_idx).cast(IntegerType())) \\"
   ]
  },
  {
   "cell_type": "code",
   "execution_count": 73,
   "metadata": {},
   "outputs": [
    {
     "data": {
      "text/plain": [
       "['category_id',\n",
       " 'product_id',\n",
       " 'event_time',\n",
       " 'event_type',\n",
       " 'category_code',\n",
       " 'brand',\n",
       " 'price',\n",
       " 'user_id',\n",
       " 'user_session',\n",
       " 'event_time_dt',\n",
       " 'event_time_ts',\n",
       " 'product_idx',\n",
       " 'category_sub_idx',\n",
       " 'category_code_idx',\n",
       " 'brand_idx',\n",
       " 'event_type_idx',\n",
       " 'user_idx',\n",
       " 'et_hour',\n",
       " 'et_dayofweek',\n",
       " 'et_dayofmonth',\n",
       " 'et_month',\n",
       " 'et_hour_sin',\n",
       " 'et_hour_cos',\n",
       " 'et_dayofweek_sin',\n",
       " 'et_dayofweek_cos',\n",
       " 'et_dayofmonth_sin',\n",
       " 'et_dayofmonth_cos',\n",
       " 'et_month_sin',\n",
       " 'et_month_cos',\n",
       " 'prod_first_event_time_ts',\n",
       " 'product_recency_days',\n",
       " 'product_recency_days_log',\n",
       " 'price_log',\n",
       " 'avg_category_id_price',\n",
       " 'relative_price_to_avg_category_id',\n",
       " 'price_log_norm',\n",
       " 'product_recency_days_log_norm',\n",
       " 'prev_event_time_ts',\n",
       " 'delta_event_secs',\n",
       " 'delta_event_secs_log',\n",
       " 'delta_event_secs_log_norm']"
      ]
     },
     "execution_count": 73,
     "metadata": {},
     "output_type": "execute_result"
    }
   ],
   "source": [
    "df_indexed.columns"
   ]
  },
  {
   "cell_type": "markdown",
   "metadata": {},
   "source": [
    "### Analyze categorical statistics"
   ]
  },
  {
   "cell_type": "code",
   "execution_count": 18,
   "metadata": {},
   "outputs": [],
   "source": [
    "from pyspark.sql.functions import countDistinct"
   ]
  },
  {
   "cell_type": "code",
   "execution_count": 19,
   "metadata": {},
   "outputs": [
    {
     "name": "stdout",
     "output_type": "stream",
     "text": [
      "+-----------------------+\n",
      "|count(DISTINCT user_id)|\n",
      "+-----------------------+\n",
      "|                2029649|\n",
      "+-----------------------+\n",
      "\n"
     ]
    }
   ],
   "source": [
    "gr = df_indexed.agg(F.countDistinct(\"user_id\"))\n",
    "gr.show()"
   ]
  },
  {
   "cell_type": "code",
   "execution_count": 20,
   "metadata": {},
   "outputs": [
    {
     "name": "stdout",
     "output_type": "stream",
     "text": [
      "+----------------------------+\n",
      "|count(DISTINCT user_session)|\n",
      "+----------------------------+\n",
      "|                     6767473|\n",
      "+----------------------------+\n",
      "\n",
      "CPU times: user 2.5 ms, sys: 23.5 ms, total: 26 ms\n",
      "Wall time: 25.5 s\n"
     ]
    }
   ],
   "source": [
    "%%time\n",
    "gr = df_indexed.agg(F.countDistinct(\"user_session\"))\n",
    "gr.show()"
   ]
  },
  {
   "cell_type": "code",
   "execution_count": 21,
   "metadata": {},
   "outputs": [
    {
     "name": "stdout",
     "output_type": "stream",
     "text": [
      "+--------------+--------+\n",
      "|event_type_idx|   count|\n",
      "+--------------+--------+\n",
      "|             3|    2677|\n",
      "|             4|    1152|\n",
      "|             2|26561779|\n",
      "+--------------+--------+\n",
      "\n",
      "CPU times: user 2.27 ms, sys: 4.95 ms, total: 7.21 ms\n",
      "Wall time: 13.8 s\n"
     ]
    }
   ],
   "source": [
    "%%time\n",
    "gr = df_indexed.groupBy('event_type_idx').count()\n",
    "gr.show()"
   ]
  },
  {
   "cell_type": "code",
   "execution_count": 22,
   "metadata": {},
   "outputs": [
    {
     "name": "stdout",
     "output_type": "stream",
     "text": [
      "+----------------+---------------------+----------------------+--------------+-------------------+\n",
      "|max(product_idx)|max(category_sub_idx)|max(category_code_idx)|max(brand_idx)|max(event_type_idx)|\n",
      "+----------------+---------------------+----------------------+--------------+-------------------+\n",
      "|          164410|                  625|                   128|          3425|                  4|\n",
      "+----------------+---------------------+----------------------+--------------+-------------------+\n",
      "\n",
      "CPU times: user 6.09 ms, sys: 22.4 ms, total: 28.5 ms\n",
      "Wall time: 26.3 s\n"
     ]
    }
   ],
   "source": [
    "%%time\n",
    "df_indexed.agg(F.max('product_idx'), F.max('category_sub_idx'), F.max('category_code_idx'), \n",
    "               F.max('brand_idx'), F.max('event_type_idx')).show()"
   ]
  },
  {
   "cell_type": "markdown",
   "metadata": {},
   "source": [
    "## Extract temporal features"
   ]
  },
  {
   "cell_type": "code",
   "execution_count": 23,
   "metadata": {},
   "outputs": [],
   "source": [
    "df_indexed = df_indexed.withColumn('et_hour', F.hour('event_time_dt'))\\\n",
    "                     .withColumn('et_dayofweek', F.dayofweek('event_time_dt'))\\\n",
    "                     .withColumn('et_dayofmonth', F.dayofmonth('event_time_dt'))\\\n",
    "                     .withColumn('et_month', F.month('event_time_dt'))                "
   ]
  },
  {
   "cell_type": "code",
   "execution_count": 24,
   "metadata": {},
   "outputs": [],
   "source": [
    "def cyclical_feature(value, func, max_value):\n",
    "    if func == 'sin':\n",
    "        f = np.sin\n",
    "    elif func == 'cos':\n",
    "        f = np.cos\n",
    "    else:\n",
    "        raise Exception('Invalid func (expected: sin|cos)')\n",
    "        \n",
    "    value_scaled = (value + 1e-8) / max_value\n",
    "    return float(f(2.*np.pi*value_scaled))\n",
    "\n",
    "@udf(returnType=FloatType())\n",
    "def cyclical_feature_udf(value, func, max_value):\n",
    "    return cyclical_feature(value, func, max_value)"
   ]
  },
  {
   "cell_type": "code",
   "execution_count": 25,
   "metadata": {},
   "outputs": [],
   "source": [
    "# Generating cyclical features to model continuity on temporal features\n",
    "df_indexed = df_indexed.withColumn('et_hour_sin', cyclical_feature_udf(F.col('et_hour'), F.lit('sin'), F.lit(24))) \\\n",
    "                   .withColumn('et_hour_cos', cyclical_feature_udf(F.col('et_hour'), F.lit('cos'), F.lit(24))) \\\n",
    "                   .withColumn('et_dayofweek_sin', cyclical_feature_udf(F.col('et_dayofweek'), F.lit('sin'), F.lit(7))) \\\n",
    "                   .withColumn('et_dayofweek_cos', cyclical_feature_udf(F.col('et_dayofweek'), F.lit('cos'), F.lit(7))) \\\n",
    "                   .withColumn('et_dayofmonth_sin', cyclical_feature_udf(F.col('et_dayofmonth'), F.lit('sin'), F.lit(31))) \\\n",
    "                   .withColumn('et_dayofmonth_cos', cyclical_feature_udf(F.col('et_dayofmonth'), F.lit('cos'), F.lit(31))) \\\n",
    "                   .withColumn('et_month_sin', cyclical_feature_udf(F.col('et_month'), F.lit('sin'), F.lit(12))) \\\n",
    "                   .withColumn('et_month_cos', cyclical_feature_udf(F.col('et_month'), F.lit('cos'), F.lit(12)))"
   ]
  },
  {
   "cell_type": "code",
   "execution_count": 26,
   "metadata": {},
   "outputs": [],
   "source": [
    "# Recency feature\n",
    "item_first_interaction_df = df_indexed.groupBy('product_id').agg(F.min('event_time_ts').alias('prod_first_event_time_ts'))\n",
    "df_indexed = df_indexed.join(item_first_interaction_df, on='product_id', how='inner') \\\n",
    "            .withColumn('product_recency_days', (F.col('event_time_ts') - F.col('prod_first_event_time_ts')) / (60*60*24)) \\\n",
    "            .withColumn('product_recency_days_log', F.log1p('product_recency_days'))"
   ]
  },
  {
   "cell_type": "code",
   "execution_count": 27,
   "metadata": {},
   "outputs": [],
   "source": [
    "#df.head(100)"
   ]
  },
  {
   "cell_type": "code",
   "execution_count": 28,
   "metadata": {},
   "outputs": [],
   "source": [
    "#Smoothing price long-tailed distribution\n",
    "df_indexed = df_indexed.withColumn('price_log', F.log1p('price'))"
   ]
  },
  {
   "cell_type": "code",
   "execution_count": 29,
   "metadata": {},
   "outputs": [],
   "source": [
    "#Relative Price to the average price for the category_id\n",
    "avg_category_id_prices_df = df_indexed.groupBy('category_id').agg(F.mean('price').alias('avg_category_id_price'))\n",
    "df_indexed = df_indexed.join(avg_category_id_prices_df, on='category_id', how='inner') \\\n",
    "        .withColumn('relative_price_to_avg_category_id', (F.col('price') - F.col('avg_category_id_price')) / F.col('avg_category_id_price'))"
   ]
  },
  {
   "cell_type": "code",
   "execution_count": 30,
   "metadata": {},
   "outputs": [],
   "source": [
    "#_df_sb_a.groupBy('product_id').agg(F.stddev('price').alias('std')).where(~F.isnan('std')).agg(F.mean('std')).show()"
   ]
  },
  {
   "cell_type": "code",
   "execution_count": 31,
   "metadata": {},
   "outputs": [],
   "source": [
    "#_df_sb_a.groupBy('category_id').agg(F.stddev('price').alias('std')).where(~F.isnan('std')).agg(F.mean('std')).show()"
   ]
  },
  {
   "cell_type": "code",
   "execution_count": 32,
   "metadata": {},
   "outputs": [],
   "source": [
    "#_df_sb_a.groupBy('category_code').agg(F.stddev('price').alias('std')).agg(F.mean('std')).show()"
   ]
  },
  {
   "cell_type": "code",
   "execution_count": 33,
   "metadata": {},
   "outputs": [
    {
     "data": {
      "text/plain": [
       "[('category_id', 'bigint'),\n",
       " ('product_id', 'int'),\n",
       " ('event_time', 'string'),\n",
       " ('event_type', 'string'),\n",
       " ('category_code', 'string'),\n",
       " ('brand', 'string'),\n",
       " ('price', 'double'),\n",
       " ('user_id', 'int'),\n",
       " ('user_session', 'string'),\n",
       " ('event_time_dt', 'timestamp'),\n",
       " ('event_time_ts', 'bigint'),\n",
       " ('product_idx', 'int'),\n",
       " ('category_sub_idx', 'int'),\n",
       " ('category_code_idx', 'int'),\n",
       " ('brand_idx', 'int'),\n",
       " ('event_type_idx', 'int'),\n",
       " ('user_idx', 'int'),\n",
       " ('et_hour', 'int'),\n",
       " ('et_dayofweek', 'int'),\n",
       " ('et_dayofmonth', 'int'),\n",
       " ('et_month', 'int'),\n",
       " ('et_hour_sin', 'float'),\n",
       " ('et_hour_cos', 'float'),\n",
       " ('et_dayofweek_sin', 'float'),\n",
       " ('et_dayofweek_cos', 'float'),\n",
       " ('et_dayofmonth_sin', 'float'),\n",
       " ('et_dayofmonth_cos', 'float'),\n",
       " ('et_month_sin', 'float'),\n",
       " ('et_month_cos', 'float'),\n",
       " ('prod_first_event_time_ts', 'bigint'),\n",
       " ('product_recency_days', 'double'),\n",
       " ('product_recency_days_log', 'double'),\n",
       " ('price_log', 'double'),\n",
       " ('avg_category_id_price', 'double'),\n",
       " ('relative_price_to_avg_category_id', 'double')]"
      ]
     },
     "execution_count": 33,
     "metadata": {},
     "output_type": "execute_result"
    }
   ],
   "source": [
    "df_indexed.dtypes"
   ]
  },
  {
   "cell_type": "markdown",
   "metadata": {},
   "source": [
    "### Normalize Continuous Features"
   ]
  },
  {
   "cell_type": "markdown",
   "metadata": {},
   "source": [
    "#### Price (log)"
   ]
  },
  {
   "cell_type": "code",
   "execution_count": 34,
   "metadata": {},
   "outputs": [
    {
     "name": "stdout",
     "output_type": "stream",
     "text": [
      "4.99993366671658 1.2408747948419534\n",
      "CPU times: user 7.58 ms, sys: 14.5 ms, total: 22.1 ms\n",
      "Wall time: 1min 8s\n"
     ]
    }
   ],
   "source": [
    "%%time\n",
    "price_log_mean, price_log_std = tuple(df_indexed.agg(F.mean('price_log'), F.stddev('price_log')).take(1)[0])\n",
    "print(price_log_mean, price_log_std)"
   ]
  },
  {
   "cell_type": "code",
   "execution_count": 35,
   "metadata": {},
   "outputs": [],
   "source": [
    "#Z-norm\n",
    "df_indexed = df_indexed.withColumn('price_log_norm', (F.col('price_log') - price_log_mean) / price_log_std)"
   ]
  },
  {
   "cell_type": "markdown",
   "metadata": {},
   "source": [
    "#### Elapsed days (log)"
   ]
  },
  {
   "cell_type": "code",
   "execution_count": 36,
   "metadata": {},
   "outputs": [
    {
     "name": "stdout",
     "output_type": "stream",
     "text": [
      "2.519789963528051 0.7875573711461489\n",
      "CPU times: user 10.6 ms, sys: 10.1 ms, total: 20.7 ms\n",
      "Wall time: 1min 3s\n"
     ]
    }
   ],
   "source": [
    "%%time\n",
    "product_recency_days_log_mean, product_recency_days_log_std = tuple(df_indexed.agg(F.mean('product_recency_days_log'), F.stddev('product_recency_days_log')).take(1)[0])\n",
    "print(product_recency_days_log_mean, product_recency_days_log_std)"
   ]
  },
  {
   "cell_type": "code",
   "execution_count": 37,
   "metadata": {},
   "outputs": [],
   "source": [
    "#Z-norm\n",
    "df_indexed = df_indexed.withColumn('product_recency_days_log_norm', (F.col('product_recency_days_log') - product_recency_days_log_mean) / product_recency_days_log_std)"
   ]
  },
  {
   "cell_type": "code",
   "execution_count": 38,
   "metadata": {},
   "outputs": [
    {
     "data": {
      "text/plain": [
       "26565608"
      ]
     },
     "execution_count": 38,
     "metadata": {},
     "output_type": "execute_result"
    }
   ],
   "source": [
    "df_indexed.count()"
   ]
  },
  {
   "cell_type": "code",
   "execution_count": 39,
   "metadata": {},
   "outputs": [
    {
     "data": {
      "text/plain": [
       "\"\\ndf_first_user_item_interaction_df = df_indexed.groupBy(['user_idx', 'product_idx']).agg(F.min('event_time_ts').alias('first_user_item_event_time_ts'))\\n\\ndf_first_user_item_interaction_df.head(10)\\n\\ndf_indexed_not_repeated = df_indexed.join(df_first_user_item_interaction_df, how='inner',\\n                                          on=((df_indexed['user_idx'] == df_first_user_item_interaction_df['user_idx'])) &\\n                                              (df_indexed['product_idx'] == df_first_user_item_interaction_df['product_idx']) &\\n                                              (df_indexed['event_time_ts'] == df_first_user_item_interaction_df['first_user_item_event_time_ts']))                             .drop(df_first_user_item_interaction_df['user_idx'])                             .drop(df_first_user_item_interaction_df['product_idx'])                             .drop(df_first_user_item_interaction_df['first_user_item_event_time_ts'])\\n\\ndf_indexed_not_repeated.count()\\n\""
      ]
     },
     "execution_count": 39,
     "metadata": {},
     "output_type": "execute_result"
    }
   ],
   "source": [
    "'''\n",
    "df_first_user_item_interaction_df = df_indexed.groupBy(['user_idx', 'product_idx']).agg(F.min('event_time_ts').alias('first_user_item_event_time_ts'))\n",
    "\n",
    "df_first_user_item_interaction_df.head(10)\n",
    "\n",
    "df_indexed_not_repeated = df_indexed.join(df_first_user_item_interaction_df, how='inner',\n",
    "                                          on=((df_indexed['user_idx'] == df_first_user_item_interaction_df['user_idx'])) &\n",
    "                                              (df_indexed['product_idx'] == df_first_user_item_interaction_df['product_idx']) &\n",
    "                                              (df_indexed['event_time_ts'] == df_first_user_item_interaction_df['first_user_item_event_time_ts'])) \\\n",
    "                            .drop(df_first_user_item_interaction_df['user_idx']) \\\n",
    "                            .drop(df_first_user_item_interaction_df['product_idx']) \\\n",
    "                            .drop(df_first_user_item_interaction_df['first_user_item_event_time_ts'])\n",
    "\n",
    "df_indexed_not_repeated.count()\n",
    "'''"
   ]
  },
  {
   "cell_type": "markdown",
   "metadata": {},
   "source": [
    "## Computing elapsed time since last interaction (on non-repeated items)"
   ]
  },
  {
   "cell_type": "code",
   "execution_count": 40,
   "metadata": {},
   "outputs": [],
   "source": [
    "user_window = Window.partitionBy('user_idx').orderBy('event_time_ts')"
   ]
  },
  {
   "cell_type": "code",
   "execution_count": 41,
   "metadata": {},
   "outputs": [],
   "source": [
    "df_indexed = df_indexed.withColumn('prev_event_time_ts', F.lag('event_time_ts').over(user_window)) \\\n",
    "                            .withColumn('delta_event_secs',F.when(F.isnull(F.col('prev_event_time_ts')), 0) \\\n",
    "                                                            .otherwise(F.col('event_time_ts') - F.col('prev_event_time_ts'))) \\\n",
    "                            .withColumn('delta_event_secs_log', F.log1p('delta_event_secs'))"
   ]
  },
  {
   "cell_type": "code",
   "execution_count": 42,
   "metadata": {},
   "outputs": [
    {
     "name": "stdout",
     "output_type": "stream",
     "text": [
      "4.712484602435985 3.159432534243532\n",
      "CPU times: user 10.6 ms, sys: 10.1 ms, total: 20.7 ms\n",
      "Wall time: 1min 1s\n"
     ]
    }
   ],
   "source": [
    "%%time\n",
    "session_delta_time_mean, session_delta_time_std = tuple(df_indexed.agg(\n",
    "                            F.mean('delta_event_secs_log').alias('delta_event_secs_log_mean'),\n",
    "                            F.stddev('delta_event_secs_log').alias('delta_event_secs_log_std')).take(1)[0])\n",
    "print(session_delta_time_mean, session_delta_time_std)\n",
    "\n",
    "#Z-norm\n",
    "df_indexed = df_indexed.withColumn('delta_event_secs_log_norm', (F.col('delta_event_secs_log') - session_delta_time_mean) / session_delta_time_std)"
   ]
  },
  {
   "cell_type": "code",
   "execution_count": 43,
   "metadata": {},
   "outputs": [
    {
     "name": "stdout",
     "output_type": "stream",
     "text": [
      "root\n",
      " |-- category_id: long (nullable = true)\n",
      " |-- product_id: integer (nullable = true)\n",
      " |-- event_time: string (nullable = true)\n",
      " |-- event_type: string (nullable = true)\n",
      " |-- category_code: string (nullable = true)\n",
      " |-- brand: string (nullable = true)\n",
      " |-- price: double (nullable = true)\n",
      " |-- user_id: integer (nullable = true)\n",
      " |-- user_session: string (nullable = true)\n",
      " |-- event_time_dt: timestamp (nullable = true)\n",
      " |-- event_time_ts: long (nullable = true)\n",
      " |-- product_idx: integer (nullable = true)\n",
      " |-- category_sub_idx: integer (nullable = true)\n",
      " |-- category_code_idx: integer (nullable = true)\n",
      " |-- brand_idx: integer (nullable = true)\n",
      " |-- event_type_idx: integer (nullable = true)\n",
      " |-- user_idx: integer (nullable = true)\n",
      " |-- et_hour: integer (nullable = true)\n",
      " |-- et_dayofweek: integer (nullable = true)\n",
      " |-- et_dayofmonth: integer (nullable = true)\n",
      " |-- et_month: integer (nullable = true)\n",
      " |-- et_hour_sin: float (nullable = true)\n",
      " |-- et_hour_cos: float (nullable = true)\n",
      " |-- et_dayofweek_sin: float (nullable = true)\n",
      " |-- et_dayofweek_cos: float (nullable = true)\n",
      " |-- et_dayofmonth_sin: float (nullable = true)\n",
      " |-- et_dayofmonth_cos: float (nullable = true)\n",
      " |-- et_month_sin: float (nullable = true)\n",
      " |-- et_month_cos: float (nullable = true)\n",
      " |-- prod_first_event_time_ts: long (nullable = true)\n",
      " |-- product_recency_days: double (nullable = true)\n",
      " |-- product_recency_days_log: double (nullable = true)\n",
      " |-- price_log: double (nullable = true)\n",
      " |-- avg_category_id_price: double (nullable = true)\n",
      " |-- relative_price_to_avg_category_id: double (nullable = true)\n",
      " |-- price_log_norm: double (nullable = true)\n",
      " |-- product_recency_days_log_norm: double (nullable = true)\n",
      " |-- prev_event_time_ts: long (nullable = true)\n",
      " |-- delta_event_secs: long (nullable = true)\n",
      " |-- delta_event_secs_log: double (nullable = true)\n",
      " |-- delta_event_secs_log_norm: double (nullable = true)\n",
      "\n"
     ]
    }
   ],
   "source": [
    "df_indexed.printSchema()"
   ]
  },
  {
   "cell_type": "markdown",
   "metadata": {},
   "source": [
    "## Processing sessions sequences"
   ]
  },
  {
   "cell_type": "markdown",
   "metadata": {},
   "source": [
    "#### Aggregate by session id (create sequence as type of array)"
   ]
  },
  {
   "cell_type": "code",
   "execution_count": 44,
   "metadata": {},
   "outputs": [],
   "source": [
    "session_window = Window.partitionBy('user_session').orderBy('event_time_ts')"
   ]
  },
  {
   "cell_type": "code",
   "execution_count": 45,
   "metadata": {},
   "outputs": [],
   "source": [
    "def get_non_repeated_items(values):\n",
    "    #Returns unique items, keep the order of their first occurence\n",
    "    result = []\n",
    "    for v in values:\n",
    "        if v not in result:\n",
    "            result.append(v)\n",
    "    return result\n",
    "\n",
    "@udf(returnType=ArrayType(IntegerType()))\n",
    "def get_non_repeated_items_integer_udf(values):\n",
    "    result = get_non_repeated_items(values)\n",
    "    result = list([int(x) for x in result])\n",
    "    return result\n",
    "\n",
    "#########################################\n",
    "\n",
    "def get_non_repeated_additional_items(item_ids, additional_feature_values):\n",
    "    #Returns unique items, keep the order of their first occurence\n",
    "    ids = []\n",
    "    result = []\n",
    "    for i, v in zip(item_ids, additional_feature_values):\n",
    "        if i not in ids:\n",
    "            ids.append(i)\n",
    "            result.append(v)\n",
    "    return result\n",
    "\n",
    "@udf(returnType=ArrayType(IntegerType()))\n",
    "def get_non_repeated_additional_items_integer_udf(item_ids, additional_feature_values):\n",
    "    result = get_non_repeated_additional_items(item_ids, additional_feature_values)\n",
    "    result = list([int(x) for x in result])\n",
    "    return result\n",
    "\n",
    "@udf(returnType=ArrayType(FloatType()))\n",
    "def get_non_repeated_additional_items_float_udf(item_ids, additional_feature_values):\n",
    "    result =  get_non_repeated_additional_items(item_ids, additional_feature_values)\n",
    "    result = list([float(x) for x in result])\n",
    "    return result"
   ]
  },
  {
   "cell_type": "code",
   "execution_count": null,
   "metadata": {},
   "outputs": [],
   "source": [
    "SESSIONS_MAX_LENGTH = 20"
   ]
  },
  {
   "cell_type": "code",
   "execution_count": 46,
   "metadata": {},
   "outputs": [],
   "source": [
    "df_sb_grouped_df = df_indexed \\\n",
    "                .select('user_idx', 'user_session', \n",
    "                        F.first('event_time_ts').over(session_window).alias('session_start_ts'),\n",
    "                        F.last('event_time_ts').over(session_window).alias('session_end_ts'),\n",
    "                        F.slice(F.collect_list('product_idx').over(session_window), 1, SESSIONS_MAX_LENGTH).alias('pid_seq_als'), \n",
    "                        F.slice(F.collect_list('event_time_ts').over(session_window), 1, SESSIONS_MAX_LENGTH).alias('etime_seq_als'),\n",
    "                        F.slice(F.collect_list('event_type_idx').over(session_window), 1, SESSIONS_MAX_LENGTH).alias('event_type_seq_als'), \n",
    "                        F.slice(F.collect_list('category_sub_idx').over(session_window), 1, SESSIONS_MAX_LENGTH).alias('csid_seq_als'),\n",
    "                        F.slice(F.collect_list('category_code_idx').over(session_window), 1, SESSIONS_MAX_LENGTH).alias('ccid_seq_als'),\n",
    "                        F.slice(F.collect_list('brand_idx').over(session_window), 1, SESSIONS_MAX_LENGTH).alias('bid_seq_als'),\n",
    "                        F.slice(F.collect_list('price_log_norm').over(session_window), 1, SESSIONS_MAX_LENGTH).alias('price_log_norm_seq_als'),                    \n",
    "                        F.slice(F.collect_list('delta_event_secs').over(session_window), 1, SESSIONS_MAX_LENGTH).alias('dtime_secs_seq_als'),\n",
    "                        F.slice(F.collect_list('delta_event_secs_log_norm').over(session_window), 1, SESSIONS_MAX_LENGTH).alias('dtime_secs_log_norm_seq_als'),                     \n",
    "                        F.slice(F.collect_list('product_recency_days').over(session_window), 1, SESSIONS_MAX_LENGTH).alias('prod_recency_days_als'),\n",
    "                        F.slice(F.collect_list('product_recency_days_log_norm').over(session_window), 1, SESSIONS_MAX_LENGTH).alias('prod_recency_days_log_norm_als'),\n",
    "                        F.slice(F.collect_list('relative_price_to_avg_category_id').over(session_window), 1, SESSIONS_MAX_LENGTH).alias('relative_price_to_avg_category_als'),\n",
    "                        F.slice(F.collect_list('et_hour_sin').over(session_window), 1, SESSIONS_MAX_LENGTH).alias('et_hour_sin_seq_als'),\n",
    "                        F.slice(F.collect_list('et_hour_cos').over(session_window), 1, SESSIONS_MAX_LENGTH).alias('et_hour_cos_seq_als'),\n",
    "                        F.slice(F.collect_list('et_month_sin').over(session_window), 1, SESSIONS_MAX_LENGTH).alias('et_month_sin_seq_als'),\n",
    "                        F.slice(F.collect_list('et_month_cos').over(session_window), 1, SESSIONS_MAX_LENGTH).alias('et_month_cos_seq_als'),\n",
    "                        F.slice(F.collect_list('et_dayofweek_sin').over(session_window), 1, SESSIONS_MAX_LENGTH).alias('et_dayofweek_sin_seq_als'),\n",
    "                        F.slice(F.collect_list('et_dayofweek_cos').over(session_window), 1, SESSIONS_MAX_LENGTH).alias('et_dayofweek_cos_seq_als'),\n",
    "                        F.slice(F.collect_list('et_dayofmonth_sin').over(session_window), 1, SESSIONS_MAX_LENGTH).alias('et_dayofmonth_sin_seq_als'),\n",
    "                        F.slice(F.collect_list('et_dayofmonth_cos').over(session_window), 1, SESSIONS_MAX_LENGTH).alias('et_dayofmonth_cos_seq_als'),                        \n",
    "                       )\\\n",
    "                .groupBy('user_idx', 'user_session').agg(\n",
    "                    F.min('session_start_ts').alias('session_start_ts'),\n",
    "                    F.max('session_end_ts').alias('session_end_ts'),\n",
    "                    F.max('pid_seq_als').alias('sess_pid_seq'),\n",
    "                    F.max('etime_seq_als').alias('sess_etime_seq'),\n",
    "                    F.max('event_type_seq_als').alias('sess_etype_seq'),    \n",
    "                    F.max('csid_seq_als').alias('sess_csid_seq'),\n",
    "                    F.max('ccid_seq_als').alias('sess_ccid_seq'),\n",
    "                    F.max('bid_seq_als').alias('sess_bid_seq'),\n",
    "                    F.max('price_log_norm_seq_als').alias('sess_price_log_norm_seq'),        \n",
    "                    F.max('dtime_secs_seq_als').alias('sess_dtime_secs_seq'),\n",
    "                    F.max('dtime_secs_log_norm_seq_als').alias('sess_dtime_secs_log_norm_seq'),                    \n",
    "                    F.max('prod_recency_days_als').alias('sess_prod_recency_days_seq'),\n",
    "                    F.max('prod_recency_days_log_norm_als').alias('sess_prod_recency_days_log_norm_seq'),\n",
    "                    F.max('relative_price_to_avg_category_als').alias('sess_relative_price_to_avg_category_seq'),\n",
    "                    F.max('et_hour_sin_seq_als').alias('sess_et_hour_sin_seq'),\n",
    "                    F.max('et_hour_cos_seq_als').alias('sess_et_hour_cos_seq'),\n",
    "                    F.max('et_month_sin_seq_als').alias('sess_et_month_sin_seq'),\n",
    "                    F.max('et_month_cos_seq_als').alias('sess_et_month_cos_seq'),\n",
    "                    F.max('et_dayofweek_sin_seq_als').alias('sess_et_dayofweek_sin_seq'),\n",
    "                    F.max('et_dayofweek_cos_seq_als').alias('sess_et_dayofweek_cos_seq'),\n",
    "                    F.max('et_dayofmonth_sin_seq_als').alias('sess_et_dayofmonth_sin_seq'),\n",
    "                    F.max('et_dayofmonth_cos_seq_als').alias('sess_et_dayofmonth_cos_seq'),               \n",
    "                        )"
   ]
  },
  {
   "cell_type": "code",
   "execution_count": 47,
   "metadata": {},
   "outputs": [],
   "source": [
    "'''\n",
    "df_sb_grouped_nr_df = df_sb_grouped_df.select('user_idx', 'user_session', 'session_start_ts', 'session_end_ts',\n",
    "                        get_non_repeated_items_integer_udf('sess_pid_seq').alias('sess_pid_seq'),\n",
    "                        get_non_repeated_additional_items_integer_udf(F.col(\"sess_pid_seq\"), F.col('sess_etime_seq')).alias('sess_etime_seq'),\n",
    "                        get_non_repeated_additional_items_integer_udf(F.col(\"sess_pid_seq\"), F.col('sess_etype_seq')).alias('sess_etype_seq'),                        \n",
    "                        get_non_repeated_additional_items_integer_udf(F.col(\"sess_pid_seq\"), F.col('sess_csid_seq')).alias('sess_csid_seq'),\n",
    "                        get_non_repeated_additional_items_integer_udf(F.col(\"sess_pid_seq\"), F.col('sess_ccid_seq')).alias('sess_ccid_seq'),\n",
    "                        get_non_repeated_additional_items_integer_udf(F.col(\"sess_pid_seq\"), F.col('sess_bid_seq')).alias('sess_bid_seq'),\n",
    "                        get_non_repeated_additional_items_float_udf(F.col(\"sess_pid_seq\"), F.col('sess_price_log_norm_seq')).alias('sess_price_log_norm_seq'),                                              \n",
    "                        get_non_repeated_additional_items_float_udf(F.col(\"sess_pid_seq\"), F.col('sess_dtime_secs_seq')).alias('sess_dtime_secs_seq'),\n",
    "                        get_non_repeated_additional_items_float_udf(F.col(\"sess_pid_seq\"), F.col('sess_dtime_secs_log_norm_seq')).alias('sess_dtime_secs_log_norm_seq'),\n",
    "                        get_non_repeated_additional_items_float_udf(F.col(\"sess_pid_seq\"), F.col('sess_prod_recency_days_seq')).alias('sess_prod_recency_days_seq'),\n",
    "                        get_non_repeated_additional_items_float_udf(F.col(\"sess_pid_seq\"), F.col('sess_prod_recency_days_log_norm_seq')).alias('sess_prod_recency_days_log_norm_seq'),\n",
    "                        get_non_repeated_additional_items_float_udf(F.col(\"sess_pid_seq\"), F.col('sess_relative_price_to_avg_category_seq')).alias('sess_relative_price_to_avg_category_seq'),\n",
    "                        get_non_repeated_additional_items_float_udf(F.col(\"sess_pid_seq\"), F.col('sess_et_hour_sin_seq')).alias('sess_et_hour_sin_seq'),\n",
    "                        get_non_repeated_additional_items_float_udf(F.col(\"sess_pid_seq\"), F.col('sess_et_hour_cos_seq')).alias('sess_et_hour_cos_seq'),\n",
    "                        get_non_repeated_additional_items_float_udf(F.col(\"sess_pid_seq\"), F.col('sess_et_month_sin_seq')).alias('sess_et_month_sin_seq'),\n",
    "                        get_non_repeated_additional_items_float_udf(F.col(\"sess_pid_seq\"), F.col('sess_et_month_cos_seq')).alias('sess_et_month_cos_seq'),\n",
    "                        get_non_repeated_additional_items_float_udf(F.col(\"sess_pid_seq\"), F.col('sess_et_dayofweek_sin_seq')).alias('sess_et_dayofweek_sin_seq'),\n",
    "                        get_non_repeated_additional_items_float_udf(F.col(\"sess_pid_seq\"), F.col('sess_et_dayofweek_cos_seq')).alias('sess_et_dayofweek_cos_seq'),\n",
    "                        get_non_repeated_additional_items_float_udf(F.col(\"sess_pid_seq\"), F.col('sess_et_dayofmonth_sin_seq')).alias('sess_et_dayofmonth_sin_seq'),\n",
    "                        get_non_repeated_additional_items_float_udf(F.col(\"sess_pid_seq\"), F.col('sess_et_dayofmonth_cos_seq')).alias('sess_et_dayofmonth_cos_seq'),\n",
    "                       ) \\\n",
    "            .where(F.size('sess_pid_seq') >= 2) \\\n",
    "            .withColumn('sess_seq_len', F.size('sess_pid_seq'))\n",
    "'''            \n",
    "\n",
    "\n",
    "df_sb_grouped_nr_df = df_sb_grouped_df.select('user_idx', 'user_session', 'session_start_ts', 'session_end_ts',\n",
    "                        'sess_pid_seq', 'sess_etime_seq', 'sess_etype_seq', 'sess_csid_seq', 'sess_ccid_seq', 'sess_bid_seq', \n",
    "                        'sess_price_log_norm_seq', 'sess_dtime_secs_seq', 'sess_dtime_secs_log_norm_seq',\n",
    "                        'sess_prod_recency_days_seq', 'sess_prod_recency_days_log_norm_seq', 'sess_relative_price_to_avg_category_seq',\n",
    "                        'sess_et_hour_sin_seq', 'sess_et_hour_cos_seq', 'sess_et_month_sin_seq', 'sess_et_month_cos_seq',\n",
    "                        'sess_et_dayofweek_sin_seq', 'sess_et_dayofweek_cos_seq', 'sess_et_dayofmonth_sin_seq', 'sess_et_dayofmonth_cos_seq',\n",
    "                       ) \\\n",
    "            .where(F.size('sess_pid_seq') >= 2) \\\n",
    "            .withColumn('sess_seq_len', F.size('sess_pid_seq'))"
   ]
  },
  {
   "cell_type": "code",
   "execution_count": 48,
   "metadata": {},
   "outputs": [
    {
     "name": "stdout",
     "output_type": "stream",
     "text": [
      "root\n",
      " |-- user_idx: integer (nullable = true)\n",
      " |-- user_session: string (nullable = true)\n",
      " |-- session_start_ts: long (nullable = true)\n",
      " |-- session_end_ts: long (nullable = true)\n",
      " |-- sess_pid_seq: array (nullable = true)\n",
      " |    |-- element: integer (containsNull = true)\n",
      " |-- sess_etime_seq: array (nullable = true)\n",
      " |    |-- element: long (containsNull = true)\n",
      " |-- sess_etype_seq: array (nullable = true)\n",
      " |    |-- element: integer (containsNull = true)\n",
      " |-- sess_csid_seq: array (nullable = true)\n",
      " |    |-- element: integer (containsNull = true)\n",
      " |-- sess_ccid_seq: array (nullable = true)\n",
      " |    |-- element: integer (containsNull = true)\n",
      " |-- sess_bid_seq: array (nullable = true)\n",
      " |    |-- element: integer (containsNull = true)\n",
      " |-- sess_price_log_norm_seq: array (nullable = true)\n",
      " |    |-- element: double (containsNull = true)\n",
      " |-- sess_dtime_secs_seq: array (nullable = true)\n",
      " |    |-- element: long (containsNull = true)\n",
      " |-- sess_dtime_secs_log_norm_seq: array (nullable = true)\n",
      " |    |-- element: double (containsNull = true)\n",
      " |-- sess_prod_recency_days_seq: array (nullable = true)\n",
      " |    |-- element: double (containsNull = true)\n",
      " |-- sess_prod_recency_days_log_norm_seq: array (nullable = true)\n",
      " |    |-- element: double (containsNull = true)\n",
      " |-- sess_relative_price_to_avg_category_seq: array (nullable = true)\n",
      " |    |-- element: double (containsNull = true)\n",
      " |-- sess_et_hour_sin_seq: array (nullable = true)\n",
      " |    |-- element: float (containsNull = true)\n",
      " |-- sess_et_hour_cos_seq: array (nullable = true)\n",
      " |    |-- element: float (containsNull = true)\n",
      " |-- sess_et_month_sin_seq: array (nullable = true)\n",
      " |    |-- element: float (containsNull = true)\n",
      " |-- sess_et_month_cos_seq: array (nullable = true)\n",
      " |    |-- element: float (containsNull = true)\n",
      " |-- sess_et_dayofweek_sin_seq: array (nullable = true)\n",
      " |    |-- element: float (containsNull = true)\n",
      " |-- sess_et_dayofweek_cos_seq: array (nullable = true)\n",
      " |    |-- element: float (containsNull = true)\n",
      " |-- sess_et_dayofmonth_sin_seq: array (nullable = true)\n",
      " |    |-- element: float (containsNull = true)\n",
      " |-- sess_et_dayofmonth_cos_seq: array (nullable = true)\n",
      " |    |-- element: float (containsNull = true)\n",
      " |-- sess_seq_len: integer (nullable = false)\n",
      "\n"
     ]
    }
   ],
   "source": [
    "df_sb_grouped_nr_df.printSchema()"
   ]
  },
  {
   "cell_type": "code",
   "execution_count": 49,
   "metadata": {},
   "outputs": [],
   "source": [
    "percentiles = np.arange(0., 1.1, 0.1).tolist()+[0.95,0.99,0.999]"
   ]
  },
  {
   "cell_type": "code",
   "execution_count": 50,
   "metadata": {},
   "outputs": [
    {
     "data": {
      "text/plain": [
       "\"\\nsession_sizes_pdf = pd.DataFrame(zip(percentiles, \\n                                          df_sb_grouped_nr_df.approxQuantile('sess_seq_len', probabilities=percentiles, relativeError=0.00001)),\\n                                         columns=['percentile', 'session_sizes']).sort_values('percentile')\\nsession_sizes_pdf\\n\""
      ]
     },
     "execution_count": 50,
     "metadata": {},
     "output_type": "execute_result"
    }
   ],
   "source": [
    "'''\n",
    "session_sizes_pdf = pd.DataFrame(zip(percentiles, \n",
    "                                          df_sb_grouped_nr_df.approxQuantile('sess_seq_len', probabilities=percentiles, relativeError=0.00001)),\n",
    "                                         columns=['percentile', 'session_sizes']).sort_values('percentile')\n",
    "session_sizes_pdf\n",
    "'''"
   ]
  },
  {
   "cell_type": "code",
   "execution_count": 51,
   "metadata": {},
   "outputs": [
    {
     "name": "stdout",
     "output_type": "stream",
     "text": [
      "root\n",
      " |-- user_idx: integer (nullable = true)\n",
      " |-- user_session: string (nullable = true)\n",
      " |-- session_start_ts: long (nullable = true)\n",
      " |-- session_end_ts: long (nullable = true)\n",
      " |-- sess_pid_seq: array (nullable = true)\n",
      " |    |-- element: integer (containsNull = true)\n",
      " |-- sess_etime_seq: array (nullable = true)\n",
      " |    |-- element: long (containsNull = true)\n",
      " |-- sess_etype_seq: array (nullable = true)\n",
      " |    |-- element: integer (containsNull = true)\n",
      " |-- sess_csid_seq: array (nullable = true)\n",
      " |    |-- element: integer (containsNull = true)\n",
      " |-- sess_ccid_seq: array (nullable = true)\n",
      " |    |-- element: integer (containsNull = true)\n",
      " |-- sess_bid_seq: array (nullable = true)\n",
      " |    |-- element: integer (containsNull = true)\n",
      " |-- sess_price_log_norm_seq: array (nullable = true)\n",
      " |    |-- element: double (containsNull = true)\n",
      " |-- sess_dtime_secs_seq: array (nullable = true)\n",
      " |    |-- element: long (containsNull = true)\n",
      " |-- sess_dtime_secs_log_norm_seq: array (nullable = true)\n",
      " |    |-- element: double (containsNull = true)\n",
      " |-- sess_prod_recency_days_seq: array (nullable = true)\n",
      " |    |-- element: double (containsNull = true)\n",
      " |-- sess_prod_recency_days_log_norm_seq: array (nullable = true)\n",
      " |    |-- element: double (containsNull = true)\n",
      " |-- sess_relative_price_to_avg_category_seq: array (nullable = true)\n",
      " |    |-- element: double (containsNull = true)\n",
      " |-- sess_et_hour_sin_seq: array (nullable = true)\n",
      " |    |-- element: float (containsNull = true)\n",
      " |-- sess_et_hour_cos_seq: array (nullable = true)\n",
      " |    |-- element: float (containsNull = true)\n",
      " |-- sess_et_month_sin_seq: array (nullable = true)\n",
      " |    |-- element: float (containsNull = true)\n",
      " |-- sess_et_month_cos_seq: array (nullable = true)\n",
      " |    |-- element: float (containsNull = true)\n",
      " |-- sess_et_dayofweek_sin_seq: array (nullable = true)\n",
      " |    |-- element: float (containsNull = true)\n",
      " |-- sess_et_dayofweek_cos_seq: array (nullable = true)\n",
      " |    |-- element: float (containsNull = true)\n",
      " |-- sess_et_dayofmonth_sin_seq: array (nullable = true)\n",
      " |    |-- element: float (containsNull = true)\n",
      " |-- sess_et_dayofmonth_cos_seq: array (nullable = true)\n",
      " |    |-- element: float (containsNull = true)\n",
      " |-- sess_seq_len: integer (nullable = false)\n",
      "\n"
     ]
    }
   ],
   "source": [
    "df_sb_grouped_nr_df.printSchema()"
   ]
  },
  {
   "cell_type": "code",
   "execution_count": 52,
   "metadata": {},
   "outputs": [],
   "source": [
    "##Generating an example parquet file with sequences with different length (sparse) to test with NVT + PyTorch pipeline\n",
    "#df_sb_grouped_nr_df.withColumn('session_start_date', F.date_trunc('day', F.to_timestamp(F.col('session_start_ts'))).cast('string').substr(0,10).alias()) \\\n",
    "#            .repartition(F.col('session_start_date')) \\\n",
    "#                .write.partitionBy('session_start_date').parquet('/mount/workspace/transformers/data_sparse_example')"
   ]
  },
  {
   "cell_type": "markdown",
   "metadata": {},
   "source": [
    "## Processing user sequences"
   ]
  },
  {
   "cell_type": "code",
   "execution_count": null,
   "metadata": {},
   "outputs": [],
   "source": [
    "MAX_LENGTH_USER_SEQUENCE_BEFORE_SESSION = 20"
   ]
  },
  {
   "cell_type": "markdown",
   "metadata": {},
   "source": [
    "#### Delta time between user clicks (secs)"
   ]
  },
  {
   "cell_type": "code",
   "execution_count": 53,
   "metadata": {},
   "outputs": [],
   "source": [
    "df_user_seq_grouped_df = df_indexed \\\n",
    "                .select('user_idx',  \n",
    "                        F.collect_list('user_session').over(user_window).alias('session_seq_als'),\n",
    "                        F.collect_list('product_idx').over(user_window).alias('pid_seq_als'), \n",
    "                        F.collect_list('event_time_ts').over(user_window).alias('etime_seq_als'),\n",
    "                        F.collect_list('event_type_idx').over(user_window).alias('event_type_seq_als'), \n",
    "                        F.collect_list('category_sub_idx').over(user_window).alias('csid_seq_als'),\n",
    "                        F.collect_list('category_code_idx').over(user_window).alias('ccid_seq_als'),\n",
    "                        F.collect_list('brand_idx').over(user_window).alias('bid_seq_als'),\n",
    "                        F.collect_list('price_log_norm').over(user_window).alias('price_log_seq_als'),\n",
    "                        \n",
    "                        F.collect_list('delta_event_secs').over(session_window).alias('dtime_secs_seq_als'),\n",
    "                        F.collect_list('delta_event_secs_log_norm').over(session_window).alias('dtime_secs_log_norm_seq_als'),                     \n",
    "                        F.collect_list('product_recency_days').over(session_window).alias('prod_recency_days_als'),\n",
    "                        F.collect_list('product_recency_days_log_norm').over(session_window).alias('prod_recency_days_log_norm_als'),\n",
    "                                        \n",
    "                        F.collect_list('relative_price_to_avg_category_id').over(user_window).alias('relative_price_to_avg_category_als'),\n",
    "                        F.collect_list('et_hour_sin').over(user_window).alias('et_hour_sin_seq_als'),\n",
    "                        F.collect_list('et_hour_cos').over(user_window).alias('et_hour_cos_seq_als'),\n",
    "                        F.collect_list('et_month_sin').over(user_window).alias('et_month_sin_seq_als'),\n",
    "                        F.collect_list('et_month_cos').over(user_window).alias('et_month_cos_seq_als'),\n",
    "                        F.collect_list('et_dayofweek_sin').over(user_window).alias('et_dayofweek_sin_seq_als'),\n",
    "                        F.collect_list('et_dayofweek_cos').over(user_window).alias('et_dayofweek_cos_seq_als'),\n",
    "                        F.collect_list('et_dayofmonth_sin').over(user_window).alias('et_dayofmonth_sin_seq_als'),\n",
    "                        F.collect_list('et_dayofmonth_cos').over(user_window).alias('et_dayofmonth_cos_seq_als'),                     \n",
    "                       )\\\n",
    "                .groupBy('user_idx').agg(\n",
    "                    F.max('session_seq_als').alias('user_session_seq'),\n",
    "                    F.max('pid_seq_als').alias('user_pid_seq'),\n",
    "                    F.max('etime_seq_als').alias('user_etime_seq'),\n",
    "                    F.max('event_type_seq_als').alias('user_etype_seq'),    \n",
    "                    F.max('csid_seq_als').alias('user_csid_seq'),\n",
    "                    F.max('ccid_seq_als').alias('user_ccid_seq'),\n",
    "                    F.max('bid_seq_als').alias('user_bid_seq'),\n",
    "                    F.max('price_log_seq_als').alias('user_price_log_seq'),  \n",
    "    \n",
    "                    F.max('dtime_secs_seq_als').alias('user_dtime_secs_seq'),\n",
    "                    F.max('dtime_secs_log_norm_seq_als').alias('user_dtime_secs_log_norm_seq'),\n",
    "                    F.max('prod_recency_days_als').alias('user_prod_recency_days_seq'),\n",
    "                    F.max('prod_recency_days_log_norm_als').alias('user_prod_recency_days_log_norm_seq'),\n",
    "    \n",
    "                    F.max('relative_price_to_avg_category_als').alias('user_relative_price_to_avg_category_seq'),\n",
    "                    F.max('et_hour_sin_seq_als').alias('user_et_hour_sin_seq'),\n",
    "                    F.max('et_hour_cos_seq_als').alias('user_et_hour_cos_seq'),\n",
    "                    F.max('et_month_sin_seq_als').alias('user_et_month_sin_seq'),\n",
    "                    F.max('et_month_cos_seq_als').alias('user_et_month_cos_seq'),\n",
    "                    F.max('et_dayofweek_sin_seq_als').alias('user_et_dayofweek_sin_seq'),\n",
    "                    F.max('et_dayofweek_cos_seq_als').alias('user_et_dayofweek_cos_seq'),\n",
    "                    F.max('et_dayofmonth_sin_seq_als').alias('user_et_dayofmonth_sin_seq'),\n",
    "                    F.max('et_dayofmonth_cos_seq_als').alias('user_et_dayofmonth_cos_seq'),               \n",
    "                        )"
   ]
  },
  {
   "cell_type": "code",
   "execution_count": 54,
   "metadata": {},
   "outputs": [
    {
     "name": "stdout",
     "output_type": "stream",
     "text": [
      "root\n",
      " |-- user_idx: integer (nullable = true)\n",
      " |-- user_session_seq: array (nullable = true)\n",
      " |    |-- element: string (containsNull = true)\n",
      " |-- user_pid_seq: array (nullable = true)\n",
      " |    |-- element: integer (containsNull = true)\n",
      " |-- user_etime_seq: array (nullable = true)\n",
      " |    |-- element: long (containsNull = true)\n",
      " |-- user_etype_seq: array (nullable = true)\n",
      " |    |-- element: integer (containsNull = true)\n",
      " |-- user_csid_seq: array (nullable = true)\n",
      " |    |-- element: integer (containsNull = true)\n",
      " |-- user_ccid_seq: array (nullable = true)\n",
      " |    |-- element: integer (containsNull = true)\n",
      " |-- user_bid_seq: array (nullable = true)\n",
      " |    |-- element: integer (containsNull = true)\n",
      " |-- user_price_log_seq: array (nullable = true)\n",
      " |    |-- element: double (containsNull = true)\n",
      " |-- user_dtime_secs_seq: array (nullable = true)\n",
      " |    |-- element: long (containsNull = true)\n",
      " |-- user_dtime_secs_log_norm_seq: array (nullable = true)\n",
      " |    |-- element: double (containsNull = true)\n",
      " |-- user_prod_recency_days_seq: array (nullable = true)\n",
      " |    |-- element: double (containsNull = true)\n",
      " |-- user_prod_recency_days_log_norm_seq: array (nullable = true)\n",
      " |    |-- element: double (containsNull = true)\n",
      " |-- user_relative_price_to_avg_category_seq: array (nullable = true)\n",
      " |    |-- element: double (containsNull = true)\n",
      " |-- user_et_hour_sin_seq: array (nullable = true)\n",
      " |    |-- element: float (containsNull = true)\n",
      " |-- user_et_hour_cos_seq: array (nullable = true)\n",
      " |    |-- element: float (containsNull = true)\n",
      " |-- user_et_month_sin_seq: array (nullable = true)\n",
      " |    |-- element: float (containsNull = true)\n",
      " |-- user_et_month_cos_seq: array (nullable = true)\n",
      " |    |-- element: float (containsNull = true)\n",
      " |-- user_et_dayofweek_sin_seq: array (nullable = true)\n",
      " |    |-- element: float (containsNull = true)\n",
      " |-- user_et_dayofweek_cos_seq: array (nullable = true)\n",
      " |    |-- element: float (containsNull = true)\n",
      " |-- user_et_dayofmonth_sin_seq: array (nullable = true)\n",
      " |    |-- element: float (containsNull = true)\n",
      " |-- user_et_dayofmonth_cos_seq: array (nullable = true)\n",
      " |    |-- element: float (containsNull = true)\n",
      "\n"
     ]
    }
   ],
   "source": [
    "df_user_seq_grouped_df.printSchema()"
   ]
  },
  {
   "cell_type": "code",
   "execution_count": 55,
   "metadata": {},
   "outputs": [
    {
     "data": {
      "text/plain": [
       "['user_idx',\n",
       " 'user_session',\n",
       " 'session_start_ts',\n",
       " 'session_end_ts',\n",
       " 'sess_pid_seq',\n",
       " 'sess_etime_seq',\n",
       " 'sess_etype_seq',\n",
       " 'sess_csid_seq',\n",
       " 'sess_ccid_seq',\n",
       " 'sess_bid_seq',\n",
       " 'sess_price_log_norm_seq',\n",
       " 'sess_dtime_secs_seq',\n",
       " 'sess_dtime_secs_log_norm_seq',\n",
       " 'sess_prod_recency_days_seq',\n",
       " 'sess_prod_recency_days_log_norm_seq',\n",
       " 'sess_relative_price_to_avg_category_seq',\n",
       " 'sess_et_hour_sin_seq',\n",
       " 'sess_et_hour_cos_seq',\n",
       " 'sess_et_month_sin_seq',\n",
       " 'sess_et_month_cos_seq',\n",
       " 'sess_et_dayofweek_sin_seq',\n",
       " 'sess_et_dayofweek_cos_seq',\n",
       " 'sess_et_dayofmonth_sin_seq',\n",
       " 'sess_et_dayofmonth_cos_seq',\n",
       " 'sess_seq_len']"
      ]
     },
     "execution_count": 55,
     "metadata": {},
     "output_type": "execute_result"
    }
   ],
   "source": [
    "df_sb_grouped_nr_df.columns"
   ]
  },
  {
   "cell_type": "markdown",
   "metadata": {},
   "source": [
    "### Joining users and sessions sequences"
   ]
  },
  {
   "cell_type": "code",
   "execution_count": 56,
   "metadata": {},
   "outputs": [],
   "source": [
    "df_user_seq_grouped_df = df_user_seq_grouped_df.withColumnRenamed('user_idx', 'user_idx2')\n",
    "users_and_session_seq_joined_df = df_sb_grouped_nr_df \\\n",
    "                .join(df_user_seq_grouped_df,\n",
    "                      on=(df_sb_grouped_nr_df['user_idx'] == df_user_seq_grouped_df['user_idx2']), how='inner') \\\n",
    "                .drop(F.col('user_idx2'))"
   ]
  },
  {
   "cell_type": "code",
   "execution_count": 57,
   "metadata": {},
   "outputs": [
    {
     "name": "stdout",
     "output_type": "stream",
     "text": [
      "root\n",
      " |-- user_idx: integer (nullable = true)\n",
      " |-- user_session: string (nullable = true)\n",
      " |-- session_start_ts: long (nullable = true)\n",
      " |-- session_end_ts: long (nullable = true)\n",
      " |-- sess_pid_seq: array (nullable = true)\n",
      " |    |-- element: integer (containsNull = true)\n",
      " |-- sess_etime_seq: array (nullable = true)\n",
      " |    |-- element: long (containsNull = true)\n",
      " |-- sess_etype_seq: array (nullable = true)\n",
      " |    |-- element: integer (containsNull = true)\n",
      " |-- sess_csid_seq: array (nullable = true)\n",
      " |    |-- element: integer (containsNull = true)\n",
      " |-- sess_ccid_seq: array (nullable = true)\n",
      " |    |-- element: integer (containsNull = true)\n",
      " |-- sess_bid_seq: array (nullable = true)\n",
      " |    |-- element: integer (containsNull = true)\n",
      " |-- sess_price_log_norm_seq: array (nullable = true)\n",
      " |    |-- element: double (containsNull = true)\n",
      " |-- sess_dtime_secs_seq: array (nullable = true)\n",
      " |    |-- element: long (containsNull = true)\n",
      " |-- sess_dtime_secs_log_norm_seq: array (nullable = true)\n",
      " |    |-- element: double (containsNull = true)\n",
      " |-- sess_prod_recency_days_seq: array (nullable = true)\n",
      " |    |-- element: double (containsNull = true)\n",
      " |-- sess_prod_recency_days_log_norm_seq: array (nullable = true)\n",
      " |    |-- element: double (containsNull = true)\n",
      " |-- sess_relative_price_to_avg_category_seq: array (nullable = true)\n",
      " |    |-- element: double (containsNull = true)\n",
      " |-- sess_et_hour_sin_seq: array (nullable = true)\n",
      " |    |-- element: float (containsNull = true)\n",
      " |-- sess_et_hour_cos_seq: array (nullable = true)\n",
      " |    |-- element: float (containsNull = true)\n",
      " |-- sess_et_month_sin_seq: array (nullable = true)\n",
      " |    |-- element: float (containsNull = true)\n",
      " |-- sess_et_month_cos_seq: array (nullable = true)\n",
      " |    |-- element: float (containsNull = true)\n",
      " |-- sess_et_dayofweek_sin_seq: array (nullable = true)\n",
      " |    |-- element: float (containsNull = true)\n",
      " |-- sess_et_dayofweek_cos_seq: array (nullable = true)\n",
      " |    |-- element: float (containsNull = true)\n",
      " |-- sess_et_dayofmonth_sin_seq: array (nullable = true)\n",
      " |    |-- element: float (containsNull = true)\n",
      " |-- sess_et_dayofmonth_cos_seq: array (nullable = true)\n",
      " |    |-- element: float (containsNull = true)\n",
      " |-- sess_seq_len: integer (nullable = false)\n",
      " |-- user_session_seq: array (nullable = true)\n",
      " |    |-- element: string (containsNull = true)\n",
      " |-- user_pid_seq: array (nullable = true)\n",
      " |    |-- element: integer (containsNull = true)\n",
      " |-- user_etime_seq: array (nullable = true)\n",
      " |    |-- element: long (containsNull = true)\n",
      " |-- user_etype_seq: array (nullable = true)\n",
      " |    |-- element: integer (containsNull = true)\n",
      " |-- user_csid_seq: array (nullable = true)\n",
      " |    |-- element: integer (containsNull = true)\n",
      " |-- user_ccid_seq: array (nullable = true)\n",
      " |    |-- element: integer (containsNull = true)\n",
      " |-- user_bid_seq: array (nullable = true)\n",
      " |    |-- element: integer (containsNull = true)\n",
      " |-- user_price_log_seq: array (nullable = true)\n",
      " |    |-- element: double (containsNull = true)\n",
      " |-- user_dtime_secs_seq: array (nullable = true)\n",
      " |    |-- element: long (containsNull = true)\n",
      " |-- user_dtime_secs_log_norm_seq: array (nullable = true)\n",
      " |    |-- element: double (containsNull = true)\n",
      " |-- user_prod_recency_days_seq: array (nullable = true)\n",
      " |    |-- element: double (containsNull = true)\n",
      " |-- user_prod_recency_days_log_norm_seq: array (nullable = true)\n",
      " |    |-- element: double (containsNull = true)\n",
      " |-- user_relative_price_to_avg_category_seq: array (nullable = true)\n",
      " |    |-- element: double (containsNull = true)\n",
      " |-- user_et_hour_sin_seq: array (nullable = true)\n",
      " |    |-- element: float (containsNull = true)\n",
      " |-- user_et_hour_cos_seq: array (nullable = true)\n",
      " |    |-- element: float (containsNull = true)\n",
      " |-- user_et_month_sin_seq: array (nullable = true)\n",
      " |    |-- element: float (containsNull = true)\n",
      " |-- user_et_month_cos_seq: array (nullable = true)\n",
      " |    |-- element: float (containsNull = true)\n",
      " |-- user_et_dayofweek_sin_seq: array (nullable = true)\n",
      " |    |-- element: float (containsNull = true)\n",
      " |-- user_et_dayofweek_cos_seq: array (nullable = true)\n",
      " |    |-- element: float (containsNull = true)\n",
      " |-- user_et_dayofmonth_sin_seq: array (nullable = true)\n",
      " |    |-- element: float (containsNull = true)\n",
      " |-- user_et_dayofmonth_cos_seq: array (nullable = true)\n",
      " |    |-- element: float (containsNull = true)\n",
      "\n"
     ]
    }
   ],
   "source": [
    "users_and_session_seq_joined_df.printSchema()"
   ]
  },
  {
   "cell_type": "code",
   "execution_count": 58,
   "metadata": {},
   "outputs": [],
   "source": [
    "def user_seq_feature_before_session(session_start, user_ts_seq, user_feature_seq, limit):\n",
    "    new_seq = list(map(lambda y: y[1], filter(lambda x: x[0] < session_start, zip(user_ts_seq, user_feature_seq))))[-limit:]\n",
    "    return new_seq\n",
    "\n",
    "@udf(returnType=ArrayType(IntegerType()))\n",
    "def user_seq_before_session_integer_udf(session_start, user_ts_seq, user_feature_seq, limit):\n",
    "    result = user_seq_feature_before_session(session_start, user_ts_seq, user_feature_seq, limit)\n",
    "    return list([int(x) for x in result])\n",
    "\n",
    "@udf(returnType=ArrayType(FloatType()))\n",
    "def user_seq_before_session_float_udf(session_start, user_ts_seq, user_feature_seq, limit):\n",
    "    result = user_seq_feature_before_session(session_start, user_ts_seq, user_feature_seq, limit)\n",
    "    return list([float(x) for x in result])\n",
    "\n",
    "@udf(returnType=ArrayType(StringType()))\n",
    "def user_seq_before_session_str_udf(session_start, user_ts_seq, user_feature_seq, limit):\n",
    "    result = user_seq_feature_before_session(session_start, user_ts_seq, user_feature_seq, limit)\n",
    "    return list([str(x) for x in result])"
   ]
  },
  {
   "cell_type": "code",
   "execution_count": 59,
   "metadata": {},
   "outputs": [],
   "source": [
    "def sessions_reversed_order(session_ids):\n",
    "    last_session_id = \"\"\n",
    "    counter = 0\n",
    "    sessions_orders = []\n",
    "    for session_id in reversed(session_ids):\n",
    "        if session_id != last_session_id:\n",
    "            counter += 1\n",
    "            last_session_id = session_id\n",
    "        sessions_orders.append(counter)\n",
    "    return list(reversed(sessions_orders))\n",
    "\n",
    "\n",
    "@udf(returnType=ArrayType(IntegerType()))\n",
    "def sessions_reversed_order_udf(session_ids):\n",
    "    result = sessions_reversed_order(session_ids)\n",
    "    return list([int(x) for x in result])"
   ]
  },
  {
   "cell_type": "code",
   "execution_count": 60,
   "metadata": {},
   "outputs": [],
   "source": [
    "@udf(returnType=ArrayType(IntegerType()))\n",
    "def get_repeated_values_array_int_udf(value, repeat_times):\n",
    "    return [value] * repeat_times"
   ]
  },
  {
   "cell_type": "code",
   "execution_count": 61,
   "metadata": {},
   "outputs": [
    {
     "data": {
      "text/plain": [
       "[4, 4, 4, 4, 3, 2, 2, 1]"
      ]
     },
     "execution_count": 61,
     "metadata": {},
     "output_type": "execute_result"
    }
   ],
   "source": [
    "sessions_reversed_order([\"a\", \"a\", \"a\", \"a\", \"b\", \"c\", \"c\", \"d\"])"
   ]
  },
  {
   "cell_type": "code",
   "execution_count": 63,
   "metadata": {},
   "outputs": [],
   "source": [
    "session_seq_and_prev_users_seq_df = users_and_session_seq_joined_df \\\n",
    "            .withColumn('bef_sess_pid_seq', user_seq_before_session_integer_udf(F.col('session_start_ts'), F.col('user_etime_seq'),  F.col('user_pid_seq'), F.lit(MAX_LENGTH_USER_SEQUENCE_BEFORE_SESSION))) \\\n",
    "            .withColumn('bef_sess_etime_seq', user_seq_before_session_integer_udf(F.col('session_start_ts'), F.col('user_etime_seq'),  F.col('user_etime_seq'), F.lit(MAX_LENGTH_USER_SEQUENCE_BEFORE_SESSION))) \\\n",
    "            .withColumn('bef_sess_etype_seq', user_seq_before_session_integer_udf(F.col('session_start_ts'), F.col('user_etime_seq'),  F.col('user_etype_seq'), F.lit(MAX_LENGTH_USER_SEQUENCE_BEFORE_SESSION))) \\\n",
    "            .withColumn('bef_sess_csid_seq', user_seq_before_session_integer_udf(F.col('session_start_ts'), F.col('user_etime_seq'),  F.col('user_csid_seq'), F.lit(MAX_LENGTH_USER_SEQUENCE_BEFORE_SESSION))) \\\n",
    "            .withColumn('bef_sess_ccid_seq', user_seq_before_session_integer_udf(F.col('session_start_ts'), F.col('user_etime_seq'),  F.col('user_ccid_seq'), F.lit(MAX_LENGTH_USER_SEQUENCE_BEFORE_SESSION))) \\\n",
    "            .withColumn('bef_sess_bid_seq', user_seq_before_session_integer_udf(F.col('session_start_ts'), F.col('user_etime_seq'),  F.col('user_bid_seq'), F.lit(MAX_LENGTH_USER_SEQUENCE_BEFORE_SESSION))) \\\n",
    "            .withColumn('bef_sess_price_log_seq', user_seq_before_session_float_udf(F.col('session_start_ts'), F.col('user_etime_seq'),  F.col('user_price_log_seq'), F.lit(MAX_LENGTH_USER_SEQUENCE_BEFORE_SESSION))) \\\n",
    "            .withColumn('bef_sess_dtime_secs_seq', user_seq_before_session_float_udf(F.col('session_start_ts'), F.col('user_etime_seq'),  F.col('user_dtime_secs_seq'), F.lit(MAX_LENGTH_USER_SEQUENCE_BEFORE_SESSION))) \\\n",
    "            .withColumn('bef_sess_dtime_secs_log_norm_seq', user_seq_before_session_float_udf(F.col('session_start_ts'), F.col('user_etime_seq'),  F.col('user_dtime_secs_log_norm_seq'), F.lit(MAX_LENGTH_USER_SEQUENCE_BEFORE_SESSION))) \\\n",
    "            .withColumn('bef_sess_prod_recency_days_seq', user_seq_before_session_float_udf(F.col('session_start_ts'), F.col('user_etime_seq'),  F.col('user_prod_recency_days_seq'), F.lit(MAX_LENGTH_USER_SEQUENCE_BEFORE_SESSION))) \\\n",
    "            .withColumn('bef_sess_prod_recency_days_log_norm_seq', user_seq_before_session_float_udf(F.col('session_start_ts'), F.col('user_etime_seq'),  F.col('user_prod_recency_days_log_norm_seq'), F.lit(MAX_LENGTH_USER_SEQUENCE_BEFORE_SESSION))) \\\n",
    "            .withColumn('bef_sess_relative_price_to_avg_category_seq', user_seq_before_session_float_udf(F.col('session_start_ts'), F.col('user_etime_seq'),  F.col('user_relative_price_to_avg_category_seq'), F.lit(MAX_LENGTH_USER_SEQUENCE_BEFORE_SESSION))) \\\n",
    "            .withColumn('bef_sess_et_hour_sin_seq', user_seq_before_session_float_udf(F.col('session_start_ts'), F.col('user_etime_seq'),  F.col('user_et_hour_sin_seq'), F.lit(MAX_LENGTH_USER_SEQUENCE_BEFORE_SESSION))) \\\n",
    "            .withColumn('bef_sess_et_hour_cos_seq', user_seq_before_session_float_udf(F.col('session_start_ts'), F.col('user_etime_seq'),  F.col('user_et_hour_cos_seq'), F.lit(MAX_LENGTH_USER_SEQUENCE_BEFORE_SESSION))) \\\n",
    "            .withColumn('bef_sess_et_month_sin_seq', user_seq_before_session_float_udf(F.col('session_start_ts'), F.col('user_etime_seq'),  F.col('user_et_month_sin_seq'), F.lit(MAX_LENGTH_USER_SEQUENCE_BEFORE_SESSION))) \\\n",
    "            .withColumn('bef_sess_et_month_cos_seq', user_seq_before_session_float_udf(F.col('session_start_ts'), F.col('user_etime_seq'),  F.col('user_et_month_cos_seq'), F.lit(MAX_LENGTH_USER_SEQUENCE_BEFORE_SESSION))) \\\n",
    "            .withColumn('bef_sess_et_dayofweek_sin_seq', user_seq_before_session_float_udf(F.col('session_start_ts'), F.col('user_etime_seq'),  F.col('user_et_dayofweek_sin_seq'), F.lit(MAX_LENGTH_USER_SEQUENCE_BEFORE_SESSION))) \\\n",
    "            .withColumn('bef_sess_et_dayofweek_cos_seq', user_seq_before_session_float_udf(F.col('session_start_ts'), F.col('user_etime_seq'),  F.col('user_et_dayofweek_cos_seq'), F.lit(MAX_LENGTH_USER_SEQUENCE_BEFORE_SESSION))) \\\n",
    "            .withColumn('bef_sess_et_dayofmonth_sin_seq', user_seq_before_session_float_udf(F.col('session_start_ts'), F.col('user_etime_seq'),  F.col('user_et_dayofmonth_sin_seq'), F.lit(MAX_LENGTH_USER_SEQUENCE_BEFORE_SESSION))) \\\n",
    "            .withColumn('bef_sess_et_dayofmonth_cos_seq', user_seq_before_session_float_udf(F.col('session_start_ts'), F.col('user_etime_seq'),  F.col('user_et_dayofmonth_cos_seq'), F.lit(MAX_LENGTH_USER_SEQUENCE_BEFORE_SESSION))) \\\n",
    "            .withColumn('bef_sess_session_reversed_order_seq', sessions_reversed_order_udf(user_seq_before_session_str_udf(F.col('session_start_ts'), F.col('user_etime_seq'),  F.col('user_session_seq'), F.lit(MAX_LENGTH_USER_SEQUENCE_BEFORE_SESSION)))) \\\n",
    "            .withColumn('sess_session_reversed_order_seq', get_repeated_values_array_int_udf(F.lit(0), F.lit(SESSIONS_MAX_LENGTH))) \\\n",
    "            .withColumn('bef_sess_seq_length', F.size('bef_sess_pid_seq'))"
   ]
  },
  {
   "cell_type": "markdown",
   "metadata": {},
   "source": [
    "# Exporting data"
   ]
  },
  {
   "cell_type": "markdown",
   "metadata": {},
   "source": [
    "#### Option A: Pad zeros to make all sequences same length\n",
    "NOTE: it would be not memory-efficient. But currently it seems no way to utilize Petastorm (parquet -> dataloader) without this option."
   ]
  },
  {
   "cell_type": "code",
   "execution_count": 64,
   "metadata": {},
   "outputs": [],
   "source": [
    "from pyspark.sql.types import ArrayType, IntegerType\n",
    "\n",
    "def pad_array(values, expected_length, trunc_start, dtype=int):\n",
    "    #if dtype is float:\n",
    "    #    value_to_pad = [0.]\n",
    "    #else:\n",
    "    #    value_to_pad = [0]\n",
    "    #value_to_pad = [dtype(0)]\n",
    "        \n",
    "    res = list([dtype(x) for x in values]) + ([dtype(0)] * (expected_length-len(values)))\n",
    "    \n",
    "    # Pick first N\n",
    "    if trunc_start:\n",
    "        res = res[:expected_length]\n",
    "    #Pick last N\n",
    "    else:\n",
    "        res = res[-expected_length:]\n",
    "        \n",
    "    return res\n",
    "\n",
    "\n",
    "@udf(returnType=ArrayType(IntegerType()))\n",
    "def pad_array_int(values, expected_length, trunc_start):\n",
    "    return pad_array(values, expected_length, trunc_start)\n",
    "\n",
    "@udf(returnType=ArrayType(LongType()))\n",
    "def pad_array_long(values, expected_length, trunc_start):\n",
    "    return pad_array(values, expected_length, trunc_start)\n",
    "\n",
    "@udf(returnType=ArrayType(FloatType()))\n",
    "def pad_array_float(values, expected_length, trunc_start):\n",
    "    return pad_array(values, expected_length, trunc_start, dtype=float)"
   ]
  },
  {
   "cell_type": "code",
   "execution_count": 65,
   "metadata": {},
   "outputs": [
    {
     "data": {
      "text/plain": [
       "\"\\n#Export padded sequences for compatibility with PetaStorm data loader. NVTabular and PyArrow supports list columns with different lengths\\nsessions_users_seqs_to_export_df =         session_seq_and_prev_users_seq_df.select('user_idx', 'user_session', 'sess_seq_len', \\n                                                 'session_start_ts',  \\n                                                 F.date_trunc('day', F.to_timestamp(F.col('session_start_ts'))).cast('string').substr(0,10).alias('session_start_date'), \\n                                                 'user_seq_length_bef_sess', 'user_elapsed_days_bef_sess', 'user_elapsed_days_log_bef_sess_norm',\\n                        # Session sequences (first N interactions)\\n                        pad_array_long(F.col('sess_pid_seq'), F.lit(SESSIONS_MAX_LENGTH), F.lit(True)).alias('sess_pid_seq'),\\n                        pad_array_long(F.col('sess_etime_seq'), F.lit(SESSIONS_MAX_LENGTH), F.lit(True)).alias('sess_etime_seq'),\\n                        pad_array_int(F.col('sess_etype_seq'), F.lit(SESSIONS_MAX_LENGTH), F.lit(True)).alias('sess_etype_seq'),\\n                        pad_array_int(F.col('sess_csid_seq'), F.lit(SESSIONS_MAX_LENGTH), F.lit(True)).alias('sess_csid_seq'),\\n                        pad_array_int(F.col('sess_ccid_seq'), F.lit(SESSIONS_MAX_LENGTH), F.lit(True)).alias('sess_ccid_seq'),\\n                        pad_array_int(F.col('sess_bid_seq'), F.lit(SESSIONS_MAX_LENGTH), F.lit(True)).alias('sess_bid_seq'),\\n                        pad_array_float(F.col('sess_price_seq'), F.lit(SESSIONS_MAX_LENGTH), F.lit(True)).alias('sess_price_seq'),\\n                        pad_array_float(F.col('sess_dtime_seq'), F.lit(SESSIONS_MAX_LENGTH), F.lit(True)).alias('sess_dtime_seq'),\\n                        pad_array_float(F.col('sess_product_recency_seq'), F.lit(SESSIONS_MAX_LENGTH), F.lit(True)).alias('sess_product_recency_seq'),\\n                        pad_array_float(F.col('sess_relative_price_to_avg_category_seq'), F.lit(SESSIONS_MAX_LENGTH), F.lit(True)).alias('sess_relative_price_to_avg_category_seq'),\\n                        pad_array_float(F.col('sess_et_hour_sin_seq'), F.lit(SESSIONS_MAX_LENGTH), F.lit(True)).alias('sess_et_hour_sin_seq'), \\n                        pad_array_float(F.col('sess_et_hour_cos_seq'), F.lit(SESSIONS_MAX_LENGTH), F.lit(True)).alias('sess_et_hour_cos_seq'),\\n                        pad_array_float(F.col('sess_et_month_sin_seq'), F.lit(SESSIONS_MAX_LENGTH), F.lit(True)).alias('sess_et_month_sin_seq'),\\n                        pad_array_float(F.col('sess_et_month_cos_seq'), F.lit(SESSIONS_MAX_LENGTH), F.lit(True)).alias('sess_et_month_cos_seq'),\\n                        pad_array_float(F.col('sess_et_dayofweek_sin_seq'), F.lit(SESSIONS_MAX_LENGTH), F.lit(True)).alias('sess_et_dayofweek_sin_seq'),\\n                        pad_array_float(F.col('sess_et_dayofweek_cos_seq'), F.lit(SESSIONS_MAX_LENGTH), F.lit(True)).alias('sess_et_dayofweek_cos_seq'),\\n                        pad_array_float(F.col('sess_et_dayofmonth_sin_seq'), F.lit(SESSIONS_MAX_LENGTH), F.lit(True)).alias('sess_et_dayofmonth_sin_seq'),\\n                        pad_array_float(F.col('sess_et_dayofmonth_cos_seq'), F.lit(SESSIONS_MAX_LENGTH), F.lit(True)).alias('sess_et_dayofmonth_cos_seq'),\\n                         # Users sequences before session (last M interactions) \\n                         pad_array_long(F.col('user_pid_seq_bef_sess'), F.lit(MAX_LENGTH_USER_SEQUENCE_BEFORE_SESSION), F.lit(False)).alias('user_pid_seq_bef_sess'),\\n                         pad_array_long(F.col('user_etime_seq_bef_sess'), F.lit(MAX_LENGTH_USER_SEQUENCE_BEFORE_SESSION), F.lit(False)).alias('user_etime_seq_bef_sess'),\\n                         pad_array_int(F.col('user_etype_seq_bef_sess'), F.lit(MAX_LENGTH_USER_SEQUENCE_BEFORE_SESSION), F.lit(False)).alias('user_etype_seq_bef_sess'),\\n                         pad_array_int(F.col('user_csid_seq_bef_sess'), F.lit(MAX_LENGTH_USER_SEQUENCE_BEFORE_SESSION), F.lit(False)).alias('user_csid_seq_bef_sess'),\\n                         pad_array_int(F.col('user_ccid_seq_bef_sess'), F.lit(MAX_LENGTH_USER_SEQUENCE_BEFORE_SESSION), F.lit(False)).alias('user_ccid_seq_bef_sess'),\\n                         pad_array_int(F.col('user_bid_seq_bef_sess'), F.lit(MAX_LENGTH_USER_SEQUENCE_BEFORE_SESSION), F.lit(False)).alias('user_bid_seq_bef_sess'),\\n                         pad_array_float(F.col('user_price_seq_bef_sess'), F.lit(MAX_LENGTH_USER_SEQUENCE_BEFORE_SESSION), F.lit(False)).alias('user_price_seq_bef_sess'),\\n                         pad_array_float(F.col('user_dtime_seq_bef_sess'), F.lit(MAX_LENGTH_USER_SEQUENCE_BEFORE_SESSION), F.lit(False)).alias('user_dtime_seq_bef_sess'),\\n                         pad_array_float(F.col('user_product_recency_seq_bef_sess'), F.lit(MAX_LENGTH_USER_SEQUENCE_BEFORE_SESSION), F.lit(False)).alias('user_product_recency_seq_bef_sess'),\\n                         pad_array_float(F.col('user_relative_price_to_avg_category_seq_bef_sess'), F.lit(MAX_LENGTH_USER_SEQUENCE_BEFORE_SESSION), F.lit(False)).alias('user_relative_price_to_avg_category_seq_bef_sess'),\\n                         pad_array_float(F.col('user_et_hour_sin_seq_bef_sess'), F.lit(MAX_LENGTH_USER_SEQUENCE_BEFORE_SESSION), F.lit(False)).alias('user_et_hour_sin_seq_bef_sess'),\\n                         pad_array_float(F.col('user_et_hour_cos_seq_bef_sess'), F.lit(MAX_LENGTH_USER_SEQUENCE_BEFORE_SESSION), F.lit(False)).alias('user_et_hour_cos_seq_bef_sess'),\\n                         pad_array_float(F.col('user_et_month_sin_seq_bef_sess'), F.lit(MAX_LENGTH_USER_SEQUENCE_BEFORE_SESSION), F.lit(False)).alias('user_et_month_sin_seq_bef_sess'),\\n                         pad_array_float(F.col('user_et_month_cos_seq_bef_sess'), F.lit(MAX_LENGTH_USER_SEQUENCE_BEFORE_SESSION), F.lit(False)).alias('user_et_month_cos_seq_bef_sess'),\\n                         pad_array_float(F.col('user_et_dayofweek_sin_seq_bef_sess'), F.lit(MAX_LENGTH_USER_SEQUENCE_BEFORE_SESSION), F.lit(False)).alias('user_et_dayofweek_sin_seq_bef_sess'),\\n                         pad_array_float(F.col('user_et_dayofweek_cos_seq_bef_sess'), F.lit(MAX_LENGTH_USER_SEQUENCE_BEFORE_SESSION), F.lit(False)).alias('user_et_dayofweek_cos_seq_bef_sess'),\\n                         pad_array_float(F.col('user_et_dayofmonth_sin_seq_bef_sess'), F.lit(MAX_LENGTH_USER_SEQUENCE_BEFORE_SESSION), F.lit(False)).alias('user_et_dayofmonth_sin_seq_bef_sess'),\\n                         pad_array_float(F.col('user_et_dayofmonth_cos_seq_bef_sess'), F.lit(MAX_LENGTH_USER_SEQUENCE_BEFORE_SESSION), F.lit(False)).alias('user_et_dayofmonth_cos_seq_bef_sess'),\\n                    )\\n\""
      ]
     },
     "execution_count": 65,
     "metadata": {},
     "output_type": "execute_result"
    }
   ],
   "source": [
    "'''\n",
    "#Export padded sequences for compatibility with PetaStorm data loader. NVTabular and PyArrow supports list columns with different lengths\n",
    "sessions_users_seqs_to_export_df = \\\n",
    "        session_seq_and_prev_users_seq_df.select('user_idx', 'user_session', 'sess_seq_len', \n",
    "                                                 'session_start_ts',  \n",
    "                                                 F.date_trunc('day', F.to_timestamp(F.col('session_start_ts'))).cast('string').substr(0,10).alias('session_start_date'), \n",
    "                                                 'user_seq_length_bef_sess', 'user_elapsed_days_bef_sess', 'user_elapsed_days_log_bef_sess_norm',\n",
    "                        # Session sequences (first N interactions)\n",
    "                        pad_array_long(F.col('sess_pid_seq'), F.lit(SESSIONS_MAX_LENGTH), F.lit(True)).alias('sess_pid_seq'),\n",
    "                        pad_array_long(F.col('sess_etime_seq'), F.lit(SESSIONS_MAX_LENGTH), F.lit(True)).alias('sess_etime_seq'),\n",
    "                        pad_array_int(F.col('sess_etype_seq'), F.lit(SESSIONS_MAX_LENGTH), F.lit(True)).alias('sess_etype_seq'),\n",
    "                        pad_array_int(F.col('sess_csid_seq'), F.lit(SESSIONS_MAX_LENGTH), F.lit(True)).alias('sess_csid_seq'),\n",
    "                        pad_array_int(F.col('sess_ccid_seq'), F.lit(SESSIONS_MAX_LENGTH), F.lit(True)).alias('sess_ccid_seq'),\n",
    "                        pad_array_int(F.col('sess_bid_seq'), F.lit(SESSIONS_MAX_LENGTH), F.lit(True)).alias('sess_bid_seq'),\n",
    "                        pad_array_float(F.col('sess_price_seq'), F.lit(SESSIONS_MAX_LENGTH), F.lit(True)).alias('sess_price_seq'),\n",
    "                        pad_array_float(F.col('sess_dtime_seq'), F.lit(SESSIONS_MAX_LENGTH), F.lit(True)).alias('sess_dtime_seq'),\n",
    "                        pad_array_float(F.col('sess_product_recency_seq'), F.lit(SESSIONS_MAX_LENGTH), F.lit(True)).alias('sess_product_recency_seq'),\n",
    "                        pad_array_float(F.col('sess_relative_price_to_avg_category_seq'), F.lit(SESSIONS_MAX_LENGTH), F.lit(True)).alias('sess_relative_price_to_avg_category_seq'),\n",
    "                        pad_array_float(F.col('sess_et_hour_sin_seq'), F.lit(SESSIONS_MAX_LENGTH), F.lit(True)).alias('sess_et_hour_sin_seq'), \n",
    "                        pad_array_float(F.col('sess_et_hour_cos_seq'), F.lit(SESSIONS_MAX_LENGTH), F.lit(True)).alias('sess_et_hour_cos_seq'),\n",
    "                        pad_array_float(F.col('sess_et_month_sin_seq'), F.lit(SESSIONS_MAX_LENGTH), F.lit(True)).alias('sess_et_month_sin_seq'),\n",
    "                        pad_array_float(F.col('sess_et_month_cos_seq'), F.lit(SESSIONS_MAX_LENGTH), F.lit(True)).alias('sess_et_month_cos_seq'),\n",
    "                        pad_array_float(F.col('sess_et_dayofweek_sin_seq'), F.lit(SESSIONS_MAX_LENGTH), F.lit(True)).alias('sess_et_dayofweek_sin_seq'),\n",
    "                        pad_array_float(F.col('sess_et_dayofweek_cos_seq'), F.lit(SESSIONS_MAX_LENGTH), F.lit(True)).alias('sess_et_dayofweek_cos_seq'),\n",
    "                        pad_array_float(F.col('sess_et_dayofmonth_sin_seq'), F.lit(SESSIONS_MAX_LENGTH), F.lit(True)).alias('sess_et_dayofmonth_sin_seq'),\n",
    "                        pad_array_float(F.col('sess_et_dayofmonth_cos_seq'), F.lit(SESSIONS_MAX_LENGTH), F.lit(True)).alias('sess_et_dayofmonth_cos_seq'),\n",
    "                         # Users sequences before session (last M interactions) \n",
    "                         pad_array_long(F.col('user_pid_seq_bef_sess'), F.lit(MAX_LENGTH_USER_SEQUENCE_BEFORE_SESSION), F.lit(False)).alias('user_pid_seq_bef_sess'),\n",
    "                         pad_array_long(F.col('user_etime_seq_bef_sess'), F.lit(MAX_LENGTH_USER_SEQUENCE_BEFORE_SESSION), F.lit(False)).alias('user_etime_seq_bef_sess'),\n",
    "                         pad_array_int(F.col('user_etype_seq_bef_sess'), F.lit(MAX_LENGTH_USER_SEQUENCE_BEFORE_SESSION), F.lit(False)).alias('user_etype_seq_bef_sess'),\n",
    "                         pad_array_int(F.col('user_csid_seq_bef_sess'), F.lit(MAX_LENGTH_USER_SEQUENCE_BEFORE_SESSION), F.lit(False)).alias('user_csid_seq_bef_sess'),\n",
    "                         pad_array_int(F.col('user_ccid_seq_bef_sess'), F.lit(MAX_LENGTH_USER_SEQUENCE_BEFORE_SESSION), F.lit(False)).alias('user_ccid_seq_bef_sess'),\n",
    "                         pad_array_int(F.col('user_bid_seq_bef_sess'), F.lit(MAX_LENGTH_USER_SEQUENCE_BEFORE_SESSION), F.lit(False)).alias('user_bid_seq_bef_sess'),\n",
    "                         pad_array_float(F.col('user_price_seq_bef_sess'), F.lit(MAX_LENGTH_USER_SEQUENCE_BEFORE_SESSION), F.lit(False)).alias('user_price_seq_bef_sess'),\n",
    "                         pad_array_float(F.col('user_dtime_seq_bef_sess'), F.lit(MAX_LENGTH_USER_SEQUENCE_BEFORE_SESSION), F.lit(False)).alias('user_dtime_seq_bef_sess'),\n",
    "                         pad_array_float(F.col('user_product_recency_seq_bef_sess'), F.lit(MAX_LENGTH_USER_SEQUENCE_BEFORE_SESSION), F.lit(False)).alias('user_product_recency_seq_bef_sess'),\n",
    "                         pad_array_float(F.col('user_relative_price_to_avg_category_seq_bef_sess'), F.lit(MAX_LENGTH_USER_SEQUENCE_BEFORE_SESSION), F.lit(False)).alias('user_relative_price_to_avg_category_seq_bef_sess'),\n",
    "                         pad_array_float(F.col('user_et_hour_sin_seq_bef_sess'), F.lit(MAX_LENGTH_USER_SEQUENCE_BEFORE_SESSION), F.lit(False)).alias('user_et_hour_sin_seq_bef_sess'),\n",
    "                         pad_array_float(F.col('user_et_hour_cos_seq_bef_sess'), F.lit(MAX_LENGTH_USER_SEQUENCE_BEFORE_SESSION), F.lit(False)).alias('user_et_hour_cos_seq_bef_sess'),\n",
    "                         pad_array_float(F.col('user_et_month_sin_seq_bef_sess'), F.lit(MAX_LENGTH_USER_SEQUENCE_BEFORE_SESSION), F.lit(False)).alias('user_et_month_sin_seq_bef_sess'),\n",
    "                         pad_array_float(F.col('user_et_month_cos_seq_bef_sess'), F.lit(MAX_LENGTH_USER_SEQUENCE_BEFORE_SESSION), F.lit(False)).alias('user_et_month_cos_seq_bef_sess'),\n",
    "                         pad_array_float(F.col('user_et_dayofweek_sin_seq_bef_sess'), F.lit(MAX_LENGTH_USER_SEQUENCE_BEFORE_SESSION), F.lit(False)).alias('user_et_dayofweek_sin_seq_bef_sess'),\n",
    "                         pad_array_float(F.col('user_et_dayofweek_cos_seq_bef_sess'), F.lit(MAX_LENGTH_USER_SEQUENCE_BEFORE_SESSION), F.lit(False)).alias('user_et_dayofweek_cos_seq_bef_sess'),\n",
    "                         pad_array_float(F.col('user_et_dayofmonth_sin_seq_bef_sess'), F.lit(MAX_LENGTH_USER_SEQUENCE_BEFORE_SESSION), F.lit(False)).alias('user_et_dayofmonth_sin_seq_bef_sess'),\n",
    "                         pad_array_float(F.col('user_et_dayofmonth_cos_seq_bef_sess'), F.lit(MAX_LENGTH_USER_SEQUENCE_BEFORE_SESSION), F.lit(False)).alias('user_et_dayofmonth_cos_seq_bef_sess'),\n",
    "                    )\n",
    "'''                    "
   ]
  },
  {
   "cell_type": "code",
   "execution_count": 66,
   "metadata": {},
   "outputs": [],
   "source": [
    "sessions_users_seqs_to_export_df = \\\n",
    "        session_seq_and_prev_users_seq_df.select(\n",
    "                        'user_idx', 'user_session', 'session_start_ts', 'sess_seq_len',  'bef_sess_seq_length',  \n",
    "                        F.date_trunc('day', F.to_timestamp(F.col('session_start_ts'))).cast('string').substr(0,10).alias('session_start_date'), \n",
    "                        # Session sequences (first N interactions)\n",
    "                        'sess_pid_seq',\n",
    "                        'sess_etime_seq',\n",
    "                        'sess_etype_seq',\n",
    "                        'sess_csid_seq',\n",
    "                        'sess_ccid_seq',\n",
    "                        'sess_bid_seq',\n",
    "                        'sess_price_log_norm_seq',\n",
    "                        'sess_dtime_secs_seq',\n",
    "                        'sess_dtime_secs_log_norm_seq',\n",
    "                        'sess_prod_recency_days_seq',\n",
    "                        'sess_prod_recency_days_log_norm_seq',\n",
    "                        'sess_relative_price_to_avg_category_seq',\n",
    "                        'sess_et_hour_sin_seq', \n",
    "                        'sess_et_hour_cos_seq',\n",
    "                        'sess_et_month_sin_seq',\n",
    "                        'sess_et_month_cos_seq',\n",
    "                        'sess_et_dayofweek_sin_seq',\n",
    "                        'sess_et_dayofweek_cos_seq',\n",
    "                        'sess_et_dayofmonth_sin_seq',\n",
    "                        'sess_et_dayofmonth_cos_seq',\n",
    "                        'sess_session_reversed_order_seq',\n",
    "                         # Users sequences before session (last M interactions) \n",
    "                         'bef_sess_pid_seq',\n",
    "                         'bef_sess_etime_seq',\n",
    "                         'bef_sess_etype_seq',\n",
    "                         'bef_sess_csid_seq',\n",
    "                         'bef_sess_ccid_seq',\n",
    "                         'bef_sess_bid_seq',\n",
    "                         'bef_sess_price_log_seq',\n",
    "                         'bef_sess_dtime_secs_seq',\n",
    "                         'bef_sess_dtime_secs_log_norm_seq',                         \n",
    "                         'bef_sess_prod_recency_days_seq',\n",
    "                         'bef_sess_prod_recency_days_log_norm_seq',   \n",
    "                         'bef_sess_relative_price_to_avg_category_seq',\n",
    "                         'bef_sess_et_hour_sin_seq',\n",
    "                         'bef_sess_et_hour_cos_seq',\n",
    "                         'bef_sess_et_month_sin_seq',\n",
    "                         'bef_sess_et_month_cos_seq',\n",
    "                         'bef_sess_et_dayofweek_sin_seq',\n",
    "                         'bef_sess_et_dayofweek_cos_seq',\n",
    "                         'bef_sess_et_dayofmonth_sin_seq',\n",
    "                         'bef_sess_et_dayofmonth_cos_seq',\n",
    "                         'bef_sess_session_reversed_order_seq',\n",
    "                    )"
   ]
  },
  {
   "cell_type": "code",
   "execution_count": 67,
   "metadata": {},
   "outputs": [
    {
     "name": "stdout",
     "output_type": "stream",
     "text": [
      "root\n",
      " |-- user_idx: integer (nullable = true)\n",
      " |-- user_session: string (nullable = true)\n",
      " |-- session_start_ts: long (nullable = true)\n",
      " |-- sess_seq_len: integer (nullable = false)\n",
      " |-- bef_sess_seq_length: integer (nullable = false)\n",
      " |-- session_start_date: string (nullable = true)\n",
      " |-- sess_pid_seq: array (nullable = true)\n",
      " |    |-- element: integer (containsNull = true)\n",
      " |-- sess_etime_seq: array (nullable = true)\n",
      " |    |-- element: long (containsNull = true)\n",
      " |-- sess_etype_seq: array (nullable = true)\n",
      " |    |-- element: integer (containsNull = true)\n",
      " |-- sess_csid_seq: array (nullable = true)\n",
      " |    |-- element: integer (containsNull = true)\n",
      " |-- sess_ccid_seq: array (nullable = true)\n",
      " |    |-- element: integer (containsNull = true)\n",
      " |-- sess_bid_seq: array (nullable = true)\n",
      " |    |-- element: integer (containsNull = true)\n",
      " |-- sess_price_log_norm_seq: array (nullable = true)\n",
      " |    |-- element: double (containsNull = true)\n",
      " |-- sess_dtime_secs_seq: array (nullable = true)\n",
      " |    |-- element: long (containsNull = true)\n",
      " |-- sess_dtime_secs_log_norm_seq: array (nullable = true)\n",
      " |    |-- element: double (containsNull = true)\n",
      " |-- sess_prod_recency_days_seq: array (nullable = true)\n",
      " |    |-- element: double (containsNull = true)\n",
      " |-- sess_prod_recency_days_log_norm_seq: array (nullable = true)\n",
      " |    |-- element: double (containsNull = true)\n",
      " |-- sess_relative_price_to_avg_category_seq: array (nullable = true)\n",
      " |    |-- element: double (containsNull = true)\n",
      " |-- sess_et_hour_sin_seq: array (nullable = true)\n",
      " |    |-- element: float (containsNull = true)\n",
      " |-- sess_et_hour_cos_seq: array (nullable = true)\n",
      " |    |-- element: float (containsNull = true)\n",
      " |-- sess_et_month_sin_seq: array (nullable = true)\n",
      " |    |-- element: float (containsNull = true)\n",
      " |-- sess_et_month_cos_seq: array (nullable = true)\n",
      " |    |-- element: float (containsNull = true)\n",
      " |-- sess_et_dayofweek_sin_seq: array (nullable = true)\n",
      " |    |-- element: float (containsNull = true)\n",
      " |-- sess_et_dayofweek_cos_seq: array (nullable = true)\n",
      " |    |-- element: float (containsNull = true)\n",
      " |-- sess_et_dayofmonth_sin_seq: array (nullable = true)\n",
      " |    |-- element: float (containsNull = true)\n",
      " |-- sess_et_dayofmonth_cos_seq: array (nullable = true)\n",
      " |    |-- element: float (containsNull = true)\n",
      " |-- sess_session_reversed_order_seq: array (nullable = true)\n",
      " |    |-- element: integer (containsNull = true)\n",
      " |-- bef_sess_pid_seq: array (nullable = true)\n",
      " |    |-- element: integer (containsNull = true)\n",
      " |-- bef_sess_etime_seq: array (nullable = true)\n",
      " |    |-- element: integer (containsNull = true)\n",
      " |-- bef_sess_etype_seq: array (nullable = true)\n",
      " |    |-- element: integer (containsNull = true)\n",
      " |-- bef_sess_csid_seq: array (nullable = true)\n",
      " |    |-- element: integer (containsNull = true)\n",
      " |-- bef_sess_ccid_seq: array (nullable = true)\n",
      " |    |-- element: integer (containsNull = true)\n",
      " |-- bef_sess_bid_seq: array (nullable = true)\n",
      " |    |-- element: integer (containsNull = true)\n",
      " |-- bef_sess_price_log_seq: array (nullable = true)\n",
      " |    |-- element: float (containsNull = true)\n",
      " |-- bef_sess_dtime_secs_seq: array (nullable = true)\n",
      " |    |-- element: float (containsNull = true)\n",
      " |-- bef_sess_dtime_secs_log_norm_seq: array (nullable = true)\n",
      " |    |-- element: float (containsNull = true)\n",
      " |-- bef_sess_prod_recency_days_seq: array (nullable = true)\n",
      " |    |-- element: float (containsNull = true)\n",
      " |-- bef_sess_prod_recency_days_log_norm_seq: array (nullable = true)\n",
      " |    |-- element: float (containsNull = true)\n",
      " |-- bef_sess_relative_price_to_avg_category_seq: array (nullable = true)\n",
      " |    |-- element: float (containsNull = true)\n",
      " |-- bef_sess_et_hour_sin_seq: array (nullable = true)\n",
      " |    |-- element: float (containsNull = true)\n",
      " |-- bef_sess_et_hour_cos_seq: array (nullable = true)\n",
      " |    |-- element: float (containsNull = true)\n",
      " |-- bef_sess_et_month_sin_seq: array (nullable = true)\n",
      " |    |-- element: float (containsNull = true)\n",
      " |-- bef_sess_et_month_cos_seq: array (nullable = true)\n",
      " |    |-- element: float (containsNull = true)\n",
      " |-- bef_sess_et_dayofweek_sin_seq: array (nullable = true)\n",
      " |    |-- element: float (containsNull = true)\n",
      " |-- bef_sess_et_dayofweek_cos_seq: array (nullable = true)\n",
      " |    |-- element: float (containsNull = true)\n",
      " |-- bef_sess_et_dayofmonth_sin_seq: array (nullable = true)\n",
      " |    |-- element: float (containsNull = true)\n",
      " |-- bef_sess_et_dayofmonth_cos_seq: array (nullable = true)\n",
      " |    |-- element: float (containsNull = true)\n",
      " |-- bef_sess_session_reversed_order_seq: array (nullable = true)\n",
      " |    |-- element: integer (containsNull = true)\n",
      "\n"
     ]
    }
   ],
   "source": [
    "sessions_users_seqs_to_export_df.printSchema()"
   ]
  },
  {
   "cell_type": "code",
   "execution_count": 68,
   "metadata": {},
   "outputs": [],
   "source": [
    "#sessions_users_seqs_to_export_df.show()"
   ]
  },
  {
   "cell_type": "markdown",
   "metadata": {},
   "source": [
    "#### Export dataset to parquet, partioned by the session date"
   ]
  },
  {
   "cell_type": "code",
   "execution_count": 69,
   "metadata": {},
   "outputs": [
    {
     "name": "stdout",
     "output_type": "stream",
     "text": [
      "CPU times: user 254 ms, sys: 299 ms, total: 553 ms\n",
      "Wall time: 25min 3s\n"
     ]
    }
   ],
   "source": [
    "%%time\n",
    "OUTPUT_PATH = '/mount/results/repeated_interactions={}/total_months={}'.format(KEEP_REPEATED_USER_INTERACTIONS, NUM_MONTHS_TO_PREPROCESS)\n",
    "sessions_users_seqs_to_export_df.repartition(F.col('session_start_date')) \\\n",
    "                .write.partitionBy('session_start_date') \\\n",
    "                .parquet(os.path.join(OUTPUT_PATH, 'ecommerce_preproc.parquet'))"
   ]
  },
  {
   "cell_type": "markdown",
   "metadata": {},
   "source": [
    "#### Check exported dataset"
   ]
  },
  {
   "cell_type": "code",
   "execution_count": 70,
   "metadata": {},
   "outputs": [],
   "source": [
    "check_df = spark.read.parquet(os.path.join(OUTPUT_PATH, 'ecommerce_preproc.parquet'))"
   ]
  },
  {
   "cell_type": "code",
   "execution_count": 71,
   "metadata": {},
   "outputs": [
    {
     "data": {
      "text/plain": [
       "[Row(user_idx=440441823, user_session='2b0104fe-44be-40a4-8af9-1fce15df8e16', session_start_ts=1571759339, sess_seq_len=2, bef_sess_seq_length=0, sess_pid_seq=[1783, 1648], sess_etime_seq=[1571759339, 1571759354], sess_etype_seq=[2, 2], sess_csid_seq=[35, 35], sess_ccid_seq=[128, 128], sess_bid_seq=[3425, 3425], sess_price_log_norm_seq=[0.23622034340192344, -0.31732772881856963], sess_dtime_secs_seq=[0, 15], sess_dtime_secs_log_norm_seq=[-1.4915604468079908, -0.6140013623239708], sess_prod_recency_days_seq=[21.453310185185185, 21.65335648148148], sess_prod_recency_days_log_norm_seq=[0.7512444279856096, 0.762507073708187], sess_relative_price_to_avg_category_seq=[-0.2424821524606791, -0.6207627244700848], sess_et_hour_sin_seq=[-0.7071067690849304, -0.7071067690849304], sess_et_hour_cos_seq=[-0.7071067690849304, -0.7071067690849304], sess_et_month_sin_seq=[-0.8660253882408142, -0.8660253882408142], sess_et_month_cos_seq=[0.5, 0.5], sess_et_dayofweek_sin_seq=[0.4338837265968323, 0.4338837265968323], sess_et_dayofweek_cos_seq=[-0.9009688496589661, -0.9009688496589661], sess_et_dayofmonth_sin_seq=[-0.9680771231651306, -0.9680771231651306], sess_et_dayofmonth_cos_seq=[-0.2506525218486786, -0.2506525218486786], sess_session_reversed_order_seq=[0, 0, 0, 0, 0, 0, 0, 0, 0, 0, 0, 0, 0, 0, 0, 0, 0, 0, 0, 0], bef_sess_pid_seq=[], bef_sess_etime_seq=[], bef_sess_etype_seq=[], bef_sess_csid_seq=[], bef_sess_ccid_seq=[], bef_sess_bid_seq=[], bef_sess_price_log_seq=[], bef_sess_dtime_secs_seq=[], bef_sess_dtime_secs_log_norm_seq=[], bef_sess_prod_recency_days_seq=[], bef_sess_prod_recency_days_log_norm_seq=[], bef_sess_relative_price_to_avg_category_seq=[], bef_sess_et_hour_sin_seq=[], bef_sess_et_hour_cos_seq=[], bef_sess_et_month_sin_seq=[], bef_sess_et_month_cos_seq=[], bef_sess_et_dayofweek_sin_seq=[], bef_sess_et_dayofweek_cos_seq=[], bef_sess_et_dayofmonth_sin_seq=[], bef_sess_et_dayofmonth_cos_seq=[], bef_sess_session_reversed_order_seq=[], session_start_date=datetime.date(2019, 10, 22)),\n",
       " Row(user_idx=512396122, user_session='8e451059-18e1-4949-a7e7-a2f108b7f70d', session_start_ts=1571726684, sess_seq_len=5, bef_sess_seq_length=0, sess_pid_seq=[4851, 2, 45, 3789, 45], sess_etime_seq=[1571726684, 1571726701, 1571726725, 1571726804, 1571726897], sess_etype_seq=[2, 2, 2, 2, 2], sess_csid_seq=[2, 2, 2, 2, 2], sess_ccid_seq=[2, 2, 2, 2, 2], sess_bid_seq=[5, 2, 2, 2, 2], sess_price_log_norm_seq=[-0.11173526799053864, -0.09427239633057007, -0.40483431003400205, -0.2517210807940977, -0.40483431003400205], sess_dtime_secs_seq=[0, 17, 24, 79, 93], sess_dtime_secs_log_norm_seq=[-1.4915604468079908, -0.5767215551498055, -0.4727459002144517, -0.10459408902720131, -0.053550698846142955], sess_prod_recency_days_seq=[21.163680555555555, 21.27988425925926, 21.18175925925926, 21.15212962962963, 21.18375], sess_prod_recency_days_log_norm_seq=[0.7347591373179697, 0.7413990117837403, 0.7357944371405639, 0.734097216698263, 0.7359083878487814], sess_relative_price_to_avg_category_seq=[-0.7396286815269917, -0.7338805667654767, -0.8196351269178318, -0.7814700822645216, -0.8196351269178318], sess_et_hour_sin_seq=[1.0, 1.0, 1.0, 1.0, 1.0], sess_et_hour_cos_seq=[-2.6179938217296694e-09, -2.6179938217296694e-09, -2.6179938217296694e-09, -2.6179938217296694e-09, -2.6179938217296694e-09], sess_et_month_sin_seq=[-0.8660253882408142, -0.8660253882408142, -0.8660253882408142, -0.8660253882408142, -0.8660253882408142], sess_et_month_cos_seq=[0.5, 0.5, 0.5, 0.5, 0.5], sess_et_dayofweek_sin_seq=[0.4338837265968323, 0.4338837265968323, 0.4338837265968323, 0.4338837265968323, 0.4338837265968323], sess_et_dayofweek_cos_seq=[-0.9009688496589661, -0.9009688496589661, -0.9009688496589661, -0.9009688496589661, -0.9009688496589661], sess_et_dayofmonth_sin_seq=[-0.9680771231651306, -0.9680771231651306, -0.9680771231651306, -0.9680771231651306, -0.9680771231651306], sess_et_dayofmonth_cos_seq=[-0.2506525218486786, -0.2506525218486786, -0.2506525218486786, -0.2506525218486786, -0.2506525218486786], sess_session_reversed_order_seq=[0, 0, 0, 0, 0, 0, 0, 0, 0, 0, 0, 0, 0, 0, 0, 0, 0, 0, 0, 0], bef_sess_pid_seq=[], bef_sess_etime_seq=[], bef_sess_etype_seq=[], bef_sess_csid_seq=[], bef_sess_ccid_seq=[], bef_sess_bid_seq=[], bef_sess_price_log_seq=[], bef_sess_dtime_secs_seq=[], bef_sess_dtime_secs_log_norm_seq=[], bef_sess_prod_recency_days_seq=[], bef_sess_prod_recency_days_log_norm_seq=[], bef_sess_relative_price_to_avg_category_seq=[], bef_sess_et_hour_sin_seq=[], bef_sess_et_hour_cos_seq=[], bef_sess_et_month_sin_seq=[], bef_sess_et_month_cos_seq=[], bef_sess_et_dayofweek_sin_seq=[], bef_sess_et_dayofweek_cos_seq=[], bef_sess_et_dayofmonth_sin_seq=[], bef_sess_et_dayofmonth_cos_seq=[], bef_sess_session_reversed_order_seq=[], session_start_date=datetime.date(2019, 10, 22)),\n",
       " Row(user_idx=512398818, user_session='84cceb8f-26a0-4627-8789-7a24998c11ef', session_start_ts=1571738594, sess_seq_len=5, bef_sess_seq_length=0, sess_pid_seq=[17, 60, 458, 551, 5], sess_etime_seq=[1571738594, 1571738695, 1571738720, 1571738757, 1571738777], sess_etype_seq=[2, 2, 2, 2, 2], sess_csid_seq=[2, 2, 2, 2, 2], sess_ccid_seq=[2, 2, 2, 2, 2], sess_bid_seq=[4, 3, 3, 3, 3], sess_price_log_norm_seq=[0.20322975531376003, 1.8201774160724267, 1.8922683552471466, 2.1289074408356496, 1.8111557635478834], sess_dtime_secs_seq=[0, 101, 25, 37, 20], sess_dtime_secs_log_norm_seq=[-1.4915604468079908, -0.027698578210870975, -0.46033205287693535, -0.34021883077397774, -0.527930932733756], sess_prod_recency_days_seq=[21.412974537037037, 21.32378472222222, 21.318993055555556, 21.303449074074074, 21.418460648148148], sess_prod_recency_days_log_norm_seq=[0.7489613705152304, 0.7438984732826361, 0.7436259000619589, 0.742741280074441, 0.7492721338364718], sess_relative_price_to_avg_category_seq=[-0.6141451020335643, 1.8825678404220971, 2.152505809257909, 3.2291500465852163, 1.850455580924022], sess_et_hour_sin_seq=[0.5, 0.5, 0.5, 0.5, 0.5], sess_et_hour_cos_seq=[-0.8660253882408142, -0.8660253882408142, -0.8660253882408142, -0.8660253882408142, -0.8660253882408142], sess_et_month_sin_seq=[-0.8660253882408142, -0.8660253882408142, -0.8660253882408142, -0.8660253882408142, -0.8660253882408142], sess_et_month_cos_seq=[0.5, 0.5, 0.5, 0.5, 0.5], sess_et_dayofweek_sin_seq=[0.4338837265968323, 0.4338837265968323, 0.4338837265968323, 0.4338837265968323, 0.4338837265968323], sess_et_dayofweek_cos_seq=[-0.9009688496589661, -0.9009688496589661, -0.9009688496589661, -0.9009688496589661, -0.9009688496589661], sess_et_dayofmonth_sin_seq=[-0.9680771231651306, -0.9680771231651306, -0.9680771231651306, -0.9680771231651306, -0.9680771231651306], sess_et_dayofmonth_cos_seq=[-0.2506525218486786, -0.2506525218486786, -0.2506525218486786, -0.2506525218486786, -0.2506525218486786], sess_session_reversed_order_seq=[0, 0, 0, 0, 0, 0, 0, 0, 0, 0, 0, 0, 0, 0, 0, 0, 0, 0, 0, 0], bef_sess_pid_seq=[], bef_sess_etime_seq=[], bef_sess_etype_seq=[], bef_sess_csid_seq=[], bef_sess_ccid_seq=[], bef_sess_bid_seq=[], bef_sess_price_log_seq=[], bef_sess_dtime_secs_seq=[], bef_sess_dtime_secs_log_norm_seq=[], bef_sess_prod_recency_days_seq=[], bef_sess_prod_recency_days_log_norm_seq=[], bef_sess_relative_price_to_avg_category_seq=[], bef_sess_et_hour_sin_seq=[], bef_sess_et_hour_cos_seq=[], bef_sess_et_month_sin_seq=[], bef_sess_et_month_cos_seq=[], bef_sess_et_dayofweek_sin_seq=[], bef_sess_et_dayofweek_cos_seq=[], bef_sess_et_dayofmonth_sin_seq=[], bef_sess_et_dayofmonth_cos_seq=[], bef_sess_session_reversed_order_seq=[], session_start_date=datetime.date(2019, 10, 22)),\n",
       " Row(user_idx=512418224, user_session='adbdc1c1-2f0d-49b9-9bf8-3fc594c2b805', session_start_ts=1571762981, sess_seq_len=12, bef_sess_seq_length=20, sess_pid_seq=[1814, 1083, 653, 7770, 653, 1357, 1780, 9694, 1159, 4756, 1159, 6892], sess_etime_seq=[1571762981, 1571763020, 1571763327, 1571763406, 1571763432, 1571763463, 1571763509, 1571763523, 1571763583, 1571763641, 1571763700, 1571763820], sess_etype_seq=[2, 2, 2, 2, 2, 2, 2, 2, 2, 2, 2, 2], sess_csid_seq=[15, 15, 56, 56, 56, 56, 56, 56, 96, 96, 96, 30], sess_ccid_seq=[128, 128, 128, 128, 128, 128, 128, 128, 15, 15, 15, 20], sess_bid_seq=[3425, 3425, 3425, 3425, 3425, 3425, 28, 28, 27, 3425, 27, 3425], sess_price_log_norm_seq=[1.1496102859753712, 0.30404944882048, -0.6612128163731649, -0.7916110340123895, -0.6612128163731649, -0.599835664317091, -0.31942365478214607, -0.3070085727711261, 0.22885505507981763, -0.15814693425336365, 0.22885505507981763, 1.9674769753038863], sess_dtime_secs_seq=[806677, 39, 307, 79, 26, 31, 46, 14, 60, 58, 59, 120], sess_dtime_secs_log_norm_seq=[2.813225210597818, -0.32398386014820624, 0.3220879602612685, -0.10459408902720131, -0.44838676600222027, -0.3946115912029658, -0.272940469967148, -0.634428613242631, -0.19041733974127056, -0.20096873462192544, -0.1956490710006211, 0.0263673752352183], sess_prod_recency_days_seq=[7.348611111111111, 17.07607638888889, 21.5746875, 21.5184375, 21.575902777777777, 21.19349537037037, 21.57554398148148, 21.48082175925926, 21.593611111111112, 21.46125, 21.594965277777778, 21.601354166666667], sess_prod_recency_days_log_norm_seq=[-0.504972446540899, 0.47590101715474487, 0.758089905328296, 0.7549220873905601, 0.7581582586964049, 0.7364660687997088, 0.7581380785610116, 0.7527992723802309, 0.759153847694836, 0.7516933501224462, 0.7592299488509944, 0.7595889286942729], sess_relative_price_to_avg_category_seq=[0.054151111787250544, -0.6319406909442616, -0.2514439549559866, -0.36501316060855254, -0.2514439549559866, -0.19128485728961706, 0.1501209310143058, 0.16815702412511285, 0.09389677072479426, -0.32539128486351016, 0.09389677072479426, 1.6962489843085535], sess_et_hour_sin_seq=[-0.8660253882408142, -0.8660253882408142, -0.8660253882408142, -0.8660253882408142, -0.8660253882408142, -0.8660253882408142, -0.8660253882408142, -0.8660253882408142, -0.8660253882408142, -0.9659258127212524, -0.9659258127212524, -0.9659258127212524], sess_et_hour_cos_seq=[-0.5, -0.5, -0.5, -0.5, -0.5, -0.5, -0.5, -0.5, -0.5, -0.258819043636322, -0.258819043636322, -0.258819043636322], sess_et_month_sin_seq=[-0.8660253882408142, -0.8660253882408142, -0.8660253882408142, -0.8660253882408142, -0.8660253882408142, -0.8660253882408142, -0.8660253882408142, -0.8660253882408142, -0.8660253882408142, -0.8660253882408142, -0.8660253882408142, -0.8660253882408142], sess_et_month_cos_seq=[0.5, 0.5, 0.5, 0.5, 0.5, 0.5, 0.5, 0.5, 0.5, 0.5, 0.5, 0.5], sess_et_dayofweek_sin_seq=[0.4338837265968323, 0.4338837265968323, 0.4338837265968323, 0.4338837265968323, 0.4338837265968323, 0.4338837265968323, 0.4338837265968323, 0.4338837265968323, 0.4338837265968323, 0.4338837265968323, 0.4338837265968323, 0.4338837265968323], sess_et_dayofweek_cos_seq=[-0.9009688496589661, -0.9009688496589661, -0.9009688496589661, -0.9009688496589661, -0.9009688496589661, -0.9009688496589661, -0.9009688496589661, -0.9009688496589661, -0.9009688496589661, -0.9009688496589661, -0.9009688496589661, -0.9009688496589661], sess_et_dayofmonth_sin_seq=[-0.9680771231651306, -0.9680771231651306, -0.9680771231651306, -0.9680771231651306, -0.9680771231651306, -0.9680771231651306, -0.9680771231651306, -0.9680771231651306, -0.9680771231651306, -0.9680771231651306, -0.9680771231651306, -0.9680771231651306], sess_et_dayofmonth_cos_seq=[-0.2506525218486786, -0.2506525218486786, -0.2506525218486786, -0.2506525218486786, -0.2506525218486786, -0.2506525218486786, -0.2506525218486786, -0.2506525218486786, -0.2506525218486786, -0.2506525218486786, -0.2506525218486786, -0.2506525218486786], sess_session_reversed_order_seq=[0, 0, 0, 0, 0, 0, 0, 0, 0, 0, 0, 0, 0, 0, 0, 0, 0, 0, 0, 0], bef_sess_pid_seq=[6716, 42293, 35619, 3640, 37277, 890, 3035, 10804, 3035, 10774, 2025, 831, 2025, 3702, 589, 8599, 16220, 12593, 8599, 16296], bef_sess_etime_seq=[1570713979, 1570714098, 1570714131, 1570714170, 1570714378, 1570714728, 1570796945, 1570797202, 1570797259, 1570797397, 1570955519, 1570955548, 1570955573, 1570955607, 1570955692, 1570955828, 1570955857, 1570956104, 1570956248, 1570956304], bef_sess_etype_seq=[2, 2, 2, 2, 2, 2, 2, 2, 2, 2, 2, 2, 2, 2, 2, 2, 2, 2, 2, 2], bef_sess_csid_seq=[268, 508, 508, 185, 176, 15, 24, 337, 24, 108, 15, 15, 15, 15, 15, 23, 23, 24, 23, 23], bef_sess_ccid_seq=[128, 128, 128, 128, 128, 128, 15, 14, 15, 128, 128, 128, 128, 128, 128, 14, 14, 15, 14, 14], bef_sess_bid_seq=[189, 2307, 459, 3425, 88, 78, 27, 27, 27, 27, 27, 3425, 27, 3425, 41, 27, 3425, 3425, 27, 27], bef_sess_price_log_seq=[-0.838023841381073, -1.5535035133361816, -2.804811954498291, -1.1470805406570435, -0.966486930847168, 0.8868361115455627, 0.8680633902549744, -0.48487135767936707, 0.8680633902549744, 0.07258361577987671, 1.4722626209259033, 1.0265426635742188, 1.4722626209259033, 1.2861100435256958, 1.1160184144973755, -0.3214441239833832, 0.39301377534866333, 1.172798752784729, -0.3214441239833832, 0.16428185999393463], bef_sess_dtime_secs_seq=[806677.0, 39.0, 307.0, 79.0, 26.0, 31.0, 46.0, 14.0, 60.0, 58.0, 59.0, 120.0], bef_sess_dtime_secs_log_norm_seq=[2.813225269317627, -0.3239838480949402, 0.32208797335624695, -0.10459408909082413, -0.4483867585659027, -0.3946115970611572, -0.272940456867218, -0.6344286203384399, -0.1904173344373703, -0.20096872746944427, -0.19564907252788544, 0.026367375627160072], bef_sess_prod_recency_days_seq=[29.409109115600586], bef_sess_prod_recency_days_log_norm_seq=[1.136364459991455], bef_sess_relative_price_to_avg_category_seq=[0.5211886167526245, -0.11293748021125793, -0.8461965322494507, -0.15672099590301514, -0.15970392525196075, -0.23963682353496552, 0.6050407886505127, -0.06156842038035393, 0.6050407886505127, -0.04765763878822327, 0.5740336179733276, -0.09538259357213974, 0.5740336179733276, 0.24903015792369843, 0.011043989099562168, -0.5721390247344971, 0.04450332000851631, 1.3443578481674194, -0.5721390247344971, -0.2146696001291275], bef_sess_et_hour_sin_seq=[-0.258819043636322, -0.258819043636322, -0.258819043636322, -0.258819043636322, -0.258819043636322, -0.258819043636322, -2.6179940437742744e-09, -2.6179940437742744e-09, -2.6179940437742744e-09, -2.6179940437742744e-09, 0.8660253882408142, 0.8660253882408142, 0.8660253882408142, 0.8660253882408142, 0.8660253882408142, 0.8660253882408142, 0.8660253882408142, 0.8660253882408142, 0.8660253882408142, 0.8660253882408142], bef_sess_et_hour_cos_seq=[-0.9659258127212524, -0.9659258127212524, -0.9659258127212524, -0.9659258127212524, -0.9659258127212524, -0.9659258127212524, -1.0, -1.0, -1.0, -1.0, -0.5, -0.5, -0.5, -0.5, -0.5, -0.5, -0.5, -0.5, -0.5, -0.5], bef_sess_et_month_sin_seq=[-0.8660253882408142, -0.8660253882408142, -0.8660253882408142, -0.8660253882408142, -0.8660253882408142, -0.8660253882408142, -0.8660253882408142, -0.8660253882408142, -0.8660253882408142, -0.8660253882408142, -0.8660253882408142, -0.8660253882408142, -0.8660253882408142, -0.8660253882408142, -0.8660253882408142, -0.8660253882408142, -0.8660253882408142, -0.8660253882408142, -0.8660253882408142, -0.8660253882408142], bef_sess_et_month_cos_seq=[0.5, 0.5, 0.5, 0.5, 0.5, 0.5, 0.5, 0.5, 0.5, 0.5, 0.5, 0.5, 0.5, 0.5, 0.5, 0.5, 0.5, 0.5, 0.5, 0.5], bef_sess_et_dayofweek_sin_seq=[-0.9749279022216797, -0.9749279022216797, -0.9749279022216797, -0.9749279022216797, -0.9749279022216797, -0.9749279022216797, -0.7818315029144287, -0.7818315029144287, -0.7818315029144287, -0.7818315029144287, 0.7818315029144287, 0.7818315029144287, 0.7818315029144287, 0.7818315029144287, 0.7818315029144287, 0.7818315029144287, 0.7818315029144287, 0.7818315029144287, 0.7818315029144287, 0.7818315029144287], bef_sess_et_dayofweek_cos_seq=[-0.22252093255519867, -0.22252093255519867, -0.22252093255519867, -0.22252093255519867, -0.22252093255519867, -0.22252093255519867, 0.6234897971153259, 0.6234897971153259, 0.6234897971153259, 0.6234897971153259, 0.6234897971153259, 0.6234897971153259, 0.6234897971153259, 0.6234897971153259, 0.6234897971153259, 0.6234897971153259, 0.6234897971153259, 0.6234897971153259, 0.6234897971153259, 0.6234897971153259], bef_sess_et_dayofmonth_sin_seq=[0.8978045582771301, 0.8978045582771301, 0.8978045582771301, 0.8978045582771301, 0.8978045582771301, 0.8978045582771301, 0.790775716304779, 0.790775716304779, 0.790775716304779, 0.790775716304779, 0.4853019714355469, 0.4853019714355469, 0.4853019714355469, 0.4853019714355469, 0.4853019714355469, 0.4853019714355469, 0.4853019714355469, 0.4853019714355469, 0.4853019714355469, 0.4853019714355469], bef_sess_et_dayofmonth_cos_seq=[-0.44039416313171387, -0.44039416313171387, -0.44039416313171387, -0.44039416313171387, -0.44039416313171387, -0.44039416313171387, -0.6121059656143188, -0.6121059656143188, -0.6121059656143188, -0.6121059656143188, -0.8743466138839722, -0.8743466138839722, -0.8743466138839722, -0.8743466138839722, -0.8743466138839722, -0.8743466138839722, -0.8743466138839722, -0.8743466138839722, -0.8743466138839722, -0.8743466138839722], bef_sess_session_reversed_order_seq=[3, 3, 3, 3, 3, 3, 2, 2, 2, 2, 1, 1, 1, 1, 1, 1, 1, 1, 1, 1], session_start_date=datetime.date(2019, 10, 22)),\n",
       " Row(user_idx=512423801, user_session='97b2ee35-29d8-4c8f-af6e-7d55399fa65f', session_start_ts=1571751259, sess_seq_len=2, bef_sess_seq_length=15, sess_pid_seq=[46, 3234], sess_etime_seq=[1571751259, 1571751287], sess_etype_seq=[2, 2], sess_csid_seq=[2, 2], sess_ccid_seq=[2, 2], sess_bid_seq=[4, 906], sess_price_log_norm_seq=[0.6860876321530675, -0.00946791852550468], sess_dtime_secs_seq=[50, 28], sess_dtime_secs_log_norm_seq=[-0.24708834933187587, -0.4257691081767606], sess_prod_recency_days_seq=[21.5596875, 21.44525462962963], sess_prod_recency_days_log_norm_seq=[0.7572459263349878, 0.7507887995317227], sess_relative_price_to_avg_category_seq=[-0.29584578603461653, -0.7041244249788353], sess_et_hour_sin_seq=[-0.258819043636322, -0.258819043636322], sess_et_hour_cos_seq=[-0.9659258127212524, -0.9659258127212524], sess_et_month_sin_seq=[-0.8660253882408142, -0.8660253882408142], sess_et_month_cos_seq=[0.5, 0.5], sess_et_dayofweek_sin_seq=[0.4338837265968323, 0.4338837265968323], sess_et_dayofweek_cos_seq=[-0.9009688496589661, -0.9009688496589661], sess_et_dayofmonth_sin_seq=[-0.9680771231651306, -0.9680771231651306], sess_et_dayofmonth_cos_seq=[-0.2506525218486786, -0.2506525218486786], sess_session_reversed_order_seq=[0, 0, 0, 0, 0, 0, 0, 0, 0, 0, 0, 0, 0, 0, 0, 0, 0, 0, 0, 0], bef_sess_pid_seq=[16, 42, 100, 32, 44, 32, 598, 42, 68, 42, 7439, 1138, 47, 23, 35], bef_sess_etime_seq=[1569921154, 1569942027, 1569942127, 1570282807, 1570282935, 1570282961, 1570283054, 1570283148, 1570283233, 1570283250, 1570283475, 1570284081, 1570299809, 1570299881, 1571751209], bef_sess_etype_seq=[2, 2, 2, 2, 2, 2, 2, 2, 2, 2, 2, 2, 2, 2, 2], bef_sess_csid_seq=[2, 2, 2, 2, 2, 2, 2, 2, 2, 2, 2, 2, 2, 2, 2], bef_sess_ccid_seq=[2, 2, 2, 2, 2, 2, 2, 2, 2, 2, 2, 2, 2, 2, 2], bef_sess_bid_seq=[5, 4, 4, 4, 5, 4, 51, 4, 5, 4, 1295, 4, 4, 3, 4], bef_sess_price_log_seq=[0.5102946162223816, -0.28590622544288635, 0.5926821827888489, -0.07027723640203476, -0.22206851840019226, -0.07027723640203476, 0.09764811396598816, -0.31315216422080994, -0.11705505847930908, -0.31315216422080994, 0.7066605687141418, 0.11247210949659348, 0.3614944815635681, 0.7131865620613098, 0.4379848837852478], bef_sess_dtime_secs_seq=[1451328.0], bef_sess_dtime_secs_log_norm_seq=[2.9991164207458496], bef_sess_prod_recency_days_seq=[24.06659698486328, 23.840890884399414], bef_sess_prod_recency_days_log_norm_seq=[0.8910413980484009, 0.8795564770698547], bef_sess_relative_price_to_avg_category_seq=[-0.4342474043369293, -0.7906305193901062, -0.3731305003166199, -0.7257763147354126, -0.7732033729553223, -0.7257763147354126, -0.6617752313613892, -0.7976582646369934, -0.7413551211357117, -0.7976582646369934, -0.27758586406707764, -0.655458390712738, -0.5299748182296753, -0.2716955840587616, -0.4829743504524231], bef_sess_et_hour_sin_seq=[0.7071067690849304, -0.7071067690849304, -0.7071067690849304, -0.258819043636322, -0.258819043636322, -0.258819043636322, -0.258819043636322, -0.258819043636322, -0.258819043636322, -0.258819043636322, -0.258819043636322, -0.5, -1.0, -1.0, -0.258819043636322], bef_sess_et_hour_cos_seq=[-0.7071067690849304, -0.7071067690849304, -0.7071067690849304, -0.9659258127212524, -0.9659258127212524, -0.9659258127212524, -0.9659258127212524, -0.9659258127212524, -0.9659258127212524, -0.9659258127212524, -0.9659258127212524, -0.8660253882408142, 2.6179935996850645e-09, 2.6179935996850645e-09, -0.9659258127212524], bef_sess_et_month_sin_seq=[-0.8660253882408142, -0.8660253882408142, -0.8660253882408142, -0.8660253882408142, -0.8660253882408142, -0.8660253882408142, -0.8660253882408142, -0.8660253882408142, -0.8660253882408142, -0.8660253882408142, -0.8660253882408142, -0.8660253882408142, -0.8660253882408142, -0.8660253882408142, -0.8660253882408142], bef_sess_et_month_cos_seq=[0.5, 0.5, 0.5, 0.5, 0.5, 0.5, 0.5, 0.5, 0.5, 0.5, 0.5, 0.5, 0.5, 0.5, 0.5], bef_sess_et_dayofweek_sin_seq=[0.4338837265968323, 0.4338837265968323, 0.4338837265968323, 8.97597907112413e-09, 8.97597907112413e-09, 8.97597907112413e-09, 8.97597907112413e-09, 8.97597907112413e-09, 8.97597907112413e-09, 8.97597907112413e-09, 8.97597907112413e-09, 8.97597907112413e-09, 8.97597907112413e-09, 8.97597907112413e-09, 0.4338837265968323], bef_sess_et_dayofweek_cos_seq=[-0.9009688496589661, -0.9009688496589661, -0.9009688496589661, 1.0, 1.0, 1.0, 1.0, 1.0, 1.0, 1.0, 1.0, 1.0, 1.0, 1.0, -0.9009688496589661], bef_sess_et_dayofmonth_sin_seq=[0.2012985199689865, 0.2012985199689865, 0.2012985199689865, 0.8486442565917969, 0.8486442565917969, 0.8486442565917969, 0.8486442565917969, 0.8486442565917969, 0.8486442565917969, 0.8486442565917969, 0.8486442565917969, 0.8486442565917969, 0.8486442565917969, 0.8486442565917969, -0.9680771231651306], bef_sess_et_dayofmonth_cos_seq=[0.9795299172401428, 0.9795299172401428, 0.9795299172401428, 0.5289639830589294, 0.5289639830589294, 0.5289639830589294, 0.5289639830589294, 0.5289639830589294, 0.5289639830589294, 0.5289639830589294, 0.5289639830589294, 0.5289639830589294, 0.5289639830589294, 0.5289639830589294, -0.2506525218486786], bef_sess_session_reversed_order_seq=[6, 5, 5, 4, 4, 3, 3, 3, 3, 3, 3, 3, 2, 2, 1], session_start_date=datetime.date(2019, 10, 22)),\n",
       " Row(user_idx=512423801, user_session='98f1daf8-9091-417a-955c-c11512bd99b2', session_start_ts=1571753511, sess_seq_len=2, bef_sess_seq_length=20, sess_pid_seq=[72785, 88904], sess_etime_seq=[1571753511, 1571753539], sess_etype_seq=[2, 2], sess_csid_seq=[407, 407], sess_ccid_seq=[128, 128], sess_bid_seq=[3425, 3425], sess_price_log_norm_seq=[-2.169728197722328, -1.9691606759380613], sess_dtime_secs_seq=[168, 28], sess_dtime_secs_log_norm_seq=[0.13211679881211016, -0.4257691081767606], sess_prod_recency_days_seq=[21.11167824074074, 21.105868055555554], sess_prod_recency_days_log_norm_seq=[0.731776444135482, 0.7314427541807792], sess_relative_price_to_avg_category_seq=[-0.08101453041795091, 0.20737427992602908], sess_et_hour_sin_seq=[-0.5, -0.5], sess_et_hour_cos_seq=[-0.8660253882408142, -0.8660253882408142], sess_et_month_sin_seq=[-0.8660253882408142, -0.8660253882408142], sess_et_month_cos_seq=[0.5, 0.5], sess_et_dayofweek_sin_seq=[0.4338837265968323, 0.4338837265968323], sess_et_dayofweek_cos_seq=[-0.9009688496589661, -0.9009688496589661], sess_et_dayofmonth_sin_seq=[-0.9680771231651306, -0.9680771231651306], sess_et_dayofmonth_cos_seq=[-0.2506525218486786, -0.2506525218486786], sess_session_reversed_order_seq=[0, 0, 0, 0, 0, 0, 0, 0, 0, 0, 0, 0, 0, 0, 0, 0, 0, 0, 0, 0], bef_sess_pid_seq=[68, 42, 7439, 1138, 47, 23, 35, 46, 3234, 173, 35, 173, 35, 289, 364, 289, 127, 18424, 1571, 88904], bef_sess_etime_seq=[1570283233, 1570283250, 1570283475, 1570284081, 1570299809, 1570299881, 1571751209, 1571751259, 1571751287, 1571751580, 1571752274, 1571752316, 1571752327, 1571752582, 1571752648, 1571752675, 1571752861, 1571752929, 1571753017, 1571753343], bef_sess_etype_seq=[2, 2, 2, 2, 2, 2, 2, 2, 2, 2, 2, 2, 2, 2, 2, 2, 2, 2, 2, 2], bef_sess_csid_seq=[2, 2, 2, 2, 2, 2, 2, 2, 2, 2, 2, 2, 2, 2, 2, 2, 2, 2, 2, 407], bef_sess_ccid_seq=[2, 2, 2, 2, 2, 2, 2, 2, 2, 2, 2, 2, 2, 2, 2, 2, 2, 2, 2, 128], bef_sess_bid_seq=[5, 4, 1295, 4, 4, 3, 4, 4, 906, 51, 4, 51, 4, 80, 4, 80, 4, 23, 10, 3425], bef_sess_price_log_seq=[-0.11705505847930908, -0.31315216422080994, 0.7066605687141418, 0.11247210949659348, 0.3614944815635681, 0.7131865620613098, 0.4379848837852478, 0.6860876083374023, -0.009467918425798416, 0.593280553817749, 0.4379848837852478, 0.593280553817749, 0.4379848837852478, 1.2911909818649292, 0.5457690358161926, 1.2911909818649292, 0.9276826977729797, 0.26779648661613464, 1.5615289211273193, -1.9691606760025024], bef_sess_dtime_secs_seq=[1451328.0], bef_sess_dtime_secs_log_norm_seq=[2.9991164207458496], bef_sess_prod_recency_days_seq=[24.06659698486328, 23.840890884399414], bef_sess_prod_recency_days_log_norm_seq=[0.8910413980484009, 0.8795564770698547], bef_sess_relative_price_to_avg_category_seq=[-0.7413551211357117, -0.7976582646369934, -0.27758586406707764, -0.655458390712738, -0.5299748182296753, -0.2716955840587616, -0.4829743504524231, -0.29584577679634094, -0.7041244506835938, -0.37266334891319275, -0.4829743504524231, -0.37266334891319275, -0.4829743504524231, 0.4942457973957062, -0.40869569778442383, 0.4942457973957062, -0.048981521278619766, -0.5817891359329224, 1.090627908706665, 0.20737427473068237], bef_sess_et_hour_sin_seq=[-0.258819043636322, -0.258819043636322, -0.258819043636322, -0.5, -1.0, -1.0, -0.258819043636322, -0.258819043636322, -0.258819043636322, -0.258819043636322, -0.258819043636322, -0.258819043636322, -0.258819043636322, -0.258819043636322, -0.258819043636322, -0.258819043636322, -0.5, -0.5, -0.5, -0.5], bef_sess_et_hour_cos_seq=[-0.9659258127212524, -0.9659258127212524, -0.9659258127212524, -0.8660253882408142, 2.6179935996850645e-09, 2.6179935996850645e-09, -0.9659258127212524, -0.9659258127212524, -0.9659258127212524, -0.9659258127212524, -0.9659258127212524, -0.9659258127212524, -0.9659258127212524, -0.9659258127212524, -0.9659258127212524, -0.9659258127212524, -0.8660253882408142, -0.8660253882408142, -0.8660253882408142, -0.8660253882408142], bef_sess_et_month_sin_seq=[-0.8660253882408142, -0.8660253882408142, -0.8660253882408142, -0.8660253882408142, -0.8660253882408142, -0.8660253882408142, -0.8660253882408142, -0.8660253882408142, -0.8660253882408142, -0.8660253882408142, -0.8660253882408142, -0.8660253882408142, -0.8660253882408142, -0.8660253882408142, -0.8660253882408142, -0.8660253882408142, -0.8660253882408142, -0.8660253882408142, -0.8660253882408142, -0.8660253882408142], bef_sess_et_month_cos_seq=[0.5, 0.5, 0.5, 0.5, 0.5, 0.5, 0.5, 0.5, 0.5, 0.5, 0.5, 0.5, 0.5, 0.5, 0.5, 0.5, 0.5, 0.5, 0.5, 0.5], bef_sess_et_dayofweek_sin_seq=[8.97597907112413e-09, 8.97597907112413e-09, 8.97597907112413e-09, 8.97597907112413e-09, 8.97597907112413e-09, 8.97597907112413e-09, 0.4338837265968323, 0.4338837265968323, 0.4338837265968323, 0.4338837265968323, 0.4338837265968323, 0.4338837265968323, 0.4338837265968323, 0.4338837265968323, 0.4338837265968323, 0.4338837265968323, 0.4338837265968323, 0.4338837265968323, 0.4338837265968323, 0.4338837265968323], bef_sess_et_dayofweek_cos_seq=[1.0, 1.0, 1.0, 1.0, 1.0, 1.0, -0.9009688496589661, -0.9009688496589661, -0.9009688496589661, -0.9009688496589661, -0.9009688496589661, -0.9009688496589661, -0.9009688496589661, -0.9009688496589661, -0.9009688496589661, -0.9009688496589661, -0.9009688496589661, -0.9009688496589661, -0.9009688496589661, -0.9009688496589661], bef_sess_et_dayofmonth_sin_seq=[0.8486442565917969, 0.8486442565917969, 0.8486442565917969, 0.8486442565917969, 0.8486442565917969, 0.8486442565917969, -0.9680771231651306, -0.9680771231651306, -0.9680771231651306, -0.9680771231651306, -0.9680771231651306, -0.9680771231651306, -0.9680771231651306, -0.9680771231651306, -0.9680771231651306, -0.9680771231651306, -0.9680771231651306, -0.9680771231651306, -0.9680771231651306, -0.9680771231651306], bef_sess_et_dayofmonth_cos_seq=[0.5289639830589294, 0.5289639830589294, 0.5289639830589294, 0.5289639830589294, 0.5289639830589294, 0.5289639830589294, -0.2506525218486786, -0.2506525218486786, -0.2506525218486786, -0.2506525218486786, -0.2506525218486786, -0.2506525218486786, -0.2506525218486786, -0.2506525218486786, -0.2506525218486786, -0.2506525218486786, -0.2506525218486786, -0.2506525218486786, -0.2506525218486786, -0.2506525218486786], bef_sess_session_reversed_order_seq=[13, 13, 13, 13, 12, 12, 11, 10, 10, 9, 8, 8, 8, 7, 6, 5, 4, 3, 2, 1], session_start_date=datetime.date(2019, 10, 22)),\n",
       " Row(user_idx=512423801, user_session='d37bba0c-430f-4bd5-9fe9-2602a374227e', session_start_ts=1571752274, sess_seq_len=3, bef_sess_seq_length=18, sess_pid_seq=[35, 173, 35], sess_etime_seq=[1571752274, 1571752316, 1571752327], sess_etype_seq=[2, 2, 2], sess_csid_seq=[2, 2, 2], sess_ccid_seq=[2, 2, 2], sess_bid_seq=[4, 51, 4], sess_price_log_norm_seq=[0.4379848964269846, 0.5932805782756924, 0.4379848964269846], sess_dtime_secs_seq=[694, 42, 11], sess_dtime_secs_log_norm_seq=[0.579669679057511, -0.30109346423192124, -0.7050563442973906], sess_prod_recency_days_seq=[7.063055555555556, 21.47980324074074, 7.063668981481482], sess_prod_recency_days_log_norm_seq=[-0.5491630114962128, 0.7527417437034368, -0.5490664144704582], sess_relative_price_to_avg_category_seq=[-0.48297434185736593, -0.37266334797118855, -0.48297434185736593], sess_et_hour_sin_seq=[-0.258819043636322, -0.258819043636322, -0.258819043636322], sess_et_hour_cos_seq=[-0.9659258127212524, -0.9659258127212524, -0.9659258127212524], sess_et_month_sin_seq=[-0.8660253882408142, -0.8660253882408142, -0.8660253882408142], sess_et_month_cos_seq=[0.5, 0.5, 0.5], sess_et_dayofweek_sin_seq=[0.4338837265968323, 0.4338837265968323, 0.4338837265968323], sess_et_dayofweek_cos_seq=[-0.9009688496589661, -0.9009688496589661, -0.9009688496589661], sess_et_dayofmonth_sin_seq=[-0.9680771231651306, -0.9680771231651306, -0.9680771231651306], sess_et_dayofmonth_cos_seq=[-0.2506525218486786, -0.2506525218486786, -0.2506525218486786], sess_session_reversed_order_seq=[0, 0, 0, 0, 0, 0, 0, 0, 0, 0, 0, 0, 0, 0, 0, 0, 0, 0, 0, 0], bef_sess_pid_seq=[16, 42, 100, 32, 44, 32, 598, 42, 68, 42, 7439, 1138, 47, 23, 35, 46, 3234, 173], bef_sess_etime_seq=[1569921154, 1569942027, 1569942127, 1570282807, 1570282935, 1570282961, 1570283054, 1570283148, 1570283233, 1570283250, 1570283475, 1570284081, 1570299809, 1570299881, 1571751209, 1571751259, 1571751287, 1571751580], bef_sess_etype_seq=[2, 2, 2, 2, 2, 2, 2, 2, 2, 2, 2, 2, 2, 2, 2, 2, 2, 2], bef_sess_csid_seq=[2, 2, 2, 2, 2, 2, 2, 2, 2, 2, 2, 2, 2, 2, 2, 2, 2, 2], bef_sess_ccid_seq=[2, 2, 2, 2, 2, 2, 2, 2, 2, 2, 2, 2, 2, 2, 2, 2, 2, 2], bef_sess_bid_seq=[5, 4, 4, 4, 5, 4, 51, 4, 5, 4, 1295, 4, 4, 3, 4, 4, 906, 51], bef_sess_price_log_seq=[0.5102946162223816, -0.28590622544288635, 0.5926821827888489, -0.07027723640203476, -0.22206851840019226, -0.07027723640203476, 0.09764811396598816, -0.31315216422080994, -0.11705505847930908, -0.31315216422080994, 0.7066605687141418, 0.11247210949659348, 0.3614944815635681, 0.7131865620613098, 0.4379848837852478, 0.6860876083374023, -0.009467918425798416, 0.593280553817749], bef_sess_dtime_secs_seq=[1451328.0], bef_sess_dtime_secs_log_norm_seq=[2.9991164207458496], bef_sess_prod_recency_days_seq=[24.06659698486328, 23.840890884399414], bef_sess_prod_recency_days_log_norm_seq=[0.8910413980484009, 0.8795564770698547], bef_sess_relative_price_to_avg_category_seq=[-0.4342474043369293, -0.7906305193901062, -0.3731305003166199, -0.7257763147354126, -0.7732033729553223, -0.7257763147354126, -0.6617752313613892, -0.7976582646369934, -0.7413551211357117, -0.7976582646369934, -0.27758586406707764, -0.655458390712738, -0.5299748182296753, -0.2716955840587616, -0.4829743504524231, -0.29584577679634094, -0.7041244506835938, -0.37266334891319275], bef_sess_et_hour_sin_seq=[0.7071067690849304, -0.7071067690849304, -0.7071067690849304, -0.258819043636322, -0.258819043636322, -0.258819043636322, -0.258819043636322, -0.258819043636322, -0.258819043636322, -0.258819043636322, -0.258819043636322, -0.5, -1.0, -1.0, -0.258819043636322, -0.258819043636322, -0.258819043636322, -0.258819043636322], bef_sess_et_hour_cos_seq=[-0.7071067690849304, -0.7071067690849304, -0.7071067690849304, -0.9659258127212524, -0.9659258127212524, -0.9659258127212524, -0.9659258127212524, -0.9659258127212524, -0.9659258127212524, -0.9659258127212524, -0.9659258127212524, -0.8660253882408142, 2.6179935996850645e-09, 2.6179935996850645e-09, -0.9659258127212524, -0.9659258127212524, -0.9659258127212524, -0.9659258127212524], bef_sess_et_month_sin_seq=[-0.8660253882408142, -0.8660253882408142, -0.8660253882408142, -0.8660253882408142, -0.8660253882408142, -0.8660253882408142, -0.8660253882408142, -0.8660253882408142, -0.8660253882408142, -0.8660253882408142, -0.8660253882408142, -0.8660253882408142, -0.8660253882408142, -0.8660253882408142, -0.8660253882408142, -0.8660253882408142, -0.8660253882408142, -0.8660253882408142], bef_sess_et_month_cos_seq=[0.5, 0.5, 0.5, 0.5, 0.5, 0.5, 0.5, 0.5, 0.5, 0.5, 0.5, 0.5, 0.5, 0.5, 0.5, 0.5, 0.5, 0.5], bef_sess_et_dayofweek_sin_seq=[0.4338837265968323, 0.4338837265968323, 0.4338837265968323, 8.97597907112413e-09, 8.97597907112413e-09, 8.97597907112413e-09, 8.97597907112413e-09, 8.97597907112413e-09, 8.97597907112413e-09, 8.97597907112413e-09, 8.97597907112413e-09, 8.97597907112413e-09, 8.97597907112413e-09, 8.97597907112413e-09, 0.4338837265968323, 0.4338837265968323, 0.4338837265968323, 0.4338837265968323], bef_sess_et_dayofweek_cos_seq=[-0.9009688496589661, -0.9009688496589661, -0.9009688496589661, 1.0, 1.0, 1.0, 1.0, 1.0, 1.0, 1.0, 1.0, 1.0, 1.0, 1.0, -0.9009688496589661, -0.9009688496589661, -0.9009688496589661, -0.9009688496589661], bef_sess_et_dayofmonth_sin_seq=[0.2012985199689865, 0.2012985199689865, 0.2012985199689865, 0.8486442565917969, 0.8486442565917969, 0.8486442565917969, 0.8486442565917969, 0.8486442565917969, 0.8486442565917969, 0.8486442565917969, 0.8486442565917969, 0.8486442565917969, 0.8486442565917969, 0.8486442565917969, -0.9680771231651306, -0.9680771231651306, -0.9680771231651306, -0.9680771231651306], bef_sess_et_dayofmonth_cos_seq=[0.9795299172401428, 0.9795299172401428, 0.9795299172401428, 0.5289639830589294, 0.5289639830589294, 0.5289639830589294, 0.5289639830589294, 0.5289639830589294, 0.5289639830589294, 0.5289639830589294, 0.5289639830589294, 0.5289639830589294, 0.5289639830589294, 0.5289639830589294, -0.2506525218486786, -0.2506525218486786, -0.2506525218486786, -0.2506525218486786], bef_sess_session_reversed_order_seq=[8, 7, 7, 6, 6, 5, 5, 5, 5, 5, 5, 5, 4, 4, 3, 2, 2, 1], session_start_date=datetime.date(2019, 10, 22)),\n",
       " Row(user_idx=512447728, user_session='ad7a2bfe-10ac-40a8-a8fa-542adcb94852', session_start_ts=1571735578, sess_seq_len=3, bef_sess_seq_length=1, sess_pid_seq=[138338, 123571, 103999], sess_etime_seq=[1571735578, 1571735617, 1571735667], sess_etype_seq=[2, 2, 2], sess_csid_seq=[62, 62, 62], sess_ccid_seq=[128, 128, 128], sess_bid_seq=[334, 334, 334], sess_price_log_norm_seq=[-0.774961744227051, -0.7244442110618476, -1.0113108971195102], sess_dtime_secs_seq=[1026174, 39, 50], sess_dtime_secs_log_norm_seq=[2.8893999647377004, -0.32398386014820624, -0.24708834933187587], sess_prod_recency_days_seq=[0.0, 7.962476851851852, 13.780763888888888], sess_prod_recency_days_log_norm_seq=[-3.1995001962345264, -0.41488195318160376, 0.2203479276197787], sess_relative_price_to_avg_category_seq=[0.8019246646646994, 0.9205872076275461, 0.3356811034864299], sess_et_hour_sin_seq=[0.7071067690849304, 0.7071067690849304, 0.7071067690849304], sess_et_hour_cos_seq=[-0.7071067690849304, -0.7071067690849304, -0.7071067690849304], sess_et_month_sin_seq=[-0.8660253882408142, -0.8660253882408142, -0.8660253882408142], sess_et_month_cos_seq=[0.5, 0.5, 0.5], sess_et_dayofweek_sin_seq=[0.4338837265968323, 0.4338837265968323, 0.4338837265968323], sess_et_dayofweek_cos_seq=[-0.9009688496589661, -0.9009688496589661, -0.9009688496589661], sess_et_dayofmonth_sin_seq=[-0.9680771231651306, -0.9680771231651306, -0.9680771231651306], sess_et_dayofmonth_cos_seq=[-0.2506525218486786, -0.2506525218486786, -0.2506525218486786], sess_session_reversed_order_seq=[0, 0, 0, 0, 0, 0, 0, 0, 0, 0, 0, 0, 0, 0, 0, 0, 0, 0, 0, 0], bef_sess_pid_seq=[161580], bef_sess_etime_seq=[1570709404], bef_sess_etype_seq=[2], bef_sess_csid_seq=[7], bef_sess_ccid_seq=[7], bef_sess_bid_seq=[914], bef_sess_price_log_seq=[-1.8128039836883545], bef_sess_dtime_secs_seq=[1026174.0], bef_sess_dtime_secs_log_norm_seq=[2.889400005340576], bef_sess_prod_recency_days_seq=[0.0], bef_sess_prod_recency_days_log_norm_seq=[-3.19950008392334], bef_sess_relative_price_to_avg_category_seq=[-0.8443431258201599], bef_sess_et_hour_sin_seq=[-2.6179940437742744e-09], bef_sess_et_hour_cos_seq=[-1.0], bef_sess_et_month_sin_seq=[-0.8660253882408142], bef_sess_et_month_cos_seq=[0.5], bef_sess_et_dayofweek_sin_seq=[-0.9749279022216797], bef_sess_et_dayofweek_cos_seq=[-0.22252093255519867], bef_sess_et_dayofmonth_sin_seq=[0.8978045582771301], bef_sess_et_dayofmonth_cos_seq=[-0.44039416313171387], bef_sess_session_reversed_order_seq=[1], session_start_date=datetime.date(2019, 10, 22)),\n",
       " Row(user_idx=512472780, user_session='eecb6479-82e3-4017-bbda-de14e7d42ab6', session_start_ts=1571758966, sess_seq_len=2, bef_sess_seq_length=0, sess_pid_seq=[1360, 20068], sess_etime_seq=[1571758966, 1571758993], sess_etype_seq=[2, 2], sess_csid_seq=[12, 370], sess_ccid_seq=[3, 128], sess_bid_seq=[3, 67], sess_price_log_norm_seq=[0.6658080502865221, 1.5348011715231515], sess_dtime_secs_seq=[0, 27], sess_dtime_secs_log_norm_seq=[-1.4915604468079908, -0.43687595076033625], sess_prod_recency_days_seq=[21.54994212962963, 21.415023148148148], sess_prod_recency_days_log_norm_seq=[0.7566972996983242, 0.7490774239446072], sess_relative_price_to_avg_category_seq=[0.03437939231065369, 1.2822306260736547], sess_et_hour_sin_seq=[-0.7071067690849304, -0.7071067690849304], sess_et_hour_cos_seq=[-0.7071067690849304, -0.7071067690849304], sess_et_month_sin_seq=[-0.8660253882408142, -0.8660253882408142], sess_et_month_cos_seq=[0.5, 0.5], sess_et_dayofweek_sin_seq=[0.4338837265968323, 0.4338837265968323], sess_et_dayofweek_cos_seq=[-0.9009688496589661, -0.9009688496589661], sess_et_dayofmonth_sin_seq=[-0.9680771231651306, -0.9680771231651306], sess_et_dayofmonth_cos_seq=[-0.2506525218486786, -0.2506525218486786], sess_session_reversed_order_seq=[0, 0, 0, 0, 0, 0, 0, 0, 0, 0, 0, 0, 0, 0, 0, 0, 0, 0, 0, 0], bef_sess_pid_seq=[], bef_sess_etime_seq=[], bef_sess_etype_seq=[], bef_sess_csid_seq=[], bef_sess_ccid_seq=[], bef_sess_bid_seq=[], bef_sess_price_log_seq=[], bef_sess_dtime_secs_seq=[], bef_sess_dtime_secs_log_norm_seq=[], bef_sess_prod_recency_days_seq=[], bef_sess_prod_recency_days_log_norm_seq=[], bef_sess_relative_price_to_avg_category_seq=[], bef_sess_et_hour_sin_seq=[], bef_sess_et_hour_cos_seq=[], bef_sess_et_month_sin_seq=[], bef_sess_et_month_cos_seq=[], bef_sess_et_dayofweek_sin_seq=[], bef_sess_et_dayofweek_cos_seq=[], bef_sess_et_dayofmonth_sin_seq=[], bef_sess_et_dayofmonth_cos_seq=[], bef_sess_session_reversed_order_seq=[], session_start_date=datetime.date(2019, 10, 22)),\n",
       " Row(user_idx=512473397, user_session='5b352a83-4f2a-4786-8a06-4e92b4f8b687', session_start_ts=1571759463, sess_seq_len=3, bef_sess_seq_length=20, sess_pid_seq=[175, 173, 497], sess_etime_seq=[1571759463, 1571759501, 1571759766], sess_etype_seq=[2, 2, 2], sess_csid_seq=[2, 2, 2], sess_ccid_seq=[2, 2, 2], sess_bid_seq=[9, 51, 51], sess_price_log_norm_seq=[0.5926301164918352, 0.5932805782756924, 0.5932805782756924], sess_dtime_secs_seq=[13743, 38, 265], sess_dtime_secs_log_norm_seq=[1.5242841838181946, -0.33199726372935023, 0.27568612303166695], sess_prod_recency_days_seq=[7.129375, 21.562962962962963, 21.557199074074074], sess_prod_recency_days_log_norm_seq=[-0.5387619165759078, 0.7574302690107503, 0.7571058601207018], sess_relative_price_to_avg_category_seq=[-0.3731711319607217, -0.37266334797118855, -0.37266334797118855], sess_et_hour_sin_seq=[-0.7071067690849304, -0.7071067690849304, -0.7071067690849304], sess_et_hour_cos_seq=[-0.7071067690849304, -0.7071067690849304, -0.7071067690849304], sess_et_month_sin_seq=[-0.8660253882408142, -0.8660253882408142, -0.8660253882408142], sess_et_month_cos_seq=[0.5, 0.5, 0.5], sess_et_dayofweek_sin_seq=[0.4338837265968323, 0.4338837265968323, 0.4338837265968323], sess_et_dayofweek_cos_seq=[-0.9009688496589661, -0.9009688496589661, -0.9009688496589661], sess_et_dayofmonth_sin_seq=[-0.9680771231651306, -0.9680771231651306, -0.9680771231651306], sess_et_dayofmonth_cos_seq=[-0.2506525218486786, -0.2506525218486786, -0.2506525218486786], sess_session_reversed_order_seq=[0, 0, 0, 0, 0, 0, 0, 0, 0, 0, 0, 0, 0, 0, 0, 0, 0, 0, 0, 0], bef_sess_pid_seq=[1492, 5754, 173, 497, 2371, 405, 2978, 497, 175, 7, 4570, 497, 173, 64, 1300, 497, 173, 497, 175, 173], bef_sess_etime_seq=[1571478019, 1571478046, 1571503110, 1571503269, 1571503393, 1571584660, 1571584794, 1571718106, 1571718144, 1571718225, 1571721592, 1571722935, 1571723318, 1571742671, 1571742792, 1571744352, 1571744359, 1571744379, 1571744403, 1571745720], bef_sess_etype_seq=[2, 2, 2, 2, 2, 2, 2, 2, 2, 2, 2, 2, 2, 2, 2, 2, 2, 2, 2, 2], bef_sess_csid_seq=[2, 2, 2, 2, 5, 15, 6, 2, 2, 2, 39, 2, 2, 2, 58, 2, 2, 2, 2, 2], bef_sess_ccid_seq=[2, 2, 2, 2, 6, 128, 128, 2, 2, 2, 5, 2, 2, 2, 36, 2, 2, 2, 2, 2], bef_sess_bid_seq=[51, 4, 51, 51, 2, 3425, 3425, 51, 9, 2, 133, 51, 51, 2, 77, 51, 51, 51, 9, 51], bef_sess_price_log_seq=[0.919205367565155, 0.8189966082572937, 0.5233912467956543, 0.5233912467956543, 1.1834349632263184, 0.44614264369010925, -0.08643613755702972, 0.593280553817749, 0.5926041007041931, 0.1183074340224266, -1.124190330505371, 0.593280553817749, 0.593280553817749, 1.6414896249771118, -0.12064222246408463, 0.593280553817749, 0.593280553817749, 0.593280553817749, 0.5926300883293152, 0.593280553817749], bef_sess_dtime_secs_seq=[195358.0], bef_sess_dtime_secs_log_norm_seq=[2.3643832206726074], bef_sess_prod_recency_days_seq=[30.585752487182617], bef_sess_prod_recency_days_log_norm_seq=[1.1845691204071045], bef_sess_relative_price_to_avg_category_seq=[-0.058954399079084396, -0.16922476887702942, -0.42494478821754456, -0.42494478821754456, 0.3873228430747986, -0.5606422424316406, -0.45575910806655884, -0.37266334891319275, -0.3731914460659027, -0.6529397964477539, -0.6119502782821655, -0.37266334891319275, -0.37266334891319275, 1.308914065361023, 0.1457219272851944, -0.37266334891319275, -0.37266334891319275, -0.37266334891319275, -0.3731711208820343, -0.37266334891319275], bef_sess_et_hour_sin_seq=[0.7071067690849304, 0.7071067690849304, -0.8660253882408142, -0.8660253882408142, -0.8660253882408142, -0.7071067690849304, -0.7071067690849304, 0.8660253882408142, 0.8660253882408142, 0.8660253882408142, 0.9659258127212524, 0.9659258127212524, 0.9659258127212524, 0.258819043636322, 0.258819043636322, 0.258819043636322, 0.258819043636322, 0.258819043636322, 0.258819043636322, -2.6179940437742744e-09], bef_sess_et_hour_cos_seq=[-0.7071067690849304, -0.7071067690849304, -0.5, -0.5, -0.5, -0.7071067690849304, -0.7071067690849304, 0.5, 0.5, 0.5, 0.258819043636322, 0.258819043636322, 0.258819043636322, -0.9659258127212524, -0.9659258127212524, -0.9659258127212524, -0.9659258127212524, -0.9659258127212524, -0.9659258127212524, -1.0], bef_sess_et_month_sin_seq=[-0.8660253882408142, -0.8660253882408142, -0.8660253882408142, -0.8660253882408142, -0.8660253882408142, -0.8660253882408142, -0.8660253882408142, -0.8660253882408142, -0.8660253882408142, -0.8660253882408142, -0.8660253882408142, -0.8660253882408142, -0.8660253882408142, -0.8660253882408142, -0.8660253882408142, -0.8660253882408142, -0.8660253882408142, -0.8660253882408142, -0.8660253882408142, -0.8660253882408142], bef_sess_et_month_cos_seq=[0.5, 0.5, 0.5, 0.5, 0.5, 0.5, 0.5, 0.5, 0.5, 0.5, 0.5, 0.5, 0.5, 0.5, 0.5, 0.5, 0.5, 0.5, 0.5, 0.5], bef_sess_et_dayofweek_sin_seq=[8.97597907112413e-09, 8.97597907112413e-09, 8.97597907112413e-09, 8.97597907112413e-09, 8.97597907112413e-09, 0.7818315029144287, 0.7818315029144287, 0.4338837265968323, 0.4338837265968323, 0.4338837265968323, 0.4338837265968323, 0.4338837265968323, 0.4338837265968323, 0.4338837265968323, 0.4338837265968323, 0.4338837265968323, 0.4338837265968323, 0.4338837265968323, 0.4338837265968323, 0.4338837265968323], bef_sess_et_dayofweek_cos_seq=[1.0, 1.0, 1.0, 1.0, 1.0, 0.6234897971153259, 0.6234897971153259, -0.9009688496589661, -0.9009688496589661, -0.9009688496589661, -0.9009688496589661, -0.9009688496589661, -0.9009688496589661, -0.9009688496589661, -0.9009688496589661, -0.9009688496589661, -0.9009688496589661, -0.9009688496589661, -0.9009688496589661, -0.9009688496589661], bef_sess_et_dayofmonth_sin_seq=[-0.651372492313385, -0.651372492313385, -0.651372492313385, -0.651372492313385, -0.651372492313385, -0.790775716304779, -0.790775716304779, -0.9680771231651306, -0.9680771231651306, -0.9680771231651306, -0.9680771231651306, -0.9680771231651306, -0.9680771231651306, -0.9680771231651306, -0.9680771231651306, -0.9680771231651306, -0.9680771231651306, -0.9680771231651306, -0.9680771231651306, -0.9680771231651306], bef_sess_et_dayofmonth_cos_seq=[-0.7587581276893616, -0.7587581276893616, -0.7587581276893616, -0.7587581276893616, -0.7587581276893616, -0.6121059656143188, -0.6121059656143188, -0.2506525218486786, -0.2506525218486786, -0.2506525218486786, -0.2506525218486786, -0.2506525218486786, -0.2506525218486786, -0.2506525218486786, -0.2506525218486786, -0.2506525218486786, -0.2506525218486786, -0.2506525218486786, -0.2506525218486786, -0.2506525218486786], bef_sess_session_reversed_order_seq=[10, 10, 9, 8, 8, 7, 7, 6, 6, 6, 5, 4, 4, 3, 3, 2, 2, 2, 2, 1], session_start_date=datetime.date(2019, 10, 22))]"
      ]
     },
     "execution_count": 71,
     "metadata": {},
     "output_type": "execute_result"
    }
   ],
   "source": [
    "check_df.take(10)"
   ]
  },
  {
   "cell_type": "code",
   "execution_count": 72,
   "metadata": {},
   "outputs": [
    {
     "data": {
      "text/plain": [
       "4085306"
      ]
     },
     "execution_count": 72,
     "metadata": {},
     "output_type": "execute_result"
    }
   ],
   "source": [
    "check_df.count()"
   ]
  }
 ],
 "metadata": {
  "kernelspec": {
   "display_name": "Python 3",
   "language": "python",
   "name": "python3"
  },
  "language_info": {
   "codemirror_mode": {
    "name": "ipython",
    "version": 3
   },
   "file_extension": ".py",
   "mimetype": "text/x-python",
   "name": "python",
   "nbconvert_exporter": "python",
   "pygments_lexer": "ipython3",
   "version": "3.7.6"
  }
 },
 "nbformat": 4,
 "nbformat_minor": 4
}
